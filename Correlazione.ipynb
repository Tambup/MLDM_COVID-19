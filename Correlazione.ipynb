{
  "nbformat": 4,
  "nbformat_minor": 0,
  "metadata": {
    "colab": {
      "name": "Untitled0.ipynb",
      "provenance": [],
      "authorship_tag": "ABX9TyNcsjDX5rVoxZgHb6UZLdMb",
      "include_colab_link": true
    },
    "kernelspec": {
      "name": "python3",
      "display_name": "Python 3"
    }
  },
  "cells": [
    {
      "cell_type": "markdown",
      "metadata": {
        "id": "view-in-github",
        "colab_type": "text"
      },
      "source": [
        "<a href=\"https://colab.research.google.com/github/Tomawock/MLDM_COVID-19/blob/master/Correlazione.ipynb\" target=\"_parent\"><img src=\"https://colab.research.google.com/assets/colab-badge.svg\" alt=\"Open In Colab\"/></a>"
      ]
    },
    {
      "cell_type": "markdown",
      "metadata": {
        "id": "tRkbbxAg1wxu",
        "colab_type": "text"
      },
      "source": [
        "# Calcolo e plot della correlazione\n",
        "\n",
        "### Si calcola la correlazione fra il numero totale di positivi e altri indici.\n",
        "\n",
        "### Fonte: dati della protezione civile.\n",
        "\n",
        "N.B.: non ho usato il numero di nuovi positivi perché il dataset non conta le nuove terapie intensive e così via, è solo per essere più svelti. "
      ]
    },
    {
      "cell_type": "code",
      "metadata": {
        "id": "CSzB64WLjmFc",
        "colab_type": "code",
        "colab": {}
      },
      "source": [
        "import pandas as pd\n",
        "import matplotlib.pyplot as plt\n",
        "import numpy as np"
      ],
      "execution_count": 63,
      "outputs": []
    },
    {
      "cell_type": "markdown",
      "metadata": {
        "id": "PRNTvFUViWJv",
        "colab_type": "text"
      },
      "source": [
        "Caricamento dei dati dalla protezione civile, con selezione della sola Lombardia e delle colonne utili."
      ]
    },
    {
      "cell_type": "code",
      "metadata": {
        "id": "BQ4S1Di9idpM",
        "colab_type": "code",
        "colab": {
          "base_uri": "https://localhost:8080/",
          "height": 444
        },
        "outputId": "0aa1bc7b-8543-4025-9e1c-04d5ba24b6b0"
      },
      "source": [
        "url = 'https://raw.githubusercontent.com/pcm-dpc/COVID-19/master/dati-json/dpc-covid19-ita-regioni.json'\n",
        "dataSet = pd.read_json(url)\n",
        "isLombardia = dataSet[\"denominazione_regione\"]==\"Lombardia\"\n",
        "dataSet = dataSet[isLombardia]\n",
        "dataSet = dataSet.drop(columns=[\"stato\", \"codice_regione\", \"denominazione_regione\", \"lat\", \"long\", \"note\", \"casi_da_sospetto_diagnostico\", \"casi_da_screening\", \"casi_testati\"])\n",
        "dataSet.reset_index(drop=True, inplace=True)\n",
        "dataSet[\"index\"] = pd.Series(list(range(len(dataSet))))\n",
        "dataSet.set_index(\"index\")\n",
        "\n",
        "dataSet"
      ],
      "execution_count": 49,
      "outputs": [
        {
          "output_type": "execute_result",
          "data": {
            "text/html": [
              "<div>\n",
              "<style scoped>\n",
              "    .dataframe tbody tr th:only-of-type {\n",
              "        vertical-align: middle;\n",
              "    }\n",
              "\n",
              "    .dataframe tbody tr th {\n",
              "        vertical-align: top;\n",
              "    }\n",
              "\n",
              "    .dataframe thead th {\n",
              "        text-align: right;\n",
              "    }\n",
              "</style>\n",
              "<table border=\"1\" class=\"dataframe\">\n",
              "  <thead>\n",
              "    <tr style=\"text-align: right;\">\n",
              "      <th></th>\n",
              "      <th>data</th>\n",
              "      <th>ricoverati_con_sintomi</th>\n",
              "      <th>terapia_intensiva</th>\n",
              "      <th>totale_ospedalizzati</th>\n",
              "      <th>isolamento_domiciliare</th>\n",
              "      <th>totale_positivi</th>\n",
              "      <th>variazione_totale_positivi</th>\n",
              "      <th>nuovi_positivi</th>\n",
              "      <th>dimessi_guariti</th>\n",
              "      <th>deceduti</th>\n",
              "      <th>totale_casi</th>\n",
              "      <th>tamponi</th>\n",
              "      <th>index</th>\n",
              "    </tr>\n",
              "  </thead>\n",
              "  <tbody>\n",
              "    <tr>\n",
              "      <th>0</th>\n",
              "      <td>2020-02-24T18:00:00</td>\n",
              "      <td>76</td>\n",
              "      <td>19</td>\n",
              "      <td>95</td>\n",
              "      <td>71</td>\n",
              "      <td>166</td>\n",
              "      <td>0</td>\n",
              "      <td>166</td>\n",
              "      <td>0</td>\n",
              "      <td>6</td>\n",
              "      <td>172</td>\n",
              "      <td>1463</td>\n",
              "      <td>0</td>\n",
              "    </tr>\n",
              "    <tr>\n",
              "      <th>1</th>\n",
              "      <td>2020-02-25T18:00:00</td>\n",
              "      <td>79</td>\n",
              "      <td>25</td>\n",
              "      <td>104</td>\n",
              "      <td>127</td>\n",
              "      <td>231</td>\n",
              "      <td>65</td>\n",
              "      <td>68</td>\n",
              "      <td>0</td>\n",
              "      <td>9</td>\n",
              "      <td>240</td>\n",
              "      <td>3700</td>\n",
              "      <td>1</td>\n",
              "    </tr>\n",
              "    <tr>\n",
              "      <th>2</th>\n",
              "      <td>2020-02-26T18:00:00</td>\n",
              "      <td>79</td>\n",
              "      <td>25</td>\n",
              "      <td>104</td>\n",
              "      <td>145</td>\n",
              "      <td>249</td>\n",
              "      <td>18</td>\n",
              "      <td>18</td>\n",
              "      <td>0</td>\n",
              "      <td>9</td>\n",
              "      <td>258</td>\n",
              "      <td>3208</td>\n",
              "      <td>2</td>\n",
              "    </tr>\n",
              "    <tr>\n",
              "      <th>3</th>\n",
              "      <td>2020-02-27T18:00:00</td>\n",
              "      <td>172</td>\n",
              "      <td>41</td>\n",
              "      <td>213</td>\n",
              "      <td>136</td>\n",
              "      <td>349</td>\n",
              "      <td>100</td>\n",
              "      <td>145</td>\n",
              "      <td>40</td>\n",
              "      <td>14</td>\n",
              "      <td>403</td>\n",
              "      <td>3320</td>\n",
              "      <td>3</td>\n",
              "    </tr>\n",
              "    <tr>\n",
              "      <th>4</th>\n",
              "      <td>2020-02-28T18:00:00</td>\n",
              "      <td>235</td>\n",
              "      <td>47</td>\n",
              "      <td>282</td>\n",
              "      <td>192</td>\n",
              "      <td>474</td>\n",
              "      <td>125</td>\n",
              "      <td>128</td>\n",
              "      <td>40</td>\n",
              "      <td>17</td>\n",
              "      <td>531</td>\n",
              "      <td>4835</td>\n",
              "      <td>4</td>\n",
              "    </tr>\n",
              "    <tr>\n",
              "      <th>...</th>\n",
              "      <td>...</td>\n",
              "      <td>...</td>\n",
              "      <td>...</td>\n",
              "      <td>...</td>\n",
              "      <td>...</td>\n",
              "      <td>...</td>\n",
              "      <td>...</td>\n",
              "      <td>...</td>\n",
              "      <td>...</td>\n",
              "      <td>...</td>\n",
              "      <td>...</td>\n",
              "      <td>...</td>\n",
              "      <td>...</td>\n",
              "    </tr>\n",
              "    <tr>\n",
              "      <th>157</th>\n",
              "      <td>2020-07-30T17:00:00</td>\n",
              "      <td>151</td>\n",
              "      <td>13</td>\n",
              "      <td>164</td>\n",
              "      <td>5871</td>\n",
              "      <td>6035</td>\n",
              "      <td>-528</td>\n",
              "      <td>88</td>\n",
              "      <td>73305</td>\n",
              "      <td>16802</td>\n",
              "      <td>96142</td>\n",
              "      <td>1291740</td>\n",
              "      <td>157</td>\n",
              "    </tr>\n",
              "    <tr>\n",
              "      <th>158</th>\n",
              "      <td>2020-07-31T17:00:00</td>\n",
              "      <td>148</td>\n",
              "      <td>7</td>\n",
              "      <td>155</td>\n",
              "      <td>5856</td>\n",
              "      <td>6011</td>\n",
              "      <td>-24</td>\n",
              "      <td>77</td>\n",
              "      <td>73402</td>\n",
              "      <td>16806</td>\n",
              "      <td>96219</td>\n",
              "      <td>1300088</td>\n",
              "      <td>158</td>\n",
              "    </tr>\n",
              "    <tr>\n",
              "      <th>159</th>\n",
              "      <td>2020-08-01T17:00:00</td>\n",
              "      <td>158</td>\n",
              "      <td>9</td>\n",
              "      <td>167</td>\n",
              "      <td>5788</td>\n",
              "      <td>5955</td>\n",
              "      <td>-56</td>\n",
              "      <td>55</td>\n",
              "      <td>73512</td>\n",
              "      <td>16807</td>\n",
              "      <td>96274</td>\n",
              "      <td>1308507</td>\n",
              "      <td>159</td>\n",
              "    </tr>\n",
              "    <tr>\n",
              "      <th>160</th>\n",
              "      <td>2020-08-02T17:00:00</td>\n",
              "      <td>153</td>\n",
              "      <td>9</td>\n",
              "      <td>162</td>\n",
              "      <td>5659</td>\n",
              "      <td>5821</td>\n",
              "      <td>-134</td>\n",
              "      <td>38</td>\n",
              "      <td>73676</td>\n",
              "      <td>16815</td>\n",
              "      <td>96312</td>\n",
              "      <td>1316219</td>\n",
              "      <td>160</td>\n",
              "    </tr>\n",
              "    <tr>\n",
              "      <th>161</th>\n",
              "      <td>2020-08-03T17:00:00</td>\n",
              "      <td>162</td>\n",
              "      <td>9</td>\n",
              "      <td>171</td>\n",
              "      <td>5624</td>\n",
              "      <td>5795</td>\n",
              "      <td>-26</td>\n",
              "      <td>25</td>\n",
              "      <td>73724</td>\n",
              "      <td>16818</td>\n",
              "      <td>96337</td>\n",
              "      <td>1320427</td>\n",
              "      <td>161</td>\n",
              "    </tr>\n",
              "  </tbody>\n",
              "</table>\n",
              "<p>162 rows × 13 columns</p>\n",
              "</div>"
            ],
            "text/plain": [
              "                    data  ricoverati_con_sintomi  ...  tamponi  index\n",
              "0    2020-02-24T18:00:00                      76  ...     1463      0\n",
              "1    2020-02-25T18:00:00                      79  ...     3700      1\n",
              "2    2020-02-26T18:00:00                      79  ...     3208      2\n",
              "3    2020-02-27T18:00:00                     172  ...     3320      3\n",
              "4    2020-02-28T18:00:00                     235  ...     4835      4\n",
              "..                   ...                     ...  ...      ...    ...\n",
              "157  2020-07-30T17:00:00                     151  ...  1291740    157\n",
              "158  2020-07-31T17:00:00                     148  ...  1300088    158\n",
              "159  2020-08-01T17:00:00                     158  ...  1308507    159\n",
              "160  2020-08-02T17:00:00                     153  ...  1316219    160\n",
              "161  2020-08-03T17:00:00                     162  ...  1320427    161\n",
              "\n",
              "[162 rows x 13 columns]"
            ]
          },
          "metadata": {
            "tags": []
          },
          "execution_count": 49
        }
      ]
    },
    {
      "cell_type": "markdown",
      "metadata": {
        "id": "WuCx9wDCuTQp",
        "colab_type": "text"
      },
      "source": [
        "Plot dei vari dati con vari colori."
      ]
    },
    {
      "cell_type": "code",
      "metadata": {
        "id": "7z9lhv3XuXB0",
        "colab_type": "code",
        "colab": {
          "base_uri": "https://localhost:8080/",
          "height": 279
        },
        "outputId": "63371aef-75d8-44ad-a9a7-72be3c7d62a2"
      },
      "source": [
        "dataSet.plot(x=\"index\", y=[\"totale_positivi\", \"terapia_intensiva\", \"ricoverati_con_sintomi\", \"isolamento_domiciliare\"])\n",
        "dataSet = dataSet.drop(columns=\"index\")"
      ],
      "execution_count": 56,
      "outputs": [
        {
          "output_type": "display_data",
          "data": {
            "image/png": "[encoded data removed]",
            "text/plain": [
              "<Figure size 432x288 with 1 Axes>"
            ]
          },
          "metadata": {
            "tags": [],
            "needs_background": "light"
          }
        }
      ]
    },
    {
      "cell_type": "markdown",
      "metadata": {
        "id": "6hnElYAV34bd",
        "colab_type": "text"
      },
      "source": [
        "Calcolo indici di correlazione il risultato è che il numero di positivi rispetto ai ricoveri e al numero di persone in isolamento sono molto correlati. Le terapie intensive sono invece moderatamente correlate, si svolge un test supplementare."
      ]
    },
    {
      "cell_type": "code",
      "metadata": {
        "id": "LBarWD5Y3669",
        "colab_type": "code",
        "colab": {
          "base_uri": "https://localhost:8080/",
          "height": 225
        },
        "outputId": "d6071618-a408-4c14-cbed-3a4c0fd6de13"
      },
      "source": [
        "cPositivi_terapie = np.corrcoef(dataSet[\"totale_positivi\"], dataSet[\"terapia_intensiva\"])\n",
        "cPositivi_ricoveri = np.corrcoef(dataSet[\"totale_positivi\"], dataSet[\"ricoverati_con_sintomi\"])\n",
        "cPositivi_isolamento = np.corrcoef(dataSet[\"totale_positivi\"], dataSet[\"isolamento_domiciliare\"])\n",
        "\n",
        "print(\"Indici di correlazione con il numero di positivi:\\nTerapie:\\n\", cPositivi_terapie, \"\\n\\nRicoveri:\\n\", cPositivi_ricoveri, \"\\n\\nIsolamento: \\n\", cPositivi_isolamento)"
      ],
      "execution_count": 67,
      "outputs": [
        {
          "output_type": "stream",
          "text": [
            "Indici di correlazione con il numero di positivi:\n",
            "Terapie:\n",
            " [[1.         0.55970671]\n",
            " [0.55970671 1.        ]] \n",
            "\n",
            "Ricoveri:\n",
            " [[1.         0.75876036]\n",
            " [0.75876036 1.        ]] \n",
            "\n",
            "Isolamento: \n",
            " [[1.         0.92960755]\n",
            " [0.92960755 1.        ]]\n"
          ],
          "name": "stdout"
        }
      ]
    },
    {
      "cell_type": "markdown",
      "metadata": {
        "id": "JYj_McUdCnvQ",
        "colab_type": "text"
      },
      "source": [
        "Si prova a inserire un ritardo alle terapie intensive. \n",
        "\n",
        "Ho ipotizzato 20 giorni sottostimando ampiamente il tempo di incubazione + aggravamento dei sintomi.\n",
        "\n",
        "Il risultato è una correlazione molto forte."
      ]
    },
    {
      "cell_type": "code",
      "metadata": {
        "id": "HgmVoLTJCmlg",
        "colab_type": "code",
        "colab": {
          "base_uri": "https://localhost:8080/",
          "height": 69
        },
        "outputId": "2fc3d4fe-515b-498f-a01d-b87f3c2fad56"
      },
      "source": [
        "positivi=dataSet[\"totale_positivi\"]\n",
        "terapie=dataSet[\"terapia_intensiva\"]\n",
        "delay=20\n",
        "\n",
        "positivi=positivi[delay:]\n",
        "terapie=terapie[:len(terapie)-delay]\n",
        "\n",
        "\n",
        "cPositivi_terapie = np.corrcoef(positivi, terapie)\n",
        "print(\"Terapie:\\n\", cPositivi_terapie)"
      ],
      "execution_count": 87,
      "outputs": [
        {
          "output_type": "stream",
          "text": [
            "Terapie:\n",
            " [[1.         0.94006176]\n",
            " [0.94006176 1.        ]]\n"
          ],
          "name": "stdout"
        }
      ]
    },
    {
      "cell_type": "markdown",
      "metadata": {
        "id": "e_J0VFQ1GaSf",
        "colab_type": "text"
      },
      "source": [
        "### Conclusioni: Inserendo un ritardo fra i 10 e i 35 giorni la correlazione rimane molto rilevante, come c'era da aspettarsi considerando il tempo di incubazione e il tempo necessario affinché si aggravino i sintomi per quanto riguarda le terapie intensive.\n",
        "\n",
        "\n",
        "N.B.: la correlazione fra i ricoveri e i positivi sembra essere la più debole, pur rimanendo forte, ma va considerato che anche qui sarebbe opportuno inserire un delay, seppure più breve."
      ]
    }
  ]
}