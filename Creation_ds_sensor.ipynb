{
  "nbformat": 4,
  "nbformat_minor": 0,
  "metadata": {
    "colab": {
      "name": "Creation_ds_sensor.ipynb",
      "provenance": [],
      "collapsed_sections": [],
      "authorship_tag": "ABX9TyN2YQkaeRnEIX2el9Jg5zJU",
      "include_colab_link": true
    },
    "kernelspec": {
      "name": "python3",
      "display_name": "Python 3"
    },
    "accelerator": "GPU"
  },
  "cells": [
    {
      "cell_type": "markdown",
      "metadata": {
        "id": "view-in-github",
        "colab_type": "text"
      },
      "source": [
        "<a href=\"https://colab.research.google.com/github/Tomawock/MLDM_COVID-19/blob/master/Creation_ds_sensor.ipynb\" target=\"_parent\"><img src=\"https://colab.research.google.com/assets/colab-badge.svg\" alt=\"Open In Colab\"/></a>"
      ]
    },
    {
      "cell_type": "code",
      "metadata": {
        "id": "eUiQRI1QpJ5A",
        "colab_type": "code",
        "colab": {
          "base_uri": "https://localhost:8080/",
          "height": 55
        },
        "outputId": "f282eefa-ad15-4e32-a558-b2d52f24a9e4"
      },
      "source": [
        "from google.colab import drive\n",
        "drive.mount('/content/drive')"
      ],
      "execution_count": 37,
      "outputs": [
        {
          "output_type": "stream",
          "text": [
            "Drive already mounted at /content/drive; to attempt to forcibly remount, call drive.mount(\"/content/drive\", force_remount=True).\n"
          ],
          "name": "stdout"
        }
      ]
    },
    {
      "cell_type": "code",
      "metadata": {
        "id": "ZZ1vK_UkuTd9",
        "colab_type": "code",
        "colab": {}
      },
      "source": [
        "import os\n",
        "import glob\n",
        "import pandas as pd\n",
        "os.chdir('/content/drive/Shared drives/MLDM progetto/Datasets')\n",
        "a = pd.read_csv(\"Dati_sensori_aria.csv\")\n",
        "b = pd.read_csv(\"Stazioni_qualit__dell_aria.csv\")\n",
        "merged = a.merge(b, on='IdSensore')\n",
        "merged.to_csv(\"output.csv\", index=False)"
      ],
      "execution_count": 38,
      "outputs": []
    },
    {
      "cell_type": "code",
      "metadata": {
        "id": "5iMhgotyrePU",
        "colab_type": "code",
        "colab": {}
      },
      "source": [
        "merged.head(5)"
      ],
      "execution_count": null,
      "outputs": []
    },
    {
      "cell_type": "code",
      "metadata": {
        "id": "qdk8zNs5xQJv",
        "colab_type": "code",
        "colab": {}
      },
      "source": [
        "df = merged[merged.Valore != -9999]\n",
        "#df.to_csv(\"output_ridotto.csv\", index=False)"
      ],
      "execution_count": 40,
      "outputs": []
    },
    {
      "cell_type": "code",
      "metadata": {
        "id": "umceb3JQro2t",
        "colab_type": "code",
        "colab": {}
      },
      "source": [
        "del df['idOperatore']\n",
        "del df['Stato']\n",
        "del df['UnitaMisura']\n",
        "del df['Idstazione']\n",
        "del df['Quota']\n",
        "del df['Comune']\n",
        "del df['Storico']\n",
        "del df['DataStart']\n",
        "del df['DataStop']\n",
        "del df['Utm_Nord']\n",
        "del df['UTM_Est']\n",
        "del df['lat']\n",
        "del df['lng']\n",
        "del df['NomeStazione']\n",
        "del df['location']\n",
        "del df['Limiti amministrativi 2014 delle province di Regione Lombardia']\n",
        "del df['Limiti amministrativi 2015 delle province di Regione Lombardia']\n"
      ],
      "execution_count": 41,
      "outputs": []
    },
    {
      "cell_type": "code",
      "metadata": {
        "id": "IiHc7R2BsbpM",
        "colab_type": "code",
        "colab": {}
      },
      "source": [
        "df['Data'] = pd.to_datetime(df['Data'])"
      ],
      "execution_count": null,
      "outputs": []
    },
    {
      "cell_type": "code",
      "metadata": {
        "id": "oFZL5eVMy6j0",
        "colab_type": "code",
        "colab": {}
      },
      "source": [
        "df['Data'] = df['Data'].dt.date"
      ],
      "execution_count": null,
      "outputs": []
    },
    {
      "cell_type": "code",
      "metadata": {
        "id": "Hu2fu2zh3oRw",
        "colab_type": "code",
        "colab": {}
      },
      "source": [
        "df=df.groupby(['IdSensore', 'Data', 'NomeTipoSensore', 'Provincia'])['Valore'].mean().reset_index()"
      ],
      "execution_count": 47,
      "outputs": []
    },
    {
      "cell_type": "code",
      "metadata": {
        "id": "3snb7vj368KP",
        "colab_type": "code",
        "colab": {}
      },
      "source": [
        "df.to_csv(\"df_sensor.csv\", index=False)"
      ],
      "execution_count": 48,
      "outputs": []
    }
  ]
}