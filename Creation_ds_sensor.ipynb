{
  "nbformat": 4,
  "nbformat_minor": 0,
  "metadata": {
    "colab": {
      "name": "Creation_ds_sensor.ipynb",
      "provenance": [],
      "collapsed_sections": [],
      "include_colab_link": true
    },
    "kernelspec": {
      "name": "python3",
      "display_name": "Python 3"
    },
    "accelerator": "GPU"
  },
  "cells": [
    {
      "cell_type": "markdown",
      "metadata": {
        "id": "view-in-github",
        "colab_type": "text"
      },
      "source": [
        "<a href=\"https://colab.research.google.com/github/Tomawock/MLDM_COVID-19/blob/master/Creation_ds_sensor.ipynb\" target=\"_parent\"><img src=\"https://colab.research.google.com/assets/colab-badge.svg\" alt=\"Open In Colab\"/></a>"
      ]
    },
    {
      "cell_type": "code",
      "metadata": {
        "id": "eUiQRI1QpJ5A",
        "colab_type": "code",
        "colab": {
          "base_uri": "https://localhost:8080/",
          "height": 34
        },
        "outputId": "d2b29c3a-05a1-4496-dc88-bcebd4d707de"
      },
      "source": [
        "from google.colab import drive\n",
        "drive.mount('/content/drive', force_remount=True)"
      ],
      "execution_count": 1,
      "outputs": [
        {
          "output_type": "stream",
          "text": [
            "Mounted at /content/drive\n"
          ],
          "name": "stdout"
        }
      ]
    },
    {
      "cell_type": "code",
      "metadata": {
        "id": "ZZ1vK_UkuTd9",
        "colab_type": "code",
        "colab": {}
      },
      "source": [
        "import os\n",
        "import glob\n",
        "import pandas as pd\n",
        "import datetime as dt\n",
        "os.chdir('/content/drive/Shared drives/MLDM progetto/Datasets')\n",
        "a = pd.read_csv(\"Dati_sensori_aria.csv\")\n",
        "b = pd.read_csv(\"Stazioni_qualit__dell_aria.csv\")\n",
        "df = a.merge(b, on='IdSensore')\n",
        "df.to_csv(\"output.csv\", index=False)"
      ],
      "execution_count": 2,
      "outputs": []
    },
    {
      "cell_type": "code",
      "metadata": {
        "id": "5iMhgotyrePU",
        "colab_type": "code",
        "colab": {
          "base_uri": "https://localhost:8080/",
          "height": 487
        },
        "outputId": "ef4ddb41-d475-47e1-ed2c-0388de8e98ad"
      },
      "source": [
        "df.head(5)"
      ],
      "execution_count": 3,
      "outputs": [
        {
          "output_type": "execute_result",
          "data": {
            "text/html": [
              "<div>\n",
              "<style scoped>\n",
              "    .dataframe tbody tr th:only-of-type {\n",
              "        vertical-align: middle;\n",
              "    }\n",
              "\n",
              "    .dataframe tbody tr th {\n",
              "        vertical-align: top;\n",
              "    }\n",
              "\n",
              "    .dataframe thead th {\n",
              "        text-align: right;\n",
              "    }\n",
              "</style>\n",
              "<table border=\"1\" class=\"dataframe\">\n",
              "  <thead>\n",
              "    <tr style=\"text-align: right;\">\n",
              "      <th></th>\n",
              "      <th>IdSensore</th>\n",
              "      <th>Data</th>\n",
              "      <th>Valore</th>\n",
              "      <th>Stato</th>\n",
              "      <th>idOperatore</th>\n",
              "      <th>NomeTipoSensore</th>\n",
              "      <th>UnitaMisura</th>\n",
              "      <th>Idstazione</th>\n",
              "      <th>NomeStazione</th>\n",
              "      <th>Quota</th>\n",
              "      <th>Provincia</th>\n",
              "      <th>Comune</th>\n",
              "      <th>Storico</th>\n",
              "      <th>DataStart</th>\n",
              "      <th>DataStop</th>\n",
              "      <th>Utm_Nord</th>\n",
              "      <th>UTM_Est</th>\n",
              "      <th>lat</th>\n",
              "      <th>lng</th>\n",
              "      <th>location</th>\n",
              "      <th>Limiti amministrativi 2014 delle province di Regione Lombardia</th>\n",
              "      <th>Limiti amministrativi 2015 delle province di Regione Lombardia</th>\n",
              "    </tr>\n",
              "  </thead>\n",
              "  <tbody>\n",
              "    <tr>\n",
              "      <th>0</th>\n",
              "      <td>5710</td>\n",
              "      <td>01/01/2020 04:00:00 AM</td>\n",
              "      <td>-9999.0</td>\n",
              "      <td>NaN</td>\n",
              "      <td>1</td>\n",
              "      <td>Ozono</td>\n",
              "      <td>µg/m³</td>\n",
              "      <td>544</td>\n",
              "      <td>Cormano</td>\n",
              "      <td>153.0</td>\n",
              "      <td>MI</td>\n",
              "      <td>Cormano</td>\n",
              "      <td>N</td>\n",
              "      <td>03/11/1994</td>\n",
              "      <td>NaN</td>\n",
              "      <td>5044180</td>\n",
              "      <td>512693</td>\n",
              "      <td>45.551042</td>\n",
              "      <td>9.162614</td>\n",
              "      <td>(45.551041944372415, 9.162613653151322)</td>\n",
              "      <td>4.0</td>\n",
              "      <td>4.0</td>\n",
              "    </tr>\n",
              "    <tr>\n",
              "      <th>1</th>\n",
              "      <td>5710</td>\n",
              "      <td>01/01/2020 02:00:00 AM</td>\n",
              "      <td>-9999.0</td>\n",
              "      <td>NaN</td>\n",
              "      <td>1</td>\n",
              "      <td>Ozono</td>\n",
              "      <td>µg/m³</td>\n",
              "      <td>544</td>\n",
              "      <td>Cormano</td>\n",
              "      <td>153.0</td>\n",
              "      <td>MI</td>\n",
              "      <td>Cormano</td>\n",
              "      <td>N</td>\n",
              "      <td>03/11/1994</td>\n",
              "      <td>NaN</td>\n",
              "      <td>5044180</td>\n",
              "      <td>512693</td>\n",
              "      <td>45.551042</td>\n",
              "      <td>9.162614</td>\n",
              "      <td>(45.551041944372415, 9.162613653151322)</td>\n",
              "      <td>4.0</td>\n",
              "      <td>4.0</td>\n",
              "    </tr>\n",
              "    <tr>\n",
              "      <th>2</th>\n",
              "      <td>5710</td>\n",
              "      <td>01/01/2020 01:00:00 AM</td>\n",
              "      <td>-9999.0</td>\n",
              "      <td>NaN</td>\n",
              "      <td>1</td>\n",
              "      <td>Ozono</td>\n",
              "      <td>µg/m³</td>\n",
              "      <td>544</td>\n",
              "      <td>Cormano</td>\n",
              "      <td>153.0</td>\n",
              "      <td>MI</td>\n",
              "      <td>Cormano</td>\n",
              "      <td>N</td>\n",
              "      <td>03/11/1994</td>\n",
              "      <td>NaN</td>\n",
              "      <td>5044180</td>\n",
              "      <td>512693</td>\n",
              "      <td>45.551042</td>\n",
              "      <td>9.162614</td>\n",
              "      <td>(45.551041944372415, 9.162613653151322)</td>\n",
              "      <td>4.0</td>\n",
              "      <td>4.0</td>\n",
              "    </tr>\n",
              "    <tr>\n",
              "      <th>3</th>\n",
              "      <td>5710</td>\n",
              "      <td>01/01/2020 03:00:00 AM</td>\n",
              "      <td>-9999.0</td>\n",
              "      <td>NaN</td>\n",
              "      <td>1</td>\n",
              "      <td>Ozono</td>\n",
              "      <td>µg/m³</td>\n",
              "      <td>544</td>\n",
              "      <td>Cormano</td>\n",
              "      <td>153.0</td>\n",
              "      <td>MI</td>\n",
              "      <td>Cormano</td>\n",
              "      <td>N</td>\n",
              "      <td>03/11/1994</td>\n",
              "      <td>NaN</td>\n",
              "      <td>5044180</td>\n",
              "      <td>512693</td>\n",
              "      <td>45.551042</td>\n",
              "      <td>9.162614</td>\n",
              "      <td>(45.551041944372415, 9.162613653151322)</td>\n",
              "      <td>4.0</td>\n",
              "      <td>4.0</td>\n",
              "    </tr>\n",
              "    <tr>\n",
              "      <th>4</th>\n",
              "      <td>5710</td>\n",
              "      <td>01/01/2020 12:00:00 AM</td>\n",
              "      <td>-9999.0</td>\n",
              "      <td>NaN</td>\n",
              "      <td>1</td>\n",
              "      <td>Ozono</td>\n",
              "      <td>µg/m³</td>\n",
              "      <td>544</td>\n",
              "      <td>Cormano</td>\n",
              "      <td>153.0</td>\n",
              "      <td>MI</td>\n",
              "      <td>Cormano</td>\n",
              "      <td>N</td>\n",
              "      <td>03/11/1994</td>\n",
              "      <td>NaN</td>\n",
              "      <td>5044180</td>\n",
              "      <td>512693</td>\n",
              "      <td>45.551042</td>\n",
              "      <td>9.162614</td>\n",
              "      <td>(45.551041944372415, 9.162613653151322)</td>\n",
              "      <td>4.0</td>\n",
              "      <td>4.0</td>\n",
              "    </tr>\n",
              "  </tbody>\n",
              "</table>\n",
              "</div>"
            ],
            "text/plain": [
              "   IdSensore  ... Limiti amministrativi 2015 delle province di Regione Lombardia\n",
              "0       5710  ...                                                4.0            \n",
              "1       5710  ...                                                4.0            \n",
              "2       5710  ...                                                4.0            \n",
              "3       5710  ...                                                4.0            \n",
              "4       5710  ...                                                4.0            \n",
              "\n",
              "[5 rows x 22 columns]"
            ]
          },
          "metadata": {
            "tags": []
          },
          "execution_count": 3
        }
      ]
    },
    {
      "cell_type": "code",
      "metadata": {
        "id": "umceb3JQro2t",
        "colab_type": "code",
        "colab": {}
      },
      "source": [
        "del df['idOperatore']\n",
        "del df['Stato']\n",
        "del df['UnitaMisura']\n",
        "del df['Idstazione']\n",
        "del df['Quota']\n",
        "del df['Comune']\n",
        "del df['Storico']\n",
        "del df['DataStart']\n",
        "del df['DataStop']\n",
        "del df['Utm_Nord']\n",
        "del df['UTM_Est']\n",
        "del df['lat']\n",
        "del df['lng']\n",
        "del df['NomeStazione']\n",
        "del df['location']\n",
        "del df['Limiti amministrativi 2014 delle province di Regione Lombardia']\n",
        "del df['Limiti amministrativi 2015 delle province di Regione Lombardia']\n"
      ],
      "execution_count": 4,
      "outputs": []
    },
    {
      "cell_type": "code",
      "metadata": {
        "id": "qdk8zNs5xQJv",
        "colab_type": "code",
        "colab": {}
      },
      "source": [
        "df = df[df.Valore != -9999]\n",
        "df.to_csv(\"output_ridotto.csv\", index=False)"
      ],
      "execution_count": 5,
      "outputs": []
    },
    {
      "cell_type": "code",
      "metadata": {
        "id": "ZjEJ8iuoFbQ7",
        "colab_type": "code",
        "colab": {
          "base_uri": "https://localhost:8080/",
          "height": 139
        },
        "outputId": "280dd875-9edd-4894-af79-33dedb9de337"
      },
      "source": [
        "variazione_righe=[]\n",
        "variazione_righe.append(df.shape[0])\n",
        "print(variazione_righe)\n",
        "print(df.dtypes)"
      ],
      "execution_count": 6,
      "outputs": [
        {
          "output_type": "stream",
          "text": [
            "[1515041]\n",
            "IdSensore            int64\n",
            "Data                object\n",
            "Valore             float64\n",
            "NomeTipoSensore     object\n",
            "Provincia           object\n",
            "dtype: object\n"
          ],
          "name": "stdout"
        }
      ]
    },
    {
      "cell_type": "code",
      "metadata": {
        "id": "dw4Old-HGq9e",
        "colab_type": "code",
        "colab": {
          "base_uri": "https://localhost:8080/",
          "height": 139
        },
        "outputId": "1cc7354f-b23d-496f-98c8-67878c270346"
      },
      "source": [
        "df['Data'] = pd.to_datetime(df['Data'], format='%d/%m/%Y %H:%M:%S %p')\n",
        "variazione_righe.append(df.shape[0])\n",
        "print(variazione_righe)\n",
        "print(df.dtypes)"
      ],
      "execution_count": 7,
      "outputs": [
        {
          "output_type": "stream",
          "text": [
            "[1515041, 1515041]\n",
            "IdSensore                   int64\n",
            "Data               datetime64[ns]\n",
            "Valore                    float64\n",
            "NomeTipoSensore            object\n",
            "Provincia                  object\n",
            "dtype: object\n"
          ],
          "name": "stdout"
        }
      ]
    },
    {
      "cell_type": "code",
      "metadata": {
        "id": "3L9Gljl-IU_a",
        "colab_type": "code",
        "colab": {
          "base_uri": "https://localhost:8080/",
          "height": 139
        },
        "outputId": "7402c94b-40aa-4dd1-ed04-c938622b8fa9"
      },
      "source": [
        "#normalizza per avere ancoa la data con datetime e non object\n",
        "df['Data'] =df['Data'].dt.normalize()\n",
        "variazione_righe.append(df.shape[0])\n",
        "print(variazione_righe)\n",
        "print(df.dtypes)"
      ],
      "execution_count": 8,
      "outputs": [
        {
          "output_type": "stream",
          "text": [
            "[1515041, 1515041, 1515041]\n",
            "IdSensore                   int64\n",
            "Data               datetime64[ns]\n",
            "Valore                    float64\n",
            "NomeTipoSensore            object\n",
            "Provincia                  object\n",
            "dtype: object\n"
          ],
          "name": "stdout"
        }
      ]
    },
    {
      "cell_type": "code",
      "metadata": {
        "id": "bxwBuk4qHwdj",
        "colab_type": "code",
        "colab": {
          "base_uri": "https://localhost:8080/",
          "height": 139
        },
        "outputId": "18f049b1-3207-4b8a-f756-c26cd0f8f704"
      },
      "source": [
        "#debug\n",
        "variazione_righe.append(df.shape[0])\n",
        "print(variazione_righe)\n",
        "print(df.dtypes)"
      ],
      "execution_count": 9,
      "outputs": [
        {
          "output_type": "stream",
          "text": [
            "[1515041, 1515041, 1515041, 1515041]\n",
            "IdSensore                   int64\n",
            "Data               datetime64[ns]\n",
            "Valore                    float64\n",
            "NomeTipoSensore            object\n",
            "Provincia                  object\n",
            "dtype: object\n"
          ],
          "name": "stdout"
        }
      ]
    },
    {
      "cell_type": "code",
      "metadata": {
        "id": "IiHc7R2BsbpM",
        "colab_type": "code",
        "colab": {}
      },
      "source": [
        "#df['Data'] = pd.to_datetime(df['Data'])"
      ],
      "execution_count": null,
      "outputs": []
    },
    {
      "cell_type": "code",
      "metadata": {
        "id": "oFZL5eVMy6j0",
        "colab_type": "code",
        "colab": {}
      },
      "source": [
        "#df['Data'] = df['Data'].dt.date"
      ],
      "execution_count": null,
      "outputs": []
    },
    {
      "cell_type": "code",
      "metadata": {
        "id": "Hu2fu2zh3oRw",
        "colab_type": "code",
        "colab": {}
      },
      "source": [
        "df=df.groupby(['IdSensore', 'Data', 'NomeTipoSensore', 'Provincia'])['Valore'].mean().reset_index()"
      ],
      "execution_count": 10,
      "outputs": []
    },
    {
      "cell_type": "code",
      "metadata": {
        "id": "3snb7vj368KP",
        "colab_type": "code",
        "colab": {}
      },
      "source": [
        "df.to_csv(\"df_sensor.csv\", index=False)"
      ],
      "execution_count": 11,
      "outputs": []
    },
    {
      "cell_type": "code",
      "metadata": {
        "id": "jANkcRvB0Ui4",
        "colab_type": "code",
        "colab": {}
      },
      "source": [
        "df_1=df.groupby(['Data', 'NomeTipoSensore'])['Valore'].mean().reset_index()"
      ],
      "execution_count": 12,
      "outputs": []
    },
    {
      "cell_type": "code",
      "metadata": {
        "colab_type": "code",
        "id": "axKjiZ6CLFq3",
        "colab": {
          "base_uri": "https://localhost:8080/",
          "height": 104
        },
        "outputId": "704e7f79-4077-4c6d-c0fd-0e61f50f9a7b"
      },
      "source": [
        "#debug\n",
        "variazione_righe.append(df_1.shape[0])\n",
        "print(variazione_righe)\n",
        "print(df_1.dtypes)"
      ],
      "execution_count": 13,
      "outputs": [
        {
          "output_type": "stream",
          "text": [
            "[1515041, 1515041, 1515041, 1515041, 2357]\n",
            "Data               datetime64[ns]\n",
            "NomeTipoSensore            object\n",
            "Valore                    float64\n",
            "dtype: object\n"
          ],
          "name": "stdout"
        }
      ]
    },
    {
      "cell_type": "code",
      "metadata": {
        "id": "tDMVtJdq1bEk",
        "colab_type": "code",
        "colab": {}
      },
      "source": [
        "df_2 = df_1.pivot_table(index='Data', columns='NomeTipoSensore', values='Valore')\n",
        "df_2.columns = list(df_2.columns)\n",
        "df_2 = df_2.reset_index()\n",
        "df_2.to_csv(\"df_sensor_short.csv\", index=False)"
      ],
      "execution_count": 14,
      "outputs": []
    },
    {
      "cell_type": "code",
      "metadata": {
        "id": "2bH8w8HQLoeH",
        "colab_type": "code",
        "colab": {
          "base_uri": "https://localhost:8080/",
          "height": 69
        },
        "outputId": "d0a85d92-cb81-4746-9332-81db2fc76352"
      },
      "source": [
        "dim_righe=df_2.shape[0]\n",
        "giorni_diff=(dt.date(2020,8,4)-dt.date(2020,1,1)).days\n",
        "print(dim_righe)\n",
        "print(giorni_diff)\n",
        "if dim_righe-1 == giorni_diff:\n",
        "  print('No missing values on dates, ogni giorno ha i dati o almeno ha alcuni dati ')\n",
        "else:\n",
        "  print(\"Ci sono missing values\",abs(dim_righe-1-giorni_diff))"
      ],
      "execution_count": 15,
      "outputs": [
        {
          "output_type": "stream",
          "text": [
            "217\n",
            "216\n",
            "No missing values on dates, ogni giorno ha i dati o almeno ha alcuni dati \n"
          ],
          "name": "stdout"
        }
      ]
    }
  ]
}