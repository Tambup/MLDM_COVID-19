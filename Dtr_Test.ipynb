{
  "nbformat": 4,
  "nbformat_minor": 0,
  "metadata": {
    "kernelspec": {
      "display_name": "Python 3",
      "language": "python",
      "name": "python3"
    },
    "language_info": {
      "codemirror_mode": {
        "name": "ipython",
        "version": 3
      },
      "file_extension": ".py",
      "mimetype": "text/x-python",
      "name": "python",
      "nbconvert_exporter": "python",
      "pygments_lexer": "ipython3",
      "version": "3.8.2"
    },
    "colab": {
      "name": "Dtr_Test.ipynb",
      "provenance": [],
      "toc_visible": true,
      "include_colab_link": true
    }
  },
  "cells": [
    {
      "cell_type": "markdown",
      "metadata": {
        "id": "view-in-github",
        "colab_type": "text"
      },
      "source": [
        "<a href=\"https://colab.research.google.com/github/Tomawock/MLDM_COVID-19/blob/master/Dtr_Test.ipynb\" target=\"_parent\"><img src=\"https://colab.research.google.com/assets/colab-badge.svg\" alt=\"Open In Colab\"/></a>"
      ]
    },
    {
      "cell_type": "markdown",
      "metadata": {
        "id": "-bFYEsDnsmW6",
        "colab_type": "text"
      },
      "source": [
        "# COVID-DIVIDIAMO\n",
        "\n",
        "## CREAZIONE DI MODELLI basati su DT\n",
        "\n",
        "Questo notebook ha lo scopo di addestrare alcuni **modelli** di predizione per il nostro dataset basati su **Alberi di Decisione (DT)**. Per farlo, utilizzeremo nuovamente la procedura automatizzata tramite **grid search**."
      ]
    },
    {
      "cell_type": "code",
      "metadata": {
        "id": "Ci8Rlg2csmW-",
        "colab_type": "code",
        "colab": {
          "base_uri": "https://localhost:8080/",
          "height": 145
        },
        "outputId": "5ccee1dc-c2f7-4d2b-91ae-2f67d1692797"
      },
      "source": [
        "%autosave 30\n",
        "%matplotlib inline\n",
        "\n",
        "import os\n",
        "import numpy as np\n",
        "import pandas as pd\n",
        "import matplotlib.pyplot as plt\n",
        "plt.rcParams[\"figure.figsize\"] = (15, 8)\n",
        "\n",
        "import joblib\n",
        "from datetime import datetime\n",
        "\n",
        "from sklearn.impute import SimpleImputer\n",
        "from sklearn.pipeline import Pipeline\n",
        "from sklearn.model_selection import GridSearchCV, StratifiedKFold, KFold\n",
        "from sklearn.metrics import r2_score, mean_squared_error, max_error\n",
        "\n",
        "from sklearn.tree import DecisionTreeRegressor\n",
        "\n",
        "import warnings\n",
        "warnings.filterwarnings('ignore')\n",
        "\n",
        "from google.colab import drive\n",
        "drive.mount('/content/drive')\n",
        "import pandas as pd\n",
        "import os\n",
        "\n"
      ],
      "execution_count": null,
      "outputs": [
        {
          "output_type": "display_data",
          "data": {
            "application/javascript": [
              "IPython.notebook.set_autosave_interval(30000)"
            ]
          },
          "metadata": {
            "tags": []
          }
        },
        {
          "output_type": "stream",
          "text": [
            "Autosaving every 30 seconds\n",
            "Go to this URL in a browser: https://accounts.google.com/o/oauth2/auth?client_id=947318989803-6bn6qk8qdgf4n4g3pfee6491hc0brc4i.apps.googleusercontent.com&redirect_uri=urn%3aietf%3awg%3aoauth%3a2.0%3aoob&scope=email%20https%3a%2f%2fwww.googleapis.com%2fauth%2fdocs.test%20https%3a%2f%2fwww.googleapis.com%2fauth%2fdrive%20https%3a%2f%2fwww.googleapis.com%2fauth%2fdrive.photos.readonly%20https%3a%2f%2fwww.googleapis.com%2fauth%2fpeopleapi.readonly&response_type=code\n",
            "\n",
            "Enter your authorization code:\n",
            "··········\n",
            "Mounted at /content/drive\n"
          ],
          "name": "stdout"
        }
      ]
    },
    {
      "cell_type": "markdown",
      "metadata": {
        "id": "2M-VYAtrsmXN",
        "colab_type": "text"
      },
      "source": [
        "### MODELLO: preparazione dei datasets\n",
        "\n",
        "**Carichiamo** il dataset ed impostiamo il **random state**. Trasformiamo l'attributo nominale in numerico.\n",
        "\n",
        "**Dividiamo** il dataset in:\n",
        "* **training** set\n",
        "* **testing** set\n",
        "\n",
        "Proviamo utilizzando l'**80%** dei records per il training set ed il restante per il testing."
      ]
    },
    {
      "cell_type": "code",
      "metadata": {
        "id": "fNbKzFq8smXT",
        "colab_type": "code",
        "colab": {}
      },
      "source": [
        "df = pd.read_csv(\"/content/drive/Shared drives/MLDM progetto/Datasets/dataset_finale_medie.csv\")\n",
        "rnd_state = 27\n",
        "predictor_columns = [ 'pass_Altezza Neve', 'pass_Ammoniaca', 'pass_Benzene',\n",
        "       'pass_Biossido di Azoto', 'pass_Biossido di Zolfo', 'pass_BlackCarbon',\n",
        "       'pass_Direzione Vento', 'pass_Livello Idrometrico',\n",
        "       'pass_Monossido di Azoto', 'pass_Monossido di Carbonio',\n",
        "       'pass_Ossidi di Azoto', 'pass_Ozono', 'pass_PM10 (SM2005)',\n",
        "       'pass_Particelle sospese PM2.5', 'pass_Precipitazione',\n",
        "       'pass_Radiazione Globale', 'pass_Temperatura', 'pass_Umidità Relativa',\n",
        "       'pass_Velocità Vento', 'pass_deceduti', 'pass_dimessi_guariti',\n",
        "       'pass_isolamento_domiciliare', 'pass_nuovi_positivi',\n",
        "       'pass_ricoverati_con_sintomi', 'pass_tamponi', 'pass_terapia_intensiva',\n",
        "       'pass_totale_casi', 'pass_totale_ospedalizzati', 'pass_totale_positivi',\n",
        "       'pass_variazione_totale_positivi']"
      ],
      "execution_count": null,
      "outputs": []
    },
    {
      "cell_type": "markdown",
      "metadata": {
        "id": "A41DNDSdsmXc",
        "colab_type": "text"
      },
      "source": [
        "**Prepariamo** il **training** set ed il **test** set."
      ]
    },
    {
      "cell_type": "code",
      "metadata": {
        "id": "kJ8vGfGbsmXf",
        "colab_type": "code",
        "colab": {}
      },
      "source": [
        "train = df.sample(frac=0.8, random_state=rnd_state)\n",
        "test = df.drop(train.index)\n",
        "\n",
        "train_X = train[predictor_columns]\n",
        "train_y = train[\"fut2_nuovi_positivi\"]\n",
        "\n",
        "test_X = test[predictor_columns]\n",
        "test_y = test[\"fut2_nuovi_positivi\"]"
      ],
      "execution_count": null,
      "outputs": []
    },
    {
      "cell_type": "markdown",
      "metadata": {
        "id": "LHAzWfwQsmXo",
        "colab_type": "text"
      },
      "source": [
        "### MODELLO: training ###\n",
        "\n",
        "Creiamo il **regressore** basato su alberi di decisione."
      ]
    },
    {
      "cell_type": "code",
      "metadata": {
        "id": "tVptjQSysmXp",
        "colab_type": "code",
        "colab": {}
      },
      "source": [
        "dt_regressor = DecisionTreeRegressor(random_state=rnd_state)"
      ],
      "execution_count": null,
      "outputs": []
    },
    {
      "cell_type": "markdown",
      "metadata": {
        "id": "b_PZ-3oSsmXx",
        "colab_type": "text"
      },
      "source": [
        "Definiamo la **Pipeline**, come abbiamo fatto per le ANN:\n",
        "* imputer\n",
        "* addestramento del modello"
      ]
    },
    {
      "cell_type": "code",
      "metadata": {
        "id": "B3F5lIuQsmXz",
        "colab_type": "code",
        "colab": {}
      },
      "source": [
        "pipeline = Pipeline([(\"imp\", SimpleImputer(missing_values=np.nan, strategy=\"mean\")), \n",
        "                     (\"dtr\", dt_regressor)])"
      ],
      "execution_count": null,
      "outputs": []
    },
    {
      "cell_type": "markdown",
      "metadata": {
        "id": "_Cey1HTIsmX7",
        "colab_type": "text"
      },
      "source": [
        "Prepariamo gli **iper-parametri** per la grid search."
      ]
    },
    {
      "cell_type": "code",
      "metadata": {
        "id": "74ZFmOKBsmX9",
        "colab_type": "code",
        "colab": {}
      },
      "source": [
        "criterion_list = [\"mse\", \"mae\", \"friedman_mse\"]\n",
        "splitter_list = [\"best\", \"random\"]\n",
        "max_depth_list = [None, 5, 6]\n",
        "min_samples_split_list = [2, 3]\n",
        "min_samples_split_leaf_list = [1, 2]\n",
        "min_weight_fraction_leaf_list = [0.0, 0.1]\n",
        "max_features_list = [None, \"sqrt\", \"auto\"]\n",
        "max_leaf_nodes_list = [None, 10, 25]\n",
        "min_impurity_decrease_list = [0.0, 0.1]\n",
        "\n",
        "param_grid = {\"dtr__criterion\": criterion_list,\n",
        "              \"dtr__splitter\": splitter_list,\n",
        "              \"dtr__max_depth\": max_depth_list,\n",
        "              \"dtr__min_samples_split\": min_samples_split_list,\n",
        "              \"dtr__min_samples_leaf\": min_samples_split_leaf_list,\n",
        "              \"dtr__min_weight_fraction_leaf\": min_weight_fraction_leaf_list,\n",
        "              \"dtr__max_features\": max_features_list,\n",
        "              \"dtr__max_leaf_nodes\": max_leaf_nodes_list,\n",
        "              \"dtr__min_impurity_decrease\": min_impurity_decrease_list}"
      ],
      "execution_count": null,
      "outputs": []
    },
    {
      "cell_type": "markdown",
      "metadata": {
        "id": "uH2pO-mNsmYD",
        "colab_type": "text"
      },
      "source": [
        "**Addestriamo** il regressore mediante **grid search** e **k-fold** cross validation. Anche questa volta, utilizziamo k non superiore a 5 in modo da avere degli insiemi statisticamente significativi (con almeno 30 elementi)."
      ]
    },
    {
      "cell_type": "code",
      "metadata": {
        "id": "v2l5O0GvsmYE",
        "colab_type": "code",
        "colab": {
          "base_uri": "https://localhost:8080/",
          "height": 627
        },
        "outputId": "da517d7a-014b-4760-d9c9-f079de5fdae5"
      },
      "source": [
        "kfold_splits = 5\n",
        "grid_regressor = GridSearchCV(estimator=pipeline,  \n",
        "                              n_jobs=-1, \n",
        "                              verbose=1,\n",
        "                              return_train_score=True,\n",
        "                              cv=KFold(n_splits=kfold_splits, shuffle=True),\n",
        "                              param_grid=param_grid)\n",
        "\n",
        "grid_regressor.fit(train_X, train_y)"
      ],
      "execution_count": null,
      "outputs": [
        {
          "output_type": "stream",
          "text": [
            "Fitting 5 folds for each of 2592 candidates, totalling 12960 fits\n"
          ],
          "name": "stdout"
        },
        {
          "output_type": "stream",
          "text": [
            "[Parallel(n_jobs=-1)]: Using backend LokyBackend with 2 concurrent workers.\n",
            "[Parallel(n_jobs=-1)]: Done 540 tasks      | elapsed:    3.5s\n",
            "[Parallel(n_jobs=-1)]: Done 2940 tasks      | elapsed:   18.2s\n",
            "[Parallel(n_jobs=-1)]: Done 6940 tasks      | elapsed:   46.0s\n",
            "[Parallel(n_jobs=-1)]: Done 12540 tasks      | elapsed:  1.4min\n",
            "[Parallel(n_jobs=-1)]: Done 12960 out of 12960 | elapsed:  1.4min finished\n"
          ],
          "name": "stderr"
        },
        {
          "output_type": "execute_result",
          "data": {
            "text/plain": [
              "GridSearchCV(cv=KFold(n_splits=5, random_state=None, shuffle=True),\n",
              "             error_score=nan,\n",
              "             estimator=Pipeline(memory=None,\n",
              "                                steps=[('imp',\n",
              "                                        SimpleImputer(add_indicator=False,\n",
              "                                                      copy=True,\n",
              "                                                      fill_value=None,\n",
              "                                                      missing_values=nan,\n",
              "                                                      strategy='mean',\n",
              "                                                      verbose=0)),\n",
              "                                       ('dtr',\n",
              "                                        DecisionTreeRegressor(ccp_alpha=0.0,\n",
              "                                                              criterion='mse',\n",
              "                                                              max_depth=None,\n",
              "                                                              max_features=None,\n",
              "                                                              max_leaf_nodes=None,\n",
              "                                                              min_i...\n",
              "                         'dtr__max_depth': [None, 5, 6],\n",
              "                         'dtr__max_features': [None, 'sqrt', 'auto'],\n",
              "                         'dtr__max_leaf_nodes': [None, 10, 25],\n",
              "                         'dtr__min_impurity_decrease': [0.0, 0.1],\n",
              "                         'dtr__min_samples_leaf': [1, 2],\n",
              "                         'dtr__min_samples_split': [2, 3],\n",
              "                         'dtr__min_weight_fraction_leaf': [0.0, 0.1],\n",
              "                         'dtr__splitter': ['best', 'random']},\n",
              "             pre_dispatch='2*n_jobs', refit=True, return_train_score=True,\n",
              "             scoring=None, verbose=1)"
            ]
          },
          "metadata": {
            "tags": []
          },
          "execution_count": 51
        }
      ]
    },
    {
      "cell_type": "markdown",
      "metadata": {
        "id": "qxX9u-kysmYL",
        "colab_type": "text"
      },
      "source": [
        "### MODELLO: testing ###\n",
        "\n",
        "Processiamo i dati di test allo stesso modo del training e procediamo alla fase di testing del **miglior regressore**, addestrato mediante grid search."
      ]
    },
    {
      "cell_type": "code",
      "metadata": {
        "id": "Il4ayFXqsmYM",
        "colab_type": "code",
        "colab": {}
      },
      "source": [
        "best_regressor = grid_regressor.best_estimator_[\"dtr\"]\n",
        "\n",
        "imputer = SimpleImputer(missing_values=np.nan, strategy=\"mean\")\n",
        "imputer = imputer.fit(test_X)\n",
        "test_X_imp = imputer.transform(test_X)\n",
        "\n",
        "predicted = best_regressor.predict(test_X_imp)"
      ],
      "execution_count": null,
      "outputs": []
    },
    {
      "cell_type": "code",
      "metadata": {
        "id": "JBb-CmecsmYS",
        "colab_type": "code",
        "colab": {
          "base_uri": "https://localhost:8080/",
          "height": 281
        },
        "outputId": "15e24474-d275-4337-a649-7ef386f2e56b"
      },
      "source": [
        "plt.plot(predicted, label=\"nuovi_positivi_pred\")\n",
        "plt.plot(test_y.values, label=\"nuovi_positivi\")\n",
        "plt.legend()\n",
        "plt.title(\"Risultati del DTregressor addestrato con grid search\")\n",
        "plt.show()"
      ],
      "execution_count": null,
      "outputs": [
        {
          "output_type": "display_data",
          "data": {
            "image/png": "[encoded data removed]",
            "text/plain": [
              "<Figure size 432x288 with 1 Axes>"
            ]
          },
          "metadata": {
            "tags": [],
            "needs_background": "light"
          }
        }
      ]
    },
    {
      "cell_type": "markdown",
      "metadata": {
        "id": "VdZmGllismYZ",
        "colab_type": "text"
      },
      "source": [
        "### MODELLO: valutazione ed osservazioni ###\n",
        "\n",
        "Vediamo le **caratteristiche** del miglior albero di decisione trovato."
      ]
    },
    {
      "cell_type": "code",
      "metadata": {
        "id": "pQPQKKz2smYb",
        "colab_type": "code",
        "colab": {
          "base_uri": "https://localhost:8080/",
          "height": 125
        },
        "outputId": "21a2beab-c5a2-4ecb-fab4-90a0a3ef6fcf"
      },
      "source": [
        "best_regressor"
      ],
      "execution_count": null,
      "outputs": [
        {
          "output_type": "execute_result",
          "data": {
            "text/plain": [
              "DecisionTreeRegressor(ccp_alpha=0.0, criterion='mse', max_depth=None,\n",
              "                      max_features=None, max_leaf_nodes=None,\n",
              "                      min_impurity_decrease=0.0, min_impurity_split=None,\n",
              "                      min_samples_leaf=2, min_samples_split=2,\n",
              "                      min_weight_fraction_leaf=0.0, presort='deprecated',\n",
              "                      random_state=27, splitter='random')"
            ]
          },
          "metadata": {
            "tags": []
          },
          "execution_count": 54
        }
      ]
    },
    {
      "cell_type": "markdown",
      "metadata": {
        "id": "tEkh1yo4smYi",
        "colab_type": "text"
      },
      "source": [
        "Si tratta di un DecisionTreeRegressor con splitter **random** e criterio di split **MAE** (Mean Absolute Error)"
      ]
    },
    {
      "cell_type": "markdown",
      "metadata": {
        "id": "LBMPP8IQsmYj",
        "colab_type": "text"
      },
      "source": [
        "Calcoliamo alcune **misure di performance** per il regressore basato su alberi di decisione. Abbiamo scelto quelle a parer nostro più significative:\n",
        "* **R2**: coefficiente di determinazione\n",
        "* **RMSE**: root mean squared error\n",
        "* **MAX Error**: errore massimo"
      ]
    },
    {
      "cell_type": "code",
      "metadata": {
        "id": "KzAeQ69VsmYk",
        "colab_type": "code",
        "colab": {
          "base_uri": "https://localhost:8080/",
          "height": 71
        },
        "outputId": "eae5d72b-d53e-4cc2-db08-f3e3a91fc37a"
      },
      "source": [
        "print(f\"R2: \\t\\t{r2_score(test_y, predicted):.3}\")\n",
        "print(f\"RMSE: \\t\\t{mean_squared_error(test_y, predicted, squared=False):.3}\")\n",
        "print(f\"MAX ERR: \\t{max_error(test_y, predicted)}\")"
      ],
      "execution_count": null,
      "outputs": [
        {
          "output_type": "stream",
          "text": [
            "R2: \t\t0.771\n",
            "RMSE: \t\t3.05e+02\n",
            "MAX ERR: \t1228.5\n"
          ],
          "name": "stdout"
        }
      ]
    },
    {
      "cell_type": "markdown",
      "metadata": {
        "id": "SWImSTtUsmYv",
        "colab_type": "text"
      },
      "source": [
        "Possiamo **osservare** che le performance del miglior albero di decisione trovato sono abbastanza **buone**.\n",
        "\n",
        "**R2** è **0.893**, ampiamente superiore a 0.5 ed abbastanza vicino al massimo (1). Questo vuol dire che il modello spiega gran parte della varianza dei dati.\n",
        "\n",
        "**RMSE** è **59.7**, pertanto il nostro modello in media sbaglia il conteggio dei nuovi positivi di 60 unità. Seppur di primo acchitto sembri eccessivo, in realtà non lo è se si pensa che in alcune giornate sono stati registrati più di 1000 nuovi positivi.\n",
        "\n",
        "**MAX ERR** è **238**. Dal grafico si nota come in un preciso giorno il predittore sbagli parecchio. Questo errore molto pronunciato va ad influenzare negativamente l'RMSE."
      ]
    },
    {
      "cell_type": "markdown",
      "metadata": {
        "id": "udP-Ac3dsmYv",
        "colab_type": "text"
      },
      "source": [
        "### MODELLO: feature importance\n",
        "\n",
        "Visualizziamo la **feature importance** derivante dal training del miglior albero regressore."
      ]
    },
    {
      "cell_type": "code",
      "metadata": {
        "id": "oYGuywETsmYw",
        "colab_type": "code",
        "colab": {
          "base_uri": "https://localhost:8080/",
          "height": 555
        },
        "outputId": "0ca4e3ef-3e04-43bf-bdbf-243f6c9f145c"
      },
      "source": [
        "feature_importance = dict(zip(predictor_columns, best_regressor.feature_importances_))\n",
        "feature_importance"
      ],
      "execution_count": null,
      "outputs": [
        {
          "output_type": "execute_result",
          "data": {
            "text/plain": [
              "{'pass_Altezza Neve': 0.005452072476153764,\n",
              " 'pass_Ammoniaca': 0.041202829820113016,\n",
              " 'pass_Benzene': 0.003498738507514729,\n",
              " 'pass_Biossido di Azoto': 0.0,\n",
              " 'pass_Biossido di Zolfo': 0.0011308198759339611,\n",
              " 'pass_BlackCarbon': 0.0,\n",
              " 'pass_Direzione Vento': 0.0,\n",
              " 'pass_Livello Idrometrico': 0.0007870821969645372,\n",
              " 'pass_Monossido di Azoto': 0.002248860075245667,\n",
              " 'pass_Monossido di Carbonio': 0.0,\n",
              " 'pass_Ossidi di Azoto': 0.00017545370629690633,\n",
              " 'pass_Ozono': 4.507258459793174e-06,\n",
              " 'pass_PM10 (SM2005)': 0.0001184838581252673,\n",
              " 'pass_Particelle sospese PM2.5': 0.02434972860628135,\n",
              " 'pass_Precipitazione': 0.0010851450730138777,\n",
              " 'pass_Radiazione Globale': 0.0,\n",
              " 'pass_Temperatura': 0.0,\n",
              " 'pass_Umidità Relativa': 0.0,\n",
              " 'pass_Velocità Vento': 0.0035701345952329536,\n",
              " 'pass_deceduti': 0.7003005118336251,\n",
              " 'pass_dimessi_guariti': 0.10386007515972352,\n",
              " 'pass_isolamento_domiciliare': 0.007599413313454897,\n",
              " 'pass_nuovi_positivi': 0.004569699818024775,\n",
              " 'pass_ricoverati_con_sintomi': 0.0002635447126140587,\n",
              " 'pass_tamponi': 8.546717544873724e-06,\n",
              " 'pass_terapia_intensiva': 0.000977017496790497,\n",
              " 'pass_totale_casi': 0.08647123886218104,\n",
              " 'pass_totale_ospedalizzati': 0.008297702419513279,\n",
              " 'pass_totale_positivi': 2.944742193731542e-05,\n",
              " 'pass_variazione_totale_positivi': 0.003998946195254738}"
            ]
          },
          "metadata": {
            "tags": []
          },
          "execution_count": 56
        }
      ]
    },
    {
      "cell_type": "markdown",
      "metadata": {
        "id": "9VH5XtL-smY4",
        "colab_type": "text"
      },
      "source": [
        "La feature più importante per lo split è stata, senza sorpresa, **\"nuovi_positivi_mean\"**, ossia la media dei nuovi positivi nei 5 giorni precedenti rispetto al giorno di riferimento.\n",
        "\n",
        "La vera sorpresa è stata la feature **\"so2\"**, al secondo posto per importanza, con grande distacco da tutte le altre. L'anidride solforosa sembra avere una **correlazione importante** con i nuovi positivi predetti.\n",
        "\n",
        "Un'ultima osservazione interessante riguarda l'attributo **\"region\"**, che è quello meno importante di tutti. Ciò vuol dire che, con buona probabilità, il modello si comporterà bene anche con **altre zone geografiche**."
      ]
    },
    {
      "cell_type": "markdown",
      "metadata": {
        "id": "PQT_uXFCsmY5",
        "colab_type": "text"
      },
      "source": [
        "### Salvataggio e caricamento del modello ###\n",
        "\n",
        "Scriviamo due **funzioni** ad hoc per il salvataggio ed il caricamento di modelli sci-kit learn."
      ]
    },
    {
      "cell_type": "code",
      "metadata": {
        "id": "JX05h_LjsmY8",
        "colab_type": "code",
        "colab": {}
      },
      "source": [
        "def save_scikit_model(kind, model):\n",
        "    folder = \"models/\" + kind + \"-\" + datetime.now().strftime(\"%d-%m-%Y %Hh%M\")\n",
        "    os.mkdir(folder)\n",
        "    joblib.dump(model, folder + \"/\" + \"model.joblib\")\n",
        "    \n",
        "def load_scikit_model(folder):\n",
        "    loaded_model = joblib.load(folder + \"/model.joblib\")\n",
        "    return loaded_model"
      ],
      "execution_count": null,
      "outputs": []
    },
    {
      "cell_type": "markdown",
      "metadata": {
        "id": "1udVhYxMsmZC",
        "colab_type": "text"
      },
      "source": [
        "**Salviamo** il modello migliore trovato."
      ]
    },
    {
      "cell_type": "code",
      "metadata": {
        "id": "1-XF-y66smZD",
        "colab_type": "code",
        "colab": {}
      },
      "source": [
        "save_scikit_model(\"DTR-grid\", best_regressor)"
      ],
      "execution_count": null,
      "outputs": []
    },
    {
      "cell_type": "markdown",
      "metadata": {
        "id": "TJDXA6YssmZI",
        "colab_type": "text"
      },
      "source": [
        "**Carichiamo** il modello appena salvato per verificare che non ci siano stati errori nel salvataggio."
      ]
    },
    {
      "cell_type": "code",
      "metadata": {
        "id": "XHE4lcy1smZK",
        "colab_type": "code",
        "colab": {}
      },
      "source": [
        "loaded_model = load_scikit_model(\"models/DTR-grid-08-07-2020 15h27\")\n",
        "\n",
        "loaded_predicted = loaded_model.predict(test_X_imp)"
      ],
      "execution_count": null,
      "outputs": []
    }
  ]
}