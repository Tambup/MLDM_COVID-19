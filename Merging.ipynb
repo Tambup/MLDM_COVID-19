{
  "nbformat": 4,
  "nbformat_minor": 0,
  "metadata": {
    "colab": {
      "name": "Merging.ipynb",
      "provenance": [],
      "collapsed_sections": [],
      "authorship_tag": "ABX9TyOIiKHwwYkCw8JPF3fYrDh8"
    },
    "kernelspec": {
      "name": "python3",
      "display_name": "Python 3"
    }
  },
  "cells": [
    {
      "cell_type": "code",
      "metadata": {
        "id": "TFdzprUJrVdo",
        "colab_type": "code",
        "colab": {
          "base_uri": "https://localhost:8080/",
          "height": 340
        },
        "outputId": "7d47f13b-34c5-41c1-b1cb-f7a3d085fb17"
      },
      "source": [
        "import pandas as pd\n",
        "#Carica dati dai file\n",
        "aria_stazioni = pd.read_csv(\"Stazioni_qualit__dell_aria.csv\") \n",
        "aria_dati = pd.read_csv(\"Dati_sensori_aria_2019.csv\") \n",
        "#unisce i due dataset in uno unico, fondendo idSensore delle due tabelle\n",
        "dataset_aria = pd.merge(aria_dati, aria_stazioni, on='IdSensore', how='outer')\n",
        "print(dataset_aria.shape)\n",
        "dataset_aria=dataset_aria[['IdSensore','NomeTipoSensore','UnitaMisura','Provincia','Data', 'Valore', 'Stato']]\n",
        "df = dataset_aria.groupby('Provincia')['IdSensore'].nunique()\n",
        "print(df)\n"
      ],
      "execution_count": 34,
      "outputs": [
        {
          "output_type": "stream",
          "text": [
            "(2565298, 22)\n",
            "Provincia\n",
            "BG    114\n",
            "BS     82\n",
            "CO     37\n",
            "CR     74\n",
            "LC     61\n",
            "LO     49\n",
            "MB     50\n",
            "MI    207\n",
            "MN     86\n",
            "NO      3\n",
            "PV     67\n",
            "RO      8\n",
            "SO     48\n",
            "VA     62\n",
            "VR      3\n",
            "Name: IdSensore, dtype: int64\n"
          ],
          "name": "stdout"
        }
      ]
    }
  ]
}