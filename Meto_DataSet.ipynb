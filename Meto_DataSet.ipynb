{
  "nbformat": 4,
  "nbformat_minor": 0,
  "metadata": {
    "colab": {
      "name": "Meto DataSet.ipynb",
      "provenance": [],
      "collapsed_sections": [],
      "toc_visible": true,
      "mount_file_id": "https://github.com/Tomawock/MLDM_COVID-19/blob/master/Meto_DataSet.ipynb",
      "authorship_tag": "ABX9TyOXMpq4Cr7R5SlqEZ96h5bM"
    },
    "kernelspec": {
      "name": "python3",
      "display_name": "Python 3"
    },
    "accelerator": "GPU"
  },
  "cells": [
    {
      "cell_type": "markdown",
      "metadata": {
        "id": "I7j2NDz6hx3m",
        "colab_type": "text"
      },
      "source": [
        "## Creazione del dataSet Meteo\n",
        "\n",
        "Unione dei dataset sensori meteo e i dati legati ad esso"
      ]
    },
    {
      "cell_type": "code",
      "metadata": {
        "id": "opfvAITcg5Zm",
        "colab_type": "code",
        "colab": {}
      },
      "source": [
        "import pandas as pd\n",
        "import numpy as np"
      ],
      "execution_count": 1,
      "outputs": []
    },
    {
      "cell_type": "code",
      "metadata": {
        "id": "ycPFc42-kNxc",
        "colab_type": "code",
        "colab": {}
      },
      "source": [
        "#Carica dati dai file\n",
        "stazioni_meteo = pd.read_csv(\"/content/drive/Shared drives/MLDM progetto/Datasets/Stazioni_Meteorologiche.csv\") \n",
        "dati_stazioni = pd.read_csv(\"/content/drive/Shared drives/MLDM progetto/Datasets/Dati_sensori_meteo_2020_4_8_2020.csv\") "
      ],
      "execution_count": 2,
      "outputs": []
    },
    {
      "cell_type": "code",
      "metadata": {
        "id": "fNHvb8cpq2FG",
        "colab_type": "code",
        "colab": {
          "base_uri": "https://localhost:8080/",
          "height": 355
        },
        "outputId": "590e6c8e-d618-4087-cb7d-16b654ac72e5"
      },
      "source": [
        "stazioni_con_dati = stazioni_meteo.merge(dati_stazioni, on='IdSensore')\n",
        "stazioni_con_dati.head(3)"
      ],
      "execution_count": 3,
      "outputs": [
        {
          "output_type": "execute_result",
          "data": {
            "text/html": [
              "<div>\n",
              "<style scoped>\n",
              "    .dataframe tbody tr th:only-of-type {\n",
              "        vertical-align: middle;\n",
              "    }\n",
              "\n",
              "    .dataframe tbody tr th {\n",
              "        vertical-align: top;\n",
              "    }\n",
              "\n",
              "    .dataframe thead th {\n",
              "        text-align: right;\n",
              "    }\n",
              "</style>\n",
              "<table border=\"1\" class=\"dataframe\">\n",
              "  <thead>\n",
              "    <tr style=\"text-align: right;\">\n",
              "      <th></th>\n",
              "      <th>IdSensore</th>\n",
              "      <th>Tipologia</th>\n",
              "      <th>Unità DiMisura</th>\n",
              "      <th>IdStazione</th>\n",
              "      <th>NomeStazione</th>\n",
              "      <th>Quota</th>\n",
              "      <th>Provincia</th>\n",
              "      <th>DataStart</th>\n",
              "      <th>DataStop</th>\n",
              "      <th>Storico</th>\n",
              "      <th>UTM_Nord</th>\n",
              "      <th>UTM_Est</th>\n",
              "      <th>lng</th>\n",
              "      <th>lat</th>\n",
              "      <th>location</th>\n",
              "      <th>Limiti amministrativi 2014 delle province di Regione Lombardia</th>\n",
              "      <th>Limiti amministrativi 2015 delle province di Regione Lombardia</th>\n",
              "      <th>Data</th>\n",
              "      <th>Valore</th>\n",
              "      <th>Stato</th>\n",
              "      <th>idOperatore</th>\n",
              "    </tr>\n",
              "  </thead>\n",
              "  <tbody>\n",
              "    <tr>\n",
              "      <th>0</th>\n",
              "      <td>22006</td>\n",
              "      <td>Umidità Relativa</td>\n",
              "      <td>%</td>\n",
              "      <td>1890</td>\n",
              "      <td>Tavernole sul Mella Monte Guglielmo</td>\n",
              "      <td>1790</td>\n",
              "      <td>BS</td>\n",
              "      <td>14/10/2019</td>\n",
              "      <td>NaN</td>\n",
              "      <td>N</td>\n",
              "      <td>5067376</td>\n",
              "      <td>591417</td>\n",
              "      <td>10.175407</td>\n",
              "      <td>45.753896</td>\n",
              "      <td>(45.75389593743312, 10.175407094582125)</td>\n",
              "      <td>6.0</td>\n",
              "      <td>6.0</td>\n",
              "      <td>01/01/2020 00:10:00</td>\n",
              "      <td>32.0</td>\n",
              "      <td>VA</td>\n",
              "      <td>1</td>\n",
              "    </tr>\n",
              "    <tr>\n",
              "      <th>1</th>\n",
              "      <td>22006</td>\n",
              "      <td>Umidità Relativa</td>\n",
              "      <td>%</td>\n",
              "      <td>1890</td>\n",
              "      <td>Tavernole sul Mella Monte Guglielmo</td>\n",
              "      <td>1790</td>\n",
              "      <td>BS</td>\n",
              "      <td>14/10/2019</td>\n",
              "      <td>NaN</td>\n",
              "      <td>N</td>\n",
              "      <td>5067376</td>\n",
              "      <td>591417</td>\n",
              "      <td>10.175407</td>\n",
              "      <td>45.753896</td>\n",
              "      <td>(45.75389593743312, 10.175407094582125)</td>\n",
              "      <td>6.0</td>\n",
              "      <td>6.0</td>\n",
              "      <td>01/01/2020 00:20:00</td>\n",
              "      <td>32.0</td>\n",
              "      <td>VA</td>\n",
              "      <td>1</td>\n",
              "    </tr>\n",
              "    <tr>\n",
              "      <th>2</th>\n",
              "      <td>22006</td>\n",
              "      <td>Umidità Relativa</td>\n",
              "      <td>%</td>\n",
              "      <td>1890</td>\n",
              "      <td>Tavernole sul Mella Monte Guglielmo</td>\n",
              "      <td>1790</td>\n",
              "      <td>BS</td>\n",
              "      <td>14/10/2019</td>\n",
              "      <td>NaN</td>\n",
              "      <td>N</td>\n",
              "      <td>5067376</td>\n",
              "      <td>591417</td>\n",
              "      <td>10.175407</td>\n",
              "      <td>45.753896</td>\n",
              "      <td>(45.75389593743312, 10.175407094582125)</td>\n",
              "      <td>6.0</td>\n",
              "      <td>6.0</td>\n",
              "      <td>01/01/2020 00:30:00</td>\n",
              "      <td>32.0</td>\n",
              "      <td>VA</td>\n",
              "      <td>1</td>\n",
              "    </tr>\n",
              "  </tbody>\n",
              "</table>\n",
              "</div>"
            ],
            "text/plain": [
              "   IdSensore         Tipologia Unità DiMisura  ...  Valore Stato  idOperatore\n",
              "0      22006  Umidità Relativa              %  ...    32.0    VA            1\n",
              "1      22006  Umidità Relativa              %  ...    32.0    VA            1\n",
              "2      22006  Umidità Relativa              %  ...    32.0    VA            1\n",
              "\n",
              "[3 rows x 21 columns]"
            ]
          },
          "metadata": {
            "tags": []
          },
          "execution_count": 3
        }
      ]
    },
    {
      "cell_type": "code",
      "metadata": {
        "id": "FYJj0BLu24b5",
        "colab_type": "code",
        "colab": {
          "base_uri": "https://localhost:8080/",
          "height": 34
        },
        "outputId": "db37bb80-e4ac-4a5a-8e6a-a99760082a39"
      },
      "source": [
        "variazione_righe=[]\n",
        "variazione_righe.append(stazioni_con_dati.shape[0])\n",
        "print(variazione_righe)\n"
      ],
      "execution_count": 4,
      "outputs": [
        {
          "output_type": "stream",
          "text": [
            "[35665990]\n"
          ],
          "name": "stdout"
        }
      ]
    },
    {
      "cell_type": "code",
      "metadata": {
        "colab_type": "code",
        "id": "51JnJ9HcCJNb",
        "colab": {}
      },
      "source": [
        "del stazioni_con_dati['Unità\\xa0DiMisura']\n",
        "del stazioni_con_dati['Provincia']\n",
        "del stazioni_con_dati['IdStazione']\n",
        "del stazioni_con_dati['NomeStazione']\n",
        "del stazioni_con_dati['Quota']\n",
        "del stazioni_con_dati['DataStart']\n",
        "del stazioni_con_dati['DataStop']\n",
        "del stazioni_con_dati['Storico']\n",
        "del stazioni_con_dati['UTM_Nord']\n",
        "del stazioni_con_dati['UTM_Est']\n",
        "del stazioni_con_dati['lng']\n",
        "del stazioni_con_dati['lat']\n",
        "del stazioni_con_dati['location']\n",
        "del stazioni_con_dati['Limiti amministrativi 2014 delle province di Regione Lombardia']\n",
        "del stazioni_con_dati['Limiti amministrativi 2015 delle province di Regione Lombardia']"
      ],
      "execution_count": 5,
      "outputs": []
    },
    {
      "cell_type": "code",
      "metadata": {
        "id": "qdk8zNs5xQJv",
        "colab_type": "code",
        "colab": {}
      },
      "source": [
        "#elimina le righe con valore mancante -9999\n",
        "stazioni_con_dati_mod=0\n",
        "stazioni_con_dati_mod = stazioni_con_dati[stazioni_con_dati.Valore != -9999]\n",
        "variazione_righe.append(stazioni_con_dati_mod.shape[0])"
      ],
      "execution_count": 6,
      "outputs": []
    },
    {
      "cell_type": "code",
      "metadata": {
        "id": "-kNN2BD15a-N",
        "colab_type": "code",
        "colab": {}
      },
      "source": [
        "#elimina le righe con direzione vento variabile  888,8888 \n",
        "stazioni_con_dati_mod = stazioni_con_dati[stazioni_con_dati.Valore != 888.8888]\n",
        "variazione_righe.append(stazioni_con_dati_mod.shape[0])"
      ],
      "execution_count": 7,
      "outputs": []
    },
    {
      "cell_type": "code",
      "metadata": {
        "id": "AKa4u9F35e03",
        "colab_type": "code",
        "colab": {}
      },
      "source": [
        " #elimina le righe con direzione vento calmo  777, 7777\n",
        "stazioni_con_dati_mod = stazioni_con_dati[stazioni_con_dati.Valore != 777.7777]\n",
        "variazione_righe.append(stazioni_con_dati_mod.shape[0])"
      ],
      "execution_count": 8,
      "outputs": []
    },
    {
      "cell_type": "code",
      "metadata": {
        "id": "qqhmGO8tFTHM",
        "colab_type": "code",
        "colab": {}
      },
      "source": [
        "#elimno le righe che non hanno id uguale a 1\n",
        "stazioni_con_dati_mod = stazioni_con_dati[stazioni_con_dati.idOperatore ==1]\n",
        "variazione_righe.append(stazioni_con_dati_mod.shape[0])"
      ],
      "execution_count": 9,
      "outputs": []
    },
    {
      "cell_type": "code",
      "metadata": {
        "id": "asHhvoF5uNYz",
        "colab_type": "code",
        "colab": {
          "base_uri": "https://localhost:8080/",
          "height": 228
        },
        "outputId": "61cf2b0d-6ff0-4579-85f3-fd2c68ea0889"
      },
      "source": [
        "print(\"Stazioni Meteo\\n\")\n",
        "print(list(stazioni_meteo.columns))\n",
        "print(\"\\nDati stazioni\\n\")\n",
        "print(list(dati_stazioni.columns))\n",
        "print(\"\\nFINALE COLONNE\\n\")\n",
        "print(list(stazioni_con_dati.columns))"
      ],
      "execution_count": 10,
      "outputs": [
        {
          "output_type": "stream",
          "text": [
            "Stazioni Meteo\n",
            "\n",
            "['IdSensore', 'Tipologia', 'Unità\\xa0DiMisura', 'IdStazione', 'NomeStazione', 'Quota', 'Provincia', 'DataStart', 'DataStop', 'Storico', 'UTM_Nord', 'UTM_Est', 'lng', 'lat', 'location', 'Limiti amministrativi 2014 delle province di Regione Lombardia', 'Limiti amministrativi 2015 delle province di Regione Lombardia']\n",
            "\n",
            "Dati stazioni\n",
            "\n",
            "['IdSensore', 'Data', 'Valore', 'Stato', 'idOperatore']\n",
            "\n",
            "FINALE COLONNE\n",
            "\n",
            "['IdSensore', 'Tipologia', 'Data', 'Valore', 'Stato', 'idOperatore']\n"
          ],
          "name": "stdout"
        }
      ]
    },
    {
      "cell_type": "markdown",
      "metadata": {
        "id": "-TTkDm340Nz7",
        "colab_type": "text"
      },
      "source": [
        "Eliminazione colonne inutili"
      ]
    },
    {
      "cell_type": "code",
      "metadata": {
        "id": "XDniyHpo2oAK",
        "colab_type": "code",
        "colab": {
          "base_uri": "https://localhost:8080/",
          "height": 34
        },
        "outputId": "23157f96-bb8a-4185-9f17-4a4d81d5b5d7"
      },
      "source": [
        "print(variazione_righe)"
      ],
      "execution_count": 11,
      "outputs": [
        {
          "output_type": "stream",
          "text": [
            "[35665990, 35665990, 35665990, 35665990, 23399980]\n"
          ],
          "name": "stdout"
        }
      ]
    }
  ]
}