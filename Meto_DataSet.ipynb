{
  "nbformat": 4,
  "nbformat_minor": 0,
  "metadata": {
    "colab": {
      "name": "Meto DataSet.ipynb",
      "provenance": [],
      "collapsed_sections": [],
      "toc_visible": true,
      "mount_file_id": "1BCcrr7w-u9wMUc7Hw7qpOUbaSiohFguM",
      "authorship_tag": "ABX9TyOoSC6bXKl3inSpcnLu3zSQ"
    },
    "kernelspec": {
      "name": "python3",
      "display_name": "Python 3"
    }
  },
  "cells": [
    {
      "cell_type": "markdown",
      "metadata": {
        "id": "I7j2NDz6hx3m",
        "colab_type": "text"
      },
      "source": [
        "## Creazione del dataSet Meteo\n",
        "\n",
        "Unione dei principali dataset ovvero tra i sensori meteo e i dati"
      ]
    },
    {
      "cell_type": "code",
      "metadata": {
        "id": "opfvAITcg5Zm",
        "colab_type": "code",
        "colab": {}
      },
      "source": [
        "import pandas as pd"
      ],
      "execution_count": 1,
      "outputs": []
    },
    {
      "cell_type": "code",
      "metadata": {
        "id": "ycPFc42-kNxc",
        "colab_type": "code",
        "colab": {}
      },
      "source": [
        "#Carica dati dai file\n",
        "stazioni_meteo = pd.read_csv(\"Stazioni_Meteorologiche.csv\") \n",
        "dati_stazioni = pd.read_csv(\"Dati_sensori_aria_2019.csv\") \n",
        "#unisce i due dataset in uno unico, fondendo idSensore delle due tabelle\n",
        "dataset_aria = pd.merge(aria_dati, aria_stazioni, on='IdSensore', how='outer')\n",
        "print(dataset_aria.shape)\n",
        "dataset_aria=dataset_aria[['IdSensore','NomeTipoSensore','UnitaMisura','Provincia','Data', 'Valore', 'Stato']]\n",
        "df = dataset_aria.['Data'].count()\n",
        "print(df)"
      ],
      "execution_count": null,
      "outputs": []
    }
  ]
}