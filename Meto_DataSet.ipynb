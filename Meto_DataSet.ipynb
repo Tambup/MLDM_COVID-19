{
  "nbformat": 4,
  "nbformat_minor": 0,
  "metadata": {
    "colab": {
      "name": "Meto DataSet.ipynb",
      "provenance": [],
      "collapsed_sections": [],
      "toc_visible": true,
      "mount_file_id": "https://github.com/Tomawock/MLDM_COVID-19/blob/master/Meto_DataSet.ipynb",
      "authorship_tag": "ABX9TyPSFA5vMBTYMU4zQAwEyWHo"
    },
    "kernelspec": {
      "name": "python3",
      "display_name": "Python 3"
    },
    "accelerator": "GPU"
  },
  "cells": [
    {
      "cell_type": "markdown",
      "metadata": {
        "id": "I7j2NDz6hx3m",
        "colab_type": "text"
      },
      "source": [
        "## Creazione del dataSet Meteo\n",
        "\n",
        "Unione dei dataset sensori meteo e i dati legati ad esso"
      ]
    },
    {
      "cell_type": "code",
      "metadata": {
        "id": "opfvAITcg5Zm",
        "colab_type": "code",
        "colab": {}
      },
      "source": [
        "import pandas as pd\n",
        "import numpy as np"
      ],
      "execution_count": 3,
      "outputs": []
    },
    {
      "cell_type": "code",
      "metadata": {
        "id": "ycPFc42-kNxc",
        "colab_type": "code",
        "colab": {}
      },
      "source": [
        "#Carica dati dai file\n",
        "stazioni_meteo = pd.read_csv(\"/content/drive/Shared drives/MLDM progetto/Datasets/Stazioni_Meteorologiche.csv\") \n",
        "dati_stazioni = pd.read_csv(\"/content/drive/Shared drives/MLDM progetto/Datasets/Dati_sensori_meteo_2020_4_8_2020.csv\") "
      ],
      "execution_count": null,
      "outputs": []
    },
    {
      "cell_type": "code",
      "metadata": {
        "id": "fNHvb8cpq2FG",
        "colab_type": "code",
        "colab": {
          "base_uri": "https://localhost:8080/",
          "height": 355
        },
        "outputId": "60713c05-db66-4dd0-ecb2-523b7e7586f8"
      },
      "source": [
        "stazioni_con_dati = stazioni_meteo.merge(dati_stazioni, on='IdSensore')\n",
        "stazioni_con_dati.head(3)"
      ],
      "execution_count": 3,
      "outputs": [
        {
          "output_type": "execute_result",
          "data": {
            "text/html": [
              "<div>\n",
              "<style scoped>\n",
              "    .dataframe tbody tr th:only-of-type {\n",
              "        vertical-align: middle;\n",
              "    }\n",
              "\n",
              "    .dataframe tbody tr th {\n",
              "        vertical-align: top;\n",
              "    }\n",
              "\n",
              "    .dataframe thead th {\n",
              "        text-align: right;\n",
              "    }\n",
              "</style>\n",
              "<table border=\"1\" class=\"dataframe\">\n",
              "  <thead>\n",
              "    <tr style=\"text-align: right;\">\n",
              "      <th></th>\n",
              "      <th>IdSensore</th>\n",
              "      <th>Tipologia</th>\n",
              "      <th>Unità DiMisura</th>\n",
              "      <th>IdStazione</th>\n",
              "      <th>NomeStazione</th>\n",
              "      <th>Quota</th>\n",
              "      <th>Provincia</th>\n",
              "      <th>DataStart</th>\n",
              "      <th>DataStop</th>\n",
              "      <th>Storico</th>\n",
              "      <th>UTM_Nord</th>\n",
              "      <th>UTM_Est</th>\n",
              "      <th>lng</th>\n",
              "      <th>lat</th>\n",
              "      <th>location</th>\n",
              "      <th>Limiti amministrativi 2014 delle province di Regione Lombardia</th>\n",
              "      <th>Limiti amministrativi 2015 delle province di Regione Lombardia</th>\n",
              "      <th>Data</th>\n",
              "      <th>Valore</th>\n",
              "      <th>Stato</th>\n",
              "      <th>idOperatore</th>\n",
              "    </tr>\n",
              "  </thead>\n",
              "  <tbody>\n",
              "    <tr>\n",
              "      <th>0</th>\n",
              "      <td>22006</td>\n",
              "      <td>Umidità Relativa</td>\n",
              "      <td>%</td>\n",
              "      <td>1890</td>\n",
              "      <td>Tavernole sul Mella Monte Guglielmo</td>\n",
              "      <td>1790</td>\n",
              "      <td>BS</td>\n",
              "      <td>14/10/2019</td>\n",
              "      <td>NaN</td>\n",
              "      <td>N</td>\n",
              "      <td>5067376</td>\n",
              "      <td>591417</td>\n",
              "      <td>10.175407</td>\n",
              "      <td>45.753896</td>\n",
              "      <td>(45.75389593743312, 10.175407094582125)</td>\n",
              "      <td>6.0</td>\n",
              "      <td>6.0</td>\n",
              "      <td>01/01/2020 00:10:00</td>\n",
              "      <td>32.0</td>\n",
              "      <td>VA</td>\n",
              "      <td>1</td>\n",
              "    </tr>\n",
              "    <tr>\n",
              "      <th>1</th>\n",
              "      <td>22006</td>\n",
              "      <td>Umidità Relativa</td>\n",
              "      <td>%</td>\n",
              "      <td>1890</td>\n",
              "      <td>Tavernole sul Mella Monte Guglielmo</td>\n",
              "      <td>1790</td>\n",
              "      <td>BS</td>\n",
              "      <td>14/10/2019</td>\n",
              "      <td>NaN</td>\n",
              "      <td>N</td>\n",
              "      <td>5067376</td>\n",
              "      <td>591417</td>\n",
              "      <td>10.175407</td>\n",
              "      <td>45.753896</td>\n",
              "      <td>(45.75389593743312, 10.175407094582125)</td>\n",
              "      <td>6.0</td>\n",
              "      <td>6.0</td>\n",
              "      <td>01/01/2020 00:20:00</td>\n",
              "      <td>32.0</td>\n",
              "      <td>VA</td>\n",
              "      <td>1</td>\n",
              "    </tr>\n",
              "    <tr>\n",
              "      <th>2</th>\n",
              "      <td>22006</td>\n",
              "      <td>Umidità Relativa</td>\n",
              "      <td>%</td>\n",
              "      <td>1890</td>\n",
              "      <td>Tavernole sul Mella Monte Guglielmo</td>\n",
              "      <td>1790</td>\n",
              "      <td>BS</td>\n",
              "      <td>14/10/2019</td>\n",
              "      <td>NaN</td>\n",
              "      <td>N</td>\n",
              "      <td>5067376</td>\n",
              "      <td>591417</td>\n",
              "      <td>10.175407</td>\n",
              "      <td>45.753896</td>\n",
              "      <td>(45.75389593743312, 10.175407094582125)</td>\n",
              "      <td>6.0</td>\n",
              "      <td>6.0</td>\n",
              "      <td>01/01/2020 00:30:00</td>\n",
              "      <td>32.0</td>\n",
              "      <td>VA</td>\n",
              "      <td>1</td>\n",
              "    </tr>\n",
              "  </tbody>\n",
              "</table>\n",
              "</div>"
            ],
            "text/plain": [
              "   IdSensore         Tipologia Unità DiMisura  ...  Valore Stato  idOperatore\n",
              "0      22006  Umidità Relativa              %  ...    32.0    VA            1\n",
              "1      22006  Umidità Relativa              %  ...    32.0    VA            1\n",
              "2      22006  Umidità Relativa              %  ...    32.0    VA            1\n",
              "\n",
              "[3 rows x 21 columns]"
            ]
          },
          "metadata": {
            "tags": []
          },
          "execution_count": 3
        }
      ]
    },
    {
      "cell_type": "code",
      "metadata": {
        "id": "FYJj0BLu24b5",
        "colab_type": "code",
        "colab": {
          "base_uri": "https://localhost:8080/",
          "height": 202
        },
        "outputId": "9b5fcfdf-f22d-47ae-ba8d-9b728850d7e9"
      },
      "source": [
        "variazione_righe=[]\n",
        "variazione_righe.append(stazioni_con_dati.shape[0])\n",
        "print(variazione_righe)\n"
      ],
      "execution_count": 2,
      "outputs": [
        {
          "output_type": "error",
          "ename": "NameError",
          "evalue": "ignored",
          "traceback": [
            "\u001b[0;31m---------------------------------------------------------------------------\u001b[0m",
            "\u001b[0;31mNameError\u001b[0m                                 Traceback (most recent call last)",
            "\u001b[0;32m<ipython-input-2-2dda6c1595b9>\u001b[0m in \u001b[0;36m<module>\u001b[0;34m()\u001b[0m\n\u001b[1;32m      1\u001b[0m \u001b[0mvariazione_righe\u001b[0m\u001b[0;34m=\u001b[0m\u001b[0;34m[\u001b[0m\u001b[0;34m]\u001b[0m\u001b[0;34m\u001b[0m\u001b[0;34m\u001b[0m\u001b[0m\n\u001b[0;32m----> 2\u001b[0;31m \u001b[0mvariazione_righe\u001b[0m\u001b[0;34m.\u001b[0m\u001b[0mappend\u001b[0m\u001b[0;34m(\u001b[0m\u001b[0mstazioni_con_dati\u001b[0m\u001b[0;34m.\u001b[0m\u001b[0mshape\u001b[0m\u001b[0;34m[\u001b[0m\u001b[0;36m0\u001b[0m\u001b[0;34m]\u001b[0m\u001b[0;34m)\u001b[0m\u001b[0;34m\u001b[0m\u001b[0;34m\u001b[0m\u001b[0m\n\u001b[0m\u001b[1;32m      3\u001b[0m \u001b[0mprint\u001b[0m\u001b[0;34m(\u001b[0m\u001b[0mvariazione_righe\u001b[0m\u001b[0;34m)\u001b[0m\u001b[0;34m\u001b[0m\u001b[0;34m\u001b[0m\u001b[0m\n",
            "\u001b[0;31mNameError\u001b[0m: name 'stazioni_con_dati' is not defined"
          ]
        }
      ]
    },
    {
      "cell_type": "code",
      "metadata": {
        "id": "qdk8zNs5xQJv",
        "colab_type": "code",
        "colab": {
          "base_uri": "https://localhost:8080/",
          "height": 202
        },
        "outputId": "904349ca-12dc-4b48-cd2e-3bc30898134b"
      },
      "source": [
        "#elimina le righe con valore mancante -9999\n",
        "stazioni_con_dati = stazioni_con_dati[stazioni_con_dati.Valore != -9999]\n",
        "variazione_righe.append(stazioni_con_dati.shape[0])"
      ],
      "execution_count": 1,
      "outputs": [
        {
          "output_type": "error",
          "ename": "NameError",
          "evalue": "ignored",
          "traceback": [
            "\u001b[0;31m---------------------------------------------------------------------------\u001b[0m",
            "\u001b[0;31mNameError\u001b[0m                                 Traceback (most recent call last)",
            "\u001b[0;32m<ipython-input-1-58314a1cb3d2>\u001b[0m in \u001b[0;36m<module>\u001b[0;34m()\u001b[0m\n\u001b[1;32m      1\u001b[0m \u001b[0;31m#elimina le righe con valore mancante -9999\u001b[0m\u001b[0;34m\u001b[0m\u001b[0;34m\u001b[0m\u001b[0;34m\u001b[0m\u001b[0m\n\u001b[0;32m----> 2\u001b[0;31m \u001b[0mstazioni_con_dati\u001b[0m \u001b[0;34m=\u001b[0m \u001b[0mstazioni_con_dati\u001b[0m\u001b[0;34m[\u001b[0m\u001b[0mstazioni_con_dati\u001b[0m\u001b[0;34m.\u001b[0m\u001b[0mValore\u001b[0m \u001b[0;34m!=\u001b[0m \u001b[0;34m-\u001b[0m\u001b[0;36m9999\u001b[0m\u001b[0;34m]\u001b[0m\u001b[0;34m\u001b[0m\u001b[0;34m\u001b[0m\u001b[0m\n\u001b[0m\u001b[1;32m      3\u001b[0m \u001b[0mvariazione_righe\u001b[0m\u001b[0;34m.\u001b[0m\u001b[0mappend\u001b[0m\u001b[0;34m(\u001b[0m\u001b[0mstazioni_con_dati\u001b[0m\u001b[0;34m.\u001b[0m\u001b[0mshape\u001b[0m\u001b[0;34m[\u001b[0m\u001b[0;36m0\u001b[0m\u001b[0;34m]\u001b[0m\u001b[0;34m)\u001b[0m\u001b[0;34m\u001b[0m\u001b[0;34m\u001b[0m\u001b[0m\n",
            "\u001b[0;31mNameError\u001b[0m: name 'stazioni_con_dati' is not defined"
          ]
        }
      ]
    },
    {
      "cell_type": "code",
      "metadata": {
        "id": "-kNN2BD15a-N",
        "colab_type": "code",
        "colab": {}
      },
      "source": [
        "#elimina le righe con direzione vento variabile  888,8888 \n",
        "stazioni_con_dati = stazioni_con_dati[stazioni_con_dati.Valore != 888,8888]\n",
        "variazione_righe.append(stazioni_con_dati.shape[0])"
      ],
      "execution_count": null,
      "outputs": []
    },
    {
      "cell_type": "code",
      "metadata": {
        "id": "AKa4u9F35e03",
        "colab_type": "code",
        "colab": {}
      },
      "source": [
        " #elimina le righe con direzione vento calmo  777, 7777\n",
        " stazioni_con_dati = stazioni_con_dati[stazioni_con_dati.Valore != 777,7777]\n",
        "variazione_righe.append(stazioni_con_dati.shape[0])"
      ],
      "execution_count": null,
      "outputs": []
    },
    {
      "cell_type": "code",
      "metadata": {
        "id": "asHhvoF5uNYz",
        "colab_type": "code",
        "colab": {}
      },
      "source": [
        "print(\"Stazioni Meteo\\n\")\n",
        "print(list(stazioni_meteo.columns))\n",
        "print(\"\\nDati stazioni\\n\")\n",
        "print(list(dati_stazioni.columns))\n",
        "print(\"\\nFINALE COLONNE\\n\")\n",
        "print(list(stazioni_con_dati.columns))"
      ],
      "execution_count": null,
      "outputs": []
    },
    {
      "cell_type": "markdown",
      "metadata": {
        "id": "-TTkDm340Nz7",
        "colab_type": "text"
      },
      "source": [
        "Eliminazione colonne inutili"
      ]
    },
    {
      "cell_type": "code",
      "metadata": {
        "id": "XDniyHpo2oAK",
        "colab_type": "code",
        "colab": {}
      },
      "source": [
        "#stazioni_con_dati['Data'] = pd.to_datetime(stazioni_con_dati['Data'])"
      ],
      "execution_count": null,
      "outputs": []
    }
  ]
}