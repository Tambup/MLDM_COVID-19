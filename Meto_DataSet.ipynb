{
  "nbformat": 4,
  "nbformat_minor": 0,
  "metadata": {
    "colab": {
      "name": "Meto DataSet.ipynb",
      "provenance": [],
      "collapsed_sections": [],
      "mount_file_id": "https://github.com/Tomawock/MLDM_COVID-19/blob/master/Meto_DataSet.ipynb",
      "authorship_tag": "ABX9TyO8gl+CMzN2SK69FSN9xLps"
    },
    "kernelspec": {
      "name": "python3",
      "display_name": "Python 3"
    },
    "accelerator": "GPU"
  },
  "cells": [
    {
      "cell_type": "markdown",
      "metadata": {
        "id": "I7j2NDz6hx3m",
        "colab_type": "text"
      },
      "source": [
        "## Creazione del dataSet Meteo\n",
        "\n",
        "Unione dei dataset sensori meteo e i dati legati ad esso"
      ]
    },
    {
      "cell_type": "code",
      "metadata": {
        "id": "qyVv56uFLqWo",
        "colab_type": "code",
        "colab": {
          "base_uri": "https://localhost:8080/",
          "height": 34
        },
        "outputId": "b4f04f31-6db7-4d2a-8e9a-6f6df8abace1"
      },
      "source": [
        "from google.colab import drive\n",
        "drive.mount('/content/drive')"
      ],
      "execution_count": 2,
      "outputs": [
        {
          "output_type": "stream",
          "text": [
            "Drive already mounted at /content/drive; to attempt to forcibly remount, call drive.mount(\"/content/drive\", force_remount=True).\n"
          ],
          "name": "stdout"
        }
      ]
    },
    {
      "cell_type": "code",
      "metadata": {
        "id": "opfvAITcg5Zm",
        "colab_type": "code",
        "colab": {}
      },
      "source": [
        "import pandas as pd\n",
        "import numpy as np\n",
        "import os\n",
        "import glob\n",
        "os.chdir('/content/drive/Shared drives/MLDM progetto/Datasets')"
      ],
      "execution_count": 3,
      "outputs": []
    },
    {
      "cell_type": "code",
      "metadata": {
        "id": "ycPFc42-kNxc",
        "colab_type": "code",
        "colab": {}
      },
      "source": [
        "#Carica dati dai file\n",
        "stazioni_meteo = pd.read_csv(\"/content/drive/Shared drives/MLDM progetto/Datasets/Stazioni_Meteorologiche.csv\") \n",
        "dati_stazioni = pd.read_csv(\"/content/drive/Shared drives/MLDM progetto/Datasets/Dati_sensori_meteo_2020_4_8_2020.csv\") "
      ],
      "execution_count": 3,
      "outputs": []
    },
    {
      "cell_type": "code",
      "metadata": {
        "id": "fNHvb8cpq2FG",
        "colab_type": "code",
        "colab": {
          "base_uri": "https://localhost:8080/",
          "height": 355
        },
        "outputId": "84481ae7-5fe9-4180-c16a-212f55774122"
      },
      "source": [
        "stazioni_con_dati = stazioni_meteo.merge(dati_stazioni, on='IdSensore')\n",
        "stazioni_con_dati.head(3)"
      ],
      "execution_count": 4,
      "outputs": [
        {
          "output_type": "execute_result",
          "data": {
            "text/html": [
              "<div>\n",
              "<style scoped>\n",
              "    .dataframe tbody tr th:only-of-type {\n",
              "        vertical-align: middle;\n",
              "    }\n",
              "\n",
              "    .dataframe tbody tr th {\n",
              "        vertical-align: top;\n",
              "    }\n",
              "\n",
              "    .dataframe thead th {\n",
              "        text-align: right;\n",
              "    }\n",
              "</style>\n",
              "<table border=\"1\" class=\"dataframe\">\n",
              "  <thead>\n",
              "    <tr style=\"text-align: right;\">\n",
              "      <th></th>\n",
              "      <th>IdSensore</th>\n",
              "      <th>Tipologia</th>\n",
              "      <th>Unità DiMisura</th>\n",
              "      <th>IdStazione</th>\n",
              "      <th>NomeStazione</th>\n",
              "      <th>Quota</th>\n",
              "      <th>Provincia</th>\n",
              "      <th>DataStart</th>\n",
              "      <th>DataStop</th>\n",
              "      <th>Storico</th>\n",
              "      <th>UTM_Nord</th>\n",
              "      <th>UTM_Est</th>\n",
              "      <th>lng</th>\n",
              "      <th>lat</th>\n",
              "      <th>location</th>\n",
              "      <th>Limiti amministrativi 2014 delle province di Regione Lombardia</th>\n",
              "      <th>Limiti amministrativi 2015 delle province di Regione Lombardia</th>\n",
              "      <th>Data</th>\n",
              "      <th>Valore</th>\n",
              "      <th>Stato</th>\n",
              "      <th>idOperatore</th>\n",
              "    </tr>\n",
              "  </thead>\n",
              "  <tbody>\n",
              "    <tr>\n",
              "      <th>0</th>\n",
              "      <td>22006</td>\n",
              "      <td>Umidità Relativa</td>\n",
              "      <td>%</td>\n",
              "      <td>1890</td>\n",
              "      <td>Tavernole sul Mella Monte Guglielmo</td>\n",
              "      <td>1790</td>\n",
              "      <td>BS</td>\n",
              "      <td>14/10/2019</td>\n",
              "      <td>NaN</td>\n",
              "      <td>N</td>\n",
              "      <td>5067376</td>\n",
              "      <td>591417</td>\n",
              "      <td>10.175407</td>\n",
              "      <td>45.753896</td>\n",
              "      <td>(45.75389593743312, 10.175407094582125)</td>\n",
              "      <td>6.0</td>\n",
              "      <td>6.0</td>\n",
              "      <td>01/01/2020 00:10:00</td>\n",
              "      <td>32.0</td>\n",
              "      <td>VA</td>\n",
              "      <td>1</td>\n",
              "    </tr>\n",
              "    <tr>\n",
              "      <th>1</th>\n",
              "      <td>22006</td>\n",
              "      <td>Umidità Relativa</td>\n",
              "      <td>%</td>\n",
              "      <td>1890</td>\n",
              "      <td>Tavernole sul Mella Monte Guglielmo</td>\n",
              "      <td>1790</td>\n",
              "      <td>BS</td>\n",
              "      <td>14/10/2019</td>\n",
              "      <td>NaN</td>\n",
              "      <td>N</td>\n",
              "      <td>5067376</td>\n",
              "      <td>591417</td>\n",
              "      <td>10.175407</td>\n",
              "      <td>45.753896</td>\n",
              "      <td>(45.75389593743312, 10.175407094582125)</td>\n",
              "      <td>6.0</td>\n",
              "      <td>6.0</td>\n",
              "      <td>01/01/2020 00:20:00</td>\n",
              "      <td>32.0</td>\n",
              "      <td>VA</td>\n",
              "      <td>1</td>\n",
              "    </tr>\n",
              "    <tr>\n",
              "      <th>2</th>\n",
              "      <td>22006</td>\n",
              "      <td>Umidità Relativa</td>\n",
              "      <td>%</td>\n",
              "      <td>1890</td>\n",
              "      <td>Tavernole sul Mella Monte Guglielmo</td>\n",
              "      <td>1790</td>\n",
              "      <td>BS</td>\n",
              "      <td>14/10/2019</td>\n",
              "      <td>NaN</td>\n",
              "      <td>N</td>\n",
              "      <td>5067376</td>\n",
              "      <td>591417</td>\n",
              "      <td>10.175407</td>\n",
              "      <td>45.753896</td>\n",
              "      <td>(45.75389593743312, 10.175407094582125)</td>\n",
              "      <td>6.0</td>\n",
              "      <td>6.0</td>\n",
              "      <td>01/01/2020 00:30:00</td>\n",
              "      <td>32.0</td>\n",
              "      <td>VA</td>\n",
              "      <td>1</td>\n",
              "    </tr>\n",
              "  </tbody>\n",
              "</table>\n",
              "</div>"
            ],
            "text/plain": [
              "   IdSensore         Tipologia Unità DiMisura  ...  Valore Stato  idOperatore\n",
              "0      22006  Umidità Relativa              %  ...    32.0    VA            1\n",
              "1      22006  Umidità Relativa              %  ...    32.0    VA            1\n",
              "2      22006  Umidità Relativa              %  ...    32.0    VA            1\n",
              "\n",
              "[3 rows x 21 columns]"
            ]
          },
          "metadata": {
            "tags": []
          },
          "execution_count": 4
        }
      ]
    },
    {
      "cell_type": "code",
      "metadata": {
        "id": "FYJj0BLu24b5",
        "colab_type": "code",
        "colab": {
          "base_uri": "https://localhost:8080/",
          "height": 34
        },
        "outputId": "ced53bf8-acee-41ee-9b66-12db478b3525"
      },
      "source": [
        "variazione_righe=[]\n",
        "variazione_righe.append(stazioni_con_dati.shape[0])\n",
        "print(variazione_righe)\n"
      ],
      "execution_count": 5,
      "outputs": [
        {
          "output_type": "stream",
          "text": [
            "[35665990]\n"
          ],
          "name": "stdout"
        }
      ]
    },
    {
      "cell_type": "code",
      "metadata": {
        "colab_type": "code",
        "id": "51JnJ9HcCJNb",
        "colab": {}
      },
      "source": [
        "del stazioni_con_dati['Unità\\xa0DiMisura']\n",
        "del stazioni_con_dati['Provincia']\n",
        "del stazioni_con_dati['IdStazione']\n",
        "del stazioni_con_dati['NomeStazione']\n",
        "del stazioni_con_dati['Quota']\n",
        "del stazioni_con_dati['DataStart']\n",
        "del stazioni_con_dati['DataStop']\n",
        "del stazioni_con_dati['Storico']\n",
        "del stazioni_con_dati['UTM_Nord']\n",
        "del stazioni_con_dati['UTM_Est']\n",
        "del stazioni_con_dati['lng']\n",
        "del stazioni_con_dati['lat']\n",
        "del stazioni_con_dati['location']\n",
        "del stazioni_con_dati['Limiti amministrativi 2014 delle province di Regione Lombardia']\n",
        "del stazioni_con_dati['Limiti amministrativi 2015 delle province di Regione Lombardia']\n",
        "del stazioni_con_dati['Stato']\n",
        "del stazioni_con_dati['IdSensore']"
      ],
      "execution_count": 6,
      "outputs": []
    },
    {
      "cell_type": "code",
      "metadata": {
        "id": "qdk8zNs5xQJv",
        "colab_type": "code",
        "colab": {}
      },
      "source": [
        "#elimina le righe con valore mancante -9999\n",
        "stazioni_con_dati_mod=0\n",
        "stazioni_con_dati_mod = stazioni_con_dati[stazioni_con_dati.Valore != -9999]\n",
        "variazione_righe.append(stazioni_con_dati_mod.shape[0])"
      ],
      "execution_count": 7,
      "outputs": []
    },
    {
      "cell_type": "code",
      "metadata": {
        "id": "-kNN2BD15a-N",
        "colab_type": "code",
        "colab": {}
      },
      "source": [
        "#elimina le righe con direzione vento variabile  888,8888 \n",
        "stazioni_con_dati_mod = stazioni_con_dati[stazioni_con_dati.Valore != 888.8888]\n",
        "variazione_righe.append(stazioni_con_dati_mod.shape[0])"
      ],
      "execution_count": 8,
      "outputs": []
    },
    {
      "cell_type": "code",
      "metadata": {
        "id": "AKa4u9F35e03",
        "colab_type": "code",
        "colab": {}
      },
      "source": [
        " #elimina le righe con direzione vento calmo  777, 7777\n",
        "stazioni_con_dati_mod = stazioni_con_dati[stazioni_con_dati.Valore != 777.7777]\n",
        "variazione_righe.append(stazioni_con_dati_mod.shape[0])"
      ],
      "execution_count": 9,
      "outputs": []
    },
    {
      "cell_type": "code",
      "metadata": {
        "id": "qqhmGO8tFTHM",
        "colab_type": "code",
        "colab": {}
      },
      "source": [
        "#elimno le righe che non hanno id uguale a 1\n",
        "stazioni_con_dati_mod = stazioni_con_dati[stazioni_con_dati.idOperatore ==1]\n",
        "variazione_righe.append(stazioni_con_dati_mod.shape[0])"
      ],
      "execution_count": 10,
      "outputs": []
    },
    {
      "cell_type": "code",
      "metadata": {
        "id": "XDniyHpo2oAK",
        "colab_type": "code",
        "colab": {
          "base_uri": "https://localhost:8080/",
          "height": 34
        },
        "outputId": "b4c5963f-f0a2-4a97-9781-71dacf9ae9a8"
      },
      "source": [
        "print(variazione_righe)"
      ],
      "execution_count": 11,
      "outputs": [
        {
          "output_type": "stream",
          "text": [
            "[35665990, 35665990, 35665990, 35665990, 23399980]\n"
          ],
          "name": "stdout"
        }
      ]
    },
    {
      "cell_type": "code",
      "metadata": {
        "id": "1u4pVABlJXMi",
        "colab_type": "code",
        "colab": {}
      },
      "source": [
        "del stazioni_con_dati_mod['idOperatore']"
      ],
      "execution_count": 12,
      "outputs": []
    },
    {
      "cell_type": "code",
      "metadata": {
        "id": "2bbrKY95J8Mu",
        "colab_type": "code",
        "colab": {
          "base_uri": "https://localhost:8080/",
          "height": 144
        },
        "outputId": "e0023163-09e1-4af1-8a7d-36f79698af68"
      },
      "source": [
        "stazioni_con_dati_mod.head(3)"
      ],
      "execution_count": 13,
      "outputs": [
        {
          "output_type": "execute_result",
          "data": {
            "text/html": [
              "<div>\n",
              "<style scoped>\n",
              "    .dataframe tbody tr th:only-of-type {\n",
              "        vertical-align: middle;\n",
              "    }\n",
              "\n",
              "    .dataframe tbody tr th {\n",
              "        vertical-align: top;\n",
              "    }\n",
              "\n",
              "    .dataframe thead th {\n",
              "        text-align: right;\n",
              "    }\n",
              "</style>\n",
              "<table border=\"1\" class=\"dataframe\">\n",
              "  <thead>\n",
              "    <tr style=\"text-align: right;\">\n",
              "      <th></th>\n",
              "      <th>Tipologia</th>\n",
              "      <th>Data</th>\n",
              "      <th>Valore</th>\n",
              "    </tr>\n",
              "  </thead>\n",
              "  <tbody>\n",
              "    <tr>\n",
              "      <th>0</th>\n",
              "      <td>Umidità Relativa</td>\n",
              "      <td>01/01/2020 00:10:00</td>\n",
              "      <td>32.0</td>\n",
              "    </tr>\n",
              "    <tr>\n",
              "      <th>1</th>\n",
              "      <td>Umidità Relativa</td>\n",
              "      <td>01/01/2020 00:20:00</td>\n",
              "      <td>32.0</td>\n",
              "    </tr>\n",
              "    <tr>\n",
              "      <th>2</th>\n",
              "      <td>Umidità Relativa</td>\n",
              "      <td>01/01/2020 00:30:00</td>\n",
              "      <td>32.0</td>\n",
              "    </tr>\n",
              "  </tbody>\n",
              "</table>\n",
              "</div>"
            ],
            "text/plain": [
              "          Tipologia                 Data  Valore\n",
              "0  Umidità Relativa  01/01/2020 00:10:00    32.0\n",
              "1  Umidità Relativa  01/01/2020 00:20:00    32.0\n",
              "2  Umidità Relativa  01/01/2020 00:30:00    32.0"
            ]
          },
          "metadata": {
            "tags": []
          },
          "execution_count": 13
        }
      ]
    },
    {
      "cell_type": "code",
      "metadata": {
        "id": "ltmsgwkqLSYA",
        "colab_type": "code",
        "colab": {}
      },
      "source": [
        "stazioni_con_dati_mod.to_csv(\"meteo_merged.csv\", index=False)"
      ],
      "execution_count": 14,
      "outputs": []
    },
    {
      "cell_type": "markdown",
      "metadata": {
        "id": "Jpk8QI_NMYXx",
        "colab_type": "text"
      },
      "source": [
        "FASE 2 di modifca ma prima esposrto tuytto in un file csv se nio ci si mette la vita "
      ]
    },
    {
      "cell_type": "code",
      "metadata": {
        "id": "UV55t2nxQpYl",
        "colab_type": "code",
        "colab": {}
      },
      "source": [
        "#Carica dati dai file\n",
        "stazioni_con_dati_mod = pd.read_csv(\"/content/drive/Shared drives/MLDM progetto/Datasets/meteo_merged.csv\") "
      ],
      "execution_count": 34,
      "outputs": []
    },
    {
      "cell_type": "code",
      "metadata": {
        "id": "cYjLa0gdQ6n1",
        "colab_type": "code",
        "colab": {
          "base_uri": "https://localhost:8080/",
          "height": 144
        },
        "outputId": "880de709-8295-48ee-c73c-edd4f1bf2be2"
      },
      "source": [
        "variazione_righe=[]\n",
        "variazione_righe.append(stazioni_con_dati_mod.shape[0])\n",
        "stazioni_con_dati_mod.head(3)"
      ],
      "execution_count": 36,
      "outputs": [
        {
          "output_type": "execute_result",
          "data": {
            "text/html": [
              "<div>\n",
              "<style scoped>\n",
              "    .dataframe tbody tr th:only-of-type {\n",
              "        vertical-align: middle;\n",
              "    }\n",
              "\n",
              "    .dataframe tbody tr th {\n",
              "        vertical-align: top;\n",
              "    }\n",
              "\n",
              "    .dataframe thead th {\n",
              "        text-align: right;\n",
              "    }\n",
              "</style>\n",
              "<table border=\"1\" class=\"dataframe\">\n",
              "  <thead>\n",
              "    <tr style=\"text-align: right;\">\n",
              "      <th></th>\n",
              "      <th>Tipologia</th>\n",
              "      <th>Data</th>\n",
              "      <th>Valore</th>\n",
              "    </tr>\n",
              "  </thead>\n",
              "  <tbody>\n",
              "    <tr>\n",
              "      <th>0</th>\n",
              "      <td>Umidità Relativa</td>\n",
              "      <td>01/01/2020 00:10:00</td>\n",
              "      <td>32.0</td>\n",
              "    </tr>\n",
              "    <tr>\n",
              "      <th>1</th>\n",
              "      <td>Umidità Relativa</td>\n",
              "      <td>01/01/2020 00:20:00</td>\n",
              "      <td>32.0</td>\n",
              "    </tr>\n",
              "    <tr>\n",
              "      <th>2</th>\n",
              "      <td>Umidità Relativa</td>\n",
              "      <td>01/01/2020 00:30:00</td>\n",
              "      <td>32.0</td>\n",
              "    </tr>\n",
              "  </tbody>\n",
              "</table>\n",
              "</div>"
            ],
            "text/plain": [
              "          Tipologia                 Data  Valore\n",
              "0  Umidità Relativa  01/01/2020 00:10:00    32.0\n",
              "1  Umidità Relativa  01/01/2020 00:20:00    32.0\n",
              "2  Umidità Relativa  01/01/2020 00:30:00    32.0"
            ]
          },
          "metadata": {
            "tags": []
          },
          "execution_count": 36
        }
      ]
    },
    {
      "cell_type": "code",
      "metadata": {
        "id": "dw4Old-HGq9e",
        "colab_type": "code",
        "colab": {}
      },
      "source": [
        "stazioni_con_dati_mod['Data'] = pd.to_datetime(stazioni_con_dati_mod['Data'], format='%d/%m/%Y %H:%M:%S')"
      ],
      "execution_count": 37,
      "outputs": []
    },
    {
      "cell_type": "code",
      "metadata": {
        "id": "3L9Gljl-IU_a",
        "colab_type": "code",
        "colab": {}
      },
      "source": [
        "#normalizza per avere ancoa la data con datetime e non object\n",
        "stazioni_con_dati_mod['Data'] =stazioni_con_dati_mod['Data'].dt.normalize()"
      ],
      "execution_count": 38,
      "outputs": []
    },
    {
      "cell_type": "code",
      "metadata": {
        "id": "D2vJhQJxRnh9",
        "colab_type": "code",
        "colab": {
          "base_uri": "https://localhost:8080/",
          "height": 34
        },
        "outputId": "b812b643-abe2-4f9d-a3c0-1eab0b8fe1b7"
      },
      "source": [
        "variazione_righe.append(stazioni_con_dati_mod.shape[0])\n",
        "print(variazione_righe)"
      ],
      "execution_count": 39,
      "outputs": [
        {
          "output_type": "stream",
          "text": [
            "[23399980, 23399980]\n"
          ],
          "name": "stdout"
        }
      ]
    },
    {
      "cell_type": "code",
      "metadata": {
        "id": "NMDvMwXNYio2",
        "colab_type": "code",
        "colab": {}
      },
      "source": [
        "stazioni_con_dati_media_giornaliera=stazioni_con_dati_mod.groupby(['Data', 'Tipologia'])['Valore'].mean()"
      ],
      "execution_count": 58,
      "outputs": []
    },
    {
      "cell_type": "code",
      "metadata": {
        "id": "bglYwBKPZCth",
        "colab_type": "code",
        "colab": {
          "base_uri": "https://localhost:8080/",
          "height": 920
        },
        "outputId": "0f7bf930-a5d3-4fb2-a79f-6fac6d85742a"
      },
      "source": [
        "#i dati sembrano strani\n",
        "stazioni_con_dati_media_giornaliera.head(50)"
      ],
      "execution_count": 59,
      "outputs": [
        {
          "output_type": "execute_result",
          "data": {
            "text/plain": [
              "Data        Tipologia          \n",
              "2020-01-01  Altezza Neve           100.130616\n",
              "            Direzione Vento        172.709405\n",
              "            Livello Idrometrico     59.165993\n",
              "            Radiazione Globale      68.286758\n",
              "            Temperatura              3.502561\n",
              "            Umidità Relativa        67.344107\n",
              "            Velocità Vento           1.244477\n",
              "2020-01-02  Altezza Neve            99.670512\n",
              "            Direzione Vento        201.976364\n",
              "            Livello Idrometrico     56.629506\n",
              "            Radiazione Globale      63.571811\n",
              "            Temperatura              2.196943\n",
              "            Umidità Relativa        72.864289\n",
              "            Velocità Vento           1.279062\n",
              "2020-01-03  Altezza Neve            99.451795\n",
              "            Direzione Vento        205.185806\n",
              "            Livello Idrometrico     53.542680\n",
              "            Radiazione Globale      41.500695\n",
              "            Temperatura              2.993570\n",
              "            Umidità Relativa        72.674443\n",
              "            Velocità Vento           1.312060\n",
              "2020-01-04  Altezza Neve            98.913842\n",
              "            Direzione Vento        203.372684\n",
              "            Livello Idrometrico     50.749373\n",
              "            Radiazione Globale      68.282424\n",
              "            Temperatura              4.502800\n",
              "            Umidità Relativa        65.817030\n",
              "            Velocità Vento           2.446481\n",
              "2020-01-05  Altezza Neve            98.182646\n",
              "            Direzione Vento        162.761000\n",
              "            Livello Idrometrico     48.230774\n",
              "            Radiazione Globale      72.886064\n",
              "            Temperatura              4.443984\n",
              "            Umidità Relativa        56.627988\n",
              "            Velocità Vento           2.011912\n",
              "2020-01-06  Altezza Neve            98.046065\n",
              "            Direzione Vento        184.157694\n",
              "            Livello Idrometrico     47.373557\n",
              "            Radiazione Globale      63.294593\n",
              "            Temperatura              1.533649\n",
              "            Umidità Relativa        75.176484\n",
              "            Velocità Vento           1.245922\n",
              "2020-01-07  Altezza Neve            99.735252\n",
              "            Direzione Vento        193.700689\n",
              "            Livello Idrometrico     46.847557\n",
              "            Radiazione Globale      52.327015\n",
              "            Temperatura              0.966845\n",
              "            Umidità Relativa        74.889931\n",
              "            Velocità Vento           1.684780\n",
              "2020-01-08  Altezza Neve            97.100463\n",
              "Name: Valore, dtype: float64"
            ]
          },
          "metadata": {
            "tags": []
          },
          "execution_count": 59
        }
      ]
    }
  ]
}