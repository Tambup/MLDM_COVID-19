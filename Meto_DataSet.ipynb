{
  "nbformat": 4,
  "nbformat_minor": 0,
  "metadata": {
    "colab": {
      "name": "Meto DataSet.ipynb",
      "provenance": [],
      "collapsed_sections": [],
      "toc_visible": true,
      "mount_file_id": "https://github.com/Tomawock/MLDM_COVID-19/blob/master/Meto_DataSet.ipynb",
      "authorship_tag": "ABX9TyMWkQxZFBpfRIEoEM9eYBxG"
    },
    "kernelspec": {
      "name": "python3",
      "display_name": "Python 3"
    }
  },
  "cells": [
    {
      "cell_type": "markdown",
      "metadata": {
        "id": "I7j2NDz6hx3m",
        "colab_type": "text"
      },
      "source": [
        "## Creazione del dataSet Meteo\n",
        "\n",
        "Unione dei dataset sensori meteo e i dati legati ad esso"
      ]
    },
    {
      "cell_type": "code",
      "metadata": {
        "id": "opfvAITcg5Zm",
        "colab_type": "code",
        "colab": {}
      },
      "source": [
        "import pandas as pd"
      ],
      "execution_count": 1,
      "outputs": []
    },
    {
      "cell_type": "code",
      "metadata": {
        "id": "ycPFc42-kNxc",
        "colab_type": "code",
        "colab": {}
      },
      "source": [
        "#Carica dati dai file\n",
        "stazioni_meteo = pd.read_csv(\"/content/drive/Shared drives/MLDM progetto/Datasets/Stazioni_Meteorologiche.csv\") \n",
        "dati_stazioni = pd.read_csv(\"/content/drive/Shared drives/MLDM progetto/Datasets/Dati_sensori_meteo_2020_4_8_2020.csv\") "
      ],
      "execution_count": 2,
      "outputs": []
    },
    {
      "cell_type": "code",
      "metadata": {
        "id": "fNHvb8cpq2FG",
        "colab_type": "code",
        "colab": {
          "base_uri": "https://localhost:8080/",
          "height": 487
        },
        "outputId": "1fcd1c58-c598-4f69-dc64-1ff98f311566"
      },
      "source": [
        "stazioni_con_dati = stazioni_meteo.merge(dati_stazioni, on='IdSensore')\n",
        "stazioni_con_dati.head(5)"
      ],
      "execution_count": 3,
      "outputs": [
        {
          "output_type": "execute_result",
          "data": {
            "text/html": [
              "<div>\n",
              "<style scoped>\n",
              "    .dataframe tbody tr th:only-of-type {\n",
              "        vertical-align: middle;\n",
              "    }\n",
              "\n",
              "    .dataframe tbody tr th {\n",
              "        vertical-align: top;\n",
              "    }\n",
              "\n",
              "    .dataframe thead th {\n",
              "        text-align: right;\n",
              "    }\n",
              "</style>\n",
              "<table border=\"1\" class=\"dataframe\">\n",
              "  <thead>\n",
              "    <tr style=\"text-align: right;\">\n",
              "      <th></th>\n",
              "      <th>IdSensore</th>\n",
              "      <th>Tipologia</th>\n",
              "      <th>Unità DiMisura</th>\n",
              "      <th>IdStazione</th>\n",
              "      <th>NomeStazione</th>\n",
              "      <th>Quota</th>\n",
              "      <th>Provincia</th>\n",
              "      <th>DataStart</th>\n",
              "      <th>DataStop</th>\n",
              "      <th>Storico</th>\n",
              "      <th>UTM_Nord</th>\n",
              "      <th>UTM_Est</th>\n",
              "      <th>lng</th>\n",
              "      <th>lat</th>\n",
              "      <th>location</th>\n",
              "      <th>Limiti amministrativi 2014 delle province di Regione Lombardia</th>\n",
              "      <th>Limiti amministrativi 2015 delle province di Regione Lombardia</th>\n",
              "      <th>Data</th>\n",
              "      <th>Valore</th>\n",
              "      <th>Stato</th>\n",
              "      <th>idOperatore</th>\n",
              "    </tr>\n",
              "  </thead>\n",
              "  <tbody>\n",
              "    <tr>\n",
              "      <th>0</th>\n",
              "      <td>22006</td>\n",
              "      <td>Umidità Relativa</td>\n",
              "      <td>%</td>\n",
              "      <td>1890</td>\n",
              "      <td>Tavernole sul Mella Monte Guglielmo</td>\n",
              "      <td>1790</td>\n",
              "      <td>BS</td>\n",
              "      <td>14/10/2019</td>\n",
              "      <td>NaN</td>\n",
              "      <td>N</td>\n",
              "      <td>5067376</td>\n",
              "      <td>591417</td>\n",
              "      <td>10.175407</td>\n",
              "      <td>45.753896</td>\n",
              "      <td>(45.75389593743312, 10.175407094582125)</td>\n",
              "      <td>6.0</td>\n",
              "      <td>6.0</td>\n",
              "      <td>01/01/2020 00:10:00</td>\n",
              "      <td>32.0</td>\n",
              "      <td>VA</td>\n",
              "      <td>1</td>\n",
              "    </tr>\n",
              "    <tr>\n",
              "      <th>1</th>\n",
              "      <td>22006</td>\n",
              "      <td>Umidità Relativa</td>\n",
              "      <td>%</td>\n",
              "      <td>1890</td>\n",
              "      <td>Tavernole sul Mella Monte Guglielmo</td>\n",
              "      <td>1790</td>\n",
              "      <td>BS</td>\n",
              "      <td>14/10/2019</td>\n",
              "      <td>NaN</td>\n",
              "      <td>N</td>\n",
              "      <td>5067376</td>\n",
              "      <td>591417</td>\n",
              "      <td>10.175407</td>\n",
              "      <td>45.753896</td>\n",
              "      <td>(45.75389593743312, 10.175407094582125)</td>\n",
              "      <td>6.0</td>\n",
              "      <td>6.0</td>\n",
              "      <td>01/01/2020 00:20:00</td>\n",
              "      <td>32.0</td>\n",
              "      <td>VA</td>\n",
              "      <td>1</td>\n",
              "    </tr>\n",
              "    <tr>\n",
              "      <th>2</th>\n",
              "      <td>22006</td>\n",
              "      <td>Umidità Relativa</td>\n",
              "      <td>%</td>\n",
              "      <td>1890</td>\n",
              "      <td>Tavernole sul Mella Monte Guglielmo</td>\n",
              "      <td>1790</td>\n",
              "      <td>BS</td>\n",
              "      <td>14/10/2019</td>\n",
              "      <td>NaN</td>\n",
              "      <td>N</td>\n",
              "      <td>5067376</td>\n",
              "      <td>591417</td>\n",
              "      <td>10.175407</td>\n",
              "      <td>45.753896</td>\n",
              "      <td>(45.75389593743312, 10.175407094582125)</td>\n",
              "      <td>6.0</td>\n",
              "      <td>6.0</td>\n",
              "      <td>01/01/2020 00:30:00</td>\n",
              "      <td>32.0</td>\n",
              "      <td>VA</td>\n",
              "      <td>1</td>\n",
              "    </tr>\n",
              "    <tr>\n",
              "      <th>3</th>\n",
              "      <td>22006</td>\n",
              "      <td>Umidità Relativa</td>\n",
              "      <td>%</td>\n",
              "      <td>1890</td>\n",
              "      <td>Tavernole sul Mella Monte Guglielmo</td>\n",
              "      <td>1790</td>\n",
              "      <td>BS</td>\n",
              "      <td>14/10/2019</td>\n",
              "      <td>NaN</td>\n",
              "      <td>N</td>\n",
              "      <td>5067376</td>\n",
              "      <td>591417</td>\n",
              "      <td>10.175407</td>\n",
              "      <td>45.753896</td>\n",
              "      <td>(45.75389593743312, 10.175407094582125)</td>\n",
              "      <td>6.0</td>\n",
              "      <td>6.0</td>\n",
              "      <td>01/01/2020 00:40:00</td>\n",
              "      <td>32.0</td>\n",
              "      <td>VA</td>\n",
              "      <td>1</td>\n",
              "    </tr>\n",
              "    <tr>\n",
              "      <th>4</th>\n",
              "      <td>22006</td>\n",
              "      <td>Umidità Relativa</td>\n",
              "      <td>%</td>\n",
              "      <td>1890</td>\n",
              "      <td>Tavernole sul Mella Monte Guglielmo</td>\n",
              "      <td>1790</td>\n",
              "      <td>BS</td>\n",
              "      <td>14/10/2019</td>\n",
              "      <td>NaN</td>\n",
              "      <td>N</td>\n",
              "      <td>5067376</td>\n",
              "      <td>591417</td>\n",
              "      <td>10.175407</td>\n",
              "      <td>45.753896</td>\n",
              "      <td>(45.75389593743312, 10.175407094582125)</td>\n",
              "      <td>6.0</td>\n",
              "      <td>6.0</td>\n",
              "      <td>01/01/2020 00:50:00</td>\n",
              "      <td>32.0</td>\n",
              "      <td>VA</td>\n",
              "      <td>1</td>\n",
              "    </tr>\n",
              "  </tbody>\n",
              "</table>\n",
              "</div>"
            ],
            "text/plain": [
              "   IdSensore         Tipologia Unità DiMisura  ...  Valore Stato  idOperatore\n",
              "0      22006  Umidità Relativa              %  ...    32.0    VA            1\n",
              "1      22006  Umidità Relativa              %  ...    32.0    VA            1\n",
              "2      22006  Umidità Relativa              %  ...    32.0    VA            1\n",
              "3      22006  Umidità Relativa              %  ...    32.0    VA            1\n",
              "4      22006  Umidità Relativa              %  ...    32.0    VA            1\n",
              "\n",
              "[5 rows x 21 columns]"
            ]
          },
          "metadata": {
            "tags": []
          },
          "execution_count": 3
        }
      ]
    },
    {
      "cell_type": "code",
      "metadata": {
        "id": "asHhvoF5uNYz",
        "colab_type": "code",
        "colab": {
          "base_uri": "https://localhost:8080/",
          "height": 382
        },
        "outputId": "bc363897-48f5-4f59-8115-027f878c5956"
      },
      "source": [
        "list(stazioni_con_dati.columns) "
      ],
      "execution_count": 5,
      "outputs": [
        {
          "output_type": "execute_result",
          "data": {
            "text/plain": [
              "['IdSensore',\n",
              " 'Tipologia',\n",
              " 'Unità\\xa0DiMisura',\n",
              " 'IdStazione',\n",
              " 'NomeStazione',\n",
              " 'Quota',\n",
              " 'Provincia',\n",
              " 'DataStart',\n",
              " 'DataStop',\n",
              " 'Storico',\n",
              " 'UTM_Nord',\n",
              " 'UTM_Est',\n",
              " 'lng',\n",
              " 'lat',\n",
              " 'location',\n",
              " 'Limiti amministrativi 2014 delle province di Regione Lombardia',\n",
              " 'Limiti amministrativi 2015 delle province di Regione Lombardia',\n",
              " 'Data',\n",
              " 'Valore',\n",
              " 'Stato',\n",
              " 'idOperatore']"
            ]
          },
          "metadata": {
            "tags": []
          },
          "execution_count": 5
        }
      ]
    }
  ]
}