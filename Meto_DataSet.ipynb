{
  "nbformat": 4,
  "nbformat_minor": 0,
  "metadata": {
    "colab": {
      "name": "Meto DataSet.ipynb",
      "provenance": [],
      "toc_visible": true,
      "mount_file_id": "1BCcrr7w-u9wMUc7Hw7qpOUbaSiohFguM",
      "authorship_tag": "ABX9TyPHmC+JbKW5I+FyH9H8Mfwi"
    },
    "kernelspec": {
      "name": "python3",
      "display_name": "Python 3"
    }
  },
  "cells": [
    {
      "cell_type": "markdown",
      "metadata": {
        "id": "I7j2NDz6hx3m",
        "colab_type": "text"
      },
      "source": [
        "## Creazione del dataSet Meteo\n",
        "\n",
        "Unione dei principali dataset ovvero tra i sensori meteo e i dati"
      ]
    },
    {
      "cell_type": "code",
      "metadata": {
        "id": "opfvAITcg5Zm",
        "colab_type": "code",
        "colab": {}
      },
      "source": [
        ""
      ],
      "execution_count": null,
      "outputs": []
    }
  ]
}