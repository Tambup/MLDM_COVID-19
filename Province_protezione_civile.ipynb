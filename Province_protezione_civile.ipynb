{
  "nbformat": 4,
  "nbformat_minor": 0,
  "metadata": {
    "colab": {
      "name": "Province_protezione_civile.ipynb",
      "provenance": [],
      "authorship_tag": "ABX9TyNh5AsOrg+3ubxuwTQ75UOT",
      "include_colab_link": true
    },
    "kernelspec": {
      "name": "python3",
      "display_name": "Python 3"
    }
  },
  "cells": [
    {
      "cell_type": "markdown",
      "metadata": {
        "id": "view-in-github",
        "colab_type": "text"
      },
      "source": [
        "<a href=\"https://colab.research.google.com/github/Tomawock/MLDM_COVID-19/blob/master/Province_protezione_civile.ipynb\" target=\"_parent\"><img src=\"https://colab.research.google.com/assets/colab-badge.svg\" alt=\"Open In Colab\"/></a>"
      ]
    },
    {
      "cell_type": "code",
      "metadata": {
        "id": "b0GDC4Uj3eNp"
      },
      "source": [
        "import pandas as pd\n",
        "import numpy as np\n",
        "import datetime as dt\n",
        "import matplotlib.pyplot as plt\n",
        "import matplotlib.dates as mdates\n",
        "import os"
      ],
      "execution_count": 9,
      "outputs": []
    },
    {
      "cell_type": "code",
      "metadata": {
        "id": "iPlrziQx3nd2",
        "outputId": "2a8fe55a-f5eb-42f1-b260-ef06e694fc13",
        "colab": {
          "base_uri": "https://localhost:8080/",
          "height": 35
        }
      },
      "source": [
        "#Carica dati dai file\n",
        "protezionecivile = pd.read_csv(\"/content/dpc-covid19-ita-province.csv\") \n",
        "isLombardia = protezionecivile[\"denominazione_regione\"]==\"Lombardia\"\n",
        "protezionecivile = protezionecivile[isLombardia]\n",
        "notEmpty= protezionecivile[\"totale_casi\"]!= 0\n",
        "protezionecivile = protezionecivile[notEmpty]\n",
        "protezionecivile.shape"
      ],
      "execution_count": 12,
      "outputs": [
        {
          "output_type": "execute_result",
          "data": {
            "text/plain": [
              "(2984, 11)"
            ]
          },
          "metadata": {
            "tags": []
          },
          "execution_count": 12
        }
      ]
    }
  ]
}