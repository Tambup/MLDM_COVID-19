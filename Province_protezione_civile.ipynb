{
  "nbformat": 4,
  "nbformat_minor": 0,
  "metadata": {
    "colab": {
      "name": "Province_protezione_civile.ipynb",
      "provenance": [],
      "authorship_tag": "ABX9TyMhR9omPFwJIw/gX4EC/BKK",
      "include_colab_link": true
    },
    "kernelspec": {
      "name": "python3",
      "display_name": "Python 3"
    }
  },
  "cells": [
    {
      "cell_type": "markdown",
      "metadata": {
        "id": "view-in-github",
        "colab_type": "text"
      },
      "source": [
        "<a href=\"https://colab.research.google.com/github/Tomawock/MLDM_COVID-19/blob/master/Province_protezione_civile.ipynb\" target=\"_parent\"><img src=\"https://colab.research.google.com/assets/colab-badge.svg\" alt=\"Open In Colab\"/></a>"
      ]
    },
    {
      "cell_type": "code",
      "metadata": {
        "id": "b0GDC4Uj3eNp"
      },
      "source": [
        "import pandas as pd\n",
        "import numpy as np\n",
        "import datetime as dt\n",
        "import matplotlib.pyplot as plt\n",
        "import matplotlib.dates as mdates\n",
        "import os"
      ],
      "execution_count": 142,
      "outputs": []
    },
    {
      "cell_type": "markdown",
      "metadata": {
        "id": "mo2Uei6PraIl"
      },
      "source": [
        "Caricamento dataset provinciale dati covid e filtraggio sulla regione lombardia e le sue province e rimovione dei giorni nei quali non sono statia ggiornati i dati"
      ]
    },
    {
      "cell_type": "code",
      "metadata": {
        "id": "iPlrziQx3nd2",
        "outputId": "f8760052-5320-424d-ec1c-418d9a45caf4",
        "colab": {
          "base_uri": "https://localhost:8080/",
          "height": 496
        }
      },
      "source": [
        "#Carica dati dai file\n",
        "protezionecivile = pd.read_csv(\"/content/dpc-covid19-ita-province.csv\") \n",
        "isLombardia = protezionecivile[\"denominazione_regione\"]==\"Lombardia\"\n",
        "protezionecivile = protezionecivile[isLombardia]\n",
        "print(protezionecivile.shape)\n",
        "notEmpty= protezionecivile[\"totale_casi\"]!= 0\n",
        "protezionecivile = protezionecivile[notEmpty]\n",
        "print(protezionecivile.shape)\n",
        "nan_provincia=protezionecivile['sigla_provincia'].notnull()\n",
        "protezionecivile = protezionecivile[nan_provincia]\n",
        "print(protezionecivile.shape)\n",
        "protezionecivile[\"data\"] = pd.to_datetime(protezionecivile[\"data\"], format='%Y-%m-%dT%H:%M:%S')\n",
        "protezionecivile[\"data\"] = protezionecivile[\"data\"].dt.normalize()\n",
        "protezionecivile"
      ],
      "execution_count": 143,
      "outputs": [
        {
          "output_type": "stream",
          "text": [
            "(3014, 11)\n",
            "(2984, 11)\n",
            "(2659, 11)\n"
          ],
          "name": "stdout"
        },
        {
          "output_type": "execute_result",
          "data": {
            "text/html": [
              "<div>\n",
              "<style scoped>\n",
              "    .dataframe tbody tr th:only-of-type {\n",
              "        vertical-align: middle;\n",
              "    }\n",
              "\n",
              "    .dataframe tbody tr th {\n",
              "        vertical-align: top;\n",
              "    }\n",
              "\n",
              "    .dataframe thead th {\n",
              "        text-align: right;\n",
              "    }\n",
              "</style>\n",
              "<table border=\"1\" class=\"dataframe\">\n",
              "  <thead>\n",
              "    <tr style=\"text-align: right;\">\n",
              "      <th></th>\n",
              "      <th>data</th>\n",
              "      <th>stato</th>\n",
              "      <th>codice_regione</th>\n",
              "      <th>denominazione_regione</th>\n",
              "      <th>codice_provincia</th>\n",
              "      <th>denominazione_provincia</th>\n",
              "      <th>sigla_provincia</th>\n",
              "      <th>lat</th>\n",
              "      <th>long</th>\n",
              "      <th>totale_casi</th>\n",
              "      <th>note</th>\n",
              "    </tr>\n",
              "  </thead>\n",
              "  <tbody>\n",
              "    <tr>\n",
              "      <th>176</th>\n",
              "      <td>2020-02-25</td>\n",
              "      <td>ITA</td>\n",
              "      <td>3</td>\n",
              "      <td>Lombardia</td>\n",
              "      <td>14</td>\n",
              "      <td>Sondrio</td>\n",
              "      <td>SO</td>\n",
              "      <td>46.170993</td>\n",
              "      <td>9.871475</td>\n",
              "      <td>1</td>\n",
              "      <td>NaN</td>\n",
              "    </tr>\n",
              "    <tr>\n",
              "      <th>177</th>\n",
              "      <td>2020-02-25</td>\n",
              "      <td>ITA</td>\n",
              "      <td>3</td>\n",
              "      <td>Lombardia</td>\n",
              "      <td>15</td>\n",
              "      <td>Milano</td>\n",
              "      <td>MI</td>\n",
              "      <td>45.466794</td>\n",
              "      <td>9.190347</td>\n",
              "      <td>8</td>\n",
              "      <td>NaN</td>\n",
              "    </tr>\n",
              "    <tr>\n",
              "      <th>178</th>\n",
              "      <td>2020-02-25</td>\n",
              "      <td>ITA</td>\n",
              "      <td>3</td>\n",
              "      <td>Lombardia</td>\n",
              "      <td>16</td>\n",
              "      <td>Bergamo</td>\n",
              "      <td>BG</td>\n",
              "      <td>45.694414</td>\n",
              "      <td>9.668425</td>\n",
              "      <td>18</td>\n",
              "      <td>NaN</td>\n",
              "    </tr>\n",
              "    <tr>\n",
              "      <th>180</th>\n",
              "      <td>2020-02-25</td>\n",
              "      <td>ITA</td>\n",
              "      <td>3</td>\n",
              "      <td>Lombardia</td>\n",
              "      <td>18</td>\n",
              "      <td>Pavia</td>\n",
              "      <td>PV</td>\n",
              "      <td>45.185093</td>\n",
              "      <td>9.160157</td>\n",
              "      <td>27</td>\n",
              "      <td>NaN</td>\n",
              "    </tr>\n",
              "    <tr>\n",
              "      <th>181</th>\n",
              "      <td>2020-02-25</td>\n",
              "      <td>ITA</td>\n",
              "      <td>3</td>\n",
              "      <td>Lombardia</td>\n",
              "      <td>19</td>\n",
              "      <td>Cremona</td>\n",
              "      <td>CR</td>\n",
              "      <td>45.133367</td>\n",
              "      <td>10.024209</td>\n",
              "      <td>53</td>\n",
              "      <td>NaN</td>\n",
              "    </tr>\n",
              "    <tr>\n",
              "      <th>...</th>\n",
              "      <td>...</td>\n",
              "      <td>...</td>\n",
              "      <td>...</td>\n",
              "      <td>...</td>\n",
              "      <td>...</td>\n",
              "      <td>...</td>\n",
              "      <td>...</td>\n",
              "      <td>...</td>\n",
              "      <td>...</td>\n",
              "      <td>...</td>\n",
              "      <td>...</td>\n",
              "    </tr>\n",
              "    <tr>\n",
              "      <th>30726</th>\n",
              "      <td>2020-10-04</td>\n",
              "      <td>ITA</td>\n",
              "      <td>3</td>\n",
              "      <td>Lombardia</td>\n",
              "      <td>19</td>\n",
              "      <td>Cremona</td>\n",
              "      <td>CR</td>\n",
              "      <td>45.133367</td>\n",
              "      <td>10.024209</td>\n",
              "      <td>6969</td>\n",
              "      <td>NaN</td>\n",
              "    </tr>\n",
              "    <tr>\n",
              "      <th>30727</th>\n",
              "      <td>2020-10-04</td>\n",
              "      <td>ITA</td>\n",
              "      <td>3</td>\n",
              "      <td>Lombardia</td>\n",
              "      <td>20</td>\n",
              "      <td>Mantova</td>\n",
              "      <td>MN</td>\n",
              "      <td>45.157268</td>\n",
              "      <td>10.792774</td>\n",
              "      <td>4248</td>\n",
              "      <td>NaN</td>\n",
              "    </tr>\n",
              "    <tr>\n",
              "      <th>30728</th>\n",
              "      <td>2020-10-04</td>\n",
              "      <td>ITA</td>\n",
              "      <td>3</td>\n",
              "      <td>Lombardia</td>\n",
              "      <td>97</td>\n",
              "      <td>Lecco</td>\n",
              "      <td>LC</td>\n",
              "      <td>45.855758</td>\n",
              "      <td>9.393392</td>\n",
              "      <td>3128</td>\n",
              "      <td>NaN</td>\n",
              "    </tr>\n",
              "    <tr>\n",
              "      <th>30729</th>\n",
              "      <td>2020-10-04</td>\n",
              "      <td>ITA</td>\n",
              "      <td>3</td>\n",
              "      <td>Lombardia</td>\n",
              "      <td>98</td>\n",
              "      <td>Lodi</td>\n",
              "      <td>LO</td>\n",
              "      <td>45.314407</td>\n",
              "      <td>9.503721</td>\n",
              "      <td>3815</td>\n",
              "      <td>NaN</td>\n",
              "    </tr>\n",
              "    <tr>\n",
              "      <th>30730</th>\n",
              "      <td>2020-10-04</td>\n",
              "      <td>ITA</td>\n",
              "      <td>3</td>\n",
              "      <td>Lombardia</td>\n",
              "      <td>108</td>\n",
              "      <td>Monza e della Brianza</td>\n",
              "      <td>MB</td>\n",
              "      <td>45.584390</td>\n",
              "      <td>9.273582</td>\n",
              "      <td>6968</td>\n",
              "      <td>NaN</td>\n",
              "    </tr>\n",
              "  </tbody>\n",
              "</table>\n",
              "<p>2659 rows × 11 columns</p>\n",
              "</div>"
            ],
            "text/plain": [
              "            data stato  codice_regione  ...       long  totale_casi note\n",
              "176   2020-02-25   ITA               3  ...   9.871475            1  NaN\n",
              "177   2020-02-25   ITA               3  ...   9.190347            8  NaN\n",
              "178   2020-02-25   ITA               3  ...   9.668425           18  NaN\n",
              "180   2020-02-25   ITA               3  ...   9.160157           27  NaN\n",
              "181   2020-02-25   ITA               3  ...  10.024209           53  NaN\n",
              "...          ...   ...             ...  ...        ...          ...  ...\n",
              "30726 2020-10-04   ITA               3  ...  10.024209         6969  NaN\n",
              "30727 2020-10-04   ITA               3  ...  10.792774         4248  NaN\n",
              "30728 2020-10-04   ITA               3  ...   9.393392         3128  NaN\n",
              "30729 2020-10-04   ITA               3  ...   9.503721         3815  NaN\n",
              "30730 2020-10-04   ITA               3  ...   9.273582         6968  NaN\n",
              "\n",
              "[2659 rows x 11 columns]"
            ]
          },
          "metadata": {
            "tags": []
          },
          "execution_count": 143
        }
      ]
    },
    {
      "cell_type": "markdown",
      "metadata": {
        "id": "SbsRS_f1s718"
      },
      "source": [
        ""
      ]
    },
    {
      "cell_type": "code",
      "metadata": {
        "id": "QTdVoGtir2tD",
        "outputId": "a86fdddf-be45-4937-8c70-10171030c652",
        "colab": {
          "base_uri": "https://localhost:8080/",
          "height": 124
        }
      },
      "source": [
        "print(protezionecivile.columns)\n",
        "protezionecivile = protezionecivile.drop(columns=[\"stato\", \"codice_regione\", \"denominazione_regione\",\"codice_provincia\",'denominazione_provincia', \"lat\", \"long\", \"note\"])\n",
        "print(protezionecivile.columns)"
      ],
      "execution_count": 144,
      "outputs": [
        {
          "output_type": "stream",
          "text": [
            "Index(['data', 'stato', 'codice_regione', 'denominazione_regione',\n",
            "       'codice_provincia', 'denominazione_provincia', 'sigla_provincia', 'lat',\n",
            "       'long', 'totale_casi', 'note'],\n",
            "      dtype='object')\n",
            "Index(['data', 'sigla_provincia', 'totale_casi'], dtype='object')\n"
          ],
          "name": "stdout"
        }
      ]
    },
    {
      "cell_type": "markdown",
      "metadata": {
        "id": "7pgCwINSrYNL"
      },
      "source": [
        "Calcolo la differenza tra i giorni per contare i nuovi positivi, ma il codice passando tra una provincia e 'altra sballa dato che i gionri poi si resettano"
      ]
    },
    {
      "cell_type": "code",
      "metadata": {
        "id": "39M6aghfrWok",
        "outputId": "7b9f3354-7dad-43fc-b5d4-65a5c74381e5",
        "colab": {
          "base_uri": "https://localhost:8080/",
          "height": 424
        }
      },
      "source": [
        "res=protezionecivile\n",
        "protezionecivile = protezionecivile.sort_values(by=['sigla_provincia','data'])\n",
        "res['nuovi_positivi'] = protezionecivile['totale_casi'].diff(periods=1)\n",
        "res.drop(columns='totale_casi')"
      ],
      "execution_count": 151,
      "outputs": [
        {
          "output_type": "execute_result",
          "data": {
            "text/html": [
              "<div>\n",
              "<style scoped>\n",
              "    .dataframe tbody tr th:only-of-type {\n",
              "        vertical-align: middle;\n",
              "    }\n",
              "\n",
              "    .dataframe tbody tr th {\n",
              "        vertical-align: top;\n",
              "    }\n",
              "\n",
              "    .dataframe thead th {\n",
              "        text-align: right;\n",
              "    }\n",
              "</style>\n",
              "<table border=\"1\" class=\"dataframe\">\n",
              "  <thead>\n",
              "    <tr style=\"text-align: right;\">\n",
              "      <th></th>\n",
              "      <th>data</th>\n",
              "      <th>sigla_provincia</th>\n",
              "      <th>nuovi_positivi</th>\n",
              "    </tr>\n",
              "  </thead>\n",
              "  <tbody>\n",
              "    <tr>\n",
              "      <th>178</th>\n",
              "      <td>2020-02-25</td>\n",
              "      <td>BG</td>\n",
              "      <td>NaN</td>\n",
              "    </tr>\n",
              "    <tr>\n",
              "      <th>306</th>\n",
              "      <td>2020-02-26</td>\n",
              "      <td>BG</td>\n",
              "      <td>2.0</td>\n",
              "    </tr>\n",
              "    <tr>\n",
              "      <th>434</th>\n",
              "      <td>2020-02-27</td>\n",
              "      <td>BG</td>\n",
              "      <td>52.0</td>\n",
              "    </tr>\n",
              "    <tr>\n",
              "      <th>562</th>\n",
              "      <td>2020-02-28</td>\n",
              "      <td>BG</td>\n",
              "      <td>31.0</td>\n",
              "    </tr>\n",
              "    <tr>\n",
              "      <th>690</th>\n",
              "      <td>2020-02-29</td>\n",
              "      <td>BG</td>\n",
              "      <td>7.0</td>\n",
              "    </tr>\n",
              "    <tr>\n",
              "      <th>...</th>\n",
              "      <td>...</td>\n",
              "      <td>...</td>\n",
              "      <td>...</td>\n",
              "    </tr>\n",
              "    <tr>\n",
              "      <th>30123</th>\n",
              "      <td>2020-09-30</td>\n",
              "      <td>VA</td>\n",
              "      <td>17.0</td>\n",
              "    </tr>\n",
              "    <tr>\n",
              "      <th>30272</th>\n",
              "      <td>2020-10-01</td>\n",
              "      <td>VA</td>\n",
              "      <td>39.0</td>\n",
              "    </tr>\n",
              "    <tr>\n",
              "      <th>30421</th>\n",
              "      <td>2020-10-02</td>\n",
              "      <td>VA</td>\n",
              "      <td>30.0</td>\n",
              "    </tr>\n",
              "    <tr>\n",
              "      <th>30570</th>\n",
              "      <td>2020-10-03</td>\n",
              "      <td>VA</td>\n",
              "      <td>35.0</td>\n",
              "    </tr>\n",
              "    <tr>\n",
              "      <th>30719</th>\n",
              "      <td>2020-10-04</td>\n",
              "      <td>VA</td>\n",
              "      <td>16.0</td>\n",
              "    </tr>\n",
              "  </tbody>\n",
              "</table>\n",
              "<p>2659 rows × 3 columns</p>\n",
              "</div>"
            ],
            "text/plain": [
              "            data sigla_provincia  nuovi_positivi\n",
              "178   2020-02-25              BG             NaN\n",
              "306   2020-02-26              BG             2.0\n",
              "434   2020-02-27              BG            52.0\n",
              "562   2020-02-28              BG            31.0\n",
              "690   2020-02-29              BG             7.0\n",
              "...          ...             ...             ...\n",
              "30123 2020-09-30              VA            17.0\n",
              "30272 2020-10-01              VA            39.0\n",
              "30421 2020-10-02              VA            30.0\n",
              "30570 2020-10-03              VA            35.0\n",
              "30719 2020-10-04              VA            16.0\n",
              "\n",
              "[2659 rows x 3 columns]"
            ]
          },
          "metadata": {
            "tags": []
          },
          "execution_count": 151
        }
      ]
    },
    {
      "cell_type": "code",
      "metadata": {
        "id": "rynY3XQp-BtB"
      },
      "source": [
        "res.to_csv(\"protezioneCivile_province_nuovipositivi.csv\", index=False)"
      ],
      "execution_count": 152,
      "outputs": []
    }
  ]
}