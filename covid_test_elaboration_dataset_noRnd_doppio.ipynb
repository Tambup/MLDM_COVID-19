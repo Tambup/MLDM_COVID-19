{
  "nbformat": 4,
  "nbformat_minor": 0,
  "metadata": {
    "colab": {
      "name": "covid_test_elaboration_dataset_noRnd_doppio.ipynb",
      "provenance": [],
      "include_colab_link": true
    },
    "kernelspec": {
      "name": "python3",
      "display_name": "Python 3"
    }
  },
  "cells": [
    {
      "cell_type": "markdown",
      "metadata": {
        "id": "view-in-github",
        "colab_type": "text"
      },
      "source": [
        "<a href=\"https://colab.research.google.com/github/Tomawock/MLDM_COVID-19/blob/master/covid_test_elaboration_dataset_noRnd_doppio.ipynb\" target=\"_parent\"><img src=\"https://colab.research.google.com/assets/colab-badge.svg\" alt=\"Open In Colab\"/></a>"
      ]
    },
    {
      "cell_type": "code",
      "metadata": {
        "id": "NdnIGcKxKC4E"
      },
      "source": [
        "import os\n",
        "import numpy as np\n",
        "import pandas as pd\n",
        "import matplotlib.pyplot as plt\n",
        "\n",
        "import joblib\n",
        "from datetime import datetime\n",
        "\n",
        "from sklearn.impute import SimpleImputer\n",
        "from sklearn.pipeline import Pipeline\n",
        "from sklearn.model_selection import GridSearchCV, StratifiedKFold, KFold\n",
        "from sklearn.metrics import r2_score, mean_squared_error, max_error\n",
        "from sklearn.ensemble import RandomForestRegressor \n",
        "\n",
        "from sklearn.tree import DecisionTreeRegressor\n",
        "from sklearn import tree"
      ],
      "execution_count": 1,
      "outputs": []
    },
    {
      "cell_type": "code",
      "metadata": {
        "id": "C7vCLR_YeN8j",
        "outputId": "d3838cec-1892-46f5-e337-b1aba8b24bba",
        "colab": {
          "base_uri": "https://localhost:8080/",
          "height": 34
        }
      },
      "source": [
        "from google.colab import drive\n",
        "drive.mount('/content/drive')\n",
        "os.chdir('/content/drive/Shared drives/MLDM progetto/Datasets/dataset_risultati_test')"
      ],
      "execution_count": 7,
      "outputs": [
        {
          "output_type": "stream",
          "text": [
            "Drive already mounted at /content/drive; to attempt to forcibly remount, call drive.mount(\"/content/drive\", force_remount=True).\n"
          ],
          "name": "stdout"
        }
      ]
    },
    {
      "cell_type": "code",
      "metadata": {
        "id": "QziKr8FjKi-M"
      },
      "source": [
        "df = pd.read_csv('covid_extra_trees_test.csv')\n",
        "df2 = pd.read_csv('covid_extra_trees_noRndDs_test.csv')\n",
        "df3 = pd.read_csv('covid_extra_trees_doppio_test.csv')"
      ],
      "execution_count": 8,
      "outputs": []
    },
    {
      "cell_type": "code",
      "metadata": {
        "id": "-rLWfCeQK1Jg"
      },
      "source": [
        "v=[]\n",
        "v.append(df.mean(axis = 0))\n",
        "v.append(df2.mean(axis = 0))\n",
        "v.append(df3.mean(axis = 0))\n",
        "v.append(np.zeros(37))\n",
        "# print(len(v))\n",
        "# print(v[0])"
      ],
      "execution_count": 20,
      "outputs": []
    },
    {
      "cell_type": "code",
      "metadata": {
        "id": "0xuOkDYyN__Y",
        "outputId": "a4a902a1-d86c-4042-93ae-50b8e183d9c5",
        "colab": {
          "base_uri": "https://localhost:8080/",
          "height": 34
        }
      },
      "source": [
        "df_results=pd.DataFrame(columns=df.columns, index=['RND_DAYS','NO_RND_DAYS', 'DATASET_DOPPIO', 'RMSE_DELTA'])\n",
        "print(df_results.shape)"
      ],
      "execution_count": 21,
      "outputs": [
        {
          "output_type": "stream",
          "text": [
            "(4, 37)\n"
          ],
          "name": "stdout"
        }
      ]
    },
    {
      "cell_type": "code",
      "metadata": {
        "id": "KBrCxAN4OsDC"
      },
      "source": [
        "df_results.loc['RND_DAYS'] = v[0]\n",
        "df_results.loc['NO_RND_DAYS'] = v[1]\n",
        "df_results.loc['DATASET_DOPPIO'] = v[2]\n",
        "df_results.loc['RMSE_DELTA'] = v[3]"
      ],
      "execution_count": 22,
      "outputs": []
    },
    {
      "cell_type": "markdown",
      "metadata": {
        "id": "3nwTRp-pcHJz"
      },
      "source": [
        "Risultati analizzando i dataset con il campione casuale di giorni all'interno dei vari intervalli temporali, o definendo a priori i giorni da analizzare"
      ]
    },
    {
      "cell_type": "code",
      "metadata": {
        "id": "S_N9QJ3LQrEZ",
        "outputId": "039e92e1-c161-4ac9-811f-4fa37ae98951",
        "colab": {
          "base_uri": "https://localhost:8080/",
          "height": 195
        }
      },
      "source": [
        "del df_results['Unnamed: 0']\n",
        "df_results"
      ],
      "execution_count": 23,
      "outputs": [
        {
          "output_type": "execute_result",
          "data": {
            "text/html": [
              "<div>\n",
              "<style scoped>\n",
              "    .dataframe tbody tr th:only-of-type {\n",
              "        vertical-align: middle;\n",
              "    }\n",
              "\n",
              "    .dataframe tbody tr th {\n",
              "        vertical-align: top;\n",
              "    }\n",
              "\n",
              "    .dataframe thead th {\n",
              "        text-align: right;\n",
              "    }\n",
              "</style>\n",
              "<table border=\"1\" class=\"dataframe\">\n",
              "  <thead>\n",
              "    <tr style=\"text-align: right;\">\n",
              "      <th></th>\n",
              "      <th>R2_fut1_nuovi_positivi</th>\n",
              "      <th>RMSE_fut1_nuovi_positivi</th>\n",
              "      <th>MAXERR_fut1_nuovi_positivi</th>\n",
              "      <th>R2_fut2_nuovi_positivi</th>\n",
              "      <th>RMSE_fut2_nuovi_positivi</th>\n",
              "      <th>MAXERR_fut2_nuovi_positivi</th>\n",
              "      <th>R2_fut1_ricoverati_con_sintomi</th>\n",
              "      <th>RMSE_fut1_ricoverati_con_sintomi</th>\n",
              "      <th>MAXERR_fut1_ricoverati_con_sintomi</th>\n",
              "      <th>R2_fut2_ricoverati_con_sintomi</th>\n",
              "      <th>RMSE_fut2_ricoverati_con_sintomi</th>\n",
              "      <th>MAXERR_fut2_ricoverati_con_sintomi</th>\n",
              "      <th>R2_fut1_terapia_intensiva</th>\n",
              "      <th>RMSE_fut1_terapia_intensiva</th>\n",
              "      <th>MAXERR_fut1_terapia_intensiva</th>\n",
              "      <th>R2_fut2_terapia_intensiva</th>\n",
              "      <th>RMSE_fut2_terapia_intensiva</th>\n",
              "      <th>MAXERR_fut2_terapia_intensiva</th>\n",
              "      <th>R2_fut1_deceduti</th>\n",
              "      <th>RMSE_fut1_deceduti</th>\n",
              "      <th>MAXERR_fut1_deceduti</th>\n",
              "      <th>R2_fut2_deceduti</th>\n",
              "      <th>RMSE_fut2_deceduti</th>\n",
              "      <th>MAXERR_fut2_deceduti</th>\n",
              "      <th>R2_fut1_totale_ospedalizzati</th>\n",
              "      <th>RMSE_fut1_totale_ospedalizzati</th>\n",
              "      <th>MAXERR_fut1_totale_ospedalizzati</th>\n",
              "      <th>R2_fut2_totale_ospedalizzati</th>\n",
              "      <th>RMSE_fut2_totale_ospedalizzati</th>\n",
              "      <th>MAXERR_fut2_totale_ospedalizzati</th>\n",
              "      <th>R2_fut1_dimessi_guariti</th>\n",
              "      <th>RMSE_fut1_dimessi_guariti</th>\n",
              "      <th>MAXERR_fut1_dimessi_guariti</th>\n",
              "      <th>R2_fut2_dimessi_guariti</th>\n",
              "      <th>RMSE_fut2_dimessi_guariti</th>\n",
              "      <th>MAXERR_fut2_dimessi_guariti</th>\n",
              "    </tr>\n",
              "  </thead>\n",
              "  <tbody>\n",
              "    <tr>\n",
              "      <th>RND_DAYS</th>\n",
              "      <td>0.8665</td>\n",
              "      <td>224.156</td>\n",
              "      <td>734.238</td>\n",
              "      <td>0.814633</td>\n",
              "      <td>293.194</td>\n",
              "      <td>1273.72</td>\n",
              "      <td>0.981267</td>\n",
              "      <td>531.838</td>\n",
              "      <td>2145.71</td>\n",
              "      <td>0.979767</td>\n",
              "      <td>555.679</td>\n",
              "      <td>2477.51</td>\n",
              "      <td>0.9823</td>\n",
              "      <td>58.8278</td>\n",
              "      <td>249.106</td>\n",
              "      <td>0.982633</td>\n",
              "      <td>58.023</td>\n",
              "      <td>246.343</td>\n",
              "      <td>0.994533</td>\n",
              "      <td>351.067</td>\n",
              "      <td>1300.49</td>\n",
              "      <td>0.993433</td>\n",
              "      <td>375.49</td>\n",
              "      <td>1402.29</td>\n",
              "      <td>0.9804</td>\n",
              "      <td>601.281</td>\n",
              "      <td>2483.41</td>\n",
              "      <td>0.979967</td>\n",
              "      <td>612.144</td>\n",
              "      <td>2735.18</td>\n",
              "      <td>0.9971</td>\n",
              "      <td>1232.68</td>\n",
              "      <td>4162.42</td>\n",
              "      <td>0.996867</td>\n",
              "      <td>1317.58</td>\n",
              "      <td>4362.98</td>\n",
              "    </tr>\n",
              "    <tr>\n",
              "      <th>NO_RND_DAYS</th>\n",
              "      <td>0.847</td>\n",
              "      <td>238.888</td>\n",
              "      <td>796.434</td>\n",
              "      <td>0.809133</td>\n",
              "      <td>287.396</td>\n",
              "      <td>1162.32</td>\n",
              "      <td>0.982267</td>\n",
              "      <td>494.773</td>\n",
              "      <td>2159.08</td>\n",
              "      <td>0.978733</td>\n",
              "      <td>552.342</td>\n",
              "      <td>2664.69</td>\n",
              "      <td>0.9808</td>\n",
              "      <td>59.4383</td>\n",
              "      <td>288.613</td>\n",
              "      <td>0.9814</td>\n",
              "      <td>57.8948</td>\n",
              "      <td>282.49</td>\n",
              "      <td>0.997867</td>\n",
              "      <td>224.14</td>\n",
              "      <td>985.637</td>\n",
              "      <td>0.997133</td>\n",
              "      <td>246.431</td>\n",
              "      <td>1090.36</td>\n",
              "      <td>0.982067</td>\n",
              "      <td>563.181</td>\n",
              "      <td>2565.82</td>\n",
              "      <td>0.979733</td>\n",
              "      <td>599.413</td>\n",
              "      <td>2890.68</td>\n",
              "      <td>0.998867</td>\n",
              "      <td>825.893</td>\n",
              "      <td>2910.55</td>\n",
              "      <td>0.998733</td>\n",
              "      <td>845.664</td>\n",
              "      <td>3054.23</td>\n",
              "    </tr>\n",
              "    <tr>\n",
              "      <th>DATASET_DOPPIO</th>\n",
              "      <td>0.882</td>\n",
              "      <td>219.852</td>\n",
              "      <td>983.768</td>\n",
              "      <td>0.874667</td>\n",
              "      <td>229.859</td>\n",
              "      <td>1083.32</td>\n",
              "      <td>0.9958</td>\n",
              "      <td>256.893</td>\n",
              "      <td>1126.14</td>\n",
              "      <td>0.995067</td>\n",
              "      <td>277.075</td>\n",
              "      <td>1356.66</td>\n",
              "      <td>0.995333</td>\n",
              "      <td>30.9529</td>\n",
              "      <td>156.991</td>\n",
              "      <td>0.995733</td>\n",
              "      <td>29.9457</td>\n",
              "      <td>166.843</td>\n",
              "      <td>0.9988</td>\n",
              "      <td>170.301</td>\n",
              "      <td>744.134</td>\n",
              "      <td>0.9986</td>\n",
              "      <td>174.355</td>\n",
              "      <td>754.728</td>\n",
              "      <td>0.996</td>\n",
              "      <td>282.319</td>\n",
              "      <td>1241.95</td>\n",
              "      <td>0.995333</td>\n",
              "      <td>300.515</td>\n",
              "      <td>1521.16</td>\n",
              "      <td>0.999133</td>\n",
              "      <td>623.584</td>\n",
              "      <td>2658.93</td>\n",
              "      <td>0.999133</td>\n",
              "      <td>661.805</td>\n",
              "      <td>3413.61</td>\n",
              "    </tr>\n",
              "    <tr>\n",
              "      <th>RMSE_DELTA</th>\n",
              "      <td>0</td>\n",
              "      <td>0</td>\n",
              "      <td>0</td>\n",
              "      <td>0</td>\n",
              "      <td>0</td>\n",
              "      <td>0</td>\n",
              "      <td>0</td>\n",
              "      <td>0</td>\n",
              "      <td>0</td>\n",
              "      <td>0</td>\n",
              "      <td>0</td>\n",
              "      <td>0</td>\n",
              "      <td>0</td>\n",
              "      <td>0</td>\n",
              "      <td>0</td>\n",
              "      <td>0</td>\n",
              "      <td>0</td>\n",
              "      <td>0</td>\n",
              "      <td>0</td>\n",
              "      <td>0</td>\n",
              "      <td>0</td>\n",
              "      <td>0</td>\n",
              "      <td>0</td>\n",
              "      <td>0</td>\n",
              "      <td>0</td>\n",
              "      <td>0</td>\n",
              "      <td>0</td>\n",
              "      <td>0</td>\n",
              "      <td>0</td>\n",
              "      <td>0</td>\n",
              "      <td>0</td>\n",
              "      <td>0</td>\n",
              "      <td>0</td>\n",
              "      <td>0</td>\n",
              "      <td>0</td>\n",
              "      <td>0</td>\n",
              "    </tr>\n",
              "  </tbody>\n",
              "</table>\n",
              "</div>"
            ],
            "text/plain": [
              "               R2_fut1_nuovi_positivi  ... MAXERR_fut2_dimessi_guariti\n",
              "RND_DAYS                       0.8665  ...                     4362.98\n",
              "NO_RND_DAYS                     0.847  ...                     3054.23\n",
              "DATASET_DOPPIO                  0.882  ...                     3413.61\n",
              "RMSE_DELTA                          0  ...                           0\n",
              "\n",
              "[4 rows x 36 columns]"
            ]
          },
          "metadata": {
            "tags": []
          },
          "execution_count": 23
        }
      ]
    },
    {
      "cell_type": "code",
      "metadata": {
        "id": "cEOREarldiUF",
        "outputId": "c660f263-9005-4175-d627-299b590dad9d",
        "colab": {
          "base_uri": "https://localhost:8080/",
          "height": 52
        }
      },
      "source": [
        "best_doppio_days=0\n",
        "n_loops=0\n",
        "percentage=[]\n",
        "for i in df_results.columns:\n",
        "  if 'RMSE_' in i:\n",
        "    n_loops+=1\n",
        "    if df_results.loc['RND_DAYS',i] > df_results.loc['NO_RND_DAYS',i] and df_results.loc['NO_RND_DAYS',i] > df_results.loc['DATASET_DOPPIO',i]:\n",
        "      best_doppio_days+=1\n",
        "      percentage.append(100-(df_results.loc['DATASET_DOPPIO',i]*100/min(df_results.loc['RND_DAYS',i], df_results.loc['NO_RND_DAYS',i])))\n",
        "    \n",
        "\n",
        "print(f\"Numero di test nei quali è piu accurata la valutazione con il dataset aumentato: {best_doppio_days}/{n_loops}\")\n",
        "print(f\"La differenza media in RMSE è di:\\t{np.mean(percentage)}\")\n"
      ],
      "execution_count": 25,
      "outputs": [
        {
          "output_type": "stream",
          "text": [
            "Numero di test nei quali è piu accurata la valutazione con il dataset aumentato: 10/12\n",
            "La differenza media in RMSE è di:\t36.54520092369354\n"
          ],
          "name": "stdout"
        }
      ]
    },
    {
      "cell_type": "code",
      "metadata": {
        "id": "6EPLmI-Fx86u",
        "outputId": "7b85ef56-ed4a-4184-9599-89909a017335",
        "colab": {
          "base_uri": "https://localhost:8080/",
          "height": 225
        }
      },
      "source": [
        "best_row = []\n",
        "for col in df3.columns:\n",
        "  if 'RMSE' in col:\n",
        "    best_row.append((col, df3.loc[df3[col].idxmin(), \"Unnamed: 0\"], df3[col].min()))\n",
        "\n",
        "for row in best_row:\n",
        "  print(row)\n",
        "\n"
      ],
      "execution_count": 27,
      "outputs": [
        {
          "output_type": "stream",
          "text": [
            "('RMSE_fut1_nuovi_positivi', 'dataset_finale_medie_doppio.csv:22', 152.796)\n",
            "('RMSE_fut2_nuovi_positivi', 'dataset_finale_medie_doppio.csv:1', 177.15200000000002)\n",
            "('RMSE_fut1_ricoverati_con_sintomi', 'dataset_finale_medie_doppio.csv:777', 166.673)\n",
            "('RMSE_fut2_ricoverati_con_sintomi', 'dataset_finale_medie_doppio.csv:777', 183.447)\n",
            "('RMSE_fut1_terapia_intensiva', 'dataset_finale_medie_doppio.csv:1', 21.01)\n",
            "('RMSE_fut2_terapia_intensiva', 'dataset_finale_medie_doppio.csv:1', 22.534000000000002)\n",
            "('RMSE_fut1_deceduti', 'dataset_finale_medie_2_week_doppio.csv:1', 140.222)\n",
            "('RMSE_fut2_deceduti', 'dataset_finale_medie_1_week_doppio.csv:22', 139.918)\n",
            "('RMSE_fut1_totale_ospedalizzati', 'dataset_finale_medie_doppio.csv:777', 198.65900000000002)\n",
            "('RMSE_fut2_totale_ospedalizzati', 'dataset_finale_medie_doppio.csv:777', 211.987)\n",
            "('RMSE_fut1_dimessi_guariti', 'dataset_finale_medie_1_week_doppio.csv:432145', 485.47)\n",
            "('RMSE_fut2_dimessi_guariti', 'dataset_finale_medie_2_week_doppio.csv:1', 421.27099999999996)\n"
          ],
          "name": "stdout"
        }
      ]
    }
  ]
}
