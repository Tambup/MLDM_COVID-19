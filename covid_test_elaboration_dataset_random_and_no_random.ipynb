{
  "nbformat": 4,
  "nbformat_minor": 0,
  "metadata": {
    "colab": {
      "name": "covid_test_elaboration_dataset_random_and_no_random.ipynb",
      "provenance": [],
      "include_colab_link": true
    },
    "kernelspec": {
      "name": "python3",
      "display_name": "Python 3"
    }
  },
  "cells": [
    {
      "cell_type": "markdown",
      "metadata": {
        "id": "view-in-github",
        "colab_type": "text"
      },
      "source": [
        "<a href=\"https://colab.research.google.com/github/Tomawock/MLDM_COVID-19/blob/master/covid_test_elaboration_dataset_random_and_no_random.ipynb\" target=\"_parent\"><img src=\"https://colab.research.google.com/assets/colab-badge.svg\" alt=\"Open In Colab\"/></a>"
      ]
    },
    {
      "cell_type": "code",
      "metadata": {
        "id": "NdnIGcKxKC4E"
      },
      "source": [
        "import os\n",
        "import numpy as np\n",
        "import pandas as pd\n",
        "import matplotlib.pyplot as plt\n",
        "\n",
        "import joblib\n",
        "from datetime import datetime\n",
        "\n",
        "from sklearn.impute import SimpleImputer\n",
        "from sklearn.pipeline import Pipeline\n",
        "from sklearn.model_selection import GridSearchCV, StratifiedKFold, KFold\n",
        "from sklearn.metrics import r2_score, mean_squared_error, max_error\n",
        "from sklearn.ensemble import RandomForestRegressor \n",
        "\n",
        "from sklearn.tree import DecisionTreeRegressor\n",
        "from sklearn import tree"
      ],
      "execution_count": 33,
      "outputs": []
    },
    {
      "cell_type": "code",
      "metadata": {
        "id": "QziKr8FjKi-M"
      },
      "source": [
        "df = pd.read_csv('/content/covid_extra_trees_test(1).csv')\n",
        "df2 = pd.read_csv('/content/covid_extra_trees_noRndDs_test.csv')\n"
      ],
      "execution_count": 34,
      "outputs": []
    },
    {
      "cell_type": "code",
      "metadata": {
        "id": "-rLWfCeQK1Jg"
      },
      "source": [
        "v=[]\n",
        "v.append(df.mean(axis = 0))\n",
        "v.append(df2.mean(axis = 0))\n",
        "v.append(np.zeros(37))\n",
        "# print(len(v))\n",
        "# print(v[0])"
      ],
      "execution_count": 35,
      "outputs": []
    },
    {
      "cell_type": "code",
      "metadata": {
        "id": "0xuOkDYyN__Y",
        "outputId": "36ca36d5-c204-4c90-f384-118c926fd4dd",
        "colab": {
          "base_uri": "https://localhost:8080/",
          "height": 35
        }
      },
      "source": [
        "df_results=pd.DataFrame(columns=df.columns, index=['RND_DAYS','NO_RND_DAYS','RMSE_DELTA'])\n",
        "print(df_results.shape)"
      ],
      "execution_count": 36,
      "outputs": [
        {
          "output_type": "stream",
          "text": [
            "(3, 37)\n"
          ],
          "name": "stdout"
        }
      ]
    },
    {
      "cell_type": "code",
      "metadata": {
        "id": "KBrCxAN4OsDC"
      },
      "source": [
        "df_results.loc['RND_DAYS'] = v[0]\n",
        "df_results.loc['NO_RND_DAYS'] = v[1]\n",
        "df_results.loc['RMSE_DELTA'] = v[2]"
      ],
      "execution_count": 37,
      "outputs": []
    },
    {
      "cell_type": "markdown",
      "metadata": {
        "id": "3nwTRp-pcHJz"
      },
      "source": [
        "Risultati analizzando i dataset con il campione casuale di giorni all'interno dei vari intervalli temporali, o definendo a priori i giorni da analizzare"
      ]
    },
    {
      "cell_type": "code",
      "metadata": {
        "id": "S_N9QJ3LQrEZ",
        "outputId": "5fd873d6-4b1f-4f81-b565-c6a9d60fdf90",
        "colab": {
          "base_uri": "https://localhost:8080/",
          "height": 164
        }
      },
      "source": [
        "del df_results['Unnamed: 0']\n",
        "df_results"
      ],
      "execution_count": 38,
      "outputs": [
        {
          "output_type": "execute_result",
          "data": {
            "text/html": [
              "<div>\n",
              "<style scoped>\n",
              "    .dataframe tbody tr th:only-of-type {\n",
              "        vertical-align: middle;\n",
              "    }\n",
              "\n",
              "    .dataframe tbody tr th {\n",
              "        vertical-align: top;\n",
              "    }\n",
              "\n",
              "    .dataframe thead th {\n",
              "        text-align: right;\n",
              "    }\n",
              "</style>\n",
              "<table border=\"1\" class=\"dataframe\">\n",
              "  <thead>\n",
              "    <tr style=\"text-align: right;\">\n",
              "      <th></th>\n",
              "      <th>R2_fut1_nuovi_positivi</th>\n",
              "      <th>RMSE_fut1_nuovi_positivi</th>\n",
              "      <th>MAXERR_fut1_nuovi_positivi</th>\n",
              "      <th>R2_fut2_nuovi_positivi</th>\n",
              "      <th>RMSE_fut2_nuovi_positivi</th>\n",
              "      <th>MAXERR_fut2_nuovi_positivi</th>\n",
              "      <th>R2_fut1_ricoverati_con_sintomi</th>\n",
              "      <th>RMSE_fut1_ricoverati_con_sintomi</th>\n",
              "      <th>MAXERR_fut1_ricoverati_con_sintomi</th>\n",
              "      <th>R2_fut2_ricoverati_con_sintomi</th>\n",
              "      <th>RMSE_fut2_ricoverati_con_sintomi</th>\n",
              "      <th>MAXERR_fut2_ricoverati_con_sintomi</th>\n",
              "      <th>R2_fut1_terapia_intensiva</th>\n",
              "      <th>RMSE_fut1_terapia_intensiva</th>\n",
              "      <th>MAXERR_fut1_terapia_intensiva</th>\n",
              "      <th>R2_fut2_terapia_intensiva</th>\n",
              "      <th>RMSE_fut2_terapia_intensiva</th>\n",
              "      <th>MAXERR_fut2_terapia_intensiva</th>\n",
              "      <th>R2_fut1_deceduti</th>\n",
              "      <th>RMSE_fut1_deceduti</th>\n",
              "      <th>MAXERR_fut1_deceduti</th>\n",
              "      <th>R2_fut2_deceduti</th>\n",
              "      <th>RMSE_fut2_deceduti</th>\n",
              "      <th>MAXERR_fut2_deceduti</th>\n",
              "      <th>R2_fut1_totale_ospedalizzati</th>\n",
              "      <th>RMSE_fut1_totale_ospedalizzati</th>\n",
              "      <th>MAXERR_fut1_totale_ospedalizzati</th>\n",
              "      <th>R2_fut2_totale_ospedalizzati</th>\n",
              "      <th>RMSE_fut2_totale_ospedalizzati</th>\n",
              "      <th>MAXERR_fut2_totale_ospedalizzati</th>\n",
              "      <th>R2_fut1_dimessi_guariti</th>\n",
              "      <th>RMSE_fut1_dimessi_guariti</th>\n",
              "      <th>MAXERR_fut1_dimessi_guariti</th>\n",
              "      <th>R2_fut2_dimessi_guariti</th>\n",
              "      <th>RMSE_fut2_dimessi_guariti</th>\n",
              "      <th>MAXERR_fut2_dimessi_guariti</th>\n",
              "    </tr>\n",
              "  </thead>\n",
              "  <tbody>\n",
              "    <tr>\n",
              "      <th>RND_DAYS</th>\n",
              "      <td>0.8665</td>\n",
              "      <td>224.156</td>\n",
              "      <td>734.238</td>\n",
              "      <td>0.814633</td>\n",
              "      <td>293.194</td>\n",
              "      <td>1273.72</td>\n",
              "      <td>0.981267</td>\n",
              "      <td>531.838</td>\n",
              "      <td>2145.71</td>\n",
              "      <td>0.979767</td>\n",
              "      <td>555.679</td>\n",
              "      <td>2477.51</td>\n",
              "      <td>0.9823</td>\n",
              "      <td>58.8278</td>\n",
              "      <td>249.106</td>\n",
              "      <td>0.982633</td>\n",
              "      <td>58.023</td>\n",
              "      <td>246.343</td>\n",
              "      <td>0.994533</td>\n",
              "      <td>351.067</td>\n",
              "      <td>1300.49</td>\n",
              "      <td>0.993433</td>\n",
              "      <td>375.49</td>\n",
              "      <td>1402.29</td>\n",
              "      <td>0.9804</td>\n",
              "      <td>601.281</td>\n",
              "      <td>2483.41</td>\n",
              "      <td>0.979967</td>\n",
              "      <td>612.144</td>\n",
              "      <td>2735.18</td>\n",
              "      <td>0.9971</td>\n",
              "      <td>1232.68</td>\n",
              "      <td>4162.42</td>\n",
              "      <td>0.996867</td>\n",
              "      <td>1317.58</td>\n",
              "      <td>4362.98</td>\n",
              "    </tr>\n",
              "    <tr>\n",
              "      <th>NO_RND_DAYS</th>\n",
              "      <td>0.847</td>\n",
              "      <td>238.888</td>\n",
              "      <td>796.434</td>\n",
              "      <td>0.809133</td>\n",
              "      <td>287.396</td>\n",
              "      <td>1162.32</td>\n",
              "      <td>0.982267</td>\n",
              "      <td>494.773</td>\n",
              "      <td>2159.08</td>\n",
              "      <td>0.978733</td>\n",
              "      <td>552.342</td>\n",
              "      <td>2664.69</td>\n",
              "      <td>0.9808</td>\n",
              "      <td>59.4383</td>\n",
              "      <td>288.613</td>\n",
              "      <td>0.9814</td>\n",
              "      <td>57.8948</td>\n",
              "      <td>282.49</td>\n",
              "      <td>0.997867</td>\n",
              "      <td>224.14</td>\n",
              "      <td>985.637</td>\n",
              "      <td>0.997133</td>\n",
              "      <td>246.431</td>\n",
              "      <td>1090.36</td>\n",
              "      <td>0.982067</td>\n",
              "      <td>563.181</td>\n",
              "      <td>2565.82</td>\n",
              "      <td>0.979733</td>\n",
              "      <td>599.413</td>\n",
              "      <td>2890.68</td>\n",
              "      <td>0.998867</td>\n",
              "      <td>825.893</td>\n",
              "      <td>2910.55</td>\n",
              "      <td>0.998733</td>\n",
              "      <td>845.664</td>\n",
              "      <td>3054.23</td>\n",
              "    </tr>\n",
              "    <tr>\n",
              "      <th>RMSE_DELTA</th>\n",
              "      <td>0</td>\n",
              "      <td>0</td>\n",
              "      <td>0</td>\n",
              "      <td>0</td>\n",
              "      <td>0</td>\n",
              "      <td>0</td>\n",
              "      <td>0</td>\n",
              "      <td>0</td>\n",
              "      <td>0</td>\n",
              "      <td>0</td>\n",
              "      <td>0</td>\n",
              "      <td>0</td>\n",
              "      <td>0</td>\n",
              "      <td>0</td>\n",
              "      <td>0</td>\n",
              "      <td>0</td>\n",
              "      <td>0</td>\n",
              "      <td>0</td>\n",
              "      <td>0</td>\n",
              "      <td>0</td>\n",
              "      <td>0</td>\n",
              "      <td>0</td>\n",
              "      <td>0</td>\n",
              "      <td>0</td>\n",
              "      <td>0</td>\n",
              "      <td>0</td>\n",
              "      <td>0</td>\n",
              "      <td>0</td>\n",
              "      <td>0</td>\n",
              "      <td>0</td>\n",
              "      <td>0</td>\n",
              "      <td>0</td>\n",
              "      <td>0</td>\n",
              "      <td>0</td>\n",
              "      <td>0</td>\n",
              "      <td>0</td>\n",
              "    </tr>\n",
              "  </tbody>\n",
              "</table>\n",
              "</div>"
            ],
            "text/plain": [
              "            R2_fut1_nuovi_positivi  ... MAXERR_fut2_dimessi_guariti\n",
              "RND_DAYS                    0.8665  ...                     4362.98\n",
              "NO_RND_DAYS                  0.847  ...                     3054.23\n",
              "RMSE_DELTA                       0  ...                           0\n",
              "\n",
              "[3 rows x 36 columns]"
            ]
          },
          "metadata": {
            "tags": []
          },
          "execution_count": 38
        }
      ]
    },
    {
      "cell_type": "code",
      "metadata": {
        "id": "cEOREarldiUF",
        "outputId": "aba57da8-8241-463a-b8fa-8f766f7cf489",
        "colab": {
          "base_uri": "https://localhost:8080/",
          "height": 53
        }
      },
      "source": [
        "best_no_rnd_days=0\n",
        "n_loops=0\n",
        "percentage=[]\n",
        "for i in df_results.columns:\n",
        "  if 'RMSE_' in i:\n",
        "    n_loops+=1\n",
        "    if df_results.loc['RND_DAYS',i] > df_results.loc['NO_RND_DAYS',i]:\n",
        "      best_no_rnd_days+=1\n",
        "      percentage.append(100-(df_results.loc['NO_RND_DAYS',i]*100/df_results.loc['RND_DAYS',i]))\n",
        "    \n",
        "\n",
        "print(f\"Numero di test nei quali è piu accurata la valutazione senza l'uso del campionamento casuale dei giorni: {best_no_rnd_days}/{n_loops}\")\n",
        "print(f\"La differenza media in RMSE è di:\\t{np.mean(percentage)}\")\n"
      ],
      "execution_count": 45,
      "outputs": [
        {
          "output_type": "stream",
          "text": [
            "Numero di test nei quali è piu accurata la valutazione senza l'uso del campionamento casuale dei giorni: 10/12\n",
            "La differenza media in RMSE è di:\t15.752741244705998\n"
          ],
          "name": "stdout"
        }
      ]
    }
  ]
}