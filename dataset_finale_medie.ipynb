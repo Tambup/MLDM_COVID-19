{
  "nbformat": 4,
  "nbformat_minor": 0,
  "metadata": {
    "colab": {
      "name": "dataset_finale_medie.ipynb",
      "provenance": [],
      "authorship_tag": "ABX9TyP0T2ZlvT4m5N0gZPTGAy8x",
      "include_colab_link": true
    },
    "kernelspec": {
      "name": "python3",
      "display_name": "Python 3"
    }
  },
  "cells": [
    {
      "cell_type": "markdown",
      "metadata": {
        "id": "view-in-github",
        "colab_type": "text"
      },
      "source": [
        "<a href=\"https://colab.research.google.com/github/Tomawock/MLDM_COVID-19/blob/master/dataset_finale_medie.ipynb\" target=\"_parent\"><img src=\"https://colab.research.google.com/assets/colab-badge.svg\" alt=\"Open In Colab\"/></a>"
      ]
    },
    {
      "cell_type": "code",
      "metadata": {
        "id": "MIUnRjQd5VQt",
        "colab_type": "code",
        "colab": {
          "base_uri": "https://localhost:8080/",
          "height": 127
        },
        "outputId": "96d5aab9-3d22-449b-8f6c-99db0a1595c1"
      },
      "source": [
        "from google.colab import drive\n",
        "drive.mount('/content/drive')"
      ],
      "execution_count": null,
      "outputs": [
        {
          "output_type": "stream",
          "text": [
            "Go to this URL in a browser: https://accounts.google.com/o/oauth2/auth?client_id=947318989803-6bn6qk8qdgf4n4g3pfee6491hc0brc4i.apps.googleusercontent.com&redirect_uri=urn%3aietf%3awg%3aoauth%3a2.0%3aoob&scope=email%20https%3a%2f%2fwww.googleapis.com%2fauth%2fdocs.test%20https%3a%2f%2fwww.googleapis.com%2fauth%2fdrive%20https%3a%2f%2fwww.googleapis.com%2fauth%2fdrive.photos.readonly%20https%3a%2f%2fwww.googleapis.com%2fauth%2fpeopleapi.readonly&response_type=code\n",
            "\n",
            "Enter your authorization code:\n",
            "··········\n",
            "Mounted at /content/drive\n"
          ],
          "name": "stdout"
        }
      ]
    },
    {
      "cell_type": "code",
      "metadata": {
        "id": "7QlzaQkiqkcZ",
        "colab_type": "code",
        "colab": {}
      },
      "source": [
        "import pandas as pd\n",
        "import numpy as np\n",
        "import datetime as dt\n",
        "import matplotlib.pyplot as plt\n",
        "import matplotlib.dates as mdates\n",
        "import os\n",
        "import glob\n",
        "import random"
      ],
      "execution_count": null,
      "outputs": []
    },
    {
      "cell_type": "code",
      "metadata": {
        "id": "L-1ShdhEA_Kg",
        "colab_type": "code",
        "colab": {}
      },
      "source": [
        "os.chdir('/content/drive/Shared drives/MLDM progetto/Datasets')\n",
        "random.seed(0)"
      ],
      "execution_count": null,
      "outputs": []
    },
    {
      "cell_type": "code",
      "metadata": {
        "id": "--UAXV6-6ENL",
        "colab_type": "code",
        "colab": {}
      },
      "source": [
        "#Carica dati dai file\n",
        "dataset_completo = pd.read_csv(\"/content/drive/Shared drives/MLDM progetto/Datasets/dataset_completo.csv\")\n",
        "dataset_completo=dataset_completo.drop(columns=[\"Data\"])"
      ],
      "execution_count": null,
      "outputs": []
    },
    {
      "cell_type": "code",
      "metadata": {
        "id": "To22Wmtz6WMX",
        "colab_type": "code",
        "colab": {
          "base_uri": "https://localhost:8080/",
          "height": 136
        },
        "outputId": "7d7d9749-f5cb-4952-e146-92bf3f775734"
      },
      "source": [
        "dataset_completo.head(1)"
      ],
      "execution_count": null,
      "outputs": [
        {
          "output_type": "execute_result",
          "data": {
            "text/html": [
              "<div>\n",
              "<style scoped>\n",
              "    .dataframe tbody tr th:only-of-type {\n",
              "        vertical-align: middle;\n",
              "    }\n",
              "\n",
              "    .dataframe tbody tr th {\n",
              "        vertical-align: top;\n",
              "    }\n",
              "\n",
              "    .dataframe thead th {\n",
              "        text-align: right;\n",
              "    }\n",
              "</style>\n",
              "<table border=\"1\" class=\"dataframe\">\n",
              "  <thead>\n",
              "    <tr style=\"text-align: right;\">\n",
              "      <th></th>\n",
              "      <th>Data</th>\n",
              "      <th>Ammoniaca</th>\n",
              "      <th>Benzene</th>\n",
              "      <th>Biossido di Azoto</th>\n",
              "      <th>Biossido di Zolfo</th>\n",
              "      <th>BlackCarbon</th>\n",
              "      <th>Monossido di Azoto</th>\n",
              "      <th>Monossido di Carbonio</th>\n",
              "      <th>Ossidi di Azoto</th>\n",
              "      <th>Ozono</th>\n",
              "      <th>PM10 (SM2005)</th>\n",
              "      <th>Particelle sospese PM2.5</th>\n",
              "      <th>Altezza Neve</th>\n",
              "      <th>Direzione Vento</th>\n",
              "      <th>Livello Idrometrico</th>\n",
              "      <th>Precipitazione</th>\n",
              "      <th>Radiazione Globale</th>\n",
              "      <th>Temperatura</th>\n",
              "      <th>Umidità Relativa</th>\n",
              "      <th>Velocità Vento</th>\n",
              "      <th>ricoverati_con_sintomi</th>\n",
              "      <th>terapia_intensiva</th>\n",
              "      <th>totale_ospedalizzati</th>\n",
              "      <th>isolamento_domiciliare</th>\n",
              "      <th>totale_positivi</th>\n",
              "      <th>variazione_totale_positivi</th>\n",
              "      <th>nuovi_positivi</th>\n",
              "      <th>dimessi_guariti</th>\n",
              "      <th>deceduti</th>\n",
              "      <th>totale_casi</th>\n",
              "      <th>tamponi</th>\n",
              "    </tr>\n",
              "  </thead>\n",
              "  <tbody>\n",
              "    <tr>\n",
              "      <th>0</th>\n",
              "      <td>2020-02-24</td>\n",
              "      <td>22.366667</td>\n",
              "      <td>0.861111</td>\n",
              "      <td>29.932514</td>\n",
              "      <td>2.997511</td>\n",
              "      <td>1.7</td>\n",
              "      <td>0.841667</td>\n",
              "      <td>0.682971</td>\n",
              "      <td>44.105022</td>\n",
              "      <td>39.832055</td>\n",
              "      <td>48.822581</td>\n",
              "      <td>38.548387</td>\n",
              "      <td>90.537022</td>\n",
              "      <td>184.545614</td>\n",
              "      <td>25.365786</td>\n",
              "      <td>0.000033</td>\n",
              "      <td>150.665814</td>\n",
              "      <td>10.307715</td>\n",
              "      <td>64.635167</td>\n",
              "      <td>2.469884</td>\n",
              "      <td>76</td>\n",
              "      <td>19</td>\n",
              "      <td>95</td>\n",
              "      <td>71</td>\n",
              "      <td>166</td>\n",
              "      <td>0</td>\n",
              "      <td>166</td>\n",
              "      <td>0</td>\n",
              "      <td>6</td>\n",
              "      <td>172</td>\n",
              "      <td>1463</td>\n",
              "    </tr>\n",
              "  </tbody>\n",
              "</table>\n",
              "</div>"
            ],
            "text/plain": [
              "         Data  Ammoniaca   Benzene  ...  deceduti  totale_casi  tamponi\n",
              "0  2020-02-24  22.366667  0.861111  ...         6          172     1463\n",
              "\n",
              "[1 rows x 31 columns]"
            ]
          },
          "metadata": {
            "tags": []
          },
          "execution_count": 13
        }
      ]
    },
    {
      "cell_type": "code",
      "metadata": {
        "id": "5P0dvQdM7xJ2",
        "colab_type": "code",
        "colab": {
          "base_uri": "https://localhost:8080/",
          "height": 143
        },
        "outputId": "a2876717-6dc6-4f0f-e8b5-52fc8868722d"
      },
      "source": [
        "print(dataset_completo.loc[0:3, :])"
      ],
      "execution_count": null,
      "outputs": [
        {
          "output_type": "stream",
          "text": [
            "         Data  Ammoniaca   Benzene  ...  deceduti  totale_casi  tamponi\n",
            "0  2020-02-24  22.366667  0.861111  ...         6          172     1463\n",
            "1  2020-02-25  28.266667  1.135000  ...         9          240     3700\n",
            "2  2020-02-26  16.588889  0.738095  ...         9          258     3208\n",
            "3  2020-02-27  12.077778  0.504545  ...        14          403     3320\n",
            "\n",
            "[4 rows x 31 columns]\n"
          ],
          "name": "stdout"
        }
      ]
    },
    {
      "cell_type": "code",
      "metadata": {
        "id": "hmjlkKyi6cMV",
        "colab_type": "code",
        "colab": {
          "base_uri": "https://localhost:8080/",
          "height": 268
        },
        "outputId": "13c6073e-9b5e-4ada-9147-dbd13f272a6c"
      },
      "source": [
        "random.seed(54)\n",
        "\n",
        "col=list(dataset_completo.columns)\n",
        "#col.remove(\"Data\")\n",
        "for i in range(0,dataset_completo.shape[0]-21):\n",
        "  giorni_precedenti=dataset_completo.loc[i:i+14, :]\n",
        "  giorni_selezionati=random.sample(range(i,i+14), 6)\n",
        "  media_passato=dataset_completo.loc[giorni_selezionati, :].mean().reset_index()\n",
        "  \n",
        "  media_passato=media_passato.pivot_table(columns=col).add_prefix(\"pass_\")\n",
        "  fut1=dataset_completo.loc[i+15].to_frame().pivot_table(columns=col).add_prefix(\"fut1_\").reset_index()\n",
        "  fut2=dataset_completo.loc[i+17].to_frame().pivot_table(columns=col).add_prefix(\"fut2_\").reset_index()\n",
        "  riga=pd.concat([media_passato, fut1, fut2], axis=1).drop(columns=\"index\")\n",
        "  if i==0:\n",
        "    finale=pd.DataFrame(columns=riga.columns)\n",
        "  \n",
        "  finale=pd.concat([finale, riga], axis=0, ignore_index=True)\n",
        "\n",
        "print(finale)\n"
      ],
      "execution_count": null,
      "outputs": [
        {
          "output_type": "stream",
          "text": [
            "     pass_Altezza Neve  ...  fut2_variazione_totale_positivi\n",
            "0           113.701952  ...                           1133.0\n",
            "1           113.019572  ...                            836.0\n",
            "2           114.152569  ...                           1327.0\n",
            "3           122.564063  ...                            984.0\n",
            "4           114.240061  ...                            818.0\n",
            "..                 ...  ...                              ...\n",
            "134           8.943129  ...                           -182.0\n",
            "135           9.040957  ...                             16.0\n",
            "136           8.988771  ...                             -4.0\n",
            "137           8.971925  ...                            -46.0\n",
            "138           8.720903  ...                            -47.0\n",
            "\n",
            "[139 rows x 90 columns]\n"
          ],
          "name": "stdout"
        }
      ]
    },
    {
      "cell_type": "code",
      "metadata": {
        "id": "lqbTuFDycd_8",
        "colab_type": "code",
        "colab": {}
      },
      "source": [
        "finale.to_csv(\"dataset_finale_medie.csv\", index=False)"
      ],
      "execution_count": null,
      "outputs": []
    },
    {
      "cell_type": "code",
      "metadata": {
        "id": "RpOMfygefz_b",
        "colab_type": "code",
        "colab": {
          "base_uri": "https://localhost:8080/",
          "height": 681
        },
        "outputId": "591150eb-fa21-4fb0-fc6a-b53f1291f1b7"
      },
      "source": [
        "finale.columns"
      ],
      "execution_count": null,
      "outputs": [
        {
          "output_type": "execute_result",
          "data": {
            "text/plain": [
              "Index(['pass_Altezza Neve', 'pass_Ammoniaca', 'pass_Benzene',\n",
              "       'pass_Biossido di Azoto', 'pass_Biossido di Zolfo', 'pass_BlackCarbon',\n",
              "       'pass_Direzione Vento', 'pass_Livello Idrometrico',\n",
              "       'pass_Monossido di Azoto', 'pass_Monossido di Carbonio',\n",
              "       'pass_Ossidi di Azoto', 'pass_Ozono', 'pass_PM10 (SM2005)',\n",
              "       'pass_Particelle sospese PM2.5', 'pass_Precipitazione',\n",
              "       'pass_Radiazione Globale', 'pass_Temperatura', 'pass_Umidità Relativa',\n",
              "       'pass_Velocità Vento', 'pass_deceduti', 'pass_dimessi_guariti',\n",
              "       'pass_isolamento_domiciliare', 'pass_nuovi_positivi',\n",
              "       'pass_ricoverati_con_sintomi', 'pass_tamponi', 'pass_terapia_intensiva',\n",
              "       'pass_totale_casi', 'pass_totale_ospedalizzati', 'pass_totale_positivi',\n",
              "       'pass_variazione_totale_positivi', 'fut1_Altezza Neve',\n",
              "       'fut1_Ammoniaca', 'fut1_Benzene', 'fut1_Biossido di Azoto',\n",
              "       'fut1_Biossido di Zolfo', 'fut1_BlackCarbon', 'fut1_Direzione Vento',\n",
              "       'fut1_Livello Idrometrico', 'fut1_Monossido di Azoto',\n",
              "       'fut1_Monossido di Carbonio', 'fut1_Ossidi di Azoto', 'fut1_Ozono',\n",
              "       'fut1_PM10 (SM2005)', 'fut1_Particelle sospese PM2.5',\n",
              "       'fut1_Precipitazione', 'fut1_Radiazione Globale', 'fut1_Temperatura',\n",
              "       'fut1_Umidità Relativa', 'fut1_Velocità Vento', 'fut1_deceduti',\n",
              "       'fut1_dimessi_guariti', 'fut1_isolamento_domiciliare',\n",
              "       'fut1_nuovi_positivi', 'fut1_ricoverati_con_sintomi', 'fut1_tamponi',\n",
              "       'fut1_terapia_intensiva', 'fut1_totale_casi',\n",
              "       'fut1_totale_ospedalizzati', 'fut1_totale_positivi',\n",
              "       'fut1_variazione_totale_positivi', 'fut2_Altezza Neve',\n",
              "       'fut2_Ammoniaca', 'fut2_Benzene', 'fut2_Biossido di Azoto',\n",
              "       'fut2_Biossido di Zolfo', 'fut2_BlackCarbon', 'fut2_Direzione Vento',\n",
              "       'fut2_Livello Idrometrico', 'fut2_Monossido di Azoto',\n",
              "       'fut2_Monossido di Carbonio', 'fut2_Ossidi di Azoto', 'fut2_Ozono',\n",
              "       'fut2_PM10 (SM2005)', 'fut2_Particelle sospese PM2.5',\n",
              "       'fut2_Precipitazione', 'fut2_Radiazione Globale', 'fut2_Temperatura',\n",
              "       'fut2_Umidità Relativa', 'fut2_Velocità Vento', 'fut2_deceduti',\n",
              "       'fut2_dimessi_guariti', 'fut2_isolamento_domiciliare',\n",
              "       'fut2_nuovi_positivi', 'fut2_ricoverati_con_sintomi', 'fut2_tamponi',\n",
              "       'fut2_terapia_intensiva', 'fut2_totale_casi',\n",
              "       'fut2_totale_ospedalizzati', 'fut2_totale_positivi',\n",
              "       'fut2_variazione_totale_positivi'],\n",
              "      dtype='object')"
            ]
          },
          "metadata": {
            "tags": []
          },
          "execution_count": 157
        }
      ]
    }
  ]
}