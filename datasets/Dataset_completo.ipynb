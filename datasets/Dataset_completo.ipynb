{
  "nbformat": 4,
  "nbformat_minor": 0,
  "metadata": {
    "colab": {
      "name": "Dataset_completo.ipynb",
      "provenance": [],
      "authorship_tag": "ABX9TyNIDGXpYzDaKDRbbW390Ek2",
      "include_colab_link": true
    },
    "kernelspec": {
      "name": "python3",
      "display_name": "Python 3"
    }
  },
  "cells": [
    {
      "cell_type": "markdown",
      "metadata": {
        "id": "view-in-github",
        "colab_type": "text"
      },
      "source": [
        "<a href=\"https://colab.research.google.com/github/Tomawock/MLDM_COVID-19/blob/master/Dataset_completo.ipynb\" target=\"_parent\"><img src=\"https://colab.research.google.com/assets/colab-badge.svg\" alt=\"Open In Colab\"/></a>"
      ]
    },
    {
      "cell_type": "code",
      "metadata": {
        "id": "Ly2M2LzXqcM1",
        "colab_type": "code",
        "colab": {
          "base_uri": "https://localhost:8080/",
          "height": 127
        },
        "outputId": "6fc68dba-703f-435c-937b-daa025ff5ae2"
      },
      "source": [
        "from google.colab import drive\n",
        "drive.mount('/content/drive')"
      ],
      "execution_count": null,
      "outputs": [
        {
          "output_type": "stream",
          "text": [
            "Go to this URL in a browser: https://accounts.google.com/o/oauth2/auth?client_id=947318989803-6bn6qk8qdgf4n4g3pfee6491hc0brc4i.apps.googleusercontent.com&redirect_uri=urn%3aietf%3awg%3aoauth%3a2.0%3aoob&response_type=code&scope=email%20https%3a%2f%2fwww.googleapis.com%2fauth%2fdocs.test%20https%3a%2f%2fwww.googleapis.com%2fauth%2fdrive%20https%3a%2f%2fwww.googleapis.com%2fauth%2fdrive.photos.readonly%20https%3a%2f%2fwww.googleapis.com%2fauth%2fpeopleapi.readonly\n",
            "\n",
            "Enter your authorization code:\n",
            "··········\n",
            "Mounted at /content/drive\n"
          ],
          "name": "stdout"
        }
      ]
    },
    {
      "cell_type": "code",
      "metadata": {
        "id": "7QlzaQkiqkcZ",
        "colab_type": "code",
        "colab": {}
      },
      "source": [
        "import pandas as pd\n",
        "import numpy as np\n",
        "import datetime as dt\n",
        "import matplotlib.pyplot as plt\n",
        "import matplotlib.dates as mdates\n",
        "import os\n",
        "import glob\n",
        "os.chdir('/content/drive/Shared drives/MLDM progetto/Datasets')"
      ],
      "execution_count": null,
      "outputs": []
    },
    {
      "cell_type": "code",
      "metadata": {
        "id": "opfvAITcg5Zm",
        "colab_type": "code",
        "colab": {}
      },
      "source": [
        "#Carica dati dai file\n",
        "protezionecivile = pd.read_csv(\"/content/drive/Shared drives/MLDM progetto/Datasets/protezioneCivile.csv\") \n",
        "meteo = pd.read_csv(\"/content/drive/Shared drives/MLDM progetto/Datasets/meteo_merged_colonne_ordinate_finale.csv\")\n",
        "inquinameno = pd.read_csv(\"/content/drive/Shared drives/MLDM progetto/Datasets/df_sensor_short.csv\")"
      ],
      "execution_count": null,
      "outputs": []
    },
    {
      "cell_type": "code",
      "metadata": {
        "id": "7Mx9vx49rVFH",
        "colab_type": "code",
        "colab": {
          "base_uri": "https://localhost:8080/",
          "height": 340
        },
        "outputId": "a4f948db-fcf0-4424-e420-1a649b13f494"
      },
      "source": [
        "print(\"Protezione civile\",protezionecivile.columns)\n",
        "print(\"Meteo\",meteo.columns)\n",
        "print(\"Inquinanti\",inquinameno.columns)\n",
        "print(protezionecivile.head(1))"
      ],
      "execution_count": null,
      "outputs": [
        {
          "output_type": "stream",
          "text": [
            "Protezione civile Index(['data', 'ricoverati_con_sintomi', 'terapia_intensiva',\n",
            "       'totale_ospedalizzati', 'isolamento_domiciliare', 'totale_positivi',\n",
            "       'variazione_totale_positivi', 'nuovi_positivi', 'dimessi_guariti',\n",
            "       'deceduti', 'totale_casi', 'tamponi'],\n",
            "      dtype='object')\n",
            "Meteo Index(['Data', 'Altezza Neve', 'Direzione Vento', 'Livello Idrometrico',\n",
            "       'Precipitazione', 'Radiazione Globale', 'Temperatura',\n",
            "       'Umidità Relativa', 'Velocità Vento'],\n",
            "      dtype='object')\n",
            "Inquinanti Index(['Data', 'Ammoniaca', 'Benzene', 'Biossido di Azoto',\n",
            "       'Biossido di Zolfo', 'BlackCarbon', 'Monossido di Azoto',\n",
            "       'Monossido di Carbonio', 'Ossidi di Azoto', 'Ozono', 'PM10 (SM2005)',\n",
            "       'Particelle sospese PM2.5'],\n",
            "      dtype='object')\n",
            "         data  ricoverati_con_sintomi  ...  totale_casi  tamponi\n",
            "0  2020-02-24                      76  ...          172     1463\n",
            "\n",
            "[1 rows x 12 columns]\n"
          ],
          "name": "stdout"
        }
      ]
    },
    {
      "cell_type": "code",
      "metadata": {
        "id": "VKxAG8PHsAdH",
        "colab_type": "code",
        "colab": {
          "base_uri": "https://localhost:8080/",
          "height": 160
        },
        "outputId": "30717db4-d9c0-46fb-f1b8-4c812bd4fcf4"
      },
      "source": [
        "#merging dati sensori in abse alla data\n",
        "print(inquinameno.head(1))\n",
        "print(meteo.head(1))\n",
        "sensori= inquinameno.merge(meteo, on='Data')"
      ],
      "execution_count": null,
      "outputs": [
        {
          "output_type": "stream",
          "text": [
            "         Data  Ammoniaca  ...  PM10 (SM2005)  Particelle sospese PM2.5\n",
            "0  2020-01-01    12.3625  ...           73.9                 66.533333\n",
            "\n",
            "[1 rows x 12 columns]\n",
            "         Data  Altezza Neve  ...  Umidità Relativa  Velocità Vento\n",
            "0  2020-01-01    100.130616  ...         67.433329        1.244477\n",
            "\n",
            "[1 rows x 9 columns]\n"
          ],
          "name": "stdout"
        }
      ]
    },
    {
      "cell_type": "code",
      "metadata": {
        "id": "8PJpryZLsbZh",
        "colab_type": "code",
        "colab": {
          "base_uri": "https://localhost:8080/",
          "height": 286
        },
        "outputId": "a7d1dafb-4688-4152-a20d-37b9859cd764"
      },
      "source": [
        "print(\"sensori\",sensori.columns)\n",
        "print(sensori.head(1))\n",
        "print(sensori.tail(1))"
      ],
      "execution_count": null,
      "outputs": [
        {
          "output_type": "stream",
          "text": [
            "sensori Index(['Data', 'Ammoniaca', 'Benzene', 'Biossido di Azoto',\n",
            "       'Biossido di Zolfo', 'BlackCarbon', 'Monossido di Azoto',\n",
            "       'Monossido di Carbonio', 'Ossidi di Azoto', 'Ozono', 'PM10 (SM2005)',\n",
            "       'Particelle sospese PM2.5', 'Altezza Neve', 'Direzione Vento',\n",
            "       'Livello Idrometrico', 'Precipitazione', 'Radiazione Globale',\n",
            "       'Temperatura', 'Umidità Relativa', 'Velocità Vento'],\n",
            "      dtype='object')\n",
            "         Data  Ammoniaca  ...  Umidità Relativa  Velocità Vento\n",
            "0  2020-01-01    12.3625  ...         67.433329        1.244477\n",
            "\n",
            "[1 rows x 20 columns]\n",
            "           Data  Ammoniaca  ...  Umidità Relativa  Velocità Vento\n",
            "213  2020-08-01  23.977778  ...         73.981576        1.529539\n",
            "\n",
            "[1 rows x 20 columns]\n"
          ],
          "name": "stdout"
        }
      ]
    },
    {
      "cell_type": "code",
      "metadata": {
        "id": "RqkwiNY0s5ZM",
        "colab_type": "code",
        "colab": {}
      },
      "source": [
        "completo= pd.merge(sensori,protezionecivile,left_on='Data',right_on='data')"
      ],
      "execution_count": null,
      "outputs": []
    },
    {
      "cell_type": "code",
      "metadata": {
        "id": "VfLTyjPatPXc",
        "colab_type": "code",
        "colab": {
          "base_uri": "https://localhost:8080/",
          "height": 394
        },
        "outputId": "fd0bd2e5-58c4-4150-8f91-bead8624488c"
      },
      "source": [
        "print(\"completo\",completo.columns)\n",
        "print(completo.head(1))\n",
        "print(completo.tail(3))\n",
        "del completo['data']"
      ],
      "execution_count": null,
      "outputs": [
        {
          "output_type": "stream",
          "text": [
            "completo Index(['Data', 'Ammoniaca', 'Benzene', 'Biossido di Azoto',\n",
            "       'Biossido di Zolfo', 'BlackCarbon', 'Monossido di Azoto',\n",
            "       'Monossido di Carbonio', 'Ossidi di Azoto', 'Ozono', 'PM10 (SM2005)',\n",
            "       'Particelle sospese PM2.5', 'Altezza Neve', 'Direzione Vento',\n",
            "       'Livello Idrometrico', 'Precipitazione', 'Radiazione Globale',\n",
            "       'Temperatura', 'Umidità Relativa', 'Velocità Vento', 'data',\n",
            "       'ricoverati_con_sintomi', 'terapia_intensiva', 'totale_ospedalizzati',\n",
            "       'isolamento_domiciliare', 'totale_positivi',\n",
            "       'variazione_totale_positivi', 'nuovi_positivi', 'dimessi_guariti',\n",
            "       'deceduti', 'totale_casi', 'tamponi'],\n",
            "      dtype='object')\n",
            "         Data  Ammoniaca   Benzene  ...  deceduti  totale_casi  tamponi\n",
            "0  2020-02-24  22.366667  0.861111  ...         6          172     1463\n",
            "\n",
            "[1 rows x 32 columns]\n",
            "           Data  Ammoniaca   Benzene  ...  deceduti  totale_casi  tamponi\n",
            "157  2020-07-30  24.177778  0.327273  ...     16802        96142  1291740\n",
            "158  2020-07-31  23.611111  0.336364  ...     16806        96219  1300088\n",
            "159  2020-08-01  23.977778  0.356522  ...     16807        96274  1308507\n",
            "\n",
            "[3 rows x 32 columns]\n"
          ],
          "name": "stdout"
        }
      ]
    },
    {
      "cell_type": "code",
      "metadata": {
        "id": "GHhJC1E-u0pV",
        "colab_type": "code",
        "colab": {}
      },
      "source": [
        "completo.to_csv(\"dataset_completo.csv\", index=False)"
      ],
      "execution_count": null,
      "outputs": []
    }
  ]
}