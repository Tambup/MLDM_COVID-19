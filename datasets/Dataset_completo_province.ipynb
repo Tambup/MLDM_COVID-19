{
  "nbformat": 4,
  "nbformat_minor": 0,
  "metadata": {
    "colab": {
      "name": "Dataset_completo_province.ipynb",
      "provenance": [],
      "authorship_tag": "ABX9TyOqBfV8yApCfsHsslLdV5cC",
      "include_colab_link": true
    },
    "kernelspec": {
      "name": "python3",
      "display_name": "Python 3"
    }
  },
  "cells": [
    {
      "cell_type": "markdown",
      "metadata": {
        "id": "view-in-github",
        "colab_type": "text"
      },
      "source": [
        "<a href=\"https://colab.research.google.com/github/Tomawock/MLDM_COVID-19/blob/master/datasets/Dataset_completo_province.ipynb\" target=\"_parent\"><img src=\"https://colab.research.google.com/assets/colab-badge.svg\" alt=\"Open In Colab\"/></a>"
      ]
    },
    {
      "cell_type": "code",
      "metadata": {
        "id": "JxnozX30EVOb",
        "outputId": "03cd72c5-0039-4a6a-bf98-84801f2fb11e",
        "colab": {
          "base_uri": "https://localhost:8080/",
          "height": 34
        }
      },
      "source": [
        "from google.colab import drive\n",
        "drive.mount('/content/drive')"
      ],
      "execution_count": 1,
      "outputs": [
        {
          "output_type": "stream",
          "text": [
            "Mounted at /content/drive\n"
          ],
          "name": "stdout"
        }
      ]
    },
    {
      "cell_type": "code",
      "metadata": {
        "id": "ngRGu_D5EsYD"
      },
      "source": [
        "import pandas as pd\n",
        "import numpy as np\n",
        "import datetime as dt\n",
        "import matplotlib.pyplot as plt\n",
        "import matplotlib.dates as mdates\n",
        "import os\n",
        "import glob\n",
        "os.chdir('/content/drive/Shared drives/MLDM progetto/Datasets')"
      ],
      "execution_count": 2,
      "outputs": []
    },
    {
      "cell_type": "code",
      "metadata": {
        "id": "1UtiXlFWExSV"
      },
      "source": [
        "#Carica dati dai file\n",
        "protezionecivile = pd.read_csv(\"protezioneCivile_province_nuovipositivi.csv\") \n",
        "meteo = pd.read_csv(\"meteo_merged_colonne_ordinate_finale.csv\")\n",
        "inquinameno = pd.read_csv(\"df_sensor_short.csv\")"
      ],
      "execution_count": 3,
      "outputs": []
    },
    {
      "cell_type": "code",
      "metadata": {
        "id": "pshSvFqYE1Wy"
      },
      "source": [
        "sensori= inquinameno.merge(meteo, on='Data')\n",
        "completo= pd.merge(sensori,protezionecivile,left_on='Data',right_on='data')\n",
        "del completo['data']"
      ],
      "execution_count": 4,
      "outputs": []
    },
    {
      "cell_type": "code",
      "metadata": {
        "id": "pC7oJMldFSrV"
      },
      "source": [
        "completo.to_csv(\"dataset_finali/dataset_completo_province.csv\", index=False)"
      ],
      "execution_count": null,
      "outputs": []
    }
  ]
}