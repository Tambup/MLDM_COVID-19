{
  "nbformat": 4,
  "nbformat_minor": 0,
  "metadata": {
    "colab": {
      "name": "covid_random_forest.ipynb",
      "provenance": [],
      "toc_visible": true,
      "mount_file_id": "https://github.com/Tomawock/MLDM_COVID-19/blob/master/decisionTree/covid_random_forest.ipynb",
      "authorship_tag": "ABX9TyP/m99RSMQu+pMkt3rOLHLp",
      "include_colab_link": true
    },
    "kernelspec": {
      "name": "python3",
      "display_name": "Python 3"
    }
  },
  "cells": [
    {
      "cell_type": "markdown",
      "metadata": {
        "id": "view-in-github",
        "colab_type": "text"
      },
      "source": [
        "<a href=\"https://colab.research.google.com/github/Tomawock/MLDM_COVID-19/blob/master/decisionTree/covid_random_forest.ipynb\" target=\"_parent\"><img src=\"https://colab.research.google.com/assets/colab-badge.svg\" alt=\"Open In Colab\"/></a>"
      ]
    },
    {
      "cell_type": "markdown",
      "metadata": {
        "id": "-bFYEsDnsmW6",
        "colab_type": "text"
      },
      "source": [
        "# COVID RANDOM FOREST"
      ]
    },
    {
      "cell_type": "code",
      "metadata": {
        "id": "Ci8Rlg2csmW-",
        "colab_type": "code",
        "colab": {
          "base_uri": "https://localhost:8080/",
          "height": 34
        },
        "outputId": "16567caf-19d1-4672-c0d1-e0239e56de6b"
      },
      "source": [
        "import os\n",
        "import numpy as np\n",
        "import pandas as pd\n",
        "import matplotlib.pyplot as plt\n",
        "plt.rcParams[\"figure.figsize\"] = (30, 8)\n",
        "\n",
        "import joblib\n",
        "from datetime import datetime\n",
        "\n",
        "from sklearn.impute import SimpleImputer\n",
        "from sklearn.pipeline import Pipeline\n",
        "from sklearn.model_selection import GridSearchCV, StratifiedKFold, KFold\n",
        "from sklearn.metrics import r2_score, mean_squared_error, max_error\n",
        "from sklearn.ensemble import RandomForestRegressor \n",
        "\n",
        "from sklearn.tree import DecisionTreeRegressor\n",
        "from sklearn import tree\n",
        "\n",
        "from google.colab import drive\n",
        "drive.flush_and_unmount()\n",
        "drive.mount('/content/drive', force_remount=True)\n",
        "import pandas as pd\n",
        "import os\n",
        "os.chdir(\"/content/drive/Shared drives/MLDM progetto/Datasets/dataset_finali\")"
      ],
      "execution_count": 3,
      "outputs": [
        {
          "output_type": "stream",
          "text": [
            "Mounted at /content/drive\n"
          ],
          "name": "stdout"
        }
      ]
    },
    {
      "cell_type": "markdown",
      "metadata": {
        "id": "2M-VYAtrsmXN",
        "colab_type": "text"
      },
      "source": [
        "### MODELLO: preparazione dei datasets\n",
        "\n",
        "**Carichiamo** il dataset ed impostiamo il **random state**. Trasformiamo l'attributo nominale in numerico.\n",
        "\n",
        "**Dividiamo** il dataset in:\n",
        "* **training** set\n",
        "* **testing** set\n",
        "\n",
        "Proviamo utilizzando l'**80%** dei records per il training set ed il restante per il testing."
      ]
    },
    {
      "cell_type": "code",
      "metadata": {
        "id": "fNbKzFq8smXT",
        "colab_type": "code",
        "colab": {}
      },
      "source": [
        "df_2 = pd.read_csv(\"dataset_finale_medie_2_week_rnd1.csv\", parse_dates=[\"Data\"], infer_datetime_format=True)\n",
        "df_0 = pd.read_csv(\"dataset_finale_medie_rnd1.csv\", parse_dates=[\"Data\"], infer_datetime_format=True)\n",
        "\n",
        "rnd_state = 12\n",
        "predictor_columns = [\n",
        "                     'pass_Ammoniaca', \n",
        "                     'pass_Benzene',\n",
        "       'pass_Biossido di Azoto', \n",
        "       'pass_Biossido di Zolfo',\n",
        "       'pass_Monossido di Azoto', \n",
        "       'pass_Monossido di Carbonio',\n",
        "       'pass_Ossidi di Azoto', \n",
        "       'pass_Ozono', \n",
        "       'pass_PM10 (SM2005)',\n",
        "       'pass_Particelle sospese PM2.5',\n",
        "       'pass_Radiazione Globale', \n",
        "       'pass_Temperatura',\n",
        "       'pass_deceduti',\n",
        "       'pass_nuovi_positivi',\n",
        "       'pass_ricoverati_con_sintomi', \n",
        "       'pass_tamponi']\n"
      ],
      "execution_count": 2,
      "outputs": []
    },
    {
      "cell_type": "markdown",
      "metadata": {
        "id": "eD_B4xnfG7RE",
        "colab_type": "text"
      },
      "source": [
        "**Prepariamo** il **training** set ed il **test** set per il data set relativo all'interllo fra i **quattordici e sette giorni precedenti**\n",
        "\n"
      ]
    },
    {
      "cell_type": "code",
      "metadata": {
        "id": "ztIBwjr4G7hd",
        "colab_type": "code",
        "colab": {}
      },
      "source": [
        "train_2 = df_2.sample(frac=0.70, random_state=rnd_state)\n",
        "test_2 = df_2.drop(train_2.index)\n",
        "\n",
        "train_X_2 = train_2[predictor_columns]\n",
        "train_y_2 = train_2[\"fut1_nuovi_positivi\"]\n",
        "\n",
        "test_X_2 = test_2[predictor_columns]\n",
        "test_y_2 = test_2[\"fut1_nuovi_positivi\"]"
      ],
      "execution_count": 4,
      "outputs": []
    },
    {
      "cell_type": "markdown",
      "metadata": {
        "id": "G18UYlfHLrMR",
        "colab_type": "text"
      },
      "source": [
        "**Prepariamo** il **training** set ed il **test** set per il data set relativo all'interllo dei **quattordici giorni precedenti**\n"
      ]
    },
    {
      "cell_type": "code",
      "metadata": {
        "id": "7xasaiKwLpSi",
        "colab_type": "code",
        "colab": {}
      },
      "source": [
        "train_0 = df_0.sample(frac=0.70, random_state=rnd_state)\n",
        "test_0 = df_0.drop(train_0.index)\n",
        "\n",
        "train_X_0 = train_0[predictor_columns]\n",
        "train_y_0 = train_0[\"fut1_nuovi_positivi\"]\n",
        "\n",
        "test_X_0 = test_0[predictor_columns]\n",
        "test_y_0 = test_0[\"fut1_nuovi_positivi\"]"
      ],
      "execution_count": 5,
      "outputs": []
    },
    {
      "cell_type": "markdown",
      "metadata": {
        "id": "LHAzWfwQsmXo",
        "colab_type": "text"
      },
      "source": [
        "### MODELLO: training ###\n",
        "\n",
        "Creiamo il **regressore** basato su alberi di decisione."
      ]
    },
    {
      "cell_type": "code",
      "metadata": {
        "id": "tVptjQSysmXp",
        "colab_type": "code",
        "colab": {}
      },
      "source": [
        "# create regressor object \n",
        "forest_regressor = RandomForestRegressor(bootstrap=False,random_state=rnd_state) "
      ],
      "execution_count": 6,
      "outputs": []
    },
    {
      "cell_type": "markdown",
      "metadata": {
        "id": "b_PZ-3oSsmXx",
        "colab_type": "text"
      },
      "source": [
        "Definiamo la **Pipeline**, come abbiamo fatto per le ANN:\n",
        "* imputer\n",
        "* addestramento del modello"
      ]
    },
    {
      "cell_type": "code",
      "metadata": {
        "id": "B3F5lIuQsmXz",
        "colab_type": "code",
        "colab": {}
      },
      "source": [
        "pipeline = Pipeline([(\"imp\", SimpleImputer(missing_values=np.nan, strategy=\"mean\")), \n",
        "                     (\"clf\", forest_regressor)])"
      ],
      "execution_count": 7,
      "outputs": []
    },
    {
      "cell_type": "code",
      "metadata": {
        "id": "nby_ATLchSQy",
        "colab_type": "code",
        "colab": {}
      },
      "source": [
        "imp=SimpleImputer(missing_values=np.nan, strategy=\"mean\")\n",
        "imp=imp.fit(train_X_2)"
      ],
      "execution_count": 8,
      "outputs": []
    },
    {
      "cell_type": "markdown",
      "metadata": {
        "id": "_Cey1HTIsmX7",
        "colab_type": "text"
      },
      "source": [
        "Prepariamo gli **iper-parametri** per la grid search."
      ]
    },
    {
      "cell_type": "code",
      "metadata": {
        "id": "74ZFmOKBsmX9",
        "colab_type": "code",
        "colab": {}
      },
      "source": [
        "n_estimators_list = [100]\n",
        "criterion_list = [\"mse\", \"mae\"]\n",
        "max_depth_list = [None, 5, 6]\n",
        "min_samples_split_list = [2, 3]\n",
        "min_samples_split_leaf_list = [3,5]\n",
        "min_weight_fraction_leaf_list = [0.0, 0.1]\n",
        "max_features_list = [\"auto\", \"sqrt\", \"log2\"]\n",
        "max_leaf_nodes_list = [None, 10, 25]\n",
        "min_impurity_decrease_list = [0.0, 0.1]\n",
        "\n",
        "param_grd = { \"n_estimators\":n_estimators_list,\n",
        "              \"criterion\": criterion_list,\n",
        "              \"max_depth\": max_depth_list,\n",
        "              \"min_samples_split\": min_samples_split_list,\n",
        "              \"min_samples_leaf\": min_samples_split_leaf_list,\n",
        "              \"min_weight_fraction_leaf\": min_weight_fraction_leaf_list,\n",
        "              \"max_features\": max_features_list,\n",
        "              \"max_leaf_nodes\": max_leaf_nodes_list,\n",
        "              \"min_impurity_decrease\": min_impurity_decrease_list}"
      ],
      "execution_count": 9,
      "outputs": []
    },
    {
      "cell_type": "code",
      "metadata": {
        "id": "Kvf5UIOrYEJE",
        "colab_type": "code",
        "colab": {
          "base_uri": "https://localhost:8080/",
          "height": 54
        },
        "outputId": "3237ce77-b051-44e3-e3e3-84767092d140"
      },
      "source": [
        "forest_regressor.get_params().keys()"
      ],
      "execution_count": 10,
      "outputs": [
        {
          "output_type": "execute_result",
          "data": {
            "text/plain": [
              "dict_keys(['bootstrap', 'ccp_alpha', 'criterion', 'max_depth', 'max_features', 'max_leaf_nodes', 'max_samples', 'min_impurity_decrease', 'min_impurity_split', 'min_samples_leaf', 'min_samples_split', 'min_weight_fraction_leaf', 'n_estimators', 'n_jobs', 'oob_score', 'random_state', 'verbose', 'warm_start'])"
            ]
          },
          "metadata": {
            "tags": []
          },
          "execution_count": 10
        }
      ]
    },
    {
      "cell_type": "markdown",
      "metadata": {
        "id": "uH2pO-mNsmYD",
        "colab_type": "text"
      },
      "source": [
        "**Addestriamo** il regressore mediante **grid search** e **k-fold** cross validation. Anche questa volta, utilizziamo k non superiore a 5 in modo da avere degli insiemi statisticamente significativi (con almeno 30 elementi)."
      ]
    },
    {
      "cell_type": "markdown",
      "metadata": {
        "id": "HDYAgpsIHd-d",
        "colab_type": "text"
      },
      "source": [
        "Relativo fra **quattordici e sette giorni precedenti**\n"
      ]
    },
    {
      "cell_type": "code",
      "metadata": {
        "id": "fMthr73YHwHA",
        "colab_type": "code",
        "colab": {}
      },
      "source": [
        "kfold_splits = 4\n",
        "grid_regressor_2 = GridSearchCV(forest_regressor, param_grd, \n",
        "                              n_jobs=-1, \n",
        "                              verbose=1,\n",
        "                              cv=5)\n",
        "\n"
      ],
      "execution_count": 11,
      "outputs": []
    },
    {
      "cell_type": "code",
      "metadata": {
        "id": "1RE0BJ5XRLnp",
        "colab_type": "code",
        "colab": {
          "base_uri": "https://localhost:8080/",
          "height": 625
        },
        "outputId": "06376144-2dcf-472b-f4d3-e8a807a83739"
      },
      "source": [
        "grid_regressor_2.fit(imp.transform(train_X_2), train_y_2)"
      ],
      "execution_count": 12,
      "outputs": [
        {
          "output_type": "stream",
          "text": [
            "Fitting 5 folds for each of 864 candidates, totalling 4320 fits\n"
          ],
          "name": "stdout"
        },
        {
          "output_type": "stream",
          "text": [
            "[Parallel(n_jobs=-1)]: Using backend LokyBackend with 2 concurrent workers.\n",
            "[Parallel(n_jobs=-1)]: Done  46 tasks      | elapsed:    6.0s\n",
            "[Parallel(n_jobs=-1)]: Done 196 tasks      | elapsed:   20.7s\n",
            "[Parallel(n_jobs=-1)]: Done 446 tasks      | elapsed:   42.0s\n",
            "[Parallel(n_jobs=-1)]: Done 796 tasks      | elapsed:  1.2min\n",
            "[Parallel(n_jobs=-1)]: Done 1246 tasks      | elapsed:  1.9min\n",
            "[Parallel(n_jobs=-1)]: Done 1796 tasks      | elapsed:  2.7min\n",
            "[Parallel(n_jobs=-1)]: Done 2446 tasks      | elapsed:  4.1min\n",
            "[Parallel(n_jobs=-1)]: Done 3196 tasks      | elapsed:  5.8min\n",
            "[Parallel(n_jobs=-1)]: Done 4046 tasks      | elapsed:  7.7min\n",
            "[Parallel(n_jobs=-1)]: Done 4320 out of 4320 | elapsed:  8.3min finished\n"
          ],
          "name": "stderr"
        },
        {
          "output_type": "execute_result",
          "data": {
            "text/plain": [
              "GridSearchCV(cv=5, error_score=nan,\n",
              "             estimator=RandomForestRegressor(bootstrap=False, ccp_alpha=0.0,\n",
              "                                             criterion='mse', max_depth=None,\n",
              "                                             max_features='auto',\n",
              "                                             max_leaf_nodes=None,\n",
              "                                             max_samples=None,\n",
              "                                             min_impurity_decrease=0.0,\n",
              "                                             min_impurity_split=None,\n",
              "                                             min_samples_leaf=1,\n",
              "                                             min_samples_split=2,\n",
              "                                             min_weight_fraction_leaf=0.0,\n",
              "                                             n_estimators=100, n_jobs=None,\n",
              "                                             oob_score=False, ran...\n",
              "             param_grid={'criterion': ['mse', 'mae'], 'max_depth': [None, 5, 6],\n",
              "                         'max_features': ['auto', 'sqrt', 'log2'],\n",
              "                         'max_leaf_nodes': [None, 10, 25],\n",
              "                         'min_impurity_decrease': [0.0, 0.1],\n",
              "                         'min_samples_leaf': [3, 5],\n",
              "                         'min_samples_split': [2, 3],\n",
              "                         'min_weight_fraction_leaf': [0.0, 0.1],\n",
              "                         'n_estimators': [100]},\n",
              "             pre_dispatch='2*n_jobs', refit=True, return_train_score=False,\n",
              "             scoring=None, verbose=1)"
            ]
          },
          "metadata": {
            "tags": []
          },
          "execution_count": 12
        }
      ]
    },
    {
      "cell_type": "markdown",
      "metadata": {
        "id": "LeySQCLuL-06",
        "colab_type": "text"
      },
      "source": [
        "Relativo ai **quattordici giorni precedenti**\n"
      ]
    },
    {
      "cell_type": "code",
      "metadata": {
        "id": "mJtZ4GoRMIFQ",
        "colab_type": "code",
        "colab": {}
      },
      "source": [
        "kfold_splits = 4\n",
        "grid_regressor_0 = GridSearchCV(forest_regressor, param_grd, \n",
        "                              n_jobs=-1, \n",
        "                              verbose=1,\n",
        "                              cv=5)\n",
        "\n",
        "grid_regressor_0.fit(train_X_0, train_y_0)"
      ],
      "execution_count": null,
      "outputs": []
    },
    {
      "cell_type": "markdown",
      "metadata": {
        "id": "qxX9u-kysmYL",
        "colab_type": "text"
      },
      "source": [
        "### MODELLO: testing ###\n",
        "\n",
        "Processiamo i dati di test allo stesso modo del training e procediamo alla fase di testing del **miglior regressore**, addestrato mediante grid search."
      ]
    },
    {
      "cell_type": "code",
      "metadata": {
        "id": "62DvyFUpICsW",
        "colab_type": "code",
        "colab": {}
      },
      "source": [
        "best_regressor_2 = grid_regressor_2.best_estimator_\n",
        "\n",
        "imputer = SimpleImputer(missing_values=np.nan, strategy=\"mean\")\n",
        "imputer = imputer.fit(test_X_2)\n",
        "test_X_imp = imputer.transform(test_X_2)\n",
        "\n",
        "predicted_2 = best_regressor_2.predict(test_X_imp)"
      ],
      "execution_count": 13,
      "outputs": []
    },
    {
      "cell_type": "code",
      "metadata": {
        "id": "TuA58oN2MWH5",
        "colab_type": "code",
        "colab": {}
      },
      "source": [
        "best_regressor_0 = grid_regressor_0.best_estimator_\n",
        "\n",
        "imputer = SimpleImputer(missing_values=np.nan, strategy=\"mean\")\n",
        "imputer = imputer.fit(test_X_0)\n",
        "test_X_imp = imputer.transform(test_X_0)\n",
        "\n",
        "predicted_0 = best_regressor_0.predict(test_X_imp)"
      ],
      "execution_count": null,
      "outputs": []
    },
    {
      "cell_type": "code",
      "metadata": {
        "id": "qvKCPAyUIHUW",
        "colab_type": "code",
        "colab": {
          "base_uri": "https://localhost:8080/",
          "height": 371
        },
        "outputId": "2d1c5771-63e6-4c69-c8e0-f1a88cbb080f"
      },
      "source": [
        "x_triks=df_2.loc[list(test_X_2.index),['Data']]\n",
        "plt.rcParams.update({'font.size': 20})\n",
        "plt.plot(predicted_2, label=\"nuovi_positivi_pred\")\n",
        "plt.plot(test_y_2.values, label=\"nuovi_positivi\")\n",
        "plt.xticks(np.arange(x_triks.shape[0]), (x_triks['Data'].dt.date), rotation=90)\n",
        "plt.legend()\n",
        "plt.grid()\n",
        "plt.title(\"Risultati del DTregressor addestrato con grid search per i dati fra i quattordici e sette giorni precedenti\")\n",
        "plt.show()"
      ],
      "execution_count": 14,
      "outputs": [
        {
          "output_type": "display_data",
          "data": {
            "image/png": "[encoded data removed]",
            "text/plain": [
              "<Figure size 2160x576 with 1 Axes>"
            ]
          },
          "metadata": {
            "tags": [],
            "needs_background": "light"
          }
        }
      ]
    },
    {
      "cell_type": "code",
      "metadata": {
        "id": "8UF85QulMomb",
        "colab_type": "code",
        "colab": {}
      },
      "source": [
        "x_triks=df_0.loc[list(test_X_0.index),['Data']]\n",
        "plt.rcParams.update({'font.size': 20})\n",
        "plt.plot(predicted_0, label=\"nuovi_positivi_pred\")\n",
        "plt.plot(test_y_0.values, label=\"nuovi_positivi\")\n",
        "plt.xticks(np.arange(x_triks.shape[0]), (x_triks['Data'].dt.date), rotation=90)\n",
        "plt.legend()\n",
        "plt.grid()\n",
        "plt.title(\"Risultati del DTregressor addestrato con grid search per i dati fra i quattordici giorni precedenti\")\n",
        "plt.show()"
      ],
      "execution_count": null,
      "outputs": []
    },
    {
      "cell_type": "markdown",
      "metadata": {
        "id": "VdZmGllismYZ",
        "colab_type": "text"
      },
      "source": [
        "### MODELLO: valutazione ed osservazioni ###\n",
        "\n",
        "Vediamo le **caratteristiche** del miglior albero di decisione trovato."
      ]
    },
    {
      "cell_type": "code",
      "metadata": {
        "id": "Z8WL2QsrJZf6",
        "colab_type": "code",
        "colab": {
          "base_uri": "https://localhost:8080/",
          "height": 139
        },
        "outputId": "6f5e671a-4a25-4edf-b32c-443f4b21f2c8"
      },
      "source": [
        "best_regressor_2"
      ],
      "execution_count": 15,
      "outputs": [
        {
          "output_type": "execute_result",
          "data": {
            "text/plain": [
              "RandomForestRegressor(bootstrap=False, ccp_alpha=0.0, criterion='mse',\n",
              "                      max_depth=None, max_features='sqrt', max_leaf_nodes=None,\n",
              "                      max_samples=None, min_impurity_decrease=0.0,\n",
              "                      min_impurity_split=None, min_samples_leaf=3,\n",
              "                      min_samples_split=2, min_weight_fraction_leaf=0.0,\n",
              "                      n_estimators=100, n_jobs=None, oob_score=False,\n",
              "                      random_state=12, verbose=0, warm_start=False)"
            ]
          },
          "metadata": {
            "tags": []
          },
          "execution_count": 15
        }
      ]
    },
    {
      "cell_type": "code",
      "metadata": {
        "id": "7Kj0-m1xMrZ2",
        "colab_type": "code",
        "colab": {}
      },
      "source": [
        "best_regressor_0"
      ],
      "execution_count": null,
      "outputs": []
    },
    {
      "cell_type": "markdown",
      "metadata": {
        "id": "tEkh1yo4smYi",
        "colab_type": "text"
      },
      "source": [
        "Si tratta di un DecisionTreeRegressor con splitter **random** e criterio di split **MAE** (Mean Absolute Error)"
      ]
    },
    {
      "cell_type": "markdown",
      "metadata": {
        "id": "LBMPP8IQsmYj",
        "colab_type": "text"
      },
      "source": [
        "Calcoliamo alcune **misure di performance** per il regressore basato su alberi di decisione. Abbiamo scelto quelle a parer nostro più significative:\n",
        "* **R2**: coefficiente di determinazione\n",
        "* **RMSE**: root mean squared error\n",
        "* **MAX Error**: errore massimo"
      ]
    },
    {
      "cell_type": "markdown",
      "metadata": {
        "id": "3lzSqp31M8RH",
        "colab_type": "text"
      },
      "source": [
        "Relativo fra **quattordici e sette giorni precedenti**\n"
      ]
    },
    {
      "cell_type": "code",
      "metadata": {
        "id": "NI2wbacmIRCu",
        "colab_type": "code",
        "colab": {
          "base_uri": "https://localhost:8080/",
          "height": 69
        },
        "outputId": "f2f73643-546d-4c2f-ab88-f7674fe20309"
      },
      "source": [
        "print(f\"R2: \\t\\t{r2_score(test_y_2, predicted_2):.3}\")\n",
        "print(f\"RMSE: \\t\\t{mean_squared_error(test_y_2, predicted_2, squared=False):.3}\")\n",
        "print(f\"MAX ERR: \\t{max_error(test_y_2, predicted_2)}\")"
      ],
      "execution_count": 16,
      "outputs": [
        {
          "output_type": "stream",
          "text": [
            "R2: \t\t0.898\n",
            "RMSE: \t\t1.8e+02\n",
            "MAX ERR: \t601.4485000000001\n"
          ],
          "name": "stdout"
        }
      ]
    },
    {
      "cell_type": "markdown",
      "metadata": {
        "id": "8pzpbz8VNCBi",
        "colab_type": "text"
      },
      "source": [
        "Relativo ai **quattordici giorni precedenti**\n"
      ]
    },
    {
      "cell_type": "code",
      "metadata": {
        "id": "lei6agH5NDlo",
        "colab_type": "code",
        "colab": {}
      },
      "source": [
        "print(f\"R2: \\t\\t{r2_score(test_y_0, predicted_0):.3}\")\n",
        "print(f\"RMSE: \\t\\t{mean_squared_error(test_y_0, predicted_0, squared=False):.3}\")\n",
        "print(f\"MAX ERR: \\t{max_error(test_y_0, predicted_0)}\")"
      ],
      "execution_count": null,
      "outputs": []
    },
    {
      "cell_type": "markdown",
      "metadata": {
        "id": "SWImSTtUsmYv",
        "colab_type": "text"
      },
      "source": [
        "Possiamo **osservare** che le performance del miglior albero di decisione trovato sono abbastanza **buone**.\n",
        "\n",
        "**R2** è **0.893**, ampiamente superiore a 0.5 ed abbastanza vicino al massimo (1). Questo vuol dire che il modello spiega gran parte della varianza dei dati.\n",
        "\n",
        "**RMSE** è **59.7**, pertanto il nostro modello in media sbaglia il conteggio dei nuovi positivi di 60 unità. Seppur di primo acchitto sembri eccessivo, in realtà non lo è se si pensa che in alcune giornate sono stati registrati più di 1000 nuovi positivi.\n",
        "\n",
        "**MAX ERR** è **238**. Dal grafico si nota come in un preciso giorno il predittore sbagli parecchio. Questo errore molto pronunciato va ad influenzare negativamente l'RMSE."
      ]
    },
    {
      "cell_type": "markdown",
      "metadata": {
        "id": "udP-Ac3dsmYv",
        "colab_type": "text"
      },
      "source": [
        "### MODELLO: feature importance\n",
        "\n",
        "Visualizziamo la **feature importance** derivante dal training del miglior albero regressore."
      ]
    },
    {
      "cell_type": "markdown",
      "metadata": {
        "id": "wPvr48i3M9ZP",
        "colab_type": "text"
      },
      "source": [
        "Relativo fra **quattordici e sette giorni precedenti**\n"
      ]
    },
    {
      "cell_type": "code",
      "metadata": {
        "id": "DKNmjrJqJiqm",
        "colab_type": "code",
        "colab": {
          "base_uri": "https://localhost:8080/",
          "height": 295
        },
        "outputId": "9428247b-e55b-412f-a458-d43c80043552"
      },
      "source": [
        "feature_importance = dict(zip(predictor_columns, best_regressor_2.feature_importances_))\n",
        "\n",
        "for w in sorted(feature_importance, key=feature_importance.get, reverse=True):\n",
        "    print(w, feature_importance[w])"
      ],
      "execution_count": 17,
      "outputs": [
        {
          "output_type": "stream",
          "text": [
            "pass_deceduti 0.3107278619365062\n",
            "pass_tamponi 0.15712049986419835\n",
            "pass_Benzene 0.1265068021480466\n",
            "pass_Temperatura 0.07062608523397554\n",
            "pass_Monossido di Carbonio 0.06509394135207239\n",
            "pass_Ozono 0.06164793842227988\n",
            "pass_Particelle sospese PM2.5 0.05673914028583338\n",
            "pass_Radiazione Globale 0.04160174192644076\n",
            "pass_nuovi_positivi 0.028697359178663753\n",
            "pass_ricoverati_con_sintomi 0.027737627504505563\n",
            "pass_Ammoniaca 0.017165361863102194\n",
            "pass_Monossido di Azoto 0.015129998362253979\n",
            "pass_Ossidi di Azoto 0.009951977905933265\n",
            "pass_PM10 (SM2005) 0.005274857334131958\n",
            "pass_Biossido di Azoto 0.0030834723841393027\n",
            "pass_Biossido di Zolfo 0.002895334297917008\n"
          ],
          "name": "stdout"
        }
      ]
    },
    {
      "cell_type": "markdown",
      "metadata": {
        "id": "8bmZUXbTNJ0C",
        "colab_type": "text"
      },
      "source": [
        "Relativo ai **quattordici giorni precedenti**\n"
      ]
    },
    {
      "cell_type": "code",
      "metadata": {
        "id": "mMMT7WpBNLjt",
        "colab_type": "code",
        "colab": {}
      },
      "source": [
        "feature_importance = dict(zip(predictor_columns, best_regressor_0.feature_importances_))\n",
        "\n",
        "for w in sorted(feature_importance, key=feature_importance.get, reverse=True):\n",
        "    print(w, feature_importance[w])"
      ],
      "execution_count": null,
      "outputs": []
    },
    {
      "cell_type": "markdown",
      "metadata": {
        "id": "9VH5XtL-smY4",
        "colab_type": "text"
      },
      "source": [
        "La feature più importante per lo split è stata, senza sorpresa, **\"nuovi_positivi_mean\"**, ossia la media dei nuovi positivi nei 5 giorni precedenti rispetto al giorno di riferimento.\n",
        "\n",
        "La vera sorpresa è stata la feature **\"so2\"**, al secondo posto per importanza, con grande distacco da tutte le altre. L'anidride solforosa sembra avere una **correlazione importante** con i nuovi positivi predetti.\n",
        "\n",
        "Un'ultima osservazione interessante riguarda l'attributo **\"region\"**, che è quello meno importante di tutti. Ciò vuol dire che, con buona probabilità, il modello si comporterà bene anche con **altre zone geografiche**."
      ]
    }
  ]
}