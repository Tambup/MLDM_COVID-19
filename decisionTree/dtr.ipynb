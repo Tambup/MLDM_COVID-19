{
  "nbformat": 4,
  "nbformat_minor": 0,
  "metadata": {
    "kernelspec": {
      "display_name": "Python 3",
      "language": "python",
      "name": "python3"
    },
    "language_info": {
      "codemirror_mode": {
        "name": "ipython",
        "version": 3
      },
      "file_extension": ".py",
      "mimetype": "text/x-python",
      "name": "python",
      "nbconvert_exporter": "python",
      "pygments_lexer": "ipython3",
      "version": "3.8.2"
    },
    "colab": {
      "name": "dtr.ipynb",
      "provenance": [],
      "toc_visible": true,
      "include_colab_link": true
    }
  },
  "cells": [
    {
      "cell_type": "markdown",
      "metadata": {
        "id": "view-in-github",
        "colab_type": "text"
      },
      "source": [
        "<a href=\"https://colab.research.google.com/github/Tomawock/MLDM_COVID-19/blob/master/decisionTree/dtr.ipynb\" target=\"_parent\"><img src=\"https://colab.research.google.com/assets/colab-badge.svg\" alt=\"Open In Colab\"/></a>"
      ]
    },
    {
      "cell_type": "markdown",
      "metadata": {
        "id": "-bFYEsDnsmW6",
        "colab_type": "text"
      },
      "source": [
        "# COVID\n",
        "\n",
        "## CREAZIONE DI MODELLI basati su DT\n",
        "\n",
        "Questo notebook ha lo scopo di addestrare alcuni **modelli** di predizione per il nostro dataset basati su **Alberi di Decisione (DT)**. Per farlo, utilizzeremo nuovamente la procedura automatizzata tramite **grid search**."
      ]
    },
    {
      "cell_type": "code",
      "metadata": {
        "id": "Ci8Rlg2csmW-",
        "colab_type": "code",
        "colab": {
          "base_uri": "https://localhost:8080/",
          "height": 35
        },
        "outputId": "f18a0efd-3014-478f-cf11-c81acce1290c"
      },
      "source": [
        "import os\n",
        "import numpy as np\n",
        "import pandas as pd\n",
        "import matplotlib.pyplot as plt\n",
        "\n",
        "import joblib\n",
        "from datetime import datetime\n",
        "\n",
        "from sklearn.impute import SimpleImputer\n",
        "from sklearn.pipeline import Pipeline\n",
        "from sklearn.model_selection import GridSearchCV, StratifiedKFold, KFold\n",
        "from sklearn.metrics import r2_score, mean_squared_error, max_error\n",
        "from sklearn.ensemble import RandomForestRegressor \n",
        "\n",
        "from sklearn.tree import DecisionTreeRegressor\n",
        "from sklearn import tree\n",
        "\n",
        "from google.colab import drive\n",
        "drive.flush_and_unmount()\n",
        "drive.mount('/content/drive', force_remount=True)\n",
        "import pandas as pd\n",
        "import os\n",
        "os.chdir(\"/content/drive/Shared drives/MLDM progetto/Datasets/dataset_finali\")"
      ],
      "execution_count": 3,
      "outputs": [
        {
          "output_type": "stream",
          "text": [
            "Mounted at /content/drive\n"
          ],
          "name": "stdout"
        }
      ]
    },
    {
      "cell_type": "markdown",
      "metadata": {
        "id": "2M-VYAtrsmXN",
        "colab_type": "text"
      },
      "source": [
        "### MODELLO: preparazione dei datasets\n",
        "\n",
        "**Carichiamo** il dataset ed impostiamo il **random state**. Trasformiamo l'attributo nominale in numerico.\n",
        "\n",
        "**Dividiamo** il dataset in:\n",
        "* **training** set\n",
        "* **testing** set\n",
        "\n",
        "Proviamo utilizzando l'**80%** dei records per il training set ed il restante per il testing."
      ]
    },
    {
      "cell_type": "code",
      "metadata": {
        "id": "fNbKzFq8smXT",
        "colab_type": "code",
        "colab": {}
      },
      "source": [
        "df = pd.read_csv(\"dataset_finale_medie_rnd220.csv\", parse_dates=[\"Data\"], infer_datetime_format=True)\n",
        "rnd_state = 22\n",
        "predictor_columns = [ 'pass_Ammoniaca', \n",
        "                     'pass_Benzene',\n",
        "       'pass_Biossido di Azoto', \n",
        "       'pass_Biossido di Zolfo',\n",
        "       'pass_Monossido di Azoto', \n",
        "       'pass_Monossido di Carbonio',\n",
        "       'pass_Ossidi di Azoto', \n",
        "       'pass_Ozono', \n",
        "       'pass_PM10 (SM2005)',\n",
        "       'pass_Particelle sospese PM2.5',\n",
        "       'pass_Radiazione Globale', \n",
        "       'pass_Temperatura',\n",
        "       'pass_deceduti',\n",
        "       'pass_nuovi_positivi',\n",
        "       'pass_ricoverati_con_sintomi', \n",
        "       'pass_tamponi']"
      ],
      "execution_count": 4,
      "outputs": []
    },
    {
      "cell_type": "markdown",
      "metadata": {
        "id": "A41DNDSdsmXc",
        "colab_type": "text"
      },
      "source": [
        "**Prepariamo** il **training** set ed il **test** set."
      ]
    },
    {
      "cell_type": "code",
      "metadata": {
        "id": "kJ8vGfGbsmXf",
        "colab_type": "code",
        "colab": {}
      },
      "source": [
        "train = df.sample(frac=0.7, random_state=rnd_state)\n",
        "test = df.drop(train.index)\n",
        "\n",
        "train_X = train[predictor_columns]\n",
        "train_y = train[\"fut1_nuovi_positivi\"]\n",
        "\n",
        "test_X = test[predictor_columns]\n",
        "test_y = test[\"fut1_nuovi_positivi\"]\n"
      ],
      "execution_count": 5,
      "outputs": []
    },
    {
      "cell_type": "markdown",
      "metadata": {
        "id": "LHAzWfwQsmXo",
        "colab_type": "text"
      },
      "source": [
        "### MODELLO: training ###\n",
        "\n",
        "Creiamo il **regressore** basato su alberi di decisione."
      ]
    },
    {
      "cell_type": "code",
      "metadata": {
        "id": "tVptjQSysmXp",
        "colab_type": "code",
        "colab": {}
      },
      "source": [
        "dt_regressor = DecisionTreeRegressor(random_state=rnd_state)"
      ],
      "execution_count": 6,
      "outputs": []
    },
    {
      "cell_type": "markdown",
      "metadata": {
        "id": "b_PZ-3oSsmXx",
        "colab_type": "text"
      },
      "source": [
        "Definiamo la **Pipeline**, come abbiamo fatto per le ANN:\n",
        "* imputer\n",
        "* addestramento del modello"
      ]
    },
    {
      "cell_type": "code",
      "metadata": {
        "id": "B3F5lIuQsmXz",
        "colab_type": "code",
        "colab": {}
      },
      "source": [
        "pipeline = Pipeline([(\"imp\", SimpleImputer(missing_values=np.nan, strategy=\"mean\")), \n",
        "                     (\"dtr\", dt_regressor)])"
      ],
      "execution_count": 7,
      "outputs": []
    },
    {
      "cell_type": "markdown",
      "metadata": {
        "id": "_Cey1HTIsmX7",
        "colab_type": "text"
      },
      "source": [
        "Prepariamo gli **iper-parametri** per la grid search."
      ]
    },
    {
      "cell_type": "code",
      "metadata": {
        "id": "74ZFmOKBsmX9",
        "colab_type": "code",
        "colab": {}
      },
      "source": [
        "criterion_list = [\"mse\", \"mae\", \"friedman_mse\"]\n",
        "splitter_list = [\"best\", \"random\"]\n",
        "max_depth_list = [None, 5, 6]\n",
        "min_samples_split_list = [2, 3]\n",
        "min_samples_split_leaf_list = [1, 2]\n",
        "min_weight_fraction_leaf_list = [0.0, 0.1]\n",
        "max_features_list = [None, \"sqrt\", \"auto\"]\n",
        "max_leaf_nodes_list = [None, 10, 25]\n",
        "min_impurity_decrease_list = [0.0, 0.1]\n",
        "\n",
        "param_grid = {\"dtr__criterion\": criterion_list,\n",
        "              \"dtr__splitter\": splitter_list,\n",
        "              \"dtr__max_depth\": max_depth_list,\n",
        "              \"dtr__min_samples_split\": min_samples_split_list,\n",
        "              \"dtr__min_samples_leaf\": min_samples_split_leaf_list,\n",
        "              \"dtr__min_weight_fraction_leaf\": min_weight_fraction_leaf_list,\n",
        "              \"dtr__max_features\": max_features_list,\n",
        "              \"dtr__max_leaf_nodes\": max_leaf_nodes_list,\n",
        "              \"dtr__min_impurity_decrease\": min_impurity_decrease_list}"
      ],
      "execution_count": 8,
      "outputs": []
    },
    {
      "cell_type": "markdown",
      "metadata": {
        "id": "uH2pO-mNsmYD",
        "colab_type": "text"
      },
      "source": [
        "**Addestriamo** il regressore mediante **grid search** e **k-fold** cross validation. Anche questa volta, utilizziamo k non superiore a 5 in modo da avere degli insiemi statisticamente significativi (con almeno 30 elementi)."
      ]
    },
    {
      "cell_type": "code",
      "metadata": {
        "id": "v2l5O0GvsmYE",
        "colab_type": "code",
        "colab": {
          "base_uri": "https://localhost:8080/",
          "height": 627
        },
        "outputId": "8b7f9e17-7912-48fa-885d-b24e652b1657"
      },
      "source": [
        "kfold_splits = 5\n",
        "grid_regressor = GridSearchCV(estimator=pipeline,  \n",
        "                              n_jobs=-1, \n",
        "                              verbose=1,\n",
        "                              return_train_score=True,\n",
        "                              cv=KFold(n_splits=kfold_splits, shuffle=True),\n",
        "                              param_grid=param_grid)\n",
        "\n",
        "grid_regressor.fit(train_X, train_y)"
      ],
      "execution_count": 9,
      "outputs": [
        {
          "output_type": "stream",
          "text": [
            "Fitting 5 folds for each of 2592 candidates, totalling 12960 fits\n"
          ],
          "name": "stdout"
        },
        {
          "output_type": "stream",
          "text": [
            "[Parallel(n_jobs=-1)]: Using backend LokyBackend with 2 concurrent workers.\n",
            "[Parallel(n_jobs=-1)]: Done 270 tasks      | elapsed:    3.3s\n",
            "[Parallel(n_jobs=-1)]: Done 2670 tasks      | elapsed:   17.6s\n",
            "[Parallel(n_jobs=-1)]: Done 6670 tasks      | elapsed:   43.1s\n",
            "[Parallel(n_jobs=-1)]: Done 12270 tasks      | elapsed:  1.3min\n",
            "[Parallel(n_jobs=-1)]: Done 12960 out of 12960 | elapsed:  1.4min finished\n"
          ],
          "name": "stderr"
        },
        {
          "output_type": "execute_result",
          "data": {
            "text/plain": [
              "GridSearchCV(cv=KFold(n_splits=5, random_state=None, shuffle=True),\n",
              "             error_score=nan,\n",
              "             estimator=Pipeline(memory=None,\n",
              "                                steps=[('imp',\n",
              "                                        SimpleImputer(add_indicator=False,\n",
              "                                                      copy=True,\n",
              "                                                      fill_value=None,\n",
              "                                                      missing_values=nan,\n",
              "                                                      strategy='mean',\n",
              "                                                      verbose=0)),\n",
              "                                       ('dtr',\n",
              "                                        DecisionTreeRegressor(ccp_alpha=0.0,\n",
              "                                                              criterion='mse',\n",
              "                                                              max_depth=None,\n",
              "                                                              max_features=None,\n",
              "                                                              max_leaf_nodes=None,\n",
              "                                                              min_i...\n",
              "                         'dtr__max_depth': [None, 5, 6],\n",
              "                         'dtr__max_features': [None, 'sqrt', 'auto'],\n",
              "                         'dtr__max_leaf_nodes': [None, 10, 25],\n",
              "                         'dtr__min_impurity_decrease': [0.0, 0.1],\n",
              "                         'dtr__min_samples_leaf': [1, 2],\n",
              "                         'dtr__min_samples_split': [2, 3],\n",
              "                         'dtr__min_weight_fraction_leaf': [0.0, 0.1],\n",
              "                         'dtr__splitter': ['best', 'random']},\n",
              "             pre_dispatch='2*n_jobs', refit=True, return_train_score=True,\n",
              "             scoring=None, verbose=1)"
            ]
          },
          "metadata": {
            "tags": []
          },
          "execution_count": 9
        }
      ]
    },
    {
      "cell_type": "markdown",
      "metadata": {
        "id": "qxX9u-kysmYL",
        "colab_type": "text"
      },
      "source": [
        "### MODELLO: testing ###\n",
        "\n",
        "Processiamo i dati di test allo stesso modo del training e procediamo alla fase di testing del **miglior regressore**, addestrato mediante grid search."
      ]
    },
    {
      "cell_type": "code",
      "metadata": {
        "id": "Il4ayFXqsmYM",
        "colab_type": "code",
        "colab": {}
      },
      "source": [
        "best_regressor = grid_regressor.best_estimator_['dtr']\n",
        "\n",
        "imputer = SimpleImputer(missing_values=np.nan, strategy=\"mean\")\n",
        "imputer = imputer.fit(test_X)\n",
        "test_X_imp = imputer.transform(test_X)\n",
        "\n",
        "predicted = best_regressor.predict(test_X_imp)"
      ],
      "execution_count": 18,
      "outputs": []
    },
    {
      "cell_type": "code",
      "metadata": {
        "id": "JBb-CmecsmYS",
        "colab_type": "code",
        "colab": {
          "base_uri": "https://localhost:8080/",
          "height": 393
        },
        "outputId": "1bedfb96-7930-4007-df90-ac4016f4cbe3"
      },
      "source": [
        "x_triks=df.loc[list(test_X.index),['Data']]\n",
        "plt.rcParams.update({'font.size': 20})\n",
        "plt.rcParams[\"figure.figsize\"] = (30, 8)\n",
        "plt.plot(predicted, label=\"nuovi_positivi_pred\")\n",
        "plt.plot(test_y.values, label=\"nuovi_positivi\")\n",
        "plt.xticks(np.arange(x_triks.shape[0]), (x_triks['Data'].dt.date), rotation=90)\n",
        "plt.legend()\n",
        "plt.grid()\n",
        "plt.title(\"Risultati del DTregressor addestrato con grid search per i dati fra i quattordici e sette giorni precedenti\")\n",
        "plt.show()\n",
        "\n"
      ],
      "execution_count": 19,
      "outputs": [
        {
          "output_type": "display_data",
          "data": {
            "image/png": "[encoded data removed]",
            "text/plain": [
              "<Figure size 2160x576 with 1 Axes>"
            ]
          },
          "metadata": {
            "tags": [],
            "needs_background": "light"
          }
        }
      ]
    },
    {
      "cell_type": "markdown",
      "metadata": {
        "id": "VdZmGllismYZ",
        "colab_type": "text"
      },
      "source": [
        "### MODELLO: valutazione ed osservazioni ###\n",
        "\n",
        "Vediamo le **caratteristiche** del miglior albero di decisione trovato."
      ]
    },
    {
      "cell_type": "code",
      "metadata": {
        "id": "pQPQKKz2smYb",
        "colab_type": "code",
        "colab": {
          "base_uri": "https://localhost:8080/",
          "height": 125
        },
        "outputId": "03ef61cb-f264-4466-d9a6-15a5b674fd20"
      },
      "source": [
        "best_regressor"
      ],
      "execution_count": 20,
      "outputs": [
        {
          "output_type": "execute_result",
          "data": {
            "text/plain": [
              "DecisionTreeRegressor(ccp_alpha=0.0, criterion='mse', max_depth=6,\n",
              "                      max_features='sqrt', max_leaf_nodes=25,\n",
              "                      min_impurity_decrease=0.0, min_impurity_split=None,\n",
              "                      min_samples_leaf=2, min_samples_split=2,\n",
              "                      min_weight_fraction_leaf=0.0, presort='deprecated',\n",
              "                      random_state=22, splitter='random')"
            ]
          },
          "metadata": {
            "tags": []
          },
          "execution_count": 20
        }
      ]
    },
    {
      "cell_type": "markdown",
      "metadata": {
        "id": "tEkh1yo4smYi",
        "colab_type": "text"
      },
      "source": [
        "Si tratta di un DecisionTreeRegressor con splitter **random** e criterio di split **MAE** (Mean Absolute Error)"
      ]
    },
    {
      "cell_type": "markdown",
      "metadata": {
        "id": "LBMPP8IQsmYj",
        "colab_type": "text"
      },
      "source": [
        "Calcoliamo alcune **misure di performance** per il regressore basato su alberi di decisione. Abbiamo scelto quelle a parer nostro più significative:\n",
        "* **R2**: coefficiente di determinazione\n",
        "* **RMSE**: root mean squared error\n",
        "* **MAX Error**: errore massimo"
      ]
    },
    {
      "cell_type": "code",
      "metadata": {
        "id": "KzAeQ69VsmYk",
        "colab_type": "code",
        "colab": {
          "base_uri": "https://localhost:8080/",
          "height": 71
        },
        "outputId": "63f3f53c-e606-4fef-d7c2-52a0c66d2e7d"
      },
      "source": [
        "print(f\"R2: \\t\\t{r2_score(test_y, predicted):.3}\")\n",
        "print(f\"RMSE: \\t\\t{mean_squared_error(test_y, predicted, squared=False):.3}\")\n",
        "print(f\"MAX ERR: \\t{max_error(test_y, predicted)}\")"
      ],
      "execution_count": 21,
      "outputs": [
        {
          "output_type": "stream",
          "text": [
            "R2: \t\t0.851\n",
            "RMSE: \t\t2.4e+02\n",
            "MAX ERR: \t833.0\n"
          ],
          "name": "stdout"
        }
      ]
    },
    {
      "cell_type": "markdown",
      "metadata": {
        "id": "SWImSTtUsmYv",
        "colab_type": "text"
      },
      "source": [
        "Possiamo **osservare** che le performance del miglior albero di decisione trovato sono abbastanza **buone**.\n",
        "\n",
        "**R2** è **0.893**, ampiamente superiore a 0.5 ed abbastanza vicino al massimo (1). Questo vuol dire che il modello spiega gran parte della varianza dei dati.\n",
        "\n",
        "**RMSE** è **59.7**, pertanto il nostro modello in media sbaglia il conteggio dei nuovi positivi di 60 unità. Seppur di primo acchitto sembri eccessivo, in realtà non lo è se si pensa che in alcune giornate sono stati registrati più di 1000 nuovi positivi.\n",
        "\n",
        "**MAX ERR** è **238**. Dal grafico si nota come in un preciso giorno il predittore sbagli parecchio. Questo errore molto pronunciato va ad influenzare negativamente l'RMSE."
      ]
    },
    {
      "cell_type": "markdown",
      "metadata": {
        "id": "udP-Ac3dsmYv",
        "colab_type": "text"
      },
      "source": [
        "### MODELLO: feature importance\n",
        "\n",
        "Visualizziamo la **feature importance** derivante dal training del miglior albero regressore."
      ]
    },
    {
      "cell_type": "code",
      "metadata": {
        "id": "oYGuywETsmYw",
        "colab_type": "code",
        "colab": {
          "base_uri": "https://localhost:8080/",
          "height": 304
        },
        "outputId": "006f0e79-dfc4-4819-f69b-071b70308fd4"
      },
      "source": [
        "feature_importance = dict(zip(predictor_columns, best_regressor.feature_importances_))\n",
        "\n",
        "for w in sorted(feature_importance, key=feature_importance.get, reverse=True):\n",
        "    print(w, feature_importance[w])"
      ],
      "execution_count": 22,
      "outputs": [
        {
          "output_type": "stream",
          "text": [
            "pass_deceduti 0.5087983308024137\n",
            "pass_Monossido di Carbonio 0.34191411873161515\n",
            "pass_Biossido di Azoto 0.03771219548066919\n",
            "pass_ricoverati_con_sintomi 0.03626106255466231\n",
            "pass_nuovi_positivi 0.026001889691587152\n",
            "pass_tamponi 0.01906086581374976\n",
            "pass_Temperatura 0.011504257758577835\n",
            "pass_Particelle sospese PM2.5 0.010156253489384664\n",
            "pass_Biossido di Zolfo 0.006754520043515059\n",
            "pass_Monossido di Azoto 0.0018365056338253065\n",
            "pass_Ammoniaca 0.0\n",
            "pass_Benzene 0.0\n",
            "pass_Ossidi di Azoto 0.0\n",
            "pass_Ozono 0.0\n",
            "pass_PM10 (SM2005) 0.0\n",
            "pass_Radiazione Globale 0.0\n"
          ],
          "name": "stdout"
        }
      ]
    },
    {
      "cell_type": "markdown",
      "metadata": {
        "id": "9VH5XtL-smY4",
        "colab_type": "text"
      },
      "source": [
        "La feature più importante per lo split è stata, senza sorpresa, **\"nuovi_positivi_mean\"**, ossia la media dei nuovi positivi nei 5 giorni precedenti rispetto al giorno di riferimento.\n",
        "\n",
        "La vera sorpresa è stata la feature **\"so2\"**, al secondo posto per importanza, con grande distacco da tutte le altre. L'anidride solforosa sembra avere una **correlazione importante** con i nuovi positivi predetti.\n",
        "\n",
        "Un'ultima osservazione interessante riguarda l'attributo **\"region\"**, che è quello meno importante di tutti. Ciò vuol dire che, con buona probabilità, il modello si comporterà bene anche con **altre zone geografiche**."
      ]
    }
  ]
}
