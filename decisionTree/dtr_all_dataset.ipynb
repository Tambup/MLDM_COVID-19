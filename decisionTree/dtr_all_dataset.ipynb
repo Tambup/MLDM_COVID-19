{
  "nbformat": 4,
  "nbformat_minor": 0,
  "metadata": {
    "kernelspec": {
      "display_name": "Python 3",
      "language": "python",
      "name": "python3"
    },
    "language_info": {
      "codemirror_mode": {
        "name": "ipython",
        "version": 3
      },
      "file_extension": ".py",
      "mimetype": "text/x-python",
      "name": "python",
      "nbconvert_exporter": "python",
      "pygments_lexer": "ipython3",
      "version": "3.8.2"
    },
    "colab": {
      "name": "dtr_all_dataset.ipynb",
      "provenance": [],
      "collapsed_sections": [],
      "include_colab_link": true
    }
  },
  "cells": [
    {
      "cell_type": "markdown",
      "metadata": {
        "id": "view-in-github",
        "colab_type": "text"
      },
      "source": [
        "<a href=\"https://colab.research.google.com/github/Tomawock/MLDM_COVID-19/blob/master/dtr_all_dataset.ipynb\" target=\"_parent\"><img src=\"https://colab.research.google.com/assets/colab-badge.svg\" alt=\"Open In Colab\"/></a>"
      ]
    },
    {
      "cell_type": "markdown",
      "metadata": {
        "id": "-bFYEsDnsmW6",
        "colab_type": "text"
      },
      "source": [
        "# COVID-DIVIDIAMO\n",
        "\n",
        "## CREAZIONE DI MODELLI basati su DT\n",
        "\n",
        "Questo notebook ha lo scopo di addestrare alcuni **modelli** di predizione per il nostro dataset basati su **Alberi di Decisione (DT)**. Per farlo, utilizzeremo nuovamente la procedura automatizzata tramite **grid search**."
      ]
    },
    {
      "cell_type": "code",
      "metadata": {
        "id": "Ci8Rlg2csmW-",
        "colab_type": "code",
        "colab": {
          "base_uri": "https://localhost:8080/",
          "height": 147
        },
        "outputId": "7a8c552d-78f9-4e5a-a8eb-8603c481ea66"
      },
      "source": [
        "%autosave 30\n",
        "%matplotlib inline\n",
        "\n",
        "import os\n",
        "import numpy as np\n",
        "import pandas as pd\n",
        "import matplotlib.pyplot as plt\n",
        "plt.rcParams[\"figure.figsize\"] = (15, 8)\n",
        "\n",
        "import joblib\n",
        "from datetime import datetime\n",
        "\n",
        "from sklearn.impute import SimpleImputer\n",
        "from sklearn.pipeline import Pipeline\n",
        "from sklearn.model_selection import GridSearchCV, StratifiedKFold, KFold\n",
        "from sklearn.metrics import r2_score, mean_squared_error, max_error\n",
        "\n",
        "from sklearn.tree import DecisionTreeRegressor\n",
        "\n",
        "import warnings\n",
        "warnings.filterwarnings('ignore')\n",
        "\n",
        "from google.colab import drive\n",
        "drive.mount('/content/drive')\n",
        "import pandas as pd\n",
        "import os"
      ],
      "execution_count": 1,
      "outputs": [
        {
          "output_type": "display_data",
          "data": {
            "application/javascript": [
              "IPython.notebook.set_autosave_interval(30000)"
            ]
          },
          "metadata": {
            "tags": []
          }
        },
        {
          "output_type": "stream",
          "text": [
            "Autosaving every 30 seconds\n",
            "Go to this URL in a browser: https://accounts.google.com/o/oauth2/auth?client_id=947318989803-6bn6qk8qdgf4n4g3pfee6491hc0brc4i.apps.googleusercontent.com&redirect_uri=urn%3aietf%3awg%3aoauth%3a2.0%3aoob&scope=email%20https%3a%2f%2fwww.googleapis.com%2fauth%2fdocs.test%20https%3a%2f%2fwww.googleapis.com%2fauth%2fdrive%20https%3a%2f%2fwww.googleapis.com%2fauth%2fdrive.photos.readonly%20https%3a%2f%2fwww.googleapis.com%2fauth%2fpeopleapi.readonly&response_type=code\n",
            "\n",
            "Enter your authorization code:\n",
            "··········\n",
            "Mounted at /content/drive\n"
          ],
          "name": "stdout"
        }
      ]
    },
    {
      "cell_type": "markdown",
      "metadata": {
        "id": "2M-VYAtrsmXN",
        "colab_type": "text"
      },
      "source": [
        "### MODELLO: preparazione dei datasets\n",
        "\n",
        "**Carichiamo** il dataset ed impostiamo il **random state**. Trasformiamo l'attributo nominale in numerico.\n",
        "\n",
        "**Dividiamo** il dataset in:\n",
        "* **training** set\n",
        "* **testing** set\n",
        "\n",
        "Proviamo utilizzando l'**80%** dei records per il training set ed il restante per il testing."
      ]
    },
    {
      "cell_type": "code",
      "metadata": {
        "id": "fNbKzFq8smXT",
        "colab_type": "code",
        "colab": {}
      },
      "source": [
        "df_2 = pd.read_csv(\"/content/drive/Shared drives/MLDM progetto/Datasets/dataset_finale_medie_2_week.csv\", parse_dates=[\"Data\"], infer_datetime_format=True)\n",
        "df_1 = pd.read_csv(\"/content/drive/Shared drives/MLDM progetto/Datasets/dataset_finale_medie_1_week.csv\", parse_dates=[\"Data\"], infer_datetime_format=True)\n",
        "df_0 = pd.read_csv(\"/content/drive/Shared drives/MLDM progetto/Datasets/dataset_finale_medie.csv\", parse_dates=[\"Data\"], infer_datetime_format=True)\n",
        "\n",
        "rnd_state = 38\n",
        "predictor_columns = ['pass_Ammoniaca', 'pass_Benzene',\n",
        "       'pass_Biossido di Azoto', 'pass_Biossido di Zolfo', 'pass_BlackCarbon',\n",
        "       'pass_Direzione Vento','pass_Monossido di Azoto', 'pass_Monossido di Carbonio',\n",
        "       'pass_Ossidi di Azoto', 'pass_Ozono', 'pass_PM10 (SM2005)',\n",
        "       'pass_Particelle sospese PM2.5', 'pass_Precipitazione',\n",
        "       'pass_Radiazione Globale', 'pass_Temperatura', 'pass_Umidità Relativa',\n",
        "       'pass_Velocità Vento','pass_nuovi_positivi']\n"
      ],
      "execution_count": 3,
      "outputs": []
    },
    {
      "cell_type": "markdown",
      "metadata": {
        "id": "A41DNDSdsmXc",
        "colab_type": "text"
      },
      "source": [
        "**Prepariamo** il **training** set ed il **test** set per il data set relativo ai **sette giorni precedenti**"
      ]
    },
    {
      "cell_type": "code",
      "metadata": {
        "id": "kJ8vGfGbsmXf",
        "colab_type": "code",
        "colab": {}
      },
      "source": [
        "train_1 = df_1.sample(frac=0.75, random_state=rnd_state)\n",
        "test_1 = df_1.drop(train_1.index)\n",
        "\n",
        "train_X_1 = train_1[predictor_columns]\n",
        "train_y_1 = train_1[\"fut1_nuovi_positivi\"]\n",
        "\n",
        "test_X_1 = test_1[predictor_columns]\n",
        "test_y_1 = test_1[\"fut1_nuovi_positivi\"]"
      ],
      "execution_count": 4,
      "outputs": []
    },
    {
      "cell_type": "markdown",
      "metadata": {
        "id": "eD_B4xnfG7RE",
        "colab_type": "text"
      },
      "source": [
        "**Prepariamo** il **training** set ed il **test** set per il data set relativo all'interllo fra i **quattordici e sette giorni precedenti**\n",
        "\n"
      ]
    },
    {
      "cell_type": "code",
      "metadata": {
        "id": "ztIBwjr4G7hd",
        "colab_type": "code",
        "colab": {}
      },
      "source": [
        "train_2 = df_2.sample(frac=0.75, random_state=rnd_state)\n",
        "test_2 = df_2.drop(train_2.index)\n",
        "\n",
        "train_X_2 = train_2[predictor_columns]\n",
        "train_y_2 = train_2[\"fut1_nuovi_positivi\"]\n",
        "\n",
        "test_X_2 = test_2[predictor_columns]\n",
        "test_y_2 = test_2[\"fut1_nuovi_positivi\"]"
      ],
      "execution_count": 5,
      "outputs": []
    },
    {
      "cell_type": "markdown",
      "metadata": {
        "id": "G18UYlfHLrMR",
        "colab_type": "text"
      },
      "source": [
        "**Prepariamo** il **training** set ed il **test** set per il data set relativo all'interllo dei **quattordici giorni precedenti**\n"
      ]
    },
    {
      "cell_type": "code",
      "metadata": {
        "id": "7xasaiKwLpSi",
        "colab_type": "code",
        "colab": {}
      },
      "source": [
        "train_0 = df_0.sample(frac=0.75, random_state=rnd_state)\n",
        "test_0 = df_0.drop(train_2.index)\n",
        "\n",
        "train_X_0 = train_0[predictor_columns]\n",
        "train_y_0 = train_0[\"fut1_nuovi_positivi\"]\n",
        "\n",
        "test_X_0 = test_0[predictor_columns]\n",
        "test_y_0 = test_0[\"fut1_nuovi_positivi\"]"
      ],
      "execution_count": 7,
      "outputs": []
    },
    {
      "cell_type": "markdown",
      "metadata": {
        "id": "LHAzWfwQsmXo",
        "colab_type": "text"
      },
      "source": [
        "### MODELLO: training ###\n",
        "\n",
        "Creiamo il **regressore** basato su alberi di decisione."
      ]
    },
    {
      "cell_type": "code",
      "metadata": {
        "id": "tVptjQSysmXp",
        "colab_type": "code",
        "colab": {}
      },
      "source": [
        "dt_regressor = DecisionTreeRegressor(random_state=rnd_state)"
      ],
      "execution_count": 8,
      "outputs": []
    },
    {
      "cell_type": "markdown",
      "metadata": {
        "id": "b_PZ-3oSsmXx",
        "colab_type": "text"
      },
      "source": [
        "Definiamo la **Pipeline**, come abbiamo fatto per le ANN:\n",
        "* imputer\n",
        "* addestramento del modello"
      ]
    },
    {
      "cell_type": "code",
      "metadata": {
        "id": "B3F5lIuQsmXz",
        "colab_type": "code",
        "colab": {}
      },
      "source": [
        "pipeline = Pipeline([(\"imp\", SimpleImputer(missing_values=np.nan, strategy=\"mean\")), \n",
        "                     (\"dtr\", dt_regressor)])"
      ],
      "execution_count": 9,
      "outputs": []
    },
    {
      "cell_type": "markdown",
      "metadata": {
        "id": "_Cey1HTIsmX7",
        "colab_type": "text"
      },
      "source": [
        "Prepariamo gli **iper-parametri** per la grid search."
      ]
    },
    {
      "cell_type": "code",
      "metadata": {
        "id": "74ZFmOKBsmX9",
        "colab_type": "code",
        "colab": {}
      },
      "source": [
        "criterion_list = [\"mse\", \"mae\", \"friedman_mse\"]\n",
        "splitter_list = [\"best\", \"random\"]\n",
        "max_depth_list = [None, 5, 6]\n",
        "min_samples_split_list = [2, 3]\n",
        "min_samples_split_leaf_list = [1, 2]\n",
        "min_weight_fraction_leaf_list = [0.0, 0.1]\n",
        "max_features_list = [None, \"sqrt\", \"auto\"]\n",
        "max_leaf_nodes_list = [None, 10, 25]\n",
        "min_impurity_decrease_list = [0.0, 0.1]\n",
        "\n",
        "param_grid = {\"dtr__criterion\": criterion_list,\n",
        "              \"dtr__splitter\": splitter_list,\n",
        "              \"dtr__max_depth\": max_depth_list,\n",
        "              \"dtr__min_samples_split\": min_samples_split_list,\n",
        "              \"dtr__min_samples_leaf\": min_samples_split_leaf_list,\n",
        "              \"dtr__min_weight_fraction_leaf\": min_weight_fraction_leaf_list,\n",
        "              \"dtr__max_features\": max_features_list,\n",
        "              \"dtr__max_leaf_nodes\": max_leaf_nodes_list,\n",
        "              \"dtr__min_impurity_decrease\": min_impurity_decrease_list}"
      ],
      "execution_count": 10,
      "outputs": []
    },
    {
      "cell_type": "markdown",
      "metadata": {
        "id": "uH2pO-mNsmYD",
        "colab_type": "text"
      },
      "source": [
        "**Addestriamo** il regressore mediante **grid search** e **k-fold** cross validation. Anche questa volta, utilizziamo k non superiore a 5 in modo da avere degli insiemi statisticamente significativi (con almeno 30 elementi)."
      ]
    },
    {
      "cell_type": "markdown",
      "metadata": {
        "id": "CFG1MKZiHRts",
        "colab_type": "text"
      },
      "source": [
        "Relativo alla **settiman precedente**"
      ]
    },
    {
      "cell_type": "code",
      "metadata": {
        "id": "v2l5O0GvsmYE",
        "colab_type": "code",
        "colab": {
          "base_uri": "https://localhost:8080/",
          "height": 623
        },
        "outputId": "e8111a74-6b54-4979-a309-9164cf751bfa"
      },
      "source": [
        "kfold_splits = 4\n",
        "grid_regressor_1 = GridSearchCV(estimator=pipeline,  \n",
        "                              n_jobs=-1, \n",
        "                              verbose=1,\n",
        "                              return_train_score=True,\n",
        "                              cv=KFold(n_splits=kfold_splits, shuffle=True),\n",
        "                              param_grid=param_grid)\n",
        "\n",
        "grid_regressor_1.fit(train_X_1, train_y_1)"
      ],
      "execution_count": 11,
      "outputs": [
        {
          "output_type": "stream",
          "text": [
            "Fitting 4 folds for each of 2592 candidates, totalling 10368 fits\n"
          ],
          "name": "stdout"
        },
        {
          "output_type": "stream",
          "text": [
            "[Parallel(n_jobs=-1)]: Using backend LokyBackend with 2 concurrent workers.\n",
            "[Parallel(n_jobs=-1)]: Done 330 tasks      | elapsed:    3.7s\n",
            "[Parallel(n_jobs=-1)]: Done 2730 tasks      | elapsed:   18.5s\n",
            "[Parallel(n_jobs=-1)]: Done 6730 tasks      | elapsed:   45.4s\n",
            "[Parallel(n_jobs=-1)]: Done 10368 out of 10368 | elapsed:  1.1min finished\n"
          ],
          "name": "stderr"
        },
        {
          "output_type": "execute_result",
          "data": {
            "text/plain": [
              "GridSearchCV(cv=KFold(n_splits=4, random_state=None, shuffle=True),\n",
              "             error_score=nan,\n",
              "             estimator=Pipeline(memory=None,\n",
              "                                steps=[('imp',\n",
              "                                        SimpleImputer(add_indicator=False,\n",
              "                                                      copy=True,\n",
              "                                                      fill_value=None,\n",
              "                                                      missing_values=nan,\n",
              "                                                      strategy='mean',\n",
              "                                                      verbose=0)),\n",
              "                                       ('dtr',\n",
              "                                        DecisionTreeRegressor(ccp_alpha=0.0,\n",
              "                                                              criterion='mse',\n",
              "                                                              max_depth=None,\n",
              "                                                              max_features=None,\n",
              "                                                              max_leaf_nodes=None,\n",
              "                                                              min_i...\n",
              "                         'dtr__max_depth': [None, 5, 6],\n",
              "                         'dtr__max_features': [None, 'sqrt', 'auto'],\n",
              "                         'dtr__max_leaf_nodes': [None, 10, 25],\n",
              "                         'dtr__min_impurity_decrease': [0.0, 0.1],\n",
              "                         'dtr__min_samples_leaf': [1, 2],\n",
              "                         'dtr__min_samples_split': [2, 3],\n",
              "                         'dtr__min_weight_fraction_leaf': [0.0, 0.1],\n",
              "                         'dtr__splitter': ['best', 'random']},\n",
              "             pre_dispatch='2*n_jobs', refit=True, return_train_score=True,\n",
              "             scoring=None, verbose=1)"
            ]
          },
          "metadata": {
            "tags": []
          },
          "execution_count": 11
        }
      ]
    },
    {
      "cell_type": "markdown",
      "metadata": {
        "id": "HDYAgpsIHd-d",
        "colab_type": "text"
      },
      "source": [
        "Relativo fra **quattordici e sette giorni precedenti**\n"
      ]
    },
    {
      "cell_type": "code",
      "metadata": {
        "id": "fMthr73YHwHA",
        "colab_type": "code",
        "colab": {
          "base_uri": "https://localhost:8080/",
          "height": 623
        },
        "outputId": "cce95947-9b34-4c1b-cc42-839a7dfb85f0"
      },
      "source": [
        "kfold_splits = 4\n",
        "grid_regressor_2 = GridSearchCV(estimator=pipeline,  \n",
        "                              n_jobs=-1, \n",
        "                              verbose=1,\n",
        "                              return_train_score=True,\n",
        "                              cv=KFold(n_splits=kfold_splits, shuffle=True),\n",
        "                              param_grid=param_grid)\n",
        "\n",
        "grid_regressor_2.fit(train_X_2, train_y_2)"
      ],
      "execution_count": 12,
      "outputs": [
        {
          "output_type": "stream",
          "text": [
            "Fitting 4 folds for each of 2592 candidates, totalling 10368 fits\n"
          ],
          "name": "stdout"
        },
        {
          "output_type": "stream",
          "text": [
            "[Parallel(n_jobs=-1)]: Using backend LokyBackend with 2 concurrent workers.\n",
            "[Parallel(n_jobs=-1)]: Done 540 tasks      | elapsed:    3.4s\n",
            "[Parallel(n_jobs=-1)]: Done 2940 tasks      | elapsed:   18.1s\n",
            "[Parallel(n_jobs=-1)]: Done 6940 tasks      | elapsed:   44.9s\n",
            "[Parallel(n_jobs=-1)]: Done 10368 out of 10368 | elapsed:  1.1min finished\n"
          ],
          "name": "stderr"
        },
        {
          "output_type": "execute_result",
          "data": {
            "text/plain": [
              "GridSearchCV(cv=KFold(n_splits=4, random_state=None, shuffle=True),\n",
              "             error_score=nan,\n",
              "             estimator=Pipeline(memory=None,\n",
              "                                steps=[('imp',\n",
              "                                        SimpleImputer(add_indicator=False,\n",
              "                                                      copy=True,\n",
              "                                                      fill_value=None,\n",
              "                                                      missing_values=nan,\n",
              "                                                      strategy='mean',\n",
              "                                                      verbose=0)),\n",
              "                                       ('dtr',\n",
              "                                        DecisionTreeRegressor(ccp_alpha=0.0,\n",
              "                                                              criterion='mse',\n",
              "                                                              max_depth=None,\n",
              "                                                              max_features=None,\n",
              "                                                              max_leaf_nodes=None,\n",
              "                                                              min_i...\n",
              "                         'dtr__max_depth': [None, 5, 6],\n",
              "                         'dtr__max_features': [None, 'sqrt', 'auto'],\n",
              "                         'dtr__max_leaf_nodes': [None, 10, 25],\n",
              "                         'dtr__min_impurity_decrease': [0.0, 0.1],\n",
              "                         'dtr__min_samples_leaf': [1, 2],\n",
              "                         'dtr__min_samples_split': [2, 3],\n",
              "                         'dtr__min_weight_fraction_leaf': [0.0, 0.1],\n",
              "                         'dtr__splitter': ['best', 'random']},\n",
              "             pre_dispatch='2*n_jobs', refit=True, return_train_score=True,\n",
              "             scoring=None, verbose=1)"
            ]
          },
          "metadata": {
            "tags": []
          },
          "execution_count": 12
        }
      ]
    },
    {
      "cell_type": "markdown",
      "metadata": {
        "id": "LeySQCLuL-06",
        "colab_type": "text"
      },
      "source": [
        "Relativo ai **quattordici giorni precedenti**\n"
      ]
    },
    {
      "cell_type": "code",
      "metadata": {
        "id": "mJtZ4GoRMIFQ",
        "colab_type": "code",
        "colab": {
          "base_uri": "https://localhost:8080/",
          "height": 623
        },
        "outputId": "680c438c-fdeb-4a04-ab32-1b9ce86069f3"
      },
      "source": [
        "kfold_splits = 4\n",
        "grid_regressor_0 = GridSearchCV(estimator=pipeline,  \n",
        "                              n_jobs=-1, \n",
        "                              verbose=1,\n",
        "                              return_train_score=True,\n",
        "                              cv=KFold(n_splits=kfold_splits, shuffle=True),\n",
        "                              param_grid=param_grid)\n",
        "\n",
        "grid_regressor_0.fit(train_X_0, train_y_0)"
      ],
      "execution_count": 13,
      "outputs": [
        {
          "output_type": "stream",
          "text": [
            "Fitting 4 folds for each of 2592 candidates, totalling 10368 fits\n"
          ],
          "name": "stdout"
        },
        {
          "output_type": "stream",
          "text": [
            "[Parallel(n_jobs=-1)]: Using backend LokyBackend with 2 concurrent workers.\n",
            "[Parallel(n_jobs=-1)]: Done 540 tasks      | elapsed:    3.4s\n",
            "[Parallel(n_jobs=-1)]: Done 2940 tasks      | elapsed:   17.9s\n",
            "[Parallel(n_jobs=-1)]: Done 6940 tasks      | elapsed:   44.6s\n",
            "[Parallel(n_jobs=-1)]: Done 10368 out of 10368 | elapsed:  1.1min finished\n"
          ],
          "name": "stderr"
        },
        {
          "output_type": "execute_result",
          "data": {
            "text/plain": [
              "GridSearchCV(cv=KFold(n_splits=4, random_state=None, shuffle=True),\n",
              "             error_score=nan,\n",
              "             estimator=Pipeline(memory=None,\n",
              "                                steps=[('imp',\n",
              "                                        SimpleImputer(add_indicator=False,\n",
              "                                                      copy=True,\n",
              "                                                      fill_value=None,\n",
              "                                                      missing_values=nan,\n",
              "                                                      strategy='mean',\n",
              "                                                      verbose=0)),\n",
              "                                       ('dtr',\n",
              "                                        DecisionTreeRegressor(ccp_alpha=0.0,\n",
              "                                                              criterion='mse',\n",
              "                                                              max_depth=None,\n",
              "                                                              max_features=None,\n",
              "                                                              max_leaf_nodes=None,\n",
              "                                                              min_i...\n",
              "                         'dtr__max_depth': [None, 5, 6],\n",
              "                         'dtr__max_features': [None, 'sqrt', 'auto'],\n",
              "                         'dtr__max_leaf_nodes': [None, 10, 25],\n",
              "                         'dtr__min_impurity_decrease': [0.0, 0.1],\n",
              "                         'dtr__min_samples_leaf': [1, 2],\n",
              "                         'dtr__min_samples_split': [2, 3],\n",
              "                         'dtr__min_weight_fraction_leaf': [0.0, 0.1],\n",
              "                         'dtr__splitter': ['best', 'random']},\n",
              "             pre_dispatch='2*n_jobs', refit=True, return_train_score=True,\n",
              "             scoring=None, verbose=1)"
            ]
          },
          "metadata": {
            "tags": []
          },
          "execution_count": 13
        }
      ]
    },
    {
      "cell_type": "markdown",
      "metadata": {
        "id": "qxX9u-kysmYL",
        "colab_type": "text"
      },
      "source": [
        "### MODELLO: testing ###\n",
        "\n",
        "Processiamo i dati di test allo stesso modo del training e procediamo alla fase di testing del **miglior regressore**, addestrato mediante grid search."
      ]
    },
    {
      "cell_type": "code",
      "metadata": {
        "id": "Il4ayFXqsmYM",
        "colab_type": "code",
        "colab": {}
      },
      "source": [
        "best_regressor_1 = grid_regressor_1.best_estimator_[\"dtr\"]\n",
        "\n",
        "imputer = SimpleImputer(missing_values=np.nan, strategy=\"mean\")\n",
        "imputer = imputer.fit(test_X_1)\n",
        "test_X_imp = imputer.transform(test_X_1)\n",
        "\n",
        "predicted_1 = best_regressor_1.predict(test_X_imp)"
      ],
      "execution_count": 14,
      "outputs": []
    },
    {
      "cell_type": "code",
      "metadata": {
        "id": "62DvyFUpICsW",
        "colab_type": "code",
        "colab": {}
      },
      "source": [
        "best_regressor_2 = grid_regressor_2.best_estimator_[\"dtr\"]\n",
        "\n",
        "imputer = SimpleImputer(missing_values=np.nan, strategy=\"mean\")\n",
        "imputer = imputer.fit(test_X_2)\n",
        "test_X_imp = imputer.transform(test_X_2)\n",
        "\n",
        "predicted_2 = best_regressor_2.predict(test_X_imp)"
      ],
      "execution_count": 15,
      "outputs": []
    },
    {
      "cell_type": "code",
      "metadata": {
        "id": "TuA58oN2MWH5",
        "colab_type": "code",
        "colab": {}
      },
      "source": [
        "best_regressor_0 = grid_regressor_0.best_estimator_[\"dtr\"]\n",
        "\n",
        "imputer = SimpleImputer(missing_values=np.nan, strategy=\"mean\")\n",
        "imputer = imputer.fit(test_X_0)\n",
        "test_X_imp = imputer.transform(test_X_0)\n",
        "\n",
        "predicted_0 = best_regressor_0.predict(test_X_imp)"
      ],
      "execution_count": 16,
      "outputs": []
    },
    {
      "cell_type": "code",
      "metadata": {
        "id": "JBb-CmecsmYS",
        "colab_type": "code",
        "colab": {
          "base_uri": "https://localhost:8080/",
          "height": 452
        },
        "outputId": "314da68f-6a00-402b-f4d9-aa48d56028ec"
      },
      "source": [
        "x_triks=df_1.loc[list(test_X_1.index),['Data']]\n",
        "plt.plot(predicted_1, label=\"nuovi_positivi_pred\")\n",
        "plt.plot(test_y_1.values, label=\"nuovi_positivi\")\n",
        "plt. xticks(np.arange(x_triks.shape[0]), (x_triks.values), rotation=90)\n",
        "plt.legend()\n",
        "plt.title(\"Risultati del DTregressor addestrato con grid search per i dati sui sette giorni precedenti\")\n",
        "plt.show()"
      ],
      "execution_count": 18,
      "outputs": [
        {
          "output_type": "display_data",
          "data": {
            "image/png": "[encoded data removed]",
            "text/plain": [
              "<Figure size 432x288 with 1 Axes>"
            ]
          },
          "metadata": {
            "tags": [],
            "needs_background": "light"
          }
        }
      ]
    },
    {
      "cell_type": "code",
      "metadata": {
        "id": "qvKCPAyUIHUW",
        "colab_type": "code",
        "colab": {
          "base_uri": "https://localhost:8080/",
          "height": 452
        },
        "outputId": "dd776743-849e-4909-ff0d-936c0fc15874"
      },
      "source": [
        "x_triks=df_2.loc[list(test_X_2.index),['Data']]\n",
        "plt.plot(predicted_2, label=\"nuovi_positivi_pred\")\n",
        "plt.plot(test_y_2.values, label=\"nuovi_positivi\")\n",
        "plt. xticks(np.arange(x_triks.shape[0]), (x_triks.values), rotation=90)\n",
        "plt.legend()\n",
        "plt.title(\"Risultati del DTregressor addestrato con grid search per i dati fra i quattordici e sette giorni precedenti\")\n",
        "plt.show()"
      ],
      "execution_count": 19,
      "outputs": [
        {
          "output_type": "display_data",
          "data": {
            "image/png": "[encoded data removed]",
            "text/plain": [
              "<Figure size 432x288 with 1 Axes>"
            ]
          },
          "metadata": {
            "tags": [],
            "needs_background": "light"
          }
        }
      ]
    },
    {
      "cell_type": "code",
      "metadata": {
        "id": "8UF85QulMomb",
        "colab_type": "code",
        "colab": {
          "base_uri": "https://localhost:8080/",
          "height": 452
        },
        "outputId": "6355bfa8-b24f-4e8a-8758-5c83a18e702c"
      },
      "source": [
        "x_triks=df_0.loc[list(test_X_0.index),['Data']]\n",
        "plt.plot(predicted_0, label=\"nuovi_positivi_pred\")\n",
        "plt.plot(test_y_0.values, label=\"nuovi_positivi\")\n",
        "plt. xticks(np.arange(x_triks.shape[0]), (x_triks.values), rotation=90)\n",
        "plt.legend()\n",
        "plt.title(\"Risultati del DTregressor addestrato con grid search per i dati fra i quattordici giorni precedenti\")\n",
        "plt.show()"
      ],
      "execution_count": 21,
      "outputs": [
        {
          "output_type": "display_data",
          "data": {
            "image/png": "[encoded data removed]",
            "text/plain": [
              "<Figure size 432x288 with 1 Axes>"
            ]
          },
          "metadata": {
            "tags": [],
            "needs_background": "light"
          }
        }
      ]
    },
    {
      "cell_type": "markdown",
      "metadata": {
        "id": "VdZmGllismYZ",
        "colab_type": "text"
      },
      "source": [
        "### MODELLO: valutazione ed osservazioni ###\n",
        "\n",
        "Vediamo le **caratteristiche** del miglior albero di decisione trovato."
      ]
    },
    {
      "cell_type": "code",
      "metadata": {
        "id": "pQPQKKz2smYb",
        "colab_type": "code",
        "colab": {
          "base_uri": "https://localhost:8080/",
          "height": 127
        },
        "outputId": "06c4c474-25fd-48a8-aa04-7cf52a7d8f31"
      },
      "source": [
        "best_regressor_1"
      ],
      "execution_count": 22,
      "outputs": [
        {
          "output_type": "execute_result",
          "data": {
            "text/plain": [
              "DecisionTreeRegressor(ccp_alpha=0.0, criterion='mae', max_depth=5,\n",
              "                      max_features='sqrt', max_leaf_nodes=None,\n",
              "                      min_impurity_decrease=0.0, min_impurity_split=None,\n",
              "                      min_samples_leaf=2, min_samples_split=2,\n",
              "                      min_weight_fraction_leaf=0.0, presort='deprecated',\n",
              "                      random_state=38, splitter='best')"
            ]
          },
          "metadata": {
            "tags": []
          },
          "execution_count": 22
        }
      ]
    },
    {
      "cell_type": "code",
      "metadata": {
        "id": "Z8WL2QsrJZf6",
        "colab_type": "code",
        "colab": {
          "base_uri": "https://localhost:8080/",
          "height": 127
        },
        "outputId": "2538d161-ede7-452b-b88a-ca17a1786944"
      },
      "source": [
        "best_regressor_2"
      ],
      "execution_count": 23,
      "outputs": [
        {
          "output_type": "execute_result",
          "data": {
            "text/plain": [
              "DecisionTreeRegressor(ccp_alpha=0.0, criterion='mse', max_depth=5,\n",
              "                      max_features=None, max_leaf_nodes=None,\n",
              "                      min_impurity_decrease=0.0, min_impurity_split=None,\n",
              "                      min_samples_leaf=2, min_samples_split=2,\n",
              "                      min_weight_fraction_leaf=0.0, presort='deprecated',\n",
              "                      random_state=38, splitter='random')"
            ]
          },
          "metadata": {
            "tags": []
          },
          "execution_count": 23
        }
      ]
    },
    {
      "cell_type": "code",
      "metadata": {
        "id": "7Kj0-m1xMrZ2",
        "colab_type": "code",
        "colab": {
          "base_uri": "https://localhost:8080/",
          "height": 127
        },
        "outputId": "c6fef98d-e990-4c68-9d23-adc57b198725"
      },
      "source": [
        "best_regressor_0"
      ],
      "execution_count": 24,
      "outputs": [
        {
          "output_type": "execute_result",
          "data": {
            "text/plain": [
              "DecisionTreeRegressor(ccp_alpha=0.0, criterion='mae', max_depth=6,\n",
              "                      max_features='sqrt', max_leaf_nodes=None,\n",
              "                      min_impurity_decrease=0.1, min_impurity_split=None,\n",
              "                      min_samples_leaf=2, min_samples_split=2,\n",
              "                      min_weight_fraction_leaf=0.0, presort='deprecated',\n",
              "                      random_state=38, splitter='random')"
            ]
          },
          "metadata": {
            "tags": []
          },
          "execution_count": 24
        }
      ]
    },
    {
      "cell_type": "markdown",
      "metadata": {
        "id": "tEkh1yo4smYi",
        "colab_type": "text"
      },
      "source": [
        "Si tratta di un DecisionTreeRegressor con splitter **random** e criterio di split **MAE** (Mean Absolute Error)"
      ]
    },
    {
      "cell_type": "markdown",
      "metadata": {
        "id": "LBMPP8IQsmYj",
        "colab_type": "text"
      },
      "source": [
        "Calcoliamo alcune **misure di performance** per il regressore basato su alberi di decisione. Abbiamo scelto quelle a parer nostro più significative:\n",
        "* **R2**: coefficiente di determinazione\n",
        "* **RMSE**: root mean squared error\n",
        "* **MAX Error**: errore massimo"
      ]
    },
    {
      "cell_type": "markdown",
      "metadata": {
        "id": "54BiAOizMuaI",
        "colab_type": "text"
      },
      "source": [
        "Relativo alla **settiman precedente**"
      ]
    },
    {
      "cell_type": "code",
      "metadata": {
        "id": "KzAeQ69VsmYk",
        "colab_type": "code",
        "colab": {
          "base_uri": "https://localhost:8080/",
          "height": 72
        },
        "outputId": "f87bef24-20cc-45ff-88e1-cebcb307b40d"
      },
      "source": [
        "print(f\"R2: \\t\\t{r2_score(test_y_1, predicted_1):.3}\")\n",
        "print(f\"RMSE: \\t\\t{mean_squared_error(test_y_1, predicted_1, squared=False):.3}\")\n",
        "print(f\"MAX ERR: \\t{max_error(test_y_1, predicted_1)}\")"
      ],
      "execution_count": 25,
      "outputs": [
        {
          "output_type": "stream",
          "text": [
            "R2: \t\t0.685\n",
            "RMSE: \t\t3.23e+02\n",
            "MAX ERR: \t1129.0\n"
          ],
          "name": "stdout"
        }
      ]
    },
    {
      "cell_type": "markdown",
      "metadata": {
        "id": "3lzSqp31M8RH",
        "colab_type": "text"
      },
      "source": [
        "Relativo fra **quattordici e sette giorni precedenti**\n"
      ]
    },
    {
      "cell_type": "code",
      "metadata": {
        "id": "NI2wbacmIRCu",
        "colab_type": "code",
        "colab": {
          "base_uri": "https://localhost:8080/",
          "height": 72
        },
        "outputId": "471f974e-39f6-41e7-9460-57e273a7269b"
      },
      "source": [
        "print(f\"R2: \\t\\t{r2_score(test_y_2, predicted_2):.3}\")\n",
        "print(f\"RMSE: \\t\\t{mean_squared_error(test_y_2, predicted_2, squared=False):.3}\")\n",
        "print(f\"MAX ERR: \\t{max_error(test_y_2, predicted_2)}\")"
      ],
      "execution_count": 26,
      "outputs": [
        {
          "output_type": "stream",
          "text": [
            "R2: \t\t0.743\n",
            "RMSE: \t\t2.89e+02\n",
            "MAX ERR: \t1082.0\n"
          ],
          "name": "stdout"
        }
      ]
    },
    {
      "cell_type": "markdown",
      "metadata": {
        "id": "8pzpbz8VNCBi",
        "colab_type": "text"
      },
      "source": [
        "Relativo ai **quattordici giorni precedenti**\n"
      ]
    },
    {
      "cell_type": "code",
      "metadata": {
        "id": "lei6agH5NDlo",
        "colab_type": "code",
        "colab": {
          "base_uri": "https://localhost:8080/",
          "height": 72
        },
        "outputId": "e670f6e7-46cc-40ea-88b4-750e72f7a80a"
      },
      "source": [
        "print(f\"R2: \\t\\t{r2_score(test_y_0, predicted_0):.3}\")\n",
        "print(f\"RMSE: \\t\\t{mean_squared_error(test_y_0, predicted_0, squared=False):.3}\")\n",
        "print(f\"MAX ERR: \\t{max_error(test_y_0, predicted_0)}\")"
      ],
      "execution_count": 27,
      "outputs": [
        {
          "output_type": "stream",
          "text": [
            "R2: \t\t0.752\n",
            "RMSE: \t\t2.84e+02\n",
            "MAX ERR: \t909.0\n"
          ],
          "name": "stdout"
        }
      ]
    },
    {
      "cell_type": "markdown",
      "metadata": {
        "id": "SWImSTtUsmYv",
        "colab_type": "text"
      },
      "source": [
        "Possiamo **osservare** che le performance del miglior albero di decisione trovato sono abbastanza **buone**.\n",
        "\n",
        "**R2** è **0.893**, ampiamente superiore a 0.5 ed abbastanza vicino al massimo (1). Questo vuol dire che il modello spiega gran parte della varianza dei dati.\n",
        "\n",
        "**RMSE** è **59.7**, pertanto il nostro modello in media sbaglia il conteggio dei nuovi positivi di 60 unità. Seppur di primo acchitto sembri eccessivo, in realtà non lo è se si pensa che in alcune giornate sono stati registrati più di 1000 nuovi positivi.\n",
        "\n",
        "**MAX ERR** è **238**. Dal grafico si nota come in un preciso giorno il predittore sbagli parecchio. Questo errore molto pronunciato va ad influenzare negativamente l'RMSE."
      ]
    },
    {
      "cell_type": "markdown",
      "metadata": {
        "id": "udP-Ac3dsmYv",
        "colab_type": "text"
      },
      "source": [
        "### MODELLO: feature importance\n",
        "\n",
        "Visualizziamo la **feature importance** derivante dal training del miglior albero regressore."
      ]
    },
    {
      "cell_type": "markdown",
      "metadata": {
        "id": "17EX5x25M3Fk",
        "colab_type": "text"
      },
      "source": [
        "Relativo alla **settiman precedente**"
      ]
    },
    {
      "cell_type": "code",
      "metadata": {
        "id": "oYGuywETsmYw",
        "colab_type": "code",
        "colab": {
          "base_uri": "https://localhost:8080/",
          "height": 348
        },
        "outputId": "99be5ec5-a001-468a-e2ac-fbf7469bcec9"
      },
      "source": [
        "feature_importance = dict(zip(predictor_columns, best_regressor_1.feature_importances_))\n",
        "\n",
        "for w in sorted(feature_importance, key=feature_importance.get, reverse=True):\n",
        "    print(w, feature_importance[w])"
      ],
      "execution_count": 20,
      "outputs": [
        {
          "output_type": "execute_result",
          "data": {
            "text/plain": [
              "{'pass_Ammoniaca': 0.0,\n",
              " 'pass_Benzene': 0.794546034487049,\n",
              " 'pass_Biossido di Azoto': 0.0,\n",
              " 'pass_Biossido di Zolfo': 0.0,\n",
              " 'pass_BlackCarbon': 0.00926824006275754,\n",
              " 'pass_Direzione Vento': 0.0,\n",
              " 'pass_Monossido di Azoto': 0.09815681394956559,\n",
              " 'pass_Monossido di Carbonio': 0.0,\n",
              " 'pass_Ossidi di Azoto': 0.0,\n",
              " 'pass_Ozono': 0.0,\n",
              " 'pass_PM10 (SM2005)': 0.0,\n",
              " 'pass_Particelle sospese PM2.5': 0.0,\n",
              " 'pass_Precipitazione': 0.0,\n",
              " 'pass_Radiazione Globale': 0.0,\n",
              " 'pass_Temperatura': 0.0,\n",
              " 'pass_Umidità Relativa': 0.0,\n",
              " 'pass_Velocità Vento': 0.027950039775769937,\n",
              " 'pass_nuovi_positivi': 0.07007887172485788}"
            ]
          },
          "metadata": {
            "tags": []
          },
          "execution_count": 20
        }
      ]
    },
    {
      "cell_type": "markdown",
      "metadata": {
        "id": "wPvr48i3M9ZP",
        "colab_type": "text"
      },
      "source": [
        "Relativo fra **quattordici e sette giorni precedenti**\n"
      ]
    },
    {
      "cell_type": "code",
      "metadata": {
        "id": "DKNmjrJqJiqm",
        "colab_type": "code",
        "colab": {
          "base_uri": "https://localhost:8080/",
          "height": 348
        },
        "outputId": "83ca7629-53cf-460d-d74b-0936990e1e91"
      },
      "source": [
        "feature_importance = dict(zip(predictor_columns, best_regressor_2.feature_importances_))\n",
        "\n",
        "for w in sorted(feature_importance, key=feature_importance.get, reverse=True):\n",
        "    print(w, feature_importance[w])"
      ],
      "execution_count": 21,
      "outputs": [
        {
          "output_type": "execute_result",
          "data": {
            "text/plain": [
              "{'pass_Ammoniaca': 0.03416812556632856,\n",
              " 'pass_Benzene': 0.6771160275689676,\n",
              " 'pass_Biossido di Azoto': 0.00015928048264718424,\n",
              " 'pass_Biossido di Zolfo': 0.0,\n",
              " 'pass_BlackCarbon': 0.0023996672311777274,\n",
              " 'pass_Direzione Vento': 4.7897502216066633e-08,\n",
              " 'pass_Monossido di Azoto': 0.002893845566157642,\n",
              " 'pass_Monossido di Carbonio': 0.0013753149486813536,\n",
              " 'pass_Ossidi di Azoto': 0.000242265566208865,\n",
              " 'pass_Ozono': 0.0,\n",
              " 'pass_PM10 (SM2005)': 1.4690341327824198e-05,\n",
              " 'pass_Particelle sospese PM2.5': 0.0023612863826078796,\n",
              " 'pass_Precipitazione': 0.006129626382802182,\n",
              " 'pass_Radiazione Globale': 0.009783767324330775,\n",
              " 'pass_Temperatura': 0.02798588951268437,\n",
              " 'pass_Umidità Relativa': 0.028284551155803764,\n",
              " 'pass_Velocità Vento': 0.0037295060139969473,\n",
              " 'pass_nuovi_positivi': 0.203356108058775}"
            ]
          },
          "metadata": {
            "tags": []
          },
          "execution_count": 21
        }
      ]
    },
    {
      "cell_type": "markdown",
      "metadata": {
        "id": "8bmZUXbTNJ0C",
        "colab_type": "text"
      },
      "source": [
        "Relativo ai **quattordici giorni precedenti**\n"
      ]
    },
    {
      "cell_type": "code",
      "metadata": {
        "id": "mMMT7WpBNLjt",
        "colab_type": "code",
        "colab": {}
      },
      "source": [
        "feature_importance = dict(zip(predictor_columns, best_regressor_0.feature_importances_))\n",
        "\n",
        "for w in sorted(feature_importance, key=feature_importance.get, reverse=True):\n",
        "    print(w, feature_importance[w])"
      ],
      "execution_count": null,
      "outputs": []
    },
    {
      "cell_type": "markdown",
      "metadata": {
        "id": "9VH5XtL-smY4",
        "colab_type": "text"
      },
      "source": [
        "La feature più importante per lo split è stata, senza sorpresa, **\"nuovi_positivi_mean\"**, ossia la media dei nuovi positivi nei 5 giorni precedenti rispetto al giorno di riferimento.\n",
        "\n",
        "La vera sorpresa è stata la feature **\"so2\"**, al secondo posto per importanza, con grande distacco da tutte le altre. L'anidride solforosa sembra avere una **correlazione importante** con i nuovi positivi predetti.\n",
        "\n",
        "Un'ultima osservazione interessante riguarda l'attributo **\"region\"**, che è quello meno importante di tutti. Ciò vuol dire che, con buona probabilità, il modello si comporterà bene anche con **altre zone geografiche**."
      ]
    },
    {
      "cell_type": "markdown",
      "metadata": {
        "id": "PQT_uXFCsmY5",
        "colab_type": "text"
      },
      "source": [
        "### Salvataggio e caricamento del modello ###\n",
        "\n",
        "Scriviamo due **funzioni** ad hoc per il salvataggio ed il caricamento di modelli sci-kit learn."
      ]
    },
    {
      "cell_type": "code",
      "metadata": {
        "id": "JX05h_LjsmY8",
        "colab_type": "code",
        "colab": {}
      },
      "source": [
        "def save_scikit_model(kind, model):\n",
        "    folder = \"models/\" + kind + \"-\" + datetime.now().strftime(\"%d-%m-%Y %Hh%M\")\n",
        "    os.mkdir(folder)\n",
        "    joblib.dump(model, folder + \"/\" + \"model.joblib\")\n",
        "    \n",
        "def load_scikit_model(folder):\n",
        "    loaded_model = joblib.load(folder + \"/model.joblib\")\n",
        "    return loaded_model"
      ],
      "execution_count": null,
      "outputs": []
    },
    {
      "cell_type": "markdown",
      "metadata": {
        "id": "1udVhYxMsmZC",
        "colab_type": "text"
      },
      "source": [
        "**Salviamo** il modello migliore trovato."
      ]
    },
    {
      "cell_type": "code",
      "metadata": {
        "id": "1-XF-y66smZD",
        "colab_type": "code",
        "colab": {}
      },
      "source": [
        "save_scikit_model(\"DTR-grid\", best_regressor)"
      ],
      "execution_count": null,
      "outputs": []
    },
    {
      "cell_type": "markdown",
      "metadata": {
        "id": "TJDXA6YssmZI",
        "colab_type": "text"
      },
      "source": [
        "**Carichiamo** il modello appena salvato per verificare che non ci siano stati errori nel salvataggio."
      ]
    },
    {
      "cell_type": "code",
      "metadata": {
        "id": "XHE4lcy1smZK",
        "colab_type": "code",
        "colab": {}
      },
      "source": [
        "loaded_model = load_scikit_model(\"models/DTR-grid-08-07-2020 15h27\")\n",
        "\n",
        "loaded_predicted = loaded_model.predict(test_X_imp)"
      ],
      "execution_count": null,
      "outputs": []
    }
  ]
}
