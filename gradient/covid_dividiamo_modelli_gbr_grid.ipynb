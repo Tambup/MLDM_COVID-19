{
  "nbformat": 4,
  "nbformat_minor": 0,
  "metadata": {
    "kernelspec": {
      "display_name": "Python 3",
      "language": "python",
      "name": "python3"
    },
    "language_info": {
      "codemirror_mode": {
        "name": "ipython",
        "version": 3
      },
      "file_extension": ".py",
      "mimetype": "text/x-python",
      "name": "python",
      "nbconvert_exporter": "python",
      "pygments_lexer": "ipython3",
      "version": "3.8.2"
    },
    "colab": {
      "name": "Copy of covid-dividiamo-modelli-gbr-grid.ipynb",
      "provenance": [],
      "collapsed_sections": [],
      "toc_visible": true,
      "include_colab_link": true
    }
  },
  "cells": [
    {
      "cell_type": "markdown",
      "metadata": {
        "id": "view-in-github",
        "colab_type": "text"
      },
      "source": [
        "<a href=\"https://colab.research.google.com/github/Tomawock/MLDM_COVID-19/blob/master/gradient/covid_dividiamo_modelli_gbr_grid.ipynb\" target=\"_parent\"><img src=\"https://colab.research.google.com/assets/colab-badge.svg\" alt=\"Open In Colab\"/></a>"
      ]
    },
    {
      "cell_type": "markdown",
      "metadata": {
        "id": "v1fgOuLY2V-N",
        "colab_type": "text"
      },
      "source": [
        "# COVID-DIVIDIAMO\n",
        "\n",
        "## CREAZIONE DI MODELLI basati su Ensemble (Gradient Boosting)\n",
        "\n",
        "Questo notebook ha lo scopo di addestrare alcuni **modelli** di predizione per il nostro dataset basati sulla tecnica di Ensemble **Gradient Boosting**. Utilizzeremo, come di consueto, la procedura automatizzata tramite **grid search**."
      ]
    },
    {
      "cell_type": "code",
      "metadata": {
        "id": "TIRh0QHt2V-O",
        "colab_type": "code",
        "colab": {
          "base_uri": "https://localhost:8080/",
          "height": 35
        },
        "outputId": "2ac9708b-c0ef-469e-dbc1-b0018053843a"
      },
      "source": [
        "%autosave 30\n",
        "%matplotlib inline\n",
        "\n",
        "import os\n",
        "import numpy as np\n",
        "import pandas as pd\n",
        "import matplotlib.pyplot as plt\n",
        "plt.rcParams[\"figure.figsize\"] = (15, 8)\n",
        "\n",
        "from sklearn.impute import SimpleImputer\n",
        "from sklearn.pipeline import Pipeline\n",
        "from sklearn.model_selection import GridSearchCV, StratifiedKFold, KFold\n",
        "from sklearn.metrics import r2_score, mean_squared_error, max_error\n",
        "\n",
        "from sklearn.ensemble import GradientBoostingRegressor\n",
        "\n",
        "\n",
        "import warnings\n",
        "warnings.filterwarnings('ignore')"
      ],
      "execution_count": null,
      "outputs": [
        {
          "output_type": "display_data",
          "data": {
            "application/javascript": [
              "IPython.notebook.set_autosave_interval(30000)"
            ]
          },
          "metadata": {
            "tags": []
          }
        },
        {
          "output_type": "stream",
          "text": [
            "Autosaving every 30 seconds\n"
          ],
          "name": "stdout"
        }
      ]
    },
    {
      "cell_type": "markdown",
      "metadata": {
        "id": "8kAqv5eF2V-S",
        "colab_type": "text"
      },
      "source": [
        "### MODELLO: preparazione dei datasets\n",
        "\n",
        "**Carichiamo** il dataset ed impostiamo il **random state**. Trasformiamo l'attributo nominale in numerico.\n",
        "\n",
        "**Dividiamo** il dataset in:\n",
        "* **training** set\n",
        "* **testing** set\n",
        "\n",
        "Utilizziamo sempre l'**80%** dei records per il training set ed il restante per il testing."
      ]
    },
    {
      "cell_type": "code",
      "metadata": {
        "id": "swFhaZ8y2V-S",
        "colab_type": "code",
        "colab": {}
      },
      "source": [
        "df = pd.read_csv(\"/content/dataset_finale_medie_rnd220.csv\", parse_dates=[\"Data\"], infer_datetime_format=True)\n",
        "\n",
        "#rnd_state = 432145 MOLTO MOLTO BUONO\n",
        "rnd_state = 432145\n",
        "predictor_columns = [ 'pass_Altezza Neve', 'pass_Ammoniaca', 'pass_Benzene',\n",
        "       'pass_Biossido di Azoto', 'pass_Biossido di Zolfo', 'pass_BlackCarbon',\n",
        "       'pass_Direzione Vento', 'pass_Livello Idrometrico',\n",
        "       'pass_Monossido di Azoto', 'pass_Monossido di Carbonio',\n",
        "       'pass_Ossidi di Azoto', 'pass_Ozono', 'pass_PM10 (SM2005)',\n",
        "       'pass_Particelle sospese PM2.5', 'pass_Precipitazione',\n",
        "       'pass_Radiazione Globale', 'pass_Temperatura', 'pass_Umidità Relativa',\n",
        "       'pass_Velocità Vento', 'pass_deceduti', 'pass_dimessi_guariti',\n",
        "       'pass_isolamento_domiciliare', 'pass_nuovi_positivi',\n",
        "       'pass_ricoverati_con_sintomi', 'pass_tamponi', 'pass_terapia_intensiva',\n",
        "       'pass_totale_casi', 'pass_totale_ospedalizzati', 'pass_totale_positivi',\n",
        "       'pass_variazione_totale_positivi']\n"
      ],
      "execution_count": null,
      "outputs": []
    },
    {
      "cell_type": "markdown",
      "metadata": {
        "id": "7ETdWiKn2V-U",
        "colab_type": "text"
      },
      "source": [
        "**Prepariamo** il **training** set ed il **test** set."
      ]
    },
    {
      "cell_type": "code",
      "metadata": {
        "id": "nJLCBaWS2V-U",
        "colab_type": "code",
        "colab": {}
      },
      "source": [
        "train = df.sample(frac=0.7, random_state=rnd_state)\n",
        "test = df.drop(train.index)\n",
        "\n",
        "train_X = train[predictor_columns]\n",
        "train_y = train[\"fut1_nuovi_positivi\"]\n",
        "\n",
        "test_X = test[predictor_columns]\n",
        "test_y = test[\"fut1_nuovi_positivi\"]"
      ],
      "execution_count": null,
      "outputs": []
    },
    {
      "cell_type": "markdown",
      "metadata": {
        "id": "YTD9vgwz2V-W",
        "colab_type": "text"
      },
      "source": [
        "### MODELLO: training ###\n",
        "\n",
        "Creiamo il **regressore** basato su gradient boosting."
      ]
    },
    {
      "cell_type": "code",
      "metadata": {
        "id": "My3dUG_G2V-W",
        "colab_type": "code",
        "colab": {}
      },
      "source": [
        "gb_regressor = GradientBoostingRegressor(random_state=rnd_state)"
      ],
      "execution_count": null,
      "outputs": []
    },
    {
      "cell_type": "markdown",
      "metadata": {
        "id": "VfMhETLn2V-Y",
        "colab_type": "text"
      },
      "source": [
        "Definiamo la **Pipeline**, come abbiamo fatto per le ANN:\n",
        "* imputer\n",
        "* addestramento del modello"
      ]
    },
    {
      "cell_type": "code",
      "metadata": {
        "id": "8vuOAg0q2V-Y",
        "colab_type": "code",
        "colab": {}
      },
      "source": [
        "pipeline = Pipeline([(\"imp\", SimpleImputer(missing_values=np.nan, strategy=\"mean\")), \n",
        "                     (\"gbr\", gb_regressor)])"
      ],
      "execution_count": null,
      "outputs": []
    },
    {
      "cell_type": "markdown",
      "metadata": {
        "id": "VxS9J-mt2V-a",
        "colab_type": "text"
      },
      "source": [
        "Prepariamo gli **iper-parametri** per la grid search."
      ]
    },
    {
      "cell_type": "code",
      "metadata": {
        "id": "-TVRLXDW2V-b",
        "colab_type": "code",
        "colab": {}
      },
      "source": [
        "loss_list = [\"ls\", \"lad\"]\n",
        "n_estimators_list = [100]\n",
        "criterion_list = [\"mse\", \"friedman_mse\"]\n",
        "min_samples_split_list = [2, 3]\n",
        "min_samples_leaf_list = [1, 2]\n",
        "max_depth_list = [3, 5]\n",
        "max_features_list = [\"sqrt\", \"auto\"]\n",
        "\n",
        "param_grid = {\"gbr__loss\": loss_list,\n",
        "              \"gbr__n_estimators\": n_estimators_list,\n",
        "              \"gbr__criterion\": criterion_list,\n",
        "              \"gbr__min_samples_split\": min_samples_split_list,\n",
        "              \"gbr__min_samples_leaf\": min_samples_leaf_list,\n",
        "              \"gbr__max_depth\": max_depth_list,\n",
        "              \"gbr__max_features\": max_features_list}"
      ],
      "execution_count": null,
      "outputs": []
    },
    {
      "cell_type": "markdown",
      "metadata": {
        "id": "GW-YQH_h2V-d",
        "colab_type": "text"
      },
      "source": [
        "**Addestriamo** il regressore mediante **grid search** e **k-fold** cross validation. Anche questa volta, utilizziamo k non superiore a 5 in modo da avere degli insiemi statisticamente significativi (con almeno 30 elementi)."
      ]
    },
    {
      "cell_type": "code",
      "metadata": {
        "id": "H32UYhsu2V-f",
        "colab_type": "code",
        "colab": {
          "base_uri": "https://localhost:8080/",
          "height": 623
        },
        "outputId": "d64f9f30-b905-487c-9bf6-f0f3853cfe8e"
      },
      "source": [
        "kfold_splits = 4\n",
        "grid_regressor = GridSearchCV(estimator=pipeline,  \n",
        "                              n_jobs=-1, \n",
        "                              verbose=1,\n",
        "                              return_train_score=True,\n",
        "                            cv=KFold(n_splits=kfold_splits, shuffle=True, random_state=rnd_state),\n",
        "                              param_grid=param_grid)\n",
        "\n",
        "grid_regressor.fit(train_X, train_y)"
      ],
      "execution_count": null,
      "outputs": [
        {
          "output_type": "stream",
          "text": [
            "Fitting 4 folds for each of 64 candidates, totalling 256 fits\n"
          ],
          "name": "stdout"
        },
        {
          "output_type": "stream",
          "text": [
            "[Parallel(n_jobs=-1)]: Using backend LokyBackend with 2 concurrent workers.\n",
            "[Parallel(n_jobs=-1)]: Done 134 tasks      | elapsed:   12.4s\n",
            "[Parallel(n_jobs=-1)]: Done 253 out of 256 | elapsed:   24.0s remaining:    0.3s\n",
            "[Parallel(n_jobs=-1)]: Done 256 out of 256 | elapsed:   24.3s finished\n"
          ],
          "name": "stderr"
        },
        {
          "output_type": "execute_result",
          "data": {
            "text/plain": [
              "GridSearchCV(cv=KFold(n_splits=4, random_state=432145, shuffle=True),\n",
              "             error_score=nan,\n",
              "             estimator=Pipeline(memory=None,\n",
              "                                steps=[('imp',\n",
              "                                        SimpleImputer(add_indicator=False,\n",
              "                                                      copy=True,\n",
              "                                                      fill_value=None,\n",
              "                                                      missing_values=nan,\n",
              "                                                      strategy='mean',\n",
              "                                                      verbose=0)),\n",
              "                                       ('gbr',\n",
              "                                        GradientBoostingRegressor(alpha=0.9,\n",
              "                                                                  ccp_alpha=0.0,\n",
              "                                                                  criterion='friedman_mse',\n",
              "                                                                  init=None,\n",
              "                                                                  learning_rate=0.1,\n",
              "                                                                  loss=...\n",
              "                                                                  warm_start=False))],\n",
              "                                verbose=False),\n",
              "             iid='deprecated', n_jobs=-1,\n",
              "             param_grid={'gbr__criterion': ['mse', 'friedman_mse'],\n",
              "                         'gbr__loss': ['ls', 'lad'], 'gbr__max_depth': [3, 5],\n",
              "                         'gbr__max_features': ['sqrt', 'auto'],\n",
              "                         'gbr__min_samples_leaf': [1, 2],\n",
              "                         'gbr__min_samples_split': [2, 3],\n",
              "                         'gbr__n_estimators': [100]},\n",
              "             pre_dispatch='2*n_jobs', refit=True, return_train_score=True,\n",
              "             scoring=None, verbose=1)"
            ]
          },
          "metadata": {
            "tags": []
          },
          "execution_count": 222
        }
      ]
    },
    {
      "cell_type": "markdown",
      "metadata": {
        "id": "iD_0yred2V-g",
        "colab_type": "text"
      },
      "source": [
        "### MODELLO: testing ###\n",
        "\n",
        "Processiamo i dati di test allo stesso modo del training e procediamo alla fase di testing del **miglior regressore**, addestrato mediante grid search."
      ]
    },
    {
      "cell_type": "code",
      "metadata": {
        "id": "Y8ISFwcv2V-h",
        "colab_type": "code",
        "colab": {}
      },
      "source": [
        "best_regressor = grid_regressor.best_estimator_[\"gbr\"]\n",
        "\n",
        "imputer = SimpleImputer(missing_values=np.nan, strategy=\"mean\")\n",
        "imputer = imputer.fit(test_X)\n",
        "test_X_imp = imputer.transform(test_X)\n",
        "\n",
        "predicted = best_regressor.predict(test_X_imp)"
      ],
      "execution_count": null,
      "outputs": []
    },
    {
      "cell_type": "code",
      "metadata": {
        "id": "o1N0qUJV2V-i",
        "colab_type": "code",
        "colab": {
          "base_uri": "https://localhost:8080/",
          "height": 499
        },
        "outputId": "f4fa8b4e-f44d-4f1a-9afa-9b994c3d2081"
      },
      "source": [
        "plt.plot(predicted, label=\"nuovi_positivi_pred\")\n",
        "plt.plot(test_y.values, label=\"nuovi_positivi\")\n",
        "plt.legend()\n",
        "plt.title(\"Risultati del Gradient Boosting regressor addestrato con grid search\")\n",
        "plt.show()"
      ],
      "execution_count": null,
      "outputs": [
        {
          "output_type": "display_data",
          "data": {
            "image/png": "[encoded data removed]",
            "text/plain": [
              "<Figure size 1080x576 with 1 Axes>"
            ]
          },
          "metadata": {
            "tags": [],
            "needs_background": "light"
          }
        }
      ]
    },
    {
      "cell_type": "markdown",
      "metadata": {
        "id": "khqYZQLU2V-k",
        "colab_type": "text"
      },
      "source": [
        "### MODELLO: valutazione ed osservazioni ###\n",
        "\n",
        "Vediamo le **caratteristiche** del miglior Gradient Boosting regressor trovato."
      ]
    },
    {
      "cell_type": "code",
      "metadata": {
        "id": "AV1TD1IO2V-k",
        "colab_type": "code",
        "colab": {
          "base_uri": "https://localhost:8080/",
          "height": 182
        },
        "outputId": "d1dc96f7-ea9e-4d65-f3d3-540e064699d6"
      },
      "source": [
        "best_regressor"
      ],
      "execution_count": null,
      "outputs": [
        {
          "output_type": "execute_result",
          "data": {
            "text/plain": [
              "GradientBoostingRegressor(alpha=0.9, ccp_alpha=0.0, criterion='mse', init=None,\n",
              "                          learning_rate=0.1, loss='lad', max_depth=3,\n",
              "                          max_features='sqrt', max_leaf_nodes=None,\n",
              "                          min_impurity_decrease=0.0, min_impurity_split=None,\n",
              "                          min_samples_leaf=1, min_samples_split=3,\n",
              "                          min_weight_fraction_leaf=0.0, n_estimators=100,\n",
              "                          n_iter_no_change=None, presort='deprecated',\n",
              "                          random_state=432145, subsample=1.0, tol=0.0001,\n",
              "                          validation_fraction=0.1, verbose=0, warm_start=False)"
            ]
          },
          "metadata": {
            "tags": []
          },
          "execution_count": 225
        }
      ]
    },
    {
      "cell_type": "markdown",
      "metadata": {
        "id": "CcvvJ_j_2V-m",
        "colab_type": "text"
      },
      "source": [
        "Si tratta di un regressore di insieme che contiene **100** alberi di decisione, che sfrutta il **subsampling delle features**."
      ]
    },
    {
      "cell_type": "markdown",
      "metadata": {
        "id": "5ecDwgoi2V-m",
        "colab_type": "text"
      },
      "source": [
        "Calcoliamo alcune **misure di performance** per il regressore di insieme. Abbiamo scelto quelle a parer nostro più significative:\n",
        "* **R2**: coefficiente di determinazione\n",
        "* **RMSE**: root mean squared error\n",
        "* **MAX Error**: errore massimo"
      ]
    },
    {
      "cell_type": "code",
      "metadata": {
        "id": "ypfNH0b72V-n",
        "colab_type": "code",
        "colab": {
          "base_uri": "https://localhost:8080/",
          "height": 72
        },
        "outputId": "9f02bbe6-85cf-4461-b96c-89e147bbf3ca"
      },
      "source": [
        "print(f\"R2: \\t\\t{r2_score(test_y, predicted):.3}\")\n",
        "print(f\"RMSE: \\t\\t{mean_squared_error(test_y, predicted, squared=False):.3}\")\n",
        "print(f\"MAX ERR: \\t{max_error(test_y, predicted)}\")"
      ],
      "execution_count": null,
      "outputs": [
        {
          "output_type": "stream",
          "text": [
            "R2: \t\t0.886\n",
            "RMSE: \t\t1.71e+02\n",
            "MAX ERR: \t447.2053415669443\n"
          ],
          "name": "stdout"
        }
      ]
    },
    {
      "cell_type": "markdown",
      "metadata": {
        "id": "MAwbkF_R2V-o",
        "colab_type": "text"
      },
      "source": [
        "**Osserviamo** che le performance del miglior regressore addestrato sono molto **buone**.\n",
        "\n",
        "**R2** è **0.918**, ampiamente superiore a 0.5 e molto vicino ad 1 (R2 massimo). Il modello spiega gran parte della varianza dei dati.\n",
        "\n",
        "**RMSE** è **52.1**, pertanto il modello in media sbaglia il conteggio dei nuovi positivi di 52 unità.\n",
        "\n",
        "**MAX ERR** è **182.38**. Dal grafico si nota come in un preciso giorno il predittore sbagli considerevolmente. Questo errore abbastanza pronunciato va ad influenzare negativamente l'RMSE."
      ]
    },
    {
      "cell_type": "markdown",
      "metadata": {
        "id": "kDyYcSxk2V-p",
        "colab_type": "text"
      },
      "source": [
        "### MODELLO: feature importance\n",
        "\n",
        "Anche per il regressore basato su gradient boosting, abbiamo a disposizione la **feature importance**."
      ]
    },
    {
      "cell_type": "code",
      "metadata": {
        "id": "aEzBPqyk2V-p",
        "colab_type": "code",
        "colab": {
          "base_uri": "https://localhost:8080/",
          "height": 568
        },
        "outputId": "26709ea7-b664-4cf9-a60a-66227d574000"
      },
      "source": [
        "feature_importance = dict(zip(predictor_columns, best_regressor.feature_importances_))\n",
        "feature_importance"
      ],
      "execution_count": null,
      "outputs": [
        {
          "output_type": "execute_result",
          "data": {
            "text/plain": [
              "{'pass_Altezza Neve': 0.07778122612708874,\n",
              " 'pass_Ammoniaca': 0.024296165751259747,\n",
              " 'pass_Benzene': 0.027166496861754222,\n",
              " 'pass_Biossido di Azoto': 0.023217849920792875,\n",
              " 'pass_Biossido di Zolfo': 0.04332976201440594,\n",
              " 'pass_BlackCarbon': 0.037462973034156466,\n",
              " 'pass_Direzione Vento': 0.026604729727186447,\n",
              " 'pass_Livello Idrometrico': 0.017153575657719567,\n",
              " 'pass_Monossido di Azoto': 0.03378691446042776,\n",
              " 'pass_Monossido di Carbonio': 0.01691185092613243,\n",
              " 'pass_Ossidi di Azoto': 0.023204154136191507,\n",
              " 'pass_Ozono': 0.032288938107178505,\n",
              " 'pass_PM10 (SM2005)': 0.02327486766987828,\n",
              " 'pass_Particelle sospese PM2.5': 0.008894762495790862,\n",
              " 'pass_Precipitazione': 0.0256187864024171,\n",
              " 'pass_Radiazione Globale': 0.03520550016220158,\n",
              " 'pass_Temperatura': 0.04750531551405303,\n",
              " 'pass_Umidità Relativa': 0.022237369615581374,\n",
              " 'pass_Velocità Vento': 0.038559759838208515,\n",
              " 'pass_deceduti': 0.037928682265740254,\n",
              " 'pass_dimessi_guariti': 0.11927605990052326,\n",
              " 'pass_isolamento_domiciliare': 0.01859172098086074,\n",
              " 'pass_nuovi_positivi': 0.019702203008202003,\n",
              " 'pass_ricoverati_con_sintomi': 0.01844640785791713,\n",
              " 'pass_tamponi': 0.05668322559179456,\n",
              " 'pass_terapia_intensiva': 0.05074059878421232,\n",
              " 'pass_totale_casi': 0.02556751497037302,\n",
              " 'pass_totale_ospedalizzati': 0.019806904504251262,\n",
              " 'pass_totale_positivi': 0.026665568625241717,\n",
              " 'pass_variazione_totale_positivi': 0.022090115088459032}"
            ]
          },
          "metadata": {
            "tags": []
          },
          "execution_count": 227
        }
      ]
    },
    {
      "cell_type": "markdown",
      "metadata": {
        "id": "6O-s5XlE2V-r",
        "colab_type": "text"
      },
      "source": [
        "La feature più importante per lo split è, ovviamente, **\"nuovi_positivi_mean\"**, ossia la media dei nuovi positivi nei 5 giorni precedenti rispetto al giorno di riferimento.\n",
        "\n",
        "Ancora una volta, abbiamo la conferma che la seconda feature per importanza è **\"so2\"**: l'anidride solforosa. La **correlazione** con i positivi predetti sembrerebbe significativa.\n",
        "\n",
        "Non solo: l'attributo **\"region\"** è sempre quello meno importante di tutti."
      ]
    },
    {
      "cell_type": "markdown",
      "metadata": {
        "id": "laSHCnaz2V-r",
        "colab_type": "text"
      },
      "source": [
        "### Salvataggio e caricamento del modello ###\n",
        "\n",
        "**Salviamo** il modello migliore trovato."
      ]
    },
    {
      "cell_type": "code",
      "metadata": {
        "id": "Uornt8T92V-r",
        "colab_type": "code",
        "colab": {
          "base_uri": "https://localhost:8080/",
          "height": 172
        },
        "outputId": "321dc0f6-0bd4-43df-b3d3-e4516cd5af34"
      },
      "source": [
        "save_scikit_model(\"GBR-grid\", best_regressor)"
      ],
      "execution_count": null,
      "outputs": [
        {
          "output_type": "error",
          "ename": "NameError",
          "evalue": "ignored",
          "traceback": [
            "\u001b[0;31m---------------------------------------------------------------------------\u001b[0m",
            "\u001b[0;31mNameError\u001b[0m                                 Traceback (most recent call last)",
            "\u001b[0;32m<ipython-input-228-173458948f83>\u001b[0m in \u001b[0;36m<module>\u001b[0;34m()\u001b[0m\n\u001b[0;32m----> 1\u001b[0;31m \u001b[0msave_scikit_model\u001b[0m\u001b[0;34m(\u001b[0m\u001b[0;34m\"GBR-grid\"\u001b[0m\u001b[0;34m,\u001b[0m \u001b[0mbest_regressor\u001b[0m\u001b[0;34m)\u001b[0m\u001b[0;34m\u001b[0m\u001b[0;34m\u001b[0m\u001b[0m\n\u001b[0m",
            "\u001b[0;31mNameError\u001b[0m: name 'save_scikit_model' is not defined"
          ]
        }
      ]
    },
    {
      "cell_type": "markdown",
      "metadata": {
        "id": "YYE3lMqt2V-t",
        "colab_type": "text"
      },
      "source": [
        "**Carichiamo** il modello appena salvato per verificare che non ci siano stati errori nel salvataggio."
      ]
    },
    {
      "cell_type": "code",
      "metadata": {
        "id": "YKDvsGnB2V-t",
        "colab_type": "code",
        "colab": {}
      },
      "source": [
        "loaded_model = load_scikit_model(\"models/GBR-grid-10-07-2020 14h58\")\n",
        "\n",
        "loaded_predicted = loaded_model.predict(test_X_imp)"
      ],
      "execution_count": null,
      "outputs": []
    },
    {
      "cell_type": "code",
      "metadata": {
        "id": "2vR5-dGu2V-v",
        "colab_type": "code",
        "colab": {}
      },
      "source": [
        ""
      ],
      "execution_count": null,
      "outputs": []
    }
  ]
}