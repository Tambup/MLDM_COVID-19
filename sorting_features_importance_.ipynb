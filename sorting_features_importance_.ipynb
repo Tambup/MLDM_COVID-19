{
  "nbformat": 4,
  "nbformat_minor": 0,
  "metadata": {
    "colab": {
      "name": "sorting features importance .ipynb",
      "provenance": [],
      "include_colab_link": true
    },
    "kernelspec": {
      "name": "python3",
      "display_name": "Python 3"
    }
  },
  "cells": [
    {
      "cell_type": "markdown",
      "metadata": {
        "id": "view-in-github",
        "colab_type": "text"
      },
      "source": [
        "<a href=\"https://colab.research.google.com/github/Tomawock/MLDM_COVID-19/blob/master/sorting_features_importance_.ipynb\" target=\"_parent\"><img src=\"https://colab.research.google.com/assets/colab-badge.svg\" alt=\"Open In Colab\"/></a>"
      ]
    },
    {
      "cell_type": "code",
      "metadata": {
        "id": "QFP5-uGM8LTm"
      },
      "source": [
        "import numpy as np\n",
        "import os"
      ],
      "execution_count": 5,
      "outputs": []
    },
    {
      "cell_type": "code",
      "metadata": {
        "id": "hp7C4wQN8op6",
        "outputId": "1036e1f9-a222-4ec7-b92c-aefa56995af3",
        "colab": {
          "base_uri": "https://localhost:8080/",
          "height": 34
        }
      },
      "source": [
        "from google.colab import drive\n",
        "drive.mount('/content/drive')\n",
        "os.chdir('/content/drive/Shared drives/MLDM progetto/Datasets/dataset_risultati_test')"
      ],
      "execution_count": 9,
      "outputs": [
        {
          "output_type": "stream",
          "text": [
            "Drive already mounted at /content/drive; to attempt to forcibly remount, call drive.mount(\"/content/drive\", force_remount=True).\n"
          ],
          "name": "stdout"
        }
      ]
    },
    {
      "cell_type": "code",
      "metadata": {
        "id": "2UYBebYNZsUf",
        "outputId": "24d6d85c-c063-4c09-b7a0-18e08f850698",
        "colab": {
          "base_uri": "https://localhost:8080/",
          "height": 312
        }
      },
      "source": [
        "scores ={} # Not `dict`. Don't reuse builtin names.\n",
        "\n",
        "with open('feature_importance_mean.txt', 'r') as f:  # Not \"r+\" unless you want to write later\n",
        "    for line in f:\n",
        "        line=line.replace('{','').replace('}','')\n",
        "        res=line.split(',')\n",
        "        for i in res:\n",
        "          key, value=i.split(':')\n",
        "          # print('KEy'+key+'__VAL__'+value)\n",
        "          scores[key]=value\n",
        "\n",
        "for w in sorted(scores, key=scores.get, reverse=True):\n",
        "    print(w, scores[w])"
      ],
      "execution_count": null,
      "outputs": [
        {
          "output_type": "stream",
          "text": [
            " 'pass_deceduti'  0.24735225948968445\n",
            " 'pass_tamponi'  0.17994189605805544\n",
            "\n",
            " 'pass_nuovi_positivi'  0.1138109208427852\n",
            " 'pass_Monossido di Carbonio'  0.09199759755181684\n",
            " 'pass_Benzene'  0.08304268568018312\n",
            " 'pass_Temperatura'  0.08178344016689541\n",
            " 'pass_Particelle sospese PM2.5'  0.060976629746110726\n",
            " 'pass_ricoverati_con_sintomi'  0.05601918947280615\n",
            " 'pass_PM10 (SM2005)'  0.026152313447589993\n",
            " 'pass_Ossidi di Azoto'  0.013109005097568295\n",
            " 'pass_Ozono'  0.010636636424099738\n",
            " 'pass_Monossido di Azoto'  0.009993707684502464\n",
            " 'pass_Biossido di Azoto'  0.009096983514725597\n",
            " 'pass_Biossido di Zolfo'  0.007292564999037653\n",
            " 'pass_Radiazione Globale'  0.005688024956866651\n",
            "'pass_Ammoniaca'  0.0031061448672722973\n"
          ],
          "name": "stdout"
        }
      ]
    },
    {
      "cell_type": "code",
      "metadata": {
        "id": "GbTyXayu8PJg",
        "outputId": "1abf451d-8837-487b-e72d-3a8b97c41300",
        "colab": {
          "base_uri": "https://localhost:8080/",
          "height": 295
        }
      },
      "source": [
        "scores ={}\n",
        "\n",
        "with open('feature_importance_mean_noRnd.txt', 'r') as f:\n",
        "    for line in f:\n",
        "        line=line.replace('{','').replace('}','')\n",
        "        res=line.split(',')\n",
        "        for i in res:\n",
        "          key, value=i.split(':')\n",
        "          # print('KEy'+key+'__VAL__'+value)\n",
        "          scores[key]=value\n",
        "\n",
        "for w in sorted(scores, key=scores.get, reverse=True):\n",
        "    print(w, scores[w])"
      ],
      "execution_count": 11,
      "outputs": [
        {
          "output_type": "stream",
          "text": [
            " 'pass_deceduti'  0.2223923203895591\n",
            " 'pass_tamponi'  0.14944987129651927\n",
            " 'pass_nuovi_positivi'  0.14878384844348566\n",
            " 'pass_ricoverati_con_sintomi'  0.10779381765399804\n",
            " 'pass_Monossido di Carbonio'  0.0985136675316144\n",
            " 'pass_Benzene'  0.0661184834314436\n",
            " 'pass_Temperatura'  0.06317150736847854\n",
            " 'pass_Particelle sospese PM2.5'  0.049852806150468276\n",
            " 'pass_PM10 (SM2005)'  0.028203161894535398\n",
            " 'pass_Monossido di Azoto'  0.018841380344509683\n",
            " 'pass_Ozono'  0.010926735382568657\n",
            " 'pass_Biossido di Azoto'  0.00892335112920581\n",
            " 'pass_Ossidi di Azoto'  0.008395201960898957\n",
            " 'pass_Radiazione Globale'  0.008105423095388016\n",
            " 'pass_Biossido di Zolfo'  0.0070066520650376675\n",
            "'pass_Ammoniaca'  0.0035217718622889724\n"
          ],
          "name": "stdout"
        }
      ]
    }
  ]
}