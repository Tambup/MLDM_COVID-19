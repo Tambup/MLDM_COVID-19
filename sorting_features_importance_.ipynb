{
  "nbformat": 4,
  "nbformat_minor": 0,
  "metadata": {
    "colab": {
      "name": "sorting features importance .ipynb",
      "provenance": [],
      "authorship_tag": "ABX9TyPrvoIn3ApS89iNDnKmB0g5",
      "include_colab_link": true
    },
    "kernelspec": {
      "name": "python3",
      "display_name": "Python 3"
    }
  },
  "cells": [
    {
      "cell_type": "markdown",
      "metadata": {
        "id": "view-in-github",
        "colab_type": "text"
      },
      "source": [
        "<a href=\"https://colab.research.google.com/github/Tomawock/MLDM_COVID-19/blob/master/sorting_features_importance_.ipynb\" target=\"_parent\"><img src=\"https://colab.research.google.com/assets/colab-badge.svg\" alt=\"Open In Colab\"/></a>"
      ]
    },
    {
      "cell_type": "code",
      "metadata": {
        "id": "2UYBebYNZsUf",
        "colab_type": "code",
        "colab": {
          "base_uri": "https://localhost:8080/",
          "height": 312
        },
        "outputId": "24d6d85c-c063-4c09-b7a0-18e08f850698"
      },
      "source": [
        "import numpy as np\n",
        "\n",
        "scores ={} # Not `dict`. Don't reuse builtin names.\n",
        "\n",
        "with open('/content/feature_importance_mean.txt', 'r') as f:  # Not \"r+\" unless you want to write later\n",
        "    for line in f:\n",
        "        line=line.replace('{','').replace('}','')\n",
        "        res=line.split(',')\n",
        "        for i in res:\n",
        "          key, value=i.split(':')\n",
        "          # print('KEy'+key+'__VAL__'+value)\n",
        "          scores[key]=value\n",
        "\n",
        "for w in sorted(scores, key=scores.get, reverse=True):\n",
        "    print(w, scores[w])"
      ],
      "execution_count": 39,
      "outputs": [
        {
          "output_type": "stream",
          "text": [
            " 'pass_deceduti'  0.24735225948968445\n",
            " 'pass_tamponi'  0.17994189605805544\n",
            "\n",
            " 'pass_nuovi_positivi'  0.1138109208427852\n",
            " 'pass_Monossido di Carbonio'  0.09199759755181684\n",
            " 'pass_Benzene'  0.08304268568018312\n",
            " 'pass_Temperatura'  0.08178344016689541\n",
            " 'pass_Particelle sospese PM2.5'  0.060976629746110726\n",
            " 'pass_ricoverati_con_sintomi'  0.05601918947280615\n",
            " 'pass_PM10 (SM2005)'  0.026152313447589993\n",
            " 'pass_Ossidi di Azoto'  0.013109005097568295\n",
            " 'pass_Ozono'  0.010636636424099738\n",
            " 'pass_Monossido di Azoto'  0.009993707684502464\n",
            " 'pass_Biossido di Azoto'  0.009096983514725597\n",
            " 'pass_Biossido di Zolfo'  0.007292564999037653\n",
            " 'pass_Radiazione Globale'  0.005688024956866651\n",
            "'pass_Ammoniaca'  0.0031061448672722973\n"
          ],
          "name": "stdout"
        }
      ]
    }
  ]
}