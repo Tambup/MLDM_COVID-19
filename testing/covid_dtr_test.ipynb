{
  "nbformat": 4,
  "nbformat_minor": 0,
  "metadata": {
    "colab": {
      "name": "covid_dtr_test.ipynb",
      "provenance": [],
      "authorship_tag": "ABX9TyOTHOgFdpmGc00t/E9SNHnj",
      "include_colab_link": true
    },
    "kernelspec": {
      "name": "python3",
      "display_name": "Python 3"
    }
  },
  "cells": [
    {
      "cell_type": "markdown",
      "metadata": {
        "id": "view-in-github",
        "colab_type": "text"
      },
      "source": [
        "<a href=\"https://colab.research.google.com/github/Tomawock/MLDM_COVID-19/blob/master/testing/covid_dtr_test.ipynb\" target=\"_parent\"><img src=\"https://colab.research.google.com/assets/colab-badge.svg\" alt=\"Open In Colab\"/></a>"
      ]
    },
    {
      "cell_type": "code",
      "metadata": {
        "id": "22hL5kZNbL34",
        "colab_type": "code",
        "colab": {}
      },
      "source": [
        "import os\n",
        "import numpy as np\n",
        "import pandas as pd\n",
        "import matplotlib.pyplot as plt\n",
        "\n",
        "import joblib\n",
        "from datetime import datetime\n",
        "\n",
        "from sklearn.impute import SimpleImputer\n",
        "from sklearn.pipeline import Pipeline\n",
        "from sklearn.model_selection import GridSearchCV, StratifiedKFold, KFold\n",
        "from sklearn.metrics import r2_score, mean_squared_error, max_error\n",
        "from sklearn.ensemble import RandomForestRegressor \n",
        "\n",
        "from sklearn.tree import DecisionTreeRegressor\n",
        "from sklearn import tree"
      ],
      "execution_count": 19,
      "outputs": []
    },
    {
      "cell_type": "code",
      "metadata": {
        "id": "dYst6mM_bfPv",
        "colab_type": "code",
        "colab": {}
      },
      "source": [
        "path_global='/content/'\n",
        "datasets_names= ['dataset_finale_medie_rnd1.csv','dataset_finale_medie_2_week_rnd1.csv','dataset_finale_medie_ponderate_rnd1.csv',\n",
        "               'dataset_finale_medie_rnd220.csv','dataset_finale_medie_2_week_rnd220.csv','dataset_finale_medie_ponderate_rnd220.csv']\n",
        "\n",
        "rdn_states= [1, 22, 777, 6654, 432145]\n",
        "features_prediction= ['fut1_nuovi_positivi','fut2_nuovi_positivi',\n",
        "                     'fut1_ricoverati_con_sintomi','fut2_ricoverati_con_sintomi',\n",
        "                     'fut1_terapia_intensiva','fut2_terapia_intensiva',\n",
        "                     'fut1_deceduti','fut2_deceduti',\n",
        "                     'fut1_totale_ospedalizzati','fut2_totale_ospedalizzati',\n",
        "                     'fut1_dimessi_guariti','fut2_dimessi_guariti']\n",
        "\n",
        "coefficents=['R2','RMSE','MAXERR']"
      ],
      "execution_count": 20,
      "outputs": []
    },
    {
      "cell_type": "code",
      "metadata": {
        "id": "DB6d15j8blHk",
        "colab_type": "code",
        "colab": {
          "base_uri": "https://localhost:8080/",
          "height": 914
        },
        "outputId": "7c35a6ab-7236-4604-e41d-fc2aa17a2e37"
      },
      "source": [
        "col=[]\n",
        "inde=[]\n",
        "for feature in features_prediction:\n",
        "  for coeff in coefficents:\n",
        "    col.append(coeff+'_'+feature)\n",
        "    #print(f\"Columns_names\\t{coeff+'_'+feature}\")\n",
        "\n",
        "for rnd in rdn_states:\n",
        "  for path in datasets_names:\n",
        "    inde.append(path+':'+str(rnd))\n",
        "    #print(f\"indexes_\\t{path+':'+str(rnd)}\")\n",
        "\n",
        "df_results=pd.DataFrame(columns=col,index=inde)\n",
        "print(df_results.columns)\n",
        "print(df_results.index)"
      ],
      "execution_count": 21,
      "outputs": [
        {
          "output_type": "stream",
          "text": [
            "Index(['R2_fut1_nuovi_positivi', 'RMSE_fut1_nuovi_positivi',\n",
            "       'MAXERR_fut1_nuovi_positivi', 'R2_fut2_nuovi_positivi',\n",
            "       'RMSE_fut2_nuovi_positivi', 'MAXERR_fut2_nuovi_positivi',\n",
            "       'R2_fut1_ricoverati_con_sintomi', 'RMSE_fut1_ricoverati_con_sintomi',\n",
            "       'MAXERR_fut1_ricoverati_con_sintomi', 'R2_fut2_ricoverati_con_sintomi',\n",
            "       'RMSE_fut2_ricoverati_con_sintomi',\n",
            "       'MAXERR_fut2_ricoverati_con_sintomi', 'R2_fut1_terapia_intensiva',\n",
            "       'RMSE_fut1_terapia_intensiva', 'MAXERR_fut1_terapia_intensiva',\n",
            "       'R2_fut2_terapia_intensiva', 'RMSE_fut2_terapia_intensiva',\n",
            "       'MAXERR_fut2_terapia_intensiva', 'R2_fut1_deceduti',\n",
            "       'RMSE_fut1_deceduti', 'MAXERR_fut1_deceduti', 'R2_fut2_deceduti',\n",
            "       'RMSE_fut2_deceduti', 'MAXERR_fut2_deceduti',\n",
            "       'R2_fut1_totale_ospedalizzati', 'RMSE_fut1_totale_ospedalizzati',\n",
            "       'MAXERR_fut1_totale_ospedalizzati', 'R2_fut2_totale_ospedalizzati',\n",
            "       'RMSE_fut2_totale_ospedalizzati', 'MAXERR_fut2_totale_ospedalizzati',\n",
            "       'R2_fut1_dimessi_guariti', 'RMSE_fut1_dimessi_guariti',\n",
            "       'MAXERR_fut1_dimessi_guariti', 'R2_fut2_dimessi_guariti',\n",
            "       'RMSE_fut2_dimessi_guariti', 'MAXERR_fut2_dimessi_guariti'],\n",
            "      dtype='object')\n",
            "Index(['dataset_finale_medie_rnd1.csv:1',\n",
            "       'dataset_finale_medie_2_week_rnd1.csv:1',\n",
            "       'dataset_finale_medie_ponderate_rnd1.csv:1',\n",
            "       'dataset_finale_medie_rnd220.csv:1',\n",
            "       'dataset_finale_medie_2_week_rnd220.csv:1',\n",
            "       'dataset_finale_medie_ponderate_rnd220.csv:1',\n",
            "       'dataset_finale_medie_rnd1.csv:22',\n",
            "       'dataset_finale_medie_2_week_rnd1.csv:22',\n",
            "       'dataset_finale_medie_ponderate_rnd1.csv:22',\n",
            "       'dataset_finale_medie_rnd220.csv:22',\n",
            "       'dataset_finale_medie_2_week_rnd220.csv:22',\n",
            "       'dataset_finale_medie_ponderate_rnd220.csv:22',\n",
            "       'dataset_finale_medie_rnd1.csv:777',\n",
            "       'dataset_finale_medie_2_week_rnd1.csv:777',\n",
            "       'dataset_finale_medie_ponderate_rnd1.csv:777',\n",
            "       'dataset_finale_medie_rnd220.csv:777',\n",
            "       'dataset_finale_medie_2_week_rnd220.csv:777',\n",
            "       'dataset_finale_medie_ponderate_rnd220.csv:777',\n",
            "       'dataset_finale_medie_rnd1.csv:6654',\n",
            "       'dataset_finale_medie_2_week_rnd1.csv:6654',\n",
            "       'dataset_finale_medie_ponderate_rnd1.csv:6654',\n",
            "       'dataset_finale_medie_rnd220.csv:6654',\n",
            "       'dataset_finale_medie_2_week_rnd220.csv:6654',\n",
            "       'dataset_finale_medie_ponderate_rnd220.csv:6654',\n",
            "       'dataset_finale_medie_rnd1.csv:432145',\n",
            "       'dataset_finale_medie_2_week_rnd1.csv:432145',\n",
            "       'dataset_finale_medie_ponderate_rnd1.csv:432145',\n",
            "       'dataset_finale_medie_rnd220.csv:432145',\n",
            "       'dataset_finale_medie_2_week_rnd220.csv:432145',\n",
            "       'dataset_finale_medie_ponderate_rnd220.csv:432145'],\n",
            "      dtype='object')\n"
          ],
          "name": "stdout"
        }
      ]
    },
    {
      "cell_type": "code",
      "metadata": {
        "id": "-U8YF9kYfRDZ",
        "colab_type": "code",
        "colab": {
          "base_uri": "https://localhost:8080/",
          "height": 35
        },
        "outputId": "981ed650-2d99-4fb6-c889-f40bce849d37"
      },
      "source": [
        "now = datetime.now()\n",
        "current_time = now.strftime(\"%H:%M:%S\")\n",
        "print(\"Start of all the code =\", current_time)"
      ],
      "execution_count": 22,
      "outputs": [
        {
          "output_type": "stream",
          "text": [
            "Start of all the code = 09:56:29\n"
          ],
          "name": "stdout"
        }
      ]
    },
    {
      "cell_type": "code",
      "metadata": {
        "id": "ATp0Uo_mbugB",
        "colab_type": "code",
        "colab": {}
      },
      "source": [
        "# datasets_names= ['dataset_finale_medie_rnd1.csv','dataset_finale_medie_2_week_rnd1.csv']\n",
        "# rdn_states= [1,22]\n",
        "# features_prediction= ['fut1_nuovi_positivi','fut2_nuovi_positivi']"
      ],
      "execution_count": 23,
      "outputs": []
    },
    {
      "cell_type": "code",
      "metadata": {
        "id": "GT6QVpLqbpHa",
        "colab_type": "code",
        "colab": {
          "base_uri": "https://localhost:8080/",
          "height": 394
        },
        "outputId": "78df563f-4c79-4b11-f1ed-bbbce21defd4"
      },
      "source": [
        "for rnd in rdn_states:\n",
        "  for dataset in datasets_names:\n",
        "    for feature in features_prediction:\n",
        "\n",
        "      df = pd.read_csv(path_global+''+dataset, parse_dates=[\"Data\"], infer_datetime_format=True)\n",
        "      rnd_state = rnd\n",
        "      predictor_columns = [\n",
        "            'pass_Ammoniaca', \n",
        "            'pass_Benzene',\n",
        "            'pass_Biossido di Azoto', \n",
        "            'pass_Biossido di Zolfo',\n",
        "            'pass_Monossido di Azoto', \n",
        "            'pass_Monossido di Carbonio',\n",
        "            'pass_Ossidi di Azoto', \n",
        "            'pass_Ozono', \n",
        "            'pass_PM10 (SM2005)',\n",
        "            'pass_Particelle sospese PM2.5',\n",
        "            'pass_Radiazione Globale', \n",
        "            'pass_Temperatura',\n",
        "            'pass_deceduti',\n",
        "            'pass_nuovi_positivi',\n",
        "            'pass_ricoverati_con_sintomi', \n",
        "            'pass_tamponi']\n",
        "      ################################################################################\n",
        "      train = df.sample(frac=0.7, random_state=rnd_state)\n",
        "      test = df.drop(train.index)\n",
        "\n",
        "      train_X = train[predictor_columns]\n",
        "      train_y = train[feature]\n",
        "\n",
        "      test_X = test[predictor_columns]\n",
        "      test_y = test[feature]\n",
        "      ################################################################################\n",
        "      dt_regressor = DecisionTreeRegressor(random_state=rnd_state)\n",
        "      ################################################################################\n",
        "      pipeline = Pipeline([(\"imp\", SimpleImputer(missing_values=np.nan, strategy=\"mean\")), \n",
        "                     (\"dtr\", dt_regressor)])\n",
        "      ################################################################################\n",
        "      criterion_list = [\"mse\", \"mae\", \"friedman_mse\"]\n",
        "      splitter_list = [\"best\", \"random\"]\n",
        "      max_depth_list = [None, 5, 6]\n",
        "      min_samples_split_list = [2, 3]\n",
        "      min_samples_split_leaf_list = [1, 2]\n",
        "      min_weight_fraction_leaf_list = [0.0, 0.1]\n",
        "      max_features_list = [None, \"sqrt\", \"auto\"]\n",
        "      max_leaf_nodes_list = [None, 10, 25]\n",
        "      min_impurity_decrease_list = [0.0, 0.1]\n",
        "\n",
        "      param_grid = {\"dtr__criterion\": criterion_list,\n",
        "                    \"dtr__splitter\": splitter_list,\n",
        "                    \"dtr__max_depth\": max_depth_list,\n",
        "                    \"dtr__min_samples_split\": min_samples_split_list,\n",
        "                    \"dtr__min_samples_leaf\": min_samples_split_leaf_list,\n",
        "                    \"dtr__min_weight_fraction_leaf\": min_weight_fraction_leaf_list,\n",
        "                    \"dtr__max_features\": max_features_list,\n",
        "                    \"dtr__max_leaf_nodes\": max_leaf_nodes_list,\n",
        "                    \"dtr__min_impurity_decrease\": min_impurity_decrease_list}\n",
        "      ################################################################################\n",
        "      kfold_splits = 5\n",
        "      grid_regressor = GridSearchCV(estimator=pipeline,  \n",
        "                              n_jobs=-1, \n",
        "                              verbose=0,\n",
        "                              return_train_score=True,\n",
        "                              cv=KFold(n_splits=kfold_splits, shuffle=True),\n",
        "                              param_grid=param_grid)\n",
        "\n",
        "      grid_regressor.fit(train_X, train_y)\n",
        "      ################################################################################\n",
        "      best_regressor = grid_regressor.best_estimator_['dtr']\n",
        "\n",
        "      imputer = SimpleImputer(missing_values=np.nan, strategy=\"mean\")\n",
        "      imputer = imputer.fit(test_X)\n",
        "      test_X_imp = imputer.transform(test_X)\n",
        "\n",
        "      predicted = best_regressor.predict(test_X_imp)\n",
        "      ################################################################################\n",
        "      r2=float(\"{:.3f}\".format(r2_score(test_y, predicted)))\n",
        "      rmse=float(\"{:.3f}\".format(mean_squared_error(test_y, predicted, squared=False)))\n",
        "      maxerr=float(\"{:.3f}\".format(max_error(test_y, predicted)))\n",
        "      print(f\"R2: \\t\\t{r2}\")\n",
        "      print(f\"RMSE: \\t\\t{rmse}\")\n",
        "      print(f\"MAX ERR: \\t{maxerr}\")\n",
        "      ################################################################################\n",
        "      df_results.loc[[dataset+':'+str(rnd_state)], [coefficents[0]+'_'+feature]] = r2\n",
        "      df_results.loc[[dataset+':'+str(rnd_state)], [coefficents[1]+'_'+feature]] = rmse\n",
        "      df_results.loc[[dataset+':'+str(rnd_state)], [coefficents[2]+'_'+feature]] = maxerr\n",
        "      now = datetime.now()\n",
        "      current_time = now.strftime(\"%H:%M:%S\")\n",
        "      print(\"END of one combination Cycle =\", current_time)"
      ],
      "execution_count": 24,
      "outputs": [
        {
          "output_type": "error",
          "ename": "KeyboardInterrupt",
          "evalue": "ignored",
          "traceback": [
            "\u001b[0;31m---------------------------------------------------------------------------\u001b[0m",
            "\u001b[0;31mKeyboardInterrupt\u001b[0m                         Traceback (most recent call last)",
            "\u001b[0;32m<ipython-input-24-541c0fa2f93f>\u001b[0m in \u001b[0;36m<module>\u001b[0;34m()\u001b[0m\n\u001b[1;32m     65\u001b[0m                               param_grid=param_grid)\n\u001b[1;32m     66\u001b[0m \u001b[0;34m\u001b[0m\u001b[0m\n\u001b[0;32m---> 67\u001b[0;31m       \u001b[0mgrid_regressor\u001b[0m\u001b[0;34m.\u001b[0m\u001b[0mfit\u001b[0m\u001b[0;34m(\u001b[0m\u001b[0mtrain_X\u001b[0m\u001b[0;34m,\u001b[0m \u001b[0mtrain_y\u001b[0m\u001b[0;34m)\u001b[0m\u001b[0;34m\u001b[0m\u001b[0;34m\u001b[0m\u001b[0m\n\u001b[0m\u001b[1;32m     68\u001b[0m       \u001b[0;31m################################################################################\u001b[0m\u001b[0;34m\u001b[0m\u001b[0;34m\u001b[0m\u001b[0;34m\u001b[0m\u001b[0m\n\u001b[1;32m     69\u001b[0m       \u001b[0mbest_regressor\u001b[0m \u001b[0;34m=\u001b[0m \u001b[0mgrid_regressor\u001b[0m\u001b[0;34m.\u001b[0m\u001b[0mbest_estimator_\u001b[0m\u001b[0;34m[\u001b[0m\u001b[0;34m'dtr'\u001b[0m\u001b[0;34m]\u001b[0m\u001b[0;34m\u001b[0m\u001b[0;34m\u001b[0m\u001b[0m\n",
            "\u001b[0;32m/usr/local/lib/python3.6/dist-packages/sklearn/model_selection/_search.py\u001b[0m in \u001b[0;36mfit\u001b[0;34m(self, X, y, groups, **fit_params)\u001b[0m\n\u001b[1;32m    708\u001b[0m                 \u001b[0;32mreturn\u001b[0m \u001b[0mresults\u001b[0m\u001b[0;34m\u001b[0m\u001b[0;34m\u001b[0m\u001b[0m\n\u001b[1;32m    709\u001b[0m \u001b[0;34m\u001b[0m\u001b[0m\n\u001b[0;32m--> 710\u001b[0;31m             \u001b[0mself\u001b[0m\u001b[0;34m.\u001b[0m\u001b[0m_run_search\u001b[0m\u001b[0;34m(\u001b[0m\u001b[0mevaluate_candidates\u001b[0m\u001b[0;34m)\u001b[0m\u001b[0;34m\u001b[0m\u001b[0;34m\u001b[0m\u001b[0m\n\u001b[0m\u001b[1;32m    711\u001b[0m \u001b[0;34m\u001b[0m\u001b[0m\n\u001b[1;32m    712\u001b[0m         \u001b[0;31m# For multi-metric evaluation, store the best_index_, best_params_ and\u001b[0m\u001b[0;34m\u001b[0m\u001b[0;34m\u001b[0m\u001b[0;34m\u001b[0m\u001b[0m\n",
            "\u001b[0;32m/usr/local/lib/python3.6/dist-packages/sklearn/model_selection/_search.py\u001b[0m in \u001b[0;36m_run_search\u001b[0;34m(self, evaluate_candidates)\u001b[0m\n\u001b[1;32m   1149\u001b[0m     \u001b[0;32mdef\u001b[0m \u001b[0m_run_search\u001b[0m\u001b[0;34m(\u001b[0m\u001b[0mself\u001b[0m\u001b[0;34m,\u001b[0m \u001b[0mevaluate_candidates\u001b[0m\u001b[0;34m)\u001b[0m\u001b[0;34m:\u001b[0m\u001b[0;34m\u001b[0m\u001b[0;34m\u001b[0m\u001b[0m\n\u001b[1;32m   1150\u001b[0m         \u001b[0;34m\"\"\"Search all candidates in param_grid\"\"\"\u001b[0m\u001b[0;34m\u001b[0m\u001b[0;34m\u001b[0m\u001b[0m\n\u001b[0;32m-> 1151\u001b[0;31m         \u001b[0mevaluate_candidates\u001b[0m\u001b[0;34m(\u001b[0m\u001b[0mParameterGrid\u001b[0m\u001b[0;34m(\u001b[0m\u001b[0mself\u001b[0m\u001b[0;34m.\u001b[0m\u001b[0mparam_grid\u001b[0m\u001b[0;34m)\u001b[0m\u001b[0;34m)\u001b[0m\u001b[0;34m\u001b[0m\u001b[0;34m\u001b[0m\u001b[0m\n\u001b[0m\u001b[1;32m   1152\u001b[0m \u001b[0;34m\u001b[0m\u001b[0m\n\u001b[1;32m   1153\u001b[0m \u001b[0;34m\u001b[0m\u001b[0m\n",
            "\u001b[0;32m/usr/local/lib/python3.6/dist-packages/sklearn/model_selection/_search.py\u001b[0m in \u001b[0;36mevaluate_candidates\u001b[0;34m(candidate_params)\u001b[0m\n\u001b[1;32m    687\u001b[0m                                \u001b[0;32mfor\u001b[0m \u001b[0mparameters\u001b[0m\u001b[0;34m,\u001b[0m \u001b[0;34m(\u001b[0m\u001b[0mtrain\u001b[0m\u001b[0;34m,\u001b[0m \u001b[0mtest\u001b[0m\u001b[0;34m)\u001b[0m\u001b[0;34m\u001b[0m\u001b[0;34m\u001b[0m\u001b[0m\n\u001b[1;32m    688\u001b[0m                                in product(candidate_params,\n\u001b[0;32m--> 689\u001b[0;31m                                           cv.split(X, y, groups)))\n\u001b[0m\u001b[1;32m    690\u001b[0m \u001b[0;34m\u001b[0m\u001b[0m\n\u001b[1;32m    691\u001b[0m                 \u001b[0;32mif\u001b[0m \u001b[0mlen\u001b[0m\u001b[0;34m(\u001b[0m\u001b[0mout\u001b[0m\u001b[0;34m)\u001b[0m \u001b[0;34m<\u001b[0m \u001b[0;36m1\u001b[0m\u001b[0;34m:\u001b[0m\u001b[0;34m\u001b[0m\u001b[0;34m\u001b[0m\u001b[0m\n",
            "\u001b[0;32m/usr/local/lib/python3.6/dist-packages/joblib/parallel.py\u001b[0m in \u001b[0;36m__call__\u001b[0;34m(self, iterable)\u001b[0m\n\u001b[1;32m   1040\u001b[0m \u001b[0;34m\u001b[0m\u001b[0m\n\u001b[1;32m   1041\u001b[0m             \u001b[0;32mwith\u001b[0m \u001b[0mself\u001b[0m\u001b[0;34m.\u001b[0m\u001b[0m_backend\u001b[0m\u001b[0;34m.\u001b[0m\u001b[0mretrieval_context\u001b[0m\u001b[0;34m(\u001b[0m\u001b[0;34m)\u001b[0m\u001b[0;34m:\u001b[0m\u001b[0;34m\u001b[0m\u001b[0;34m\u001b[0m\u001b[0m\n\u001b[0;32m-> 1042\u001b[0;31m                 \u001b[0mself\u001b[0m\u001b[0;34m.\u001b[0m\u001b[0mretrieve\u001b[0m\u001b[0;34m(\u001b[0m\u001b[0;34m)\u001b[0m\u001b[0;34m\u001b[0m\u001b[0;34m\u001b[0m\u001b[0m\n\u001b[0m\u001b[1;32m   1043\u001b[0m             \u001b[0;31m# Make sure that we get a last message telling us we are done\u001b[0m\u001b[0;34m\u001b[0m\u001b[0;34m\u001b[0m\u001b[0;34m\u001b[0m\u001b[0m\n\u001b[1;32m   1044\u001b[0m             \u001b[0melapsed_time\u001b[0m \u001b[0;34m=\u001b[0m \u001b[0mtime\u001b[0m\u001b[0;34m.\u001b[0m\u001b[0mtime\u001b[0m\u001b[0;34m(\u001b[0m\u001b[0;34m)\u001b[0m \u001b[0;34m-\u001b[0m \u001b[0mself\u001b[0m\u001b[0;34m.\u001b[0m\u001b[0m_start_time\u001b[0m\u001b[0;34m\u001b[0m\u001b[0;34m\u001b[0m\u001b[0m\n",
            "\u001b[0;32m/usr/local/lib/python3.6/dist-packages/joblib/parallel.py\u001b[0m in \u001b[0;36mretrieve\u001b[0;34m(self)\u001b[0m\n\u001b[1;32m    919\u001b[0m             \u001b[0;32mtry\u001b[0m\u001b[0;34m:\u001b[0m\u001b[0;34m\u001b[0m\u001b[0;34m\u001b[0m\u001b[0m\n\u001b[1;32m    920\u001b[0m                 \u001b[0;32mif\u001b[0m \u001b[0mgetattr\u001b[0m\u001b[0;34m(\u001b[0m\u001b[0mself\u001b[0m\u001b[0;34m.\u001b[0m\u001b[0m_backend\u001b[0m\u001b[0;34m,\u001b[0m \u001b[0;34m'supports_timeout'\u001b[0m\u001b[0;34m,\u001b[0m \u001b[0;32mFalse\u001b[0m\u001b[0;34m)\u001b[0m\u001b[0;34m:\u001b[0m\u001b[0;34m\u001b[0m\u001b[0;34m\u001b[0m\u001b[0m\n\u001b[0;32m--> 921\u001b[0;31m                     \u001b[0mself\u001b[0m\u001b[0;34m.\u001b[0m\u001b[0m_output\u001b[0m\u001b[0;34m.\u001b[0m\u001b[0mextend\u001b[0m\u001b[0;34m(\u001b[0m\u001b[0mjob\u001b[0m\u001b[0;34m.\u001b[0m\u001b[0mget\u001b[0m\u001b[0;34m(\u001b[0m\u001b[0mtimeout\u001b[0m\u001b[0;34m=\u001b[0m\u001b[0mself\u001b[0m\u001b[0;34m.\u001b[0m\u001b[0mtimeout\u001b[0m\u001b[0;34m)\u001b[0m\u001b[0;34m)\u001b[0m\u001b[0;34m\u001b[0m\u001b[0;34m\u001b[0m\u001b[0m\n\u001b[0m\u001b[1;32m    922\u001b[0m                 \u001b[0;32melse\u001b[0m\u001b[0;34m:\u001b[0m\u001b[0;34m\u001b[0m\u001b[0;34m\u001b[0m\u001b[0m\n\u001b[1;32m    923\u001b[0m                     \u001b[0mself\u001b[0m\u001b[0;34m.\u001b[0m\u001b[0m_output\u001b[0m\u001b[0;34m.\u001b[0m\u001b[0mextend\u001b[0m\u001b[0;34m(\u001b[0m\u001b[0mjob\u001b[0m\u001b[0;34m.\u001b[0m\u001b[0mget\u001b[0m\u001b[0;34m(\u001b[0m\u001b[0;34m)\u001b[0m\u001b[0;34m)\u001b[0m\u001b[0;34m\u001b[0m\u001b[0;34m\u001b[0m\u001b[0m\n",
            "\u001b[0;32m/usr/local/lib/python3.6/dist-packages/joblib/_parallel_backends.py\u001b[0m in \u001b[0;36mwrap_future_result\u001b[0;34m(future, timeout)\u001b[0m\n\u001b[1;32m    540\u001b[0m         AsyncResults.get from multiprocessing.\"\"\"\n\u001b[1;32m    541\u001b[0m         \u001b[0;32mtry\u001b[0m\u001b[0;34m:\u001b[0m\u001b[0;34m\u001b[0m\u001b[0;34m\u001b[0m\u001b[0m\n\u001b[0;32m--> 542\u001b[0;31m             \u001b[0;32mreturn\u001b[0m \u001b[0mfuture\u001b[0m\u001b[0;34m.\u001b[0m\u001b[0mresult\u001b[0m\u001b[0;34m(\u001b[0m\u001b[0mtimeout\u001b[0m\u001b[0;34m=\u001b[0m\u001b[0mtimeout\u001b[0m\u001b[0;34m)\u001b[0m\u001b[0;34m\u001b[0m\u001b[0;34m\u001b[0m\u001b[0m\n\u001b[0m\u001b[1;32m    543\u001b[0m         \u001b[0;32mexcept\u001b[0m \u001b[0mCfTimeoutError\u001b[0m \u001b[0;32mas\u001b[0m \u001b[0me\u001b[0m\u001b[0;34m:\u001b[0m\u001b[0;34m\u001b[0m\u001b[0;34m\u001b[0m\u001b[0m\n\u001b[1;32m    544\u001b[0m             \u001b[0;32mraise\u001b[0m \u001b[0mTimeoutError\u001b[0m \u001b[0;32mfrom\u001b[0m \u001b[0me\u001b[0m\u001b[0;34m\u001b[0m\u001b[0;34m\u001b[0m\u001b[0m\n",
            "\u001b[0;32m/usr/lib/python3.6/concurrent/futures/_base.py\u001b[0m in \u001b[0;36mresult\u001b[0;34m(self, timeout)\u001b[0m\n\u001b[1;32m    425\u001b[0m                 \u001b[0;32mreturn\u001b[0m \u001b[0mself\u001b[0m\u001b[0;34m.\u001b[0m\u001b[0m__get_result\u001b[0m\u001b[0;34m(\u001b[0m\u001b[0;34m)\u001b[0m\u001b[0;34m\u001b[0m\u001b[0;34m\u001b[0m\u001b[0m\n\u001b[1;32m    426\u001b[0m \u001b[0;34m\u001b[0m\u001b[0m\n\u001b[0;32m--> 427\u001b[0;31m             \u001b[0mself\u001b[0m\u001b[0;34m.\u001b[0m\u001b[0m_condition\u001b[0m\u001b[0;34m.\u001b[0m\u001b[0mwait\u001b[0m\u001b[0;34m(\u001b[0m\u001b[0mtimeout\u001b[0m\u001b[0;34m)\u001b[0m\u001b[0;34m\u001b[0m\u001b[0;34m\u001b[0m\u001b[0m\n\u001b[0m\u001b[1;32m    428\u001b[0m \u001b[0;34m\u001b[0m\u001b[0m\n\u001b[1;32m    429\u001b[0m             \u001b[0;32mif\u001b[0m \u001b[0mself\u001b[0m\u001b[0;34m.\u001b[0m\u001b[0m_state\u001b[0m \u001b[0;32min\u001b[0m \u001b[0;34m[\u001b[0m\u001b[0mCANCELLED\u001b[0m\u001b[0;34m,\u001b[0m \u001b[0mCANCELLED_AND_NOTIFIED\u001b[0m\u001b[0;34m]\u001b[0m\u001b[0;34m:\u001b[0m\u001b[0;34m\u001b[0m\u001b[0;34m\u001b[0m\u001b[0m\n",
            "\u001b[0;32m/usr/lib/python3.6/threading.py\u001b[0m in \u001b[0;36mwait\u001b[0;34m(self, timeout)\u001b[0m\n\u001b[1;32m    293\u001b[0m         \u001b[0;32mtry\u001b[0m\u001b[0;34m:\u001b[0m    \u001b[0;31m# restore state no matter what (e.g., KeyboardInterrupt)\u001b[0m\u001b[0;34m\u001b[0m\u001b[0;34m\u001b[0m\u001b[0m\n\u001b[1;32m    294\u001b[0m             \u001b[0;32mif\u001b[0m \u001b[0mtimeout\u001b[0m \u001b[0;32mis\u001b[0m \u001b[0;32mNone\u001b[0m\u001b[0;34m:\u001b[0m\u001b[0;34m\u001b[0m\u001b[0;34m\u001b[0m\u001b[0m\n\u001b[0;32m--> 295\u001b[0;31m                 \u001b[0mwaiter\u001b[0m\u001b[0;34m.\u001b[0m\u001b[0macquire\u001b[0m\u001b[0;34m(\u001b[0m\u001b[0;34m)\u001b[0m\u001b[0;34m\u001b[0m\u001b[0;34m\u001b[0m\u001b[0m\n\u001b[0m\u001b[1;32m    296\u001b[0m                 \u001b[0mgotit\u001b[0m \u001b[0;34m=\u001b[0m \u001b[0;32mTrue\u001b[0m\u001b[0;34m\u001b[0m\u001b[0;34m\u001b[0m\u001b[0m\n\u001b[1;32m    297\u001b[0m             \u001b[0;32melse\u001b[0m\u001b[0;34m:\u001b[0m\u001b[0;34m\u001b[0m\u001b[0;34m\u001b[0m\u001b[0m\n",
            "\u001b[0;31mKeyboardInterrupt\u001b[0m: "
          ]
        }
      ]
    },
    {
      "cell_type": "code",
      "metadata": {
        "id": "Jq0tdb5mb3Z2",
        "colab_type": "code",
        "colab": {}
      },
      "source": [
        "df_results.to_csv('covid_random_forest_test.csv')"
      ],
      "execution_count": null,
      "outputs": []
    }
  ]
}