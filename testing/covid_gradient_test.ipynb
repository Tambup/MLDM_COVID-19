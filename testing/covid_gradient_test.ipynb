{
  "nbformat": 4,
  "nbformat_minor": 0,
  "metadata": {
    "colab": {
      "name": "covid_gradient_test.ipynb",
      "provenance": [],
      "collapsed_sections": [],
      "include_colab_link": true
    },
    "kernelspec": {
      "name": "python3",
      "display_name": "Python 3"
    }
  },
  "cells": [
    {
      "cell_type": "markdown",
      "metadata": {
        "id": "view-in-github",
        "colab_type": "text"
      },
      "source": [
        "<a href=\"https://colab.research.google.com/github/Tomawock/MLDM_COVID-19/blob/master/testing/covid_gradient_test.ipynb\" target=\"_parent\"><img src=\"https://colab.research.google.com/assets/colab-badge.svg\" alt=\"Open In Colab\"/></a>"
      ]
    },
    {
      "cell_type": "markdown",
      "metadata": {
        "id": "87QCE4qenV3L",
        "colab_type": "text"
      },
      "source": [
        "# Testing per le Random Forest"
      ]
    },
    {
      "cell_type": "code",
      "metadata": {
        "id": "Ci8Rlg2csmW-",
        "colab_type": "code",
        "colab": {}
      },
      "source": [
        "import os\n",
        "import numpy as np\n",
        "import pandas as pd\n",
        "import matplotlib.pyplot as plt\n",
        "\n",
        "import joblib\n",
        "from datetime import datetime\n",
        "\n",
        "from sklearn.impute import SimpleImputer\n",
        "from sklearn.pipeline import Pipeline\n",
        "from sklearn.model_selection import GridSearchCV, StratifiedKFold, KFold\n",
        "from sklearn.metrics import r2_score, mean_squared_error, max_error\n",
        "from sklearn.ensemble import GradientBoostingRegressor"
      ],
      "execution_count": 20,
      "outputs": []
    },
    {
      "cell_type": "markdown",
      "metadata": {
        "id": "cykpqwAG9CnR",
        "colab_type": "text"
      },
      "source": [
        "**Nomenclatura per i test**"
      ]
    },
    {
      "cell_type": "code",
      "metadata": {
        "id": "6M6li0f4qEPN",
        "colab_type": "code",
        "colab": {}
      },
      "source": [
        "path='/content/'\n",
        "datasets_names= ['dataset_finale_medie_rnd1.csv','dataset_finale_medie_2_week_rnd1.csv','dataset_finale_medie_ponderate_rnd1.csv',\n",
        "               'dataset_finale_medie_rnd220.csv','dataset_finale_medie_2_week_rnd220.csv','dataset_finale_medie_ponderate_rnd220.csv']\n",
        "\n",
        "rdn_states= [1, 22, 777, 6654, 432145]\n",
        "features_prediction= ['fut1_nuovi_positivi','fut2_nuovi_positivi',\n",
        "                     'fut1_ricoverati_con_sintomi','fut2_ricoverati_con_sintomi',\n",
        "                     'fut1_terapia_intensiva','fut2_terapia_intensiva',\n",
        "                     'fut1_deceduti','fut2_deceduti',\n",
        "                     'fut1_totale_ospedalizzati','fut2_totale_ospedalizzati',\n",
        "                     'fut1_dimessi_guariti','fut2_dimessi_guariti']\n",
        "\n",
        "coefficents=['R2','RMSE','MAXERR']"
      ],
      "execution_count": 21,
      "outputs": []
    },
    {
      "cell_type": "markdown",
      "metadata": {
        "id": "31N799-U8ZTF",
        "colab_type": "text"
      },
      "source": [
        "**Creazione indici per il dataset comune nel quale verranno messi i dati dei test**\n"
      ]
    },
    {
      "cell_type": "code",
      "metadata": {
        "id": "HAY2Eu6Y17N6",
        "colab_type": "code",
        "colab": {
          "base_uri": "https://localhost:8080/",
          "height": 935
        },
        "outputId": "99252da2-c713-415a-edd9-4e18188e25db"
      },
      "source": [
        "col=[]\n",
        "inde=[]\n",
        "for feature in features_prediction:\n",
        "  for coeff in coefficents:\n",
        "    col.append(coeff+'_'+feature)\n",
        "    #print(f\"Columns_names\\t{coeff+'_'+feature}\")\n",
        "\n",
        "for rnd in rdn_states:\n",
        "  for path in datasets_names:\n",
        "    inde.append(path+':'+str(rnd))\n",
        "    #print(f\"indexes_\\t{path+':'+str(rnd)}\")\n",
        "\n",
        "df_results=pd.DataFrame(columns=col,index=inde)\n",
        "print(df_results.columns)\n",
        "print(df_results.index)"
      ],
      "execution_count": 22,
      "outputs": [
        {
          "output_type": "stream",
          "text": [
            "Index(['R2_fut1_nuovi_positivi', 'RMSE_fut1_nuovi_positivi',\n",
            "       'MAXERR_fut1_nuovi_positivi', 'R2_fut2_nuovi_positivi',\n",
            "       'RMSE_fut2_nuovi_positivi', 'MAXERR_fut2_nuovi_positivi',\n",
            "       'R2_fut1_ricoverati_con_sintomi', 'RMSE_fut1_ricoverati_con_sintomi',\n",
            "       'MAXERR_fut1_ricoverati_con_sintomi', 'R2_fut2_ricoverati_con_sintomi',\n",
            "       'RMSE_fut2_ricoverati_con_sintomi',\n",
            "       'MAXERR_fut2_ricoverati_con_sintomi', 'R2_fut1_terapia_intensiva',\n",
            "       'RMSE_fut1_terapia_intensiva', 'MAXERR_fut1_terapia_intensiva',\n",
            "       'R2_fut2_terapia_intensiva', 'RMSE_fut2_terapia_intensiva',\n",
            "       'MAXERR_fut2_terapia_intensiva', 'R2_fut1_deceduti',\n",
            "       'RMSE_fut1_deceduti', 'MAXERR_fut1_deceduti', 'R2_fut2_deceduti',\n",
            "       'RMSE_fut2_deceduti', 'MAXERR_fut2_deceduti',\n",
            "       'R2_fut1_totale_ospedalizzati', 'RMSE_fut1_totale_ospedalizzati',\n",
            "       'MAXERR_fut1_totale_ospedalizzati', 'R2_fut2_totale_ospedalizzati',\n",
            "       'RMSE_fut2_totale_ospedalizzati', 'MAXERR_fut2_totale_ospedalizzati',\n",
            "       'R2_fut1_dimessi_guariti', 'RMSE_fut1_dimessi_guariti',\n",
            "       'MAXERR_fut1_dimessi_guariti', 'R2_fut2_dimessi_guariti',\n",
            "       'RMSE_fut2_dimessi_guariti', 'MAXERR_fut2_dimessi_guariti'],\n",
            "      dtype='object')\n",
            "Index(['dataset_finale_medie_rnd1.csv:1',\n",
            "       'dataset_finale_medie_2_week_rnd1.csv:1',\n",
            "       'dataset_finale_medie_ponderate_rnd1.csv:1',\n",
            "       'dataset_finale_medie_rnd220.csv:1',\n",
            "       'dataset_finale_medie_2_week_rnd220.csv:1',\n",
            "       'dataset_finale_medie_ponderate_rnd220.csv:1',\n",
            "       'dataset_finale_medie_rnd1.csv:22',\n",
            "       'dataset_finale_medie_2_week_rnd1.csv:22',\n",
            "       'dataset_finale_medie_ponderate_rnd1.csv:22',\n",
            "       'dataset_finale_medie_rnd220.csv:22',\n",
            "       'dataset_finale_medie_2_week_rnd220.csv:22',\n",
            "       'dataset_finale_medie_ponderate_rnd220.csv:22',\n",
            "       'dataset_finale_medie_rnd1.csv:777',\n",
            "       'dataset_finale_medie_2_week_rnd1.csv:777',\n",
            "       'dataset_finale_medie_ponderate_rnd1.csv:777',\n",
            "       'dataset_finale_medie_rnd220.csv:777',\n",
            "       'dataset_finale_medie_2_week_rnd220.csv:777',\n",
            "       'dataset_finale_medie_ponderate_rnd220.csv:777',\n",
            "       'dataset_finale_medie_rnd1.csv:6654',\n",
            "       'dataset_finale_medie_2_week_rnd1.csv:6654',\n",
            "       'dataset_finale_medie_ponderate_rnd1.csv:6654',\n",
            "       'dataset_finale_medie_rnd220.csv:6654',\n",
            "       'dataset_finale_medie_2_week_rnd220.csv:6654',\n",
            "       'dataset_finale_medie_ponderate_rnd220.csv:6654',\n",
            "       'dataset_finale_medie_rnd1.csv:432145',\n",
            "       'dataset_finale_medie_2_week_rnd1.csv:432145',\n",
            "       'dataset_finale_medie_ponderate_rnd1.csv:432145',\n",
            "       'dataset_finale_medie_rnd220.csv:432145',\n",
            "       'dataset_finale_medie_2_week_rnd220.csv:432145',\n",
            "       'dataset_finale_medie_ponderate_rnd220.csv:432145'],\n",
            "      dtype='object')\n"
          ],
          "name": "stdout"
        }
      ]
    },
    {
      "cell_type": "code",
      "metadata": {
        "id": "WkVF2KUTEbaV",
        "colab_type": "code",
        "colab": {}
      },
      "source": [
        "# datasets_names= ['dataset_finale_medie_rnd1.csv','dataset_finale_medie_2_week_rnd1.csv']\n",
        "# rdn_states= [1,22]\n",
        "# features_prediction= ['fut1_nuovi_positivi','fut2_nuovi_positivi']\n"
      ],
      "execution_count": 23,
      "outputs": []
    },
    {
      "cell_type": "code",
      "metadata": {
        "id": "fNbKzFq8smXT",
        "colab_type": "code",
        "colab": {
          "base_uri": "https://localhost:8080/",
          "height": 1000
        },
        "outputId": "517d8bb7-c91f-4f4f-adc5-52113c716a9e"
      },
      "source": [
        "for rnd in rdn_states:\n",
        "  for dataset in datasets_names:\n",
        "    for feature in features_prediction:\n",
        "\n",
        "      df_2 = pd.read_csv(dataset, parse_dates=[\"Data\"], infer_datetime_format=True)\n",
        "      rnd_state = rnd\n",
        "      predictor_columns = [\n",
        "            'pass_Ammoniaca', \n",
        "            'pass_Benzene',\n",
        "            'pass_Biossido di Azoto', \n",
        "            'pass_Biossido di Zolfo',\n",
        "            'pass_Monossido di Azoto', \n",
        "            'pass_Monossido di Carbonio',\n",
        "            'pass_Ossidi di Azoto', \n",
        "            'pass_Ozono', \n",
        "            'pass_PM10 (SM2005)',\n",
        "            'pass_Particelle sospese PM2.5',\n",
        "            'pass_Radiazione Globale', \n",
        "            'pass_Temperatura',\n",
        "            'pass_deceduti',\n",
        "            'pass_nuovi_positivi',\n",
        "            'pass_ricoverati_con_sintomi', \n",
        "            'pass_tamponi']\n",
        "      ################################################################################\n",
        "      train_2 = df_2.sample(frac=0.70, random_state=rnd_state)\n",
        "      test_2 = df_2.drop(train_2.index)\n",
        "\n",
        "      train_X_2 = train_2[predictor_columns]\n",
        "      train_y_2 = train_2[feature]\n",
        "\n",
        "      test_X_2 = test_2[predictor_columns]\n",
        "      test_y_2 = test_2[feature]\n",
        "      ################################################################################\n",
        "      gb_regressor = GradientBoostingRegressor(random_state=rnd_state)\n",
        "      ################################################################################\n",
        "      \n",
        "      ################################################################################\n",
        "      pipeline = Pipeline([(\"imp\", SimpleImputer(missing_values=np.nan, strategy=\"mean\")), \n",
        "                     (\"gbr\", gb_regressor)])\n",
        "      \n",
        "      loss_list = [\"ls\", \"lad\"]\n",
        "      n_estimators_list = [100]\n",
        "      criterion_list = [\"mse\", \"friedman_mse\"]\n",
        "      min_samples_split_list = [2, 3]\n",
        "      min_samples_leaf_list = [1, 2]\n",
        "      max_depth_list = [3, 5]\n",
        "      max_features_list = [\"sqrt\", \"auto\"]\n",
        "\n",
        "      param_grid = {\"gbr__loss\": loss_list,\n",
        "              \"gbr__n_estimators\": n_estimators_list,\n",
        "              \"gbr__criterion\": criterion_list,\n",
        "              \"gbr__min_samples_split\": min_samples_split_list,\n",
        "              \"gbr__min_samples_leaf\": min_samples_leaf_list,\n",
        "              \"gbr__max_depth\": max_depth_list,\n",
        "              \"gbr__max_features\": max_features_list}\n",
        "      ################################################################################\n",
        "      kfold_splits = 4\n",
        "      grid_regressor_2 = GridSearchCV(estimator=pipeline,  \n",
        "                              n_jobs=-1, \n",
        "                              verbose=1,\n",
        "                              return_train_score=True,\n",
        "                            cv=KFold(n_splits=kfold_splits, shuffle=True, random_state=rnd_state),\n",
        "                              param_grid=param_grid)\n",
        "      ################################################################################\n",
        "      grid_regressor_2.fit(imp.transform(train_X_2), train_y_2)\n",
        "      ################################################################################\n",
        "      best_regressor_2 = grid_regressor_2.best_estimator_\n",
        "\n",
        "      imputer = SimpleImputer(missing_values=np.nan, strategy=\"mean\")\n",
        "      imputer = imputer.fit(test_X_2)\n",
        "      test_X_imp = imputer.transform(test_X_2)\n",
        "\n",
        "      predicted_2 = best_regressor_2.predict(test_X_imp)\n",
        "      ################################################################################\n",
        "      r2=float(\"{:.3f}\".format(r2_score(test_y_2, predicted_2)))\n",
        "      rmse=float(\"{:.3f}\".format(mean_squared_error(test_y_2, predicted_2, squared=False)))\n",
        "      maxerr=float(\"{:.3f}\".format(max_error(test_y_2, predicted_2)))\n",
        "      print(f\"R2: \\t\\t{r2}\")\n",
        "      print(f\"RMSE: \\t\\t{rmse}\")\n",
        "      print(f\"MAX ERR: \\t{maxerr}\")\n",
        "      ################################################################################\n",
        "      df_results.loc[[dataset+':'+str(rnd_state)], [coefficents[0]+'_'+feature]] = r2\n",
        "      df_results.loc[[dataset+':'+str(rnd_state)], [coefficents[1]+'_'+feature]] = rmse\n",
        "      df_results.loc[[dataset+':'+str(rnd_state)], [coefficents[2]+'_'+feature]] = maxerr"
      ],
      "execution_count": 24,
      "outputs": [
        {
          "output_type": "stream",
          "text": [
            "Fitting 4 folds for each of 64 candidates, totalling 256 fits\n"
          ],
          "name": "stdout"
        },
        {
          "output_type": "stream",
          "text": [
            "[Parallel(n_jobs=-1)]: Using backend LokyBackend with 2 concurrent workers.\n",
            "[Parallel(n_jobs=-1)]: Done  72 tasks      | elapsed:    4.2s\n",
            "[Parallel(n_jobs=-1)]: Done 256 out of 256 | elapsed:   21.3s finished\n",
            "[Parallel(n_jobs=-1)]: Using backend LokyBackend with 2 concurrent workers.\n"
          ],
          "name": "stderr"
        },
        {
          "output_type": "stream",
          "text": [
            "R2: \t\t0.888\n",
            "RMSE: \t\t225.713\n",
            "MAX ERR: \t874.253\n",
            "Fitting 4 folds for each of 64 candidates, totalling 256 fits\n"
          ],
          "name": "stdout"
        },
        {
          "output_type": "stream",
          "text": [
            "[Parallel(n_jobs=-1)]: Done 146 tasks      | elapsed:   10.4s\n",
            "[Parallel(n_jobs=-1)]: Done 256 out of 256 | elapsed:   20.0s finished\n",
            "[Parallel(n_jobs=-1)]: Using backend LokyBackend with 2 concurrent workers.\n"
          ],
          "name": "stderr"
        },
        {
          "output_type": "stream",
          "text": [
            "R2: \t\t0.772\n",
            "RMSE: \t\t366.383\n",
            "MAX ERR: \t1747.811\n",
            "Fitting 4 folds for each of 64 candidates, totalling 256 fits\n"
          ],
          "name": "stdout"
        },
        {
          "output_type": "stream",
          "text": [
            "[Parallel(n_jobs=-1)]: Done 164 tasks      | elapsed:   10.6s\n",
            "[Parallel(n_jobs=-1)]: Done 256 out of 256 | elapsed:   18.7s finished\n",
            "[Parallel(n_jobs=-1)]: Using backend LokyBackend with 2 concurrent workers.\n"
          ],
          "name": "stderr"
        },
        {
          "output_type": "stream",
          "text": [
            "R2: \t\t0.978\n",
            "RMSE: \t\t596.244\n",
            "MAX ERR: \t2967.04\n",
            "Fitting 4 folds for each of 64 candidates, totalling 256 fits\n"
          ],
          "name": "stdout"
        },
        {
          "output_type": "stream",
          "text": [
            "[Parallel(n_jobs=-1)]: Done 164 tasks      | elapsed:   10.7s\n",
            "[Parallel(n_jobs=-1)]: Done 256 out of 256 | elapsed:   18.7s finished\n",
            "[Parallel(n_jobs=-1)]: Using backend LokyBackend with 2 concurrent workers.\n"
          ],
          "name": "stderr"
        },
        {
          "output_type": "stream",
          "text": [
            "R2: \t\t0.967\n",
            "RMSE: \t\t737.015\n",
            "MAX ERR: \t3558.846\n",
            "Fitting 4 folds for each of 64 candidates, totalling 256 fits\n"
          ],
          "name": "stdout"
        },
        {
          "output_type": "stream",
          "text": [
            "[Parallel(n_jobs=-1)]: Done 164 tasks      | elapsed:   10.6s\n",
            "[Parallel(n_jobs=-1)]: Done 256 out of 256 | elapsed:   18.7s finished\n",
            "[Parallel(n_jobs=-1)]: Using backend LokyBackend with 2 concurrent workers.\n"
          ],
          "name": "stderr"
        },
        {
          "output_type": "stream",
          "text": [
            "R2: \t\t0.983\n",
            "RMSE: \t\t61.544\n",
            "MAX ERR: \t282.505\n",
            "Fitting 4 folds for each of 64 candidates, totalling 256 fits\n"
          ],
          "name": "stdout"
        },
        {
          "output_type": "stream",
          "text": [
            "[Parallel(n_jobs=-1)]: Done 164 tasks      | elapsed:   10.6s\n",
            "[Parallel(n_jobs=-1)]: Done 256 out of 256 | elapsed:   18.6s finished\n",
            "[Parallel(n_jobs=-1)]: Using backend LokyBackend with 2 concurrent workers.\n"
          ],
          "name": "stderr"
        },
        {
          "output_type": "stream",
          "text": [
            "R2: \t\t0.984\n",
            "RMSE: \t\t61.458\n",
            "MAX ERR: \t191.111\n",
            "Fitting 4 folds for each of 64 candidates, totalling 256 fits\n"
          ],
          "name": "stdout"
        },
        {
          "output_type": "stream",
          "text": [
            "[Parallel(n_jobs=-1)]: Done 164 tasks      | elapsed:   10.7s\n",
            "[Parallel(n_jobs=-1)]: Done 256 out of 256 | elapsed:   18.7s finished\n",
            "[Parallel(n_jobs=-1)]: Using backend LokyBackend with 2 concurrent workers.\n"
          ],
          "name": "stderr"
        },
        {
          "output_type": "stream",
          "text": [
            "R2: \t\t0.993\n",
            "RMSE: \t\t442.487\n",
            "MAX ERR: \t1346.381\n",
            "Fitting 4 folds for each of 64 candidates, totalling 256 fits\n"
          ],
          "name": "stdout"
        },
        {
          "output_type": "stream",
          "text": [
            "[Parallel(n_jobs=-1)]: Done 164 tasks      | elapsed:   10.5s\n",
            "[Parallel(n_jobs=-1)]: Done 256 out of 256 | elapsed:   18.6s finished\n",
            "[Parallel(n_jobs=-1)]: Using backend LokyBackend with 2 concurrent workers.\n"
          ],
          "name": "stderr"
        },
        {
          "output_type": "stream",
          "text": [
            "R2: \t\t0.989\n",
            "RMSE: \t\t535.895\n",
            "MAX ERR: \t1344.395\n",
            "Fitting 4 folds for each of 64 candidates, totalling 256 fits\n"
          ],
          "name": "stdout"
        },
        {
          "output_type": "stream",
          "text": [
            "[Parallel(n_jobs=-1)]: Done 146 tasks      | elapsed:   10.0s\n",
            "[Parallel(n_jobs=-1)]: Done 256 out of 256 | elapsed:   18.9s finished\n",
            "[Parallel(n_jobs=-1)]: Using backend LokyBackend with 2 concurrent workers.\n"
          ],
          "name": "stderr"
        },
        {
          "output_type": "stream",
          "text": [
            "R2: \t\t0.98\n",
            "RMSE: \t\t621.825\n",
            "MAX ERR: \t2807.66\n",
            "Fitting 4 folds for each of 64 candidates, totalling 256 fits\n"
          ],
          "name": "stdout"
        },
        {
          "output_type": "stream",
          "text": [
            "[Parallel(n_jobs=-1)]: Done 164 tasks      | elapsed:   10.5s\n",
            "[Parallel(n_jobs=-1)]: Done 256 out of 256 | elapsed:   18.5s finished\n",
            "[Parallel(n_jobs=-1)]: Using backend LokyBackend with 2 concurrent workers.\n"
          ],
          "name": "stderr"
        },
        {
          "output_type": "stream",
          "text": [
            "R2: \t\t0.979\n",
            "RMSE: \t\t655.161\n",
            "MAX ERR: \t2434.635\n",
            "Fitting 4 folds for each of 64 candidates, totalling 256 fits\n"
          ],
          "name": "stdout"
        },
        {
          "output_type": "stream",
          "text": [
            "[Parallel(n_jobs=-1)]: Done 164 tasks      | elapsed:   10.6s\n",
            "[Parallel(n_jobs=-1)]: Done 256 out of 256 | elapsed:   18.5s finished\n",
            "[Parallel(n_jobs=-1)]: Using backend LokyBackend with 2 concurrent workers.\n"
          ],
          "name": "stderr"
        },
        {
          "output_type": "stream",
          "text": [
            "R2: \t\t0.998\n",
            "RMSE: \t\t1211.325\n",
            "MAX ERR: \t4298.566\n",
            "Fitting 4 folds for each of 64 candidates, totalling 256 fits\n"
          ],
          "name": "stdout"
        },
        {
          "output_type": "stream",
          "text": [
            "[Parallel(n_jobs=-1)]: Done 164 tasks      | elapsed:   10.4s\n",
            "[Parallel(n_jobs=-1)]: Done 256 out of 256 | elapsed:   18.4s finished\n",
            "[Parallel(n_jobs=-1)]: Using backend LokyBackend with 2 concurrent workers.\n"
          ],
          "name": "stderr"
        },
        {
          "output_type": "stream",
          "text": [
            "R2: \t\t0.998\n",
            "RMSE: \t\t1070.589\n",
            "MAX ERR: \t2402.514\n",
            "Fitting 4 folds for each of 64 candidates, totalling 256 fits\n"
          ],
          "name": "stdout"
        },
        {
          "output_type": "stream",
          "text": [
            "[Parallel(n_jobs=-1)]: Done 146 tasks      | elapsed:   10.5s\n",
            "[Parallel(n_jobs=-1)]: Done 256 out of 256 | elapsed:   20.1s finished\n",
            "[Parallel(n_jobs=-1)]: Using backend LokyBackend with 2 concurrent workers.\n"
          ],
          "name": "stderr"
        },
        {
          "output_type": "stream",
          "text": [
            "R2: \t\t0.863\n",
            "RMSE: \t\t250.281\n",
            "MAX ERR: \t754.657\n",
            "Fitting 4 folds for each of 64 candidates, totalling 256 fits\n"
          ],
          "name": "stdout"
        },
        {
          "output_type": "stream",
          "text": [
            "[Parallel(n_jobs=-1)]: Done 140 tasks      | elapsed:   10.3s\n",
            "[Parallel(n_jobs=-1)]: Done 256 out of 256 | elapsed:   20.2s finished\n",
            "[Parallel(n_jobs=-1)]: Using backend LokyBackend with 2 concurrent workers.\n"
          ],
          "name": "stderr"
        },
        {
          "output_type": "stream",
          "text": [
            "R2: \t\t0.802\n",
            "RMSE: \t\t342.027\n",
            "MAX ERR: \t1691.737\n",
            "Fitting 4 folds for each of 64 candidates, totalling 256 fits\n"
          ],
          "name": "stdout"
        },
        {
          "output_type": "stream",
          "text": [
            "[Parallel(n_jobs=-1)]: Done 164 tasks      | elapsed:   10.7s\n",
            "[Parallel(n_jobs=-1)]: Done 256 out of 256 | elapsed:   18.9s finished\n"
          ],
          "name": "stderr"
        },
        {
          "output_type": "stream",
          "text": [
            "R2: \t\t0.991\n",
            "RMSE: \t\t388.676\n",
            "MAX ERR: \t1225.467\n",
            "Fitting 4 folds for each of 64 candidates, totalling 256 fits\n"
          ],
          "name": "stdout"
        },
        {
          "output_type": "stream",
          "text": [
            "[Parallel(n_jobs=-1)]: Using backend LokyBackend with 2 concurrent workers.\n",
            "[Parallel(n_jobs=-1)]: Done 146 tasks      | elapsed:   10.0s\n",
            "[Parallel(n_jobs=-1)]: Done 253 out of 256 | elapsed:   18.9s remaining:    0.2s\n",
            "[Parallel(n_jobs=-1)]: Done 256 out of 256 | elapsed:   19.1s finished\n"
          ],
          "name": "stderr"
        },
        {
          "output_type": "stream",
          "text": [
            "R2: \t\t0.985\n",
            "RMSE: \t\t497.954\n",
            "MAX ERR: \t1724.72\n",
            "Fitting 4 folds for each of 64 candidates, totalling 256 fits\n"
          ],
          "name": "stdout"
        },
        {
          "output_type": "stream",
          "text": [
            "[Parallel(n_jobs=-1)]: Using backend LokyBackend with 2 concurrent workers.\n",
            "[Parallel(n_jobs=-1)]: Done 164 tasks      | elapsed:   10.6s\n",
            "[Parallel(n_jobs=-1)]: Done 256 out of 256 | elapsed:   18.8s finished\n"
          ],
          "name": "stderr"
        },
        {
          "output_type": "stream",
          "text": [
            "R2: \t\t0.982\n",
            "RMSE: \t\t62.112\n",
            "MAX ERR: \t275.061\n",
            "Fitting 4 folds for each of 64 candidates, totalling 256 fits\n"
          ],
          "name": "stdout"
        },
        {
          "output_type": "stream",
          "text": [
            "[Parallel(n_jobs=-1)]: Using backend LokyBackend with 2 concurrent workers.\n",
            "[Parallel(n_jobs=-1)]: Done 164 tasks      | elapsed:   10.6s\n",
            "[Parallel(n_jobs=-1)]: Done 256 out of 256 | elapsed:   18.7s finished\n",
            "[Parallel(n_jobs=-1)]: Using backend LokyBackend with 2 concurrent workers.\n"
          ],
          "name": "stderr"
        },
        {
          "output_type": "stream",
          "text": [
            "R2: \t\t0.979\n",
            "RMSE: \t\t70.756\n",
            "MAX ERR: \t225.55\n",
            "Fitting 4 folds for each of 64 candidates, totalling 256 fits\n"
          ],
          "name": "stdout"
        },
        {
          "output_type": "stream",
          "text": [
            "[Parallel(n_jobs=-1)]: Done 146 tasks      | elapsed:   10.0s\n",
            "[Parallel(n_jobs=-1)]: Done 256 out of 256 | elapsed:   18.9s finished\n",
            "[Parallel(n_jobs=-1)]: Using backend LokyBackend with 2 concurrent workers.\n"
          ],
          "name": "stderr"
        },
        {
          "output_type": "stream",
          "text": [
            "R2: \t\t0.996\n",
            "RMSE: \t\t365.086\n",
            "MAX ERR: \t1134.125\n",
            "Fitting 4 folds for each of 64 candidates, totalling 256 fits\n"
          ],
          "name": "stdout"
        },
        {
          "output_type": "stream",
          "text": [
            "[Parallel(n_jobs=-1)]: Done 164 tasks      | elapsed:   10.7s\n",
            "[Parallel(n_jobs=-1)]: Done 256 out of 256 | elapsed:   18.8s finished\n",
            "[Parallel(n_jobs=-1)]: Using backend LokyBackend with 2 concurrent workers.\n"
          ],
          "name": "stderr"
        },
        {
          "output_type": "stream",
          "text": [
            "R2: \t\t0.995\n",
            "RMSE: \t\t387.27\n",
            "MAX ERR: \t1260.925\n",
            "Fitting 4 folds for each of 64 candidates, totalling 256 fits\n"
          ],
          "name": "stdout"
        },
        {
          "output_type": "stream",
          "text": [
            "[Parallel(n_jobs=-1)]: Done 164 tasks      | elapsed:   10.6s\n",
            "[Parallel(n_jobs=-1)]: Done 256 out of 256 | elapsed:   18.9s finished\n",
            "[Parallel(n_jobs=-1)]: Using backend LokyBackend with 2 concurrent workers.\n"
          ],
          "name": "stderr"
        },
        {
          "output_type": "stream",
          "text": [
            "R2: \t\t0.984\n",
            "RMSE: \t\t557.576\n",
            "MAX ERR: \t2059.431\n",
            "Fitting 4 folds for each of 64 candidates, totalling 256 fits\n"
          ],
          "name": "stdout"
        },
        {
          "output_type": "stream",
          "text": [
            "[Parallel(n_jobs=-1)]: Done 146 tasks      | elapsed:   10.0s\n",
            "[Parallel(n_jobs=-1)]: Done 256 out of 256 | elapsed:   19.0s finished\n",
            "[Parallel(n_jobs=-1)]: Using backend LokyBackend with 2 concurrent workers.\n"
          ],
          "name": "stderr"
        },
        {
          "output_type": "stream",
          "text": [
            "R2: \t\t0.979\n",
            "RMSE: \t\t654.633\n",
            "MAX ERR: \t2218.847\n",
            "Fitting 4 folds for each of 64 candidates, totalling 256 fits\n"
          ],
          "name": "stdout"
        },
        {
          "output_type": "stream",
          "text": [
            "[Parallel(n_jobs=-1)]: Done 164 tasks      | elapsed:   10.5s\n",
            "[Parallel(n_jobs=-1)]: Done 256 out of 256 | elapsed:   18.6s finished\n"
          ],
          "name": "stderr"
        },
        {
          "output_type": "stream",
          "text": [
            "R2: \t\t0.996\n",
            "RMSE: \t\t1502.596\n",
            "MAX ERR: \t4518.249\n",
            "Fitting 4 folds for each of 64 candidates, totalling 256 fits\n"
          ],
          "name": "stdout"
        },
        {
          "output_type": "stream",
          "text": [
            "[Parallel(n_jobs=-1)]: Using backend LokyBackend with 2 concurrent workers.\n",
            "[Parallel(n_jobs=-1)]: Done 164 tasks      | elapsed:   10.5s\n",
            "[Parallel(n_jobs=-1)]: Done 256 out of 256 | elapsed:   18.4s finished\n"
          ],
          "name": "stderr"
        },
        {
          "output_type": "stream",
          "text": [
            "R2: \t\t0.997\n",
            "RMSE: \t\t1404.178\n",
            "MAX ERR: \t3738.122\n",
            "Fitting 4 folds for each of 64 candidates, totalling 256 fits\n"
          ],
          "name": "stdout"
        },
        {
          "output_type": "stream",
          "text": [
            "[Parallel(n_jobs=-1)]: Using backend LokyBackend with 2 concurrent workers.\n",
            "[Parallel(n_jobs=-1)]: Done 146 tasks      | elapsed:   10.5s\n",
            "[Parallel(n_jobs=-1)]: Done 256 out of 256 | elapsed:   20.0s finished\n",
            "[Parallel(n_jobs=-1)]: Using backend LokyBackend with 2 concurrent workers.\n"
          ],
          "name": "stderr"
        },
        {
          "output_type": "stream",
          "text": [
            "R2: \t\t0.865\n",
            "RMSE: \t\t247.751\n",
            "MAX ERR: \t808.128\n",
            "Fitting 4 folds for each of 64 candidates, totalling 256 fits\n"
          ],
          "name": "stdout"
        },
        {
          "output_type": "stream",
          "text": [
            "[Parallel(n_jobs=-1)]: Done 146 tasks      | elapsed:   10.4s\n",
            "[Parallel(n_jobs=-1)]: Done 256 out of 256 | elapsed:   19.8s finished\n",
            "[Parallel(n_jobs=-1)]: Using backend LokyBackend with 2 concurrent workers.\n"
          ],
          "name": "stderr"
        },
        {
          "output_type": "stream",
          "text": [
            "R2: \t\t0.781\n",
            "RMSE: \t\t358.964\n",
            "MAX ERR: \t1615.344\n",
            "Fitting 4 folds for each of 64 candidates, totalling 256 fits\n"
          ],
          "name": "stdout"
        },
        {
          "output_type": "stream",
          "text": [
            "[Parallel(n_jobs=-1)]: Done 164 tasks      | elapsed:   10.7s\n",
            "[Parallel(n_jobs=-1)]: Done 256 out of 256 | elapsed:   18.9s finished\n",
            "[Parallel(n_jobs=-1)]: Using backend LokyBackend with 2 concurrent workers.\n"
          ],
          "name": "stderr"
        },
        {
          "output_type": "stream",
          "text": [
            "R2: \t\t0.986\n",
            "RMSE: \t\t479.129\n",
            "MAX ERR: \t1746.197\n",
            "Fitting 4 folds for each of 64 candidates, totalling 256 fits\n"
          ],
          "name": "stdout"
        },
        {
          "output_type": "stream",
          "text": [
            "[Parallel(n_jobs=-1)]: Done 164 tasks      | elapsed:   10.8s\n",
            "[Parallel(n_jobs=-1)]: Done 256 out of 256 | elapsed:   19.0s finished\n",
            "[Parallel(n_jobs=-1)]: Using backend LokyBackend with 2 concurrent workers.\n"
          ],
          "name": "stderr"
        },
        {
          "output_type": "stream",
          "text": [
            "R2: \t\t0.976\n",
            "RMSE: \t\t633.4\n",
            "MAX ERR: \t2954.083\n",
            "Fitting 4 folds for each of 64 candidates, totalling 256 fits\n"
          ],
          "name": "stdout"
        },
        {
          "output_type": "stream",
          "text": [
            "[Parallel(n_jobs=-1)]: Done 146 tasks      | elapsed:   10.1s\n",
            "[Parallel(n_jobs=-1)]: Done 253 out of 256 | elapsed:   18.9s remaining:    0.2s\n",
            "[Parallel(n_jobs=-1)]: Done 256 out of 256 | elapsed:   19.1s finished\n"
          ],
          "name": "stderr"
        },
        {
          "output_type": "stream",
          "text": [
            "R2: \t\t0.982\n",
            "RMSE: \t\t62.505\n",
            "MAX ERR: \t279.151\n",
            "Fitting 4 folds for each of 64 candidates, totalling 256 fits\n"
          ],
          "name": "stdout"
        },
        {
          "output_type": "stream",
          "text": [
            "[Parallel(n_jobs=-1)]: Using backend LokyBackend with 2 concurrent workers.\n",
            "[Parallel(n_jobs=-1)]: Done 164 tasks      | elapsed:   10.9s\n",
            "[Parallel(n_jobs=-1)]: Done 256 out of 256 | elapsed:   19.2s finished\n",
            "[Parallel(n_jobs=-1)]: Using backend LokyBackend with 2 concurrent workers.\n"
          ],
          "name": "stderr"
        },
        {
          "output_type": "stream",
          "text": [
            "R2: \t\t0.986\n",
            "RMSE: \t\t57.728\n",
            "MAX ERR: \t235.104\n",
            "Fitting 4 folds for each of 64 candidates, totalling 256 fits\n"
          ],
          "name": "stdout"
        },
        {
          "output_type": "stream",
          "text": [
            "[Parallel(n_jobs=-1)]: Done 146 tasks      | elapsed:   10.0s\n",
            "[Parallel(n_jobs=-1)]: Done 253 out of 256 | elapsed:   18.6s remaining:    0.2s\n",
            "[Parallel(n_jobs=-1)]: Done 256 out of 256 | elapsed:   18.9s finished\n",
            "[Parallel(n_jobs=-1)]: Using backend LokyBackend with 2 concurrent workers.\n"
          ],
          "name": "stderr"
        },
        {
          "output_type": "stream",
          "text": [
            "R2: \t\t0.991\n",
            "RMSE: \t\t517.321\n",
            "MAX ERR: \t1406.43\n",
            "Fitting 4 folds for each of 64 candidates, totalling 256 fits\n"
          ],
          "name": "stdout"
        },
        {
          "output_type": "stream",
          "text": [
            "[Parallel(n_jobs=-1)]: Done 164 tasks      | elapsed:   10.6s\n",
            "[Parallel(n_jobs=-1)]: Done 256 out of 256 | elapsed:   18.8s finished\n",
            "[Parallel(n_jobs=-1)]: Using backend LokyBackend with 2 concurrent workers.\n"
          ],
          "name": "stderr"
        },
        {
          "output_type": "stream",
          "text": [
            "R2: \t\t0.991\n",
            "RMSE: \t\t505.442\n",
            "MAX ERR: \t1381.932\n",
            "Fitting 4 folds for each of 64 candidates, totalling 256 fits\n"
          ],
          "name": "stdout"
        },
        {
          "output_type": "stream",
          "text": [
            "[Parallel(n_jobs=-1)]: Done 164 tasks      | elapsed:   10.7s\n",
            "[Parallel(n_jobs=-1)]: Done 256 out of 256 | elapsed:   18.8s finished\n",
            "[Parallel(n_jobs=-1)]: Using backend LokyBackend with 2 concurrent workers.\n"
          ],
          "name": "stderr"
        },
        {
          "output_type": "stream",
          "text": [
            "R2: \t\t0.977\n",
            "RMSE: \t\t668.974\n",
            "MAX ERR: \t2900.027\n",
            "Fitting 4 folds for each of 64 candidates, totalling 256 fits\n"
          ],
          "name": "stdout"
        },
        {
          "output_type": "stream",
          "text": [
            "[Parallel(n_jobs=-1)]: Done 164 tasks      | elapsed:   10.6s\n",
            "[Parallel(n_jobs=-1)]: Done 256 out of 256 | elapsed:   18.8s finished\n",
            "[Parallel(n_jobs=-1)]: Using backend LokyBackend with 2 concurrent workers.\n"
          ],
          "name": "stderr"
        },
        {
          "output_type": "stream",
          "text": [
            "R2: \t\t0.978\n",
            "RMSE: \t\t677.429\n",
            "MAX ERR: \t3574.01\n",
            "Fitting 4 folds for each of 64 candidates, totalling 256 fits\n"
          ],
          "name": "stdout"
        },
        {
          "output_type": "stream",
          "text": [
            "[Parallel(n_jobs=-1)]: Done 164 tasks      | elapsed:   10.5s\n",
            "[Parallel(n_jobs=-1)]: Done 256 out of 256 | elapsed:   18.5s finished\n",
            "[Parallel(n_jobs=-1)]: Using backend LokyBackend with 2 concurrent workers.\n"
          ],
          "name": "stderr"
        },
        {
          "output_type": "stream",
          "text": [
            "R2: \t\t0.997\n",
            "RMSE: \t\t1361.352\n",
            "MAX ERR: \t3290.802\n",
            "Fitting 4 folds for each of 64 candidates, totalling 256 fits\n"
          ],
          "name": "stdout"
        },
        {
          "output_type": "stream",
          "text": [
            "[Parallel(n_jobs=-1)]: Done 164 tasks      | elapsed:   10.5s\n",
            "[Parallel(n_jobs=-1)]: Done 256 out of 256 | elapsed:   18.7s finished\n",
            "[Parallel(n_jobs=-1)]: Using backend LokyBackend with 2 concurrent workers.\n"
          ],
          "name": "stderr"
        },
        {
          "output_type": "stream",
          "text": [
            "R2: \t\t0.998\n",
            "RMSE: \t\t1095.387\n",
            "MAX ERR: \t3373.147\n",
            "Fitting 4 folds for each of 64 candidates, totalling 256 fits\n"
          ],
          "name": "stdout"
        },
        {
          "output_type": "stream",
          "text": [
            "[Parallel(n_jobs=-1)]: Done 146 tasks      | elapsed:   10.5s\n",
            "[Parallel(n_jobs=-1)]: Done 256 out of 256 | elapsed:   20.0s finished\n",
            "[Parallel(n_jobs=-1)]: Using backend LokyBackend with 2 concurrent workers.\n"
          ],
          "name": "stderr"
        },
        {
          "output_type": "stream",
          "text": [
            "R2: \t\t0.884\n",
            "RMSE: \t\t230.234\n",
            "MAX ERR: \t831.889\n",
            "Fitting 4 folds for each of 64 candidates, totalling 256 fits\n"
          ],
          "name": "stdout"
        },
        {
          "output_type": "stream",
          "text": [
            "[Parallel(n_jobs=-1)]: Done 146 tasks      | elapsed:   10.4s\n",
            "[Parallel(n_jobs=-1)]: Done 256 out of 256 | elapsed:   19.9s finished\n",
            "[Parallel(n_jobs=-1)]: Using backend LokyBackend with 2 concurrent workers.\n"
          ],
          "name": "stderr"
        },
        {
          "output_type": "stream",
          "text": [
            "R2: \t\t0.828\n",
            "RMSE: \t\t318.307\n",
            "MAX ERR: \t1414.175\n",
            "Fitting 4 folds for each of 64 candidates, totalling 256 fits\n"
          ],
          "name": "stdout"
        },
        {
          "output_type": "stream",
          "text": [
            "[Parallel(n_jobs=-1)]: Done 164 tasks      | elapsed:   10.6s\n",
            "[Parallel(n_jobs=-1)]: Done 256 out of 256 | elapsed:   18.8s finished\n"
          ],
          "name": "stderr"
        },
        {
          "output_type": "stream",
          "text": [
            "R2: \t\t0.98\n",
            "RMSE: \t\t563.055\n",
            "MAX ERR: \t1600.696\n",
            "Fitting 4 folds for each of 64 candidates, totalling 256 fits\n"
          ],
          "name": "stdout"
        },
        {
          "output_type": "stream",
          "text": [
            "[Parallel(n_jobs=-1)]: Using backend LokyBackend with 2 concurrent workers.\n",
            "[Parallel(n_jobs=-1)]: Done 164 tasks      | elapsed:   10.5s\n",
            "[Parallel(n_jobs=-1)]: Done 256 out of 256 | elapsed:   18.7s finished\n",
            "[Parallel(n_jobs=-1)]: Using backend LokyBackend with 2 concurrent workers.\n"
          ],
          "name": "stderr"
        },
        {
          "output_type": "stream",
          "text": [
            "R2: \t\t0.98\n",
            "RMSE: \t\t569.923\n",
            "MAX ERR: \t1529.13\n",
            "Fitting 4 folds for each of 64 candidates, totalling 256 fits\n"
          ],
          "name": "stdout"
        },
        {
          "output_type": "stream",
          "text": [
            "[Parallel(n_jobs=-1)]: Done 164 tasks      | elapsed:   10.7s\n",
            "[Parallel(n_jobs=-1)]: Done 256 out of 256 | elapsed:   18.7s finished\n",
            "[Parallel(n_jobs=-1)]: Using backend LokyBackend with 2 concurrent workers.\n"
          ],
          "name": "stderr"
        },
        {
          "output_type": "stream",
          "text": [
            "R2: \t\t0.984\n",
            "RMSE: \t\t59.973\n",
            "MAX ERR: \t179.377\n",
            "Fitting 4 folds for each of 64 candidates, totalling 256 fits\n"
          ],
          "name": "stdout"
        },
        {
          "output_type": "stream",
          "text": [
            "[Parallel(n_jobs=-1)]: Done 164 tasks      | elapsed:   10.5s\n",
            "[Parallel(n_jobs=-1)]: Done 256 out of 256 | elapsed:   18.8s finished\n",
            "[Parallel(n_jobs=-1)]: Using backend LokyBackend with 2 concurrent workers.\n"
          ],
          "name": "stderr"
        },
        {
          "output_type": "stream",
          "text": [
            "R2: \t\t0.976\n",
            "RMSE: \t\t75.419\n",
            "MAX ERR: \t284.076\n",
            "Fitting 4 folds for each of 64 candidates, totalling 256 fits\n"
          ],
          "name": "stdout"
        },
        {
          "output_type": "stream",
          "text": [
            "[Parallel(n_jobs=-1)]: Done 146 tasks      | elapsed:   10.1s\n",
            "[Parallel(n_jobs=-1)]: Done 256 out of 256 | elapsed:   19.1s finished\n",
            "[Parallel(n_jobs=-1)]: Using backend LokyBackend with 2 concurrent workers.\n"
          ],
          "name": "stderr"
        },
        {
          "output_type": "stream",
          "text": [
            "R2: \t\t0.985\n",
            "RMSE: \t\t656.03\n",
            "MAX ERR: \t2651.211\n",
            "Fitting 4 folds for each of 64 candidates, totalling 256 fits\n"
          ],
          "name": "stdout"
        },
        {
          "output_type": "stream",
          "text": [
            "[Parallel(n_jobs=-1)]: Done 146 tasks      | elapsed:   10.0s\n",
            "[Parallel(n_jobs=-1)]: Done 256 out of 256 | elapsed:   19.0s finished\n",
            "[Parallel(n_jobs=-1)]: Using backend LokyBackend with 2 concurrent workers.\n"
          ],
          "name": "stderr"
        },
        {
          "output_type": "stream",
          "text": [
            "R2: \t\t0.979\n",
            "RMSE: \t\t757.777\n",
            "MAX ERR: \t3263.762\n",
            "Fitting 4 folds for each of 64 candidates, totalling 256 fits\n"
          ],
          "name": "stdout"
        },
        {
          "output_type": "stream",
          "text": [
            "[Parallel(n_jobs=-1)]: Done 164 tasks      | elapsed:   10.6s\n",
            "[Parallel(n_jobs=-1)]: Done 256 out of 256 | elapsed:   18.7s finished\n",
            "[Parallel(n_jobs=-1)]: Using backend LokyBackend with 2 concurrent workers.\n"
          ],
          "name": "stderr"
        },
        {
          "output_type": "stream",
          "text": [
            "R2: \t\t0.986\n",
            "RMSE: \t\t527.787\n",
            "MAX ERR: \t1823.858\n",
            "Fitting 4 folds for each of 64 candidates, totalling 256 fits\n"
          ],
          "name": "stdout"
        },
        {
          "output_type": "stream",
          "text": [
            "[Parallel(n_jobs=-1)]: Done 164 tasks      | elapsed:   10.5s\n",
            "[Parallel(n_jobs=-1)]: Done 256 out of 256 | elapsed:   18.5s finished\n",
            "[Parallel(n_jobs=-1)]: Using backend LokyBackend with 2 concurrent workers.\n"
          ],
          "name": "stderr"
        },
        {
          "output_type": "stream",
          "text": [
            "R2: \t\t0.98\n",
            "RMSE: \t\t647.916\n",
            "MAX ERR: \t2424.27\n",
            "Fitting 4 folds for each of 64 candidates, totalling 256 fits\n"
          ],
          "name": "stdout"
        },
        {
          "output_type": "stream",
          "text": [
            "[Parallel(n_jobs=-1)]: Done 164 tasks      | elapsed:   10.6s\n",
            "[Parallel(n_jobs=-1)]: Done 256 out of 256 | elapsed:   18.6s finished\n",
            "[Parallel(n_jobs=-1)]: Using backend LokyBackend with 2 concurrent workers.\n"
          ],
          "name": "stderr"
        },
        {
          "output_type": "stream",
          "text": [
            "R2: \t\t0.997\n",
            "RMSE: \t\t1377.366\n",
            "MAX ERR: \t4056.876\n",
            "Fitting 4 folds for each of 64 candidates, totalling 256 fits\n"
          ],
          "name": "stdout"
        },
        {
          "output_type": "stream",
          "text": [
            "[Parallel(n_jobs=-1)]: Done 164 tasks      | elapsed:   10.5s\n",
            "[Parallel(n_jobs=-1)]: Done 256 out of 256 | elapsed:   18.5s finished\n",
            "[Parallel(n_jobs=-1)]: Using backend LokyBackend with 2 concurrent workers.\n"
          ],
          "name": "stderr"
        },
        {
          "output_type": "stream",
          "text": [
            "R2: \t\t0.997\n",
            "RMSE: \t\t1360.382\n",
            "MAX ERR: \t3154.642\n",
            "Fitting 4 folds for each of 64 candidates, totalling 256 fits\n"
          ],
          "name": "stdout"
        },
        {
          "output_type": "stream",
          "text": [
            "[Parallel(n_jobs=-1)]: Done 146 tasks      | elapsed:   10.5s\n",
            "[Parallel(n_jobs=-1)]: Done 256 out of 256 | elapsed:   20.0s finished\n",
            "[Parallel(n_jobs=-1)]: Using backend LokyBackend with 2 concurrent workers.\n"
          ],
          "name": "stderr"
        },
        {
          "output_type": "stream",
          "text": [
            "R2: \t\t0.863\n",
            "RMSE: \t\t250.281\n",
            "MAX ERR: \t754.657\n",
            "Fitting 4 folds for each of 64 candidates, totalling 256 fits\n"
          ],
          "name": "stdout"
        },
        {
          "output_type": "stream",
          "text": [
            "[Parallel(n_jobs=-1)]: Done 140 tasks      | elapsed:   10.3s\n",
            "[Parallel(n_jobs=-1)]: Done 256 out of 256 | elapsed:   20.0s finished\n",
            "[Parallel(n_jobs=-1)]: Using backend LokyBackend with 2 concurrent workers.\n"
          ],
          "name": "stderr"
        },
        {
          "output_type": "stream",
          "text": [
            "R2: \t\t0.802\n",
            "RMSE: \t\t342.027\n",
            "MAX ERR: \t1691.737\n",
            "Fitting 4 folds for each of 64 candidates, totalling 256 fits\n"
          ],
          "name": "stdout"
        },
        {
          "output_type": "stream",
          "text": [
            "[Parallel(n_jobs=-1)]: Done 164 tasks      | elapsed:   10.7s\n",
            "[Parallel(n_jobs=-1)]: Done 256 out of 256 | elapsed:   18.7s finished\n"
          ],
          "name": "stderr"
        },
        {
          "output_type": "stream",
          "text": [
            "R2: \t\t0.991\n",
            "RMSE: \t\t388.676\n",
            "MAX ERR: \t1225.467\n",
            "Fitting 4 folds for each of 64 candidates, totalling 256 fits\n"
          ],
          "name": "stdout"
        },
        {
          "output_type": "stream",
          "text": [
            "[Parallel(n_jobs=-1)]: Using backend LokyBackend with 2 concurrent workers.\n",
            "[Parallel(n_jobs=-1)]: Done 164 tasks      | elapsed:   10.6s\n",
            "[Parallel(n_jobs=-1)]: Done 256 out of 256 | elapsed:   18.9s finished\n"
          ],
          "name": "stderr"
        },
        {
          "output_type": "stream",
          "text": [
            "R2: \t\t0.985\n",
            "RMSE: \t\t497.954\n",
            "MAX ERR: \t1724.72\n",
            "Fitting 4 folds for each of 64 candidates, totalling 256 fits\n"
          ],
          "name": "stdout"
        },
        {
          "output_type": "stream",
          "text": [
            "[Parallel(n_jobs=-1)]: Using backend LokyBackend with 2 concurrent workers.\n",
            "[Parallel(n_jobs=-1)]: Done 164 tasks      | elapsed:   10.6s\n",
            "[Parallel(n_jobs=-1)]: Done 256 out of 256 | elapsed:   18.8s finished\n"
          ],
          "name": "stderr"
        },
        {
          "output_type": "stream",
          "text": [
            "R2: \t\t0.982\n",
            "RMSE: \t\t62.112\n",
            "MAX ERR: \t275.061\n",
            "Fitting 4 folds for each of 64 candidates, totalling 256 fits\n"
          ],
          "name": "stdout"
        },
        {
          "output_type": "stream",
          "text": [
            "[Parallel(n_jobs=-1)]: Using backend LokyBackend with 2 concurrent workers.\n",
            "[Parallel(n_jobs=-1)]: Done 164 tasks      | elapsed:   10.5s\n",
            "[Parallel(n_jobs=-1)]: Done 256 out of 256 | elapsed:   18.7s finished\n",
            "[Parallel(n_jobs=-1)]: Using backend LokyBackend with 2 concurrent workers.\n"
          ],
          "name": "stderr"
        },
        {
          "output_type": "stream",
          "text": [
            "R2: \t\t0.979\n",
            "RMSE: \t\t70.756\n",
            "MAX ERR: \t225.55\n",
            "Fitting 4 folds for each of 64 candidates, totalling 256 fits\n"
          ],
          "name": "stdout"
        },
        {
          "output_type": "stream",
          "text": [
            "[Parallel(n_jobs=-1)]: Done 164 tasks      | elapsed:   10.7s\n",
            "[Parallel(n_jobs=-1)]: Done 256 out of 256 | elapsed:   18.8s finished\n",
            "[Parallel(n_jobs=-1)]: Using backend LokyBackend with 2 concurrent workers.\n"
          ],
          "name": "stderr"
        },
        {
          "output_type": "stream",
          "text": [
            "R2: \t\t0.996\n",
            "RMSE: \t\t365.086\n",
            "MAX ERR: \t1134.125\n",
            "Fitting 4 folds for each of 64 candidates, totalling 256 fits\n"
          ],
          "name": "stdout"
        },
        {
          "output_type": "stream",
          "text": [
            "[Parallel(n_jobs=-1)]: Done 164 tasks      | elapsed:   10.7s\n",
            "[Parallel(n_jobs=-1)]: Done 256 out of 256 | elapsed:   18.7s finished\n",
            "[Parallel(n_jobs=-1)]: Using backend LokyBackend with 2 concurrent workers.\n"
          ],
          "name": "stderr"
        },
        {
          "output_type": "stream",
          "text": [
            "R2: \t\t0.995\n",
            "RMSE: \t\t387.27\n",
            "MAX ERR: \t1260.925\n",
            "Fitting 4 folds for each of 64 candidates, totalling 256 fits\n"
          ],
          "name": "stdout"
        },
        {
          "output_type": "stream",
          "text": [
            "[Parallel(n_jobs=-1)]: Done 164 tasks      | elapsed:   10.6s\n",
            "[Parallel(n_jobs=-1)]: Done 256 out of 256 | elapsed:   18.8s finished\n",
            "[Parallel(n_jobs=-1)]: Using backend LokyBackend with 2 concurrent workers.\n"
          ],
          "name": "stderr"
        },
        {
          "output_type": "stream",
          "text": [
            "R2: \t\t0.984\n",
            "RMSE: \t\t557.576\n",
            "MAX ERR: \t2059.431\n",
            "Fitting 4 folds for each of 64 candidates, totalling 256 fits\n"
          ],
          "name": "stdout"
        },
        {
          "output_type": "stream",
          "text": [
            "[Parallel(n_jobs=-1)]: Done 164 tasks      | elapsed:   10.8s\n",
            "[Parallel(n_jobs=-1)]: Done 256 out of 256 | elapsed:   19.0s finished\n",
            "[Parallel(n_jobs=-1)]: Using backend LokyBackend with 2 concurrent workers.\n"
          ],
          "name": "stderr"
        },
        {
          "output_type": "stream",
          "text": [
            "R2: \t\t0.979\n",
            "RMSE: \t\t654.633\n",
            "MAX ERR: \t2218.847\n",
            "Fitting 4 folds for each of 64 candidates, totalling 256 fits\n"
          ],
          "name": "stdout"
        },
        {
          "output_type": "stream",
          "text": [
            "[Parallel(n_jobs=-1)]: Done 164 tasks      | elapsed:   10.5s\n",
            "[Parallel(n_jobs=-1)]: Done 256 out of 256 | elapsed:   18.5s finished\n"
          ],
          "name": "stderr"
        },
        {
          "output_type": "stream",
          "text": [
            "R2: \t\t0.996\n",
            "RMSE: \t\t1502.596\n",
            "MAX ERR: \t4518.249\n",
            "Fitting 4 folds for each of 64 candidates, totalling 256 fits\n"
          ],
          "name": "stdout"
        },
        {
          "output_type": "stream",
          "text": [
            "[Parallel(n_jobs=-1)]: Using backend LokyBackend with 2 concurrent workers.\n",
            "[Parallel(n_jobs=-1)]: Done 164 tasks      | elapsed:   10.5s\n",
            "[Parallel(n_jobs=-1)]: Done 256 out of 256 | elapsed:   18.5s finished\n"
          ],
          "name": "stderr"
        },
        {
          "output_type": "stream",
          "text": [
            "R2: \t\t0.997\n",
            "RMSE: \t\t1404.178\n",
            "MAX ERR: \t3738.122\n",
            "Fitting 4 folds for each of 64 candidates, totalling 256 fits\n"
          ],
          "name": "stdout"
        },
        {
          "output_type": "stream",
          "text": [
            "[Parallel(n_jobs=-1)]: Using backend LokyBackend with 2 concurrent workers.\n",
            "[Parallel(n_jobs=-1)]: Done 140 tasks      | elapsed:   10.4s\n",
            "[Parallel(n_jobs=-1)]: Done 256 out of 256 | elapsed:   20.2s finished\n",
            "[Parallel(n_jobs=-1)]: Using backend LokyBackend with 2 concurrent workers.\n"
          ],
          "name": "stderr"
        },
        {
          "output_type": "stream",
          "text": [
            "R2: \t\t0.85\n",
            "RMSE: \t\t261.416\n",
            "MAX ERR: \t811.576\n",
            "Fitting 4 folds for each of 64 candidates, totalling 256 fits\n"
          ],
          "name": "stdout"
        },
        {
          "output_type": "stream",
          "text": [
            "[Parallel(n_jobs=-1)]: Done 140 tasks      | elapsed:   10.3s\n",
            "[Parallel(n_jobs=-1)]: Done 256 out of 256 | elapsed:   20.1s finished\n",
            "[Parallel(n_jobs=-1)]: Using backend LokyBackend with 2 concurrent workers.\n"
          ],
          "name": "stderr"
        },
        {
          "output_type": "stream",
          "text": [
            "R2: \t\t0.854\n",
            "RMSE: \t\t293.134\n",
            "MAX ERR: \t1332.246\n",
            "Fitting 4 folds for each of 64 candidates, totalling 256 fits\n"
          ],
          "name": "stdout"
        },
        {
          "output_type": "stream",
          "text": [
            "[Parallel(n_jobs=-1)]: Done 164 tasks      | elapsed:   10.6s\n",
            "[Parallel(n_jobs=-1)]: Done 256 out of 256 | elapsed:   18.9s finished\n",
            "[Parallel(n_jobs=-1)]: Using backend LokyBackend with 2 concurrent workers.\n"
          ],
          "name": "stderr"
        },
        {
          "output_type": "stream",
          "text": [
            "R2: \t\t0.983\n",
            "RMSE: \t\t512.297\n",
            "MAX ERR: \t1643.766\n",
            "Fitting 4 folds for each of 64 candidates, totalling 256 fits\n"
          ],
          "name": "stdout"
        },
        {
          "output_type": "stream",
          "text": [
            "[Parallel(n_jobs=-1)]: Done 164 tasks      | elapsed:   10.7s\n",
            "[Parallel(n_jobs=-1)]: Done 256 out of 256 | elapsed:   18.8s finished\n",
            "[Parallel(n_jobs=-1)]: Using backend LokyBackend with 2 concurrent workers.\n"
          ],
          "name": "stderr"
        },
        {
          "output_type": "stream",
          "text": [
            "R2: \t\t0.979\n",
            "RMSE: \t\t591.414\n",
            "MAX ERR: \t2270.39\n",
            "Fitting 4 folds for each of 64 candidates, totalling 256 fits\n"
          ],
          "name": "stdout"
        },
        {
          "output_type": "stream",
          "text": [
            "[Parallel(n_jobs=-1)]: Done 164 tasks      | elapsed:   10.6s\n",
            "[Parallel(n_jobs=-1)]: Done 256 out of 256 | elapsed:   18.8s finished\n"
          ],
          "name": "stderr"
        },
        {
          "output_type": "stream",
          "text": [
            "R2: \t\t0.983\n",
            "RMSE: \t\t60.888\n",
            "MAX ERR: \t209.878\n",
            "Fitting 4 folds for each of 64 candidates, totalling 256 fits\n"
          ],
          "name": "stdout"
        },
        {
          "output_type": "stream",
          "text": [
            "[Parallel(n_jobs=-1)]: Using backend LokyBackend with 2 concurrent workers.\n",
            "[Parallel(n_jobs=-1)]: Done 164 tasks      | elapsed:   10.5s\n",
            "[Parallel(n_jobs=-1)]: Done 256 out of 256 | elapsed:   18.8s finished\n",
            "[Parallel(n_jobs=-1)]: Using backend LokyBackend with 2 concurrent workers.\n"
          ],
          "name": "stderr"
        },
        {
          "output_type": "stream",
          "text": [
            "R2: \t\t0.992\n",
            "RMSE: \t\t43.771\n",
            "MAX ERR: \t178.683\n",
            "Fitting 4 folds for each of 64 candidates, totalling 256 fits\n"
          ],
          "name": "stdout"
        },
        {
          "output_type": "stream",
          "text": [
            "[Parallel(n_jobs=-1)]: Done 164 tasks      | elapsed:   10.7s\n",
            "[Parallel(n_jobs=-1)]: Done 256 out of 256 | elapsed:   18.8s finished\n",
            "[Parallel(n_jobs=-1)]: Using backend LokyBackend with 2 concurrent workers.\n"
          ],
          "name": "stderr"
        },
        {
          "output_type": "stream",
          "text": [
            "R2: \t\t0.987\n",
            "RMSE: \t\t632.831\n",
            "MAX ERR: \t2366.967\n",
            "Fitting 4 folds for each of 64 candidates, totalling 256 fits\n"
          ],
          "name": "stdout"
        },
        {
          "output_type": "stream",
          "text": [
            "[Parallel(n_jobs=-1)]: Done 164 tasks      | elapsed:   10.7s\n",
            "[Parallel(n_jobs=-1)]: Done 256 out of 256 | elapsed:   19.0s finished\n",
            "[Parallel(n_jobs=-1)]: Using backend LokyBackend with 2 concurrent workers.\n"
          ],
          "name": "stderr"
        },
        {
          "output_type": "stream",
          "text": [
            "R2: \t\t0.984\n",
            "RMSE: \t\t663.559\n",
            "MAX ERR: \t2270.76\n",
            "Fitting 4 folds for each of 64 candidates, totalling 256 fits\n"
          ],
          "name": "stdout"
        },
        {
          "output_type": "stream",
          "text": [
            "[Parallel(n_jobs=-1)]: Done 164 tasks      | elapsed:   10.6s\n",
            "[Parallel(n_jobs=-1)]: Done 256 out of 256 | elapsed:   18.8s finished\n",
            "[Parallel(n_jobs=-1)]: Using backend LokyBackend with 2 concurrent workers.\n"
          ],
          "name": "stderr"
        },
        {
          "output_type": "stream",
          "text": [
            "R2: \t\t0.984\n",
            "RMSE: \t\t565.278\n",
            "MAX ERR: \t1959.435\n",
            "Fitting 4 folds for each of 64 candidates, totalling 256 fits\n"
          ],
          "name": "stdout"
        },
        {
          "output_type": "stream",
          "text": [
            "[Parallel(n_jobs=-1)]: Done 164 tasks      | elapsed:   10.6s\n",
            "[Parallel(n_jobs=-1)]: Done 256 out of 256 | elapsed:   18.8s finished\n"
          ],
          "name": "stderr"
        },
        {
          "output_type": "stream",
          "text": [
            "R2: \t\t0.98\n",
            "RMSE: \t\t647.006\n",
            "MAX ERR: \t2761.159\n",
            "Fitting 4 folds for each of 64 candidates, totalling 256 fits\n"
          ],
          "name": "stdout"
        },
        {
          "output_type": "stream",
          "text": [
            "[Parallel(n_jobs=-1)]: Using backend LokyBackend with 2 concurrent workers.\n",
            "[Parallel(n_jobs=-1)]: Done 164 tasks      | elapsed:   10.4s\n",
            "[Parallel(n_jobs=-1)]: Done 256 out of 256 | elapsed:   18.4s finished\n",
            "[Parallel(n_jobs=-1)]: Using backend LokyBackend with 2 concurrent workers.\n"
          ],
          "name": "stderr"
        },
        {
          "output_type": "stream",
          "text": [
            "R2: \t\t0.998\n",
            "RMSE: \t\t1254.705\n",
            "MAX ERR: \t2840.979\n",
            "Fitting 4 folds for each of 64 candidates, totalling 256 fits\n"
          ],
          "name": "stdout"
        },
        {
          "output_type": "stream",
          "text": [
            "[Parallel(n_jobs=-1)]: Done 164 tasks      | elapsed:   10.5s\n",
            "[Parallel(n_jobs=-1)]: Done 256 out of 256 | elapsed:   18.5s finished\n",
            "[Parallel(n_jobs=-1)]: Using backend LokyBackend with 2 concurrent workers.\n"
          ],
          "name": "stderr"
        },
        {
          "output_type": "stream",
          "text": [
            "R2: \t\t0.995\n",
            "RMSE: \t\t1840.125\n",
            "MAX ERR: \t4891.418\n",
            "Fitting 4 folds for each of 64 candidates, totalling 256 fits\n"
          ],
          "name": "stdout"
        },
        {
          "output_type": "stream",
          "text": [
            "[Parallel(n_jobs=-1)]: Done 140 tasks      | elapsed:   10.3s\n",
            "[Parallel(n_jobs=-1)]: Done 256 out of 256 | elapsed:   20.0s finished\n",
            "[Parallel(n_jobs=-1)]: Using backend LokyBackend with 2 concurrent workers.\n"
          ],
          "name": "stderr"
        },
        {
          "output_type": "stream",
          "text": [
            "R2: \t\t0.851\n",
            "RMSE: \t\t240.297\n",
            "MAX ERR: \t874.757\n",
            "Fitting 4 folds for each of 64 candidates, totalling 256 fits\n"
          ],
          "name": "stdout"
        },
        {
          "output_type": "stream",
          "text": [
            "[Parallel(n_jobs=-1)]: Done 146 tasks      | elapsed:   10.5s\n",
            "[Parallel(n_jobs=-1)]: Done 256 out of 256 | elapsed:   19.9s finished\n",
            "[Parallel(n_jobs=-1)]: Using backend LokyBackend with 2 concurrent workers.\n"
          ],
          "name": "stderr"
        },
        {
          "output_type": "stream",
          "text": [
            "R2: \t\t0.783\n",
            "RMSE: \t\t386.637\n",
            "MAX ERR: \t1756.786\n",
            "Fitting 4 folds for each of 64 candidates, totalling 256 fits\n"
          ],
          "name": "stdout"
        },
        {
          "output_type": "stream",
          "text": [
            "[Parallel(n_jobs=-1)]: Done 164 tasks      | elapsed:   10.5s\n",
            "[Parallel(n_jobs=-1)]: Done 256 out of 256 | elapsed:   18.8s finished\n",
            "[Parallel(n_jobs=-1)]: Using backend LokyBackend with 2 concurrent workers.\n"
          ],
          "name": "stderr"
        },
        {
          "output_type": "stream",
          "text": [
            "R2: \t\t0.987\n",
            "RMSE: \t\t476.35\n",
            "MAX ERR: \t1566.794\n",
            "Fitting 4 folds for each of 64 candidates, totalling 256 fits\n"
          ],
          "name": "stdout"
        },
        {
          "output_type": "stream",
          "text": [
            "[Parallel(n_jobs=-1)]: Done 164 tasks      | elapsed:   10.7s\n",
            "[Parallel(n_jobs=-1)]: Done 256 out of 256 | elapsed:   18.9s finished\n",
            "[Parallel(n_jobs=-1)]: Using backend LokyBackend with 2 concurrent workers.\n"
          ],
          "name": "stderr"
        },
        {
          "output_type": "stream",
          "text": [
            "R2: \t\t0.987\n",
            "RMSE: \t\t491.868\n",
            "MAX ERR: \t1537.313\n",
            "Fitting 4 folds for each of 64 candidates, totalling 256 fits\n"
          ],
          "name": "stdout"
        },
        {
          "output_type": "stream",
          "text": [
            "[Parallel(n_jobs=-1)]: Done 164 tasks      | elapsed:   10.5s\n",
            "[Parallel(n_jobs=-1)]: Done 256 out of 256 | elapsed:   18.7s finished\n",
            "[Parallel(n_jobs=-1)]: Using backend LokyBackend with 2 concurrent workers.\n"
          ],
          "name": "stderr"
        },
        {
          "output_type": "stream",
          "text": [
            "R2: \t\t0.99\n",
            "RMSE: \t\t47.833\n",
            "MAX ERR: \t201.632\n",
            "Fitting 4 folds for each of 64 candidates, totalling 256 fits\n"
          ],
          "name": "stdout"
        },
        {
          "output_type": "stream",
          "text": [
            "[Parallel(n_jobs=-1)]: Done 164 tasks      | elapsed:   10.6s\n",
            "[Parallel(n_jobs=-1)]: Done 256 out of 256 | elapsed:   18.6s finished\n",
            "[Parallel(n_jobs=-1)]: Using backend LokyBackend with 2 concurrent workers.\n"
          ],
          "name": "stderr"
        },
        {
          "output_type": "stream",
          "text": [
            "R2: \t\t0.989\n",
            "RMSE: \t\t50.624\n",
            "MAX ERR: \t182.334\n",
            "Fitting 4 folds for each of 64 candidates, totalling 256 fits\n"
          ],
          "name": "stdout"
        },
        {
          "output_type": "stream",
          "text": [
            "[Parallel(n_jobs=-1)]: Done 164 tasks      | elapsed:   10.6s\n",
            "[Parallel(n_jobs=-1)]: Done 256 out of 256 | elapsed:   18.6s finished\n",
            "[Parallel(n_jobs=-1)]: Using backend LokyBackend with 2 concurrent workers.\n"
          ],
          "name": "stderr"
        },
        {
          "output_type": "stream",
          "text": [
            "R2: \t\t0.993\n",
            "RMSE: \t\t407.083\n",
            "MAX ERR: \t1420.747\n",
            "Fitting 4 folds for each of 64 candidates, totalling 256 fits\n"
          ],
          "name": "stdout"
        },
        {
          "output_type": "stream",
          "text": [
            "[Parallel(n_jobs=-1)]: Done 164 tasks      | elapsed:   10.6s\n",
            "[Parallel(n_jobs=-1)]: Done 256 out of 256 | elapsed:   18.7s finished\n"
          ],
          "name": "stderr"
        },
        {
          "output_type": "stream",
          "text": [
            "R2: \t\t0.994\n",
            "RMSE: \t\t370.531\n",
            "MAX ERR: \t1323.379\n",
            "Fitting 4 folds for each of 64 candidates, totalling 256 fits\n"
          ],
          "name": "stdout"
        },
        {
          "output_type": "stream",
          "text": [
            "[Parallel(n_jobs=-1)]: Using backend LokyBackend with 2 concurrent workers.\n",
            "[Parallel(n_jobs=-1)]: Done 164 tasks      | elapsed:   10.6s\n",
            "[Parallel(n_jobs=-1)]: Done 256 out of 256 | elapsed:   18.7s finished\n",
            "[Parallel(n_jobs=-1)]: Using backend LokyBackend with 2 concurrent workers.\n"
          ],
          "name": "stderr"
        },
        {
          "output_type": "stream",
          "text": [
            "R2: \t\t0.99\n",
            "RMSE: \t\t476.472\n",
            "MAX ERR: \t1839.928\n",
            "Fitting 4 folds for each of 64 candidates, totalling 256 fits\n"
          ],
          "name": "stdout"
        },
        {
          "output_type": "stream",
          "text": [
            "[Parallel(n_jobs=-1)]: Done 164 tasks      | elapsed:   10.5s\n",
            "[Parallel(n_jobs=-1)]: Done 256 out of 256 | elapsed:   18.6s finished\n",
            "[Parallel(n_jobs=-1)]: Using backend LokyBackend with 2 concurrent workers.\n"
          ],
          "name": "stderr"
        },
        {
          "output_type": "stream",
          "text": [
            "R2: \t\t0.989\n",
            "RMSE: \t\t513.47\n",
            "MAX ERR: \t1660.324\n",
            "Fitting 4 folds for each of 64 candidates, totalling 256 fits\n"
          ],
          "name": "stdout"
        },
        {
          "output_type": "stream",
          "text": [
            "[Parallel(n_jobs=-1)]: Done 164 tasks      | elapsed:   10.4s\n",
            "[Parallel(n_jobs=-1)]: Done 256 out of 256 | elapsed:   18.4s finished\n",
            "[Parallel(n_jobs=-1)]: Using backend LokyBackend with 2 concurrent workers.\n"
          ],
          "name": "stderr"
        },
        {
          "output_type": "stream",
          "text": [
            "R2: \t\t0.999\n",
            "RMSE: \t\t773.912\n",
            "MAX ERR: \t1939.882\n",
            "Fitting 4 folds for each of 64 candidates, totalling 256 fits\n"
          ],
          "name": "stdout"
        },
        {
          "output_type": "stream",
          "text": [
            "[Parallel(n_jobs=-1)]: Done 164 tasks      | elapsed:   10.3s\n",
            "[Parallel(n_jobs=-1)]: Done 256 out of 256 | elapsed:   18.3s finished\n",
            "[Parallel(n_jobs=-1)]: Using backend LokyBackend with 2 concurrent workers.\n"
          ],
          "name": "stderr"
        },
        {
          "output_type": "stream",
          "text": [
            "R2: \t\t0.997\n",
            "RMSE: \t\t1478.763\n",
            "MAX ERR: \t7563.711\n",
            "Fitting 4 folds for each of 64 candidates, totalling 256 fits\n"
          ],
          "name": "stdout"
        },
        {
          "output_type": "stream",
          "text": [
            "[Parallel(n_jobs=-1)]: Done 140 tasks      | elapsed:   10.3s\n",
            "[Parallel(n_jobs=-1)]: Done 256 out of 256 | elapsed:   19.9s finished\n",
            "[Parallel(n_jobs=-1)]: Using backend LokyBackend with 2 concurrent workers.\n"
          ],
          "name": "stderr"
        },
        {
          "output_type": "stream",
          "text": [
            "R2: \t\t0.837\n",
            "RMSE: \t\t250.816\n",
            "MAX ERR: \t950.517\n",
            "Fitting 4 folds for each of 64 candidates, totalling 256 fits\n"
          ],
          "name": "stdout"
        },
        {
          "output_type": "stream",
          "text": [
            "[Parallel(n_jobs=-1)]: Done 140 tasks      | elapsed:   10.4s\n",
            "[Parallel(n_jobs=-1)]: Done 256 out of 256 | elapsed:   20.2s finished\n",
            "[Parallel(n_jobs=-1)]: Using backend LokyBackend with 2 concurrent workers.\n"
          ],
          "name": "stderr"
        },
        {
          "output_type": "stream",
          "text": [
            "R2: \t\t0.805\n",
            "RMSE: \t\t366.999\n",
            "MAX ERR: \t1654.739\n",
            "Fitting 4 folds for each of 64 candidates, totalling 256 fits\n"
          ],
          "name": "stdout"
        },
        {
          "output_type": "stream",
          "text": [
            "[Parallel(n_jobs=-1)]: Done 146 tasks      | elapsed:   10.1s\n",
            "[Parallel(n_jobs=-1)]: Done 256 out of 256 | elapsed:   19.0s finished\n",
            "[Parallel(n_jobs=-1)]: Using backend LokyBackend with 2 concurrent workers.\n"
          ],
          "name": "stderr"
        },
        {
          "output_type": "stream",
          "text": [
            "R2: \t\t0.975\n",
            "RMSE: \t\t669.204\n",
            "MAX ERR: \t2576.728\n",
            "Fitting 4 folds for each of 64 candidates, totalling 256 fits\n"
          ],
          "name": "stdout"
        },
        {
          "output_type": "stream",
          "text": [
            "[Parallel(n_jobs=-1)]: Done 164 tasks      | elapsed:   10.7s\n",
            "[Parallel(n_jobs=-1)]: Done 256 out of 256 | elapsed:   18.9s finished\n",
            "[Parallel(n_jobs=-1)]: Using backend LokyBackend with 2 concurrent workers.\n"
          ],
          "name": "stderr"
        },
        {
          "output_type": "stream",
          "text": [
            "R2: \t\t0.987\n",
            "RMSE: \t\t494.565\n",
            "MAX ERR: \t1768.343\n",
            "Fitting 4 folds for each of 64 candidates, totalling 256 fits\n"
          ],
          "name": "stdout"
        },
        {
          "output_type": "stream",
          "text": [
            "[Parallel(n_jobs=-1)]: Done 164 tasks      | elapsed:   10.6s\n",
            "[Parallel(n_jobs=-1)]: Done 256 out of 256 | elapsed:   18.8s finished\n",
            "[Parallel(n_jobs=-1)]: Using backend LokyBackend with 2 concurrent workers.\n"
          ],
          "name": "stderr"
        },
        {
          "output_type": "stream",
          "text": [
            "R2: \t\t0.984\n",
            "RMSE: \t\t60.271\n",
            "MAX ERR: \t190.415\n",
            "Fitting 4 folds for each of 64 candidates, totalling 256 fits\n"
          ],
          "name": "stdout"
        },
        {
          "output_type": "stream",
          "text": [
            "[Parallel(n_jobs=-1)]: Done 146 tasks      | elapsed:   10.1s\n",
            "[Parallel(n_jobs=-1)]: Done 256 out of 256 | elapsed:   19.3s finished\n",
            "[Parallel(n_jobs=-1)]: Using backend LokyBackend with 2 concurrent workers.\n"
          ],
          "name": "stderr"
        },
        {
          "output_type": "stream",
          "text": [
            "R2: \t\t0.995\n",
            "RMSE: \t\t33.098\n",
            "MAX ERR: \t104.917\n",
            "Fitting 4 folds for each of 64 candidates, totalling 256 fits\n"
          ],
          "name": "stdout"
        },
        {
          "output_type": "stream",
          "text": [
            "[Parallel(n_jobs=-1)]: Done 164 tasks      | elapsed:   10.7s\n",
            "[Parallel(n_jobs=-1)]: Done 256 out of 256 | elapsed:   18.9s finished\n",
            "[Parallel(n_jobs=-1)]: Using backend LokyBackend with 2 concurrent workers.\n"
          ],
          "name": "stderr"
        },
        {
          "output_type": "stream",
          "text": [
            "R2: \t\t0.996\n",
            "RMSE: \t\t310.593\n",
            "MAX ERR: \t1043.487\n",
            "Fitting 4 folds for each of 64 candidates, totalling 256 fits\n"
          ],
          "name": "stdout"
        },
        {
          "output_type": "stream",
          "text": [
            "[Parallel(n_jobs=-1)]: Done 164 tasks      | elapsed:   10.7s\n",
            "[Parallel(n_jobs=-1)]: Done 256 out of 256 | elapsed:   19.0s finished\n",
            "[Parallel(n_jobs=-1)]: Using backend LokyBackend with 2 concurrent workers.\n"
          ],
          "name": "stderr"
        },
        {
          "output_type": "stream",
          "text": [
            "R2: \t\t0.994\n",
            "RMSE: \t\t358.984\n",
            "MAX ERR: \t1044.055\n",
            "Fitting 4 folds for each of 64 candidates, totalling 256 fits\n"
          ],
          "name": "stdout"
        },
        {
          "output_type": "stream",
          "text": [
            "[Parallel(n_jobs=-1)]: Done 164 tasks      | elapsed:   10.7s\n",
            "[Parallel(n_jobs=-1)]: Done 256 out of 256 | elapsed:   18.7s finished\n",
            "[Parallel(n_jobs=-1)]: Using backend LokyBackend with 2 concurrent workers.\n"
          ],
          "name": "stderr"
        },
        {
          "output_type": "stream",
          "text": [
            "R2: \t\t0.985\n",
            "RMSE: \t\t570.613\n",
            "MAX ERR: \t1895.244\n",
            "Fitting 4 folds for each of 64 candidates, totalling 256 fits\n"
          ],
          "name": "stdout"
        },
        {
          "output_type": "stream",
          "text": [
            "[Parallel(n_jobs=-1)]: Done 164 tasks      | elapsed:   10.7s\n",
            "[Parallel(n_jobs=-1)]: Done 256 out of 256 | elapsed:   18.8s finished\n",
            "[Parallel(n_jobs=-1)]: Using backend LokyBackend with 2 concurrent workers.\n"
          ],
          "name": "stderr"
        },
        {
          "output_type": "stream",
          "text": [
            "R2: \t\t0.988\n",
            "RMSE: \t\t527.704\n",
            "MAX ERR: \t1793.053\n",
            "Fitting 4 folds for each of 64 candidates, totalling 256 fits\n"
          ],
          "name": "stdout"
        },
        {
          "output_type": "stream",
          "text": [
            "[Parallel(n_jobs=-1)]: Done 164 tasks      | elapsed:   10.4s\n",
            "[Parallel(n_jobs=-1)]: Done 256 out of 256 | elapsed:   18.5s finished\n",
            "[Parallel(n_jobs=-1)]: Using backend LokyBackend with 2 concurrent workers.\n"
          ],
          "name": "stderr"
        },
        {
          "output_type": "stream",
          "text": [
            "R2: \t\t0.998\n",
            "RMSE: \t\t1019.421\n",
            "MAX ERR: \t4625.116\n",
            "Fitting 4 folds for each of 64 candidates, totalling 256 fits\n"
          ],
          "name": "stdout"
        },
        {
          "output_type": "stream",
          "text": [
            "[Parallel(n_jobs=-1)]: Done 164 tasks      | elapsed:   10.5s\n",
            "[Parallel(n_jobs=-1)]: Done 256 out of 256 | elapsed:   18.4s finished\n",
            "[Parallel(n_jobs=-1)]: Using backend LokyBackend with 2 concurrent workers.\n"
          ],
          "name": "stderr"
        },
        {
          "output_type": "stream",
          "text": [
            "R2: \t\t0.996\n",
            "RMSE: \t\t1490.848\n",
            "MAX ERR: \t8227.508\n",
            "Fitting 4 folds for each of 64 candidates, totalling 256 fits\n"
          ],
          "name": "stdout"
        },
        {
          "output_type": "stream",
          "text": [
            "[Parallel(n_jobs=-1)]: Done 146 tasks      | elapsed:   10.4s\n",
            "[Parallel(n_jobs=-1)]: Done 256 out of 256 | elapsed:   19.8s finished\n",
            "[Parallel(n_jobs=-1)]: Using backend LokyBackend with 2 concurrent workers.\n"
          ],
          "name": "stderr"
        },
        {
          "output_type": "stream",
          "text": [
            "R2: \t\t0.883\n",
            "RMSE: \t\t213.012\n",
            "MAX ERR: \t774.148\n",
            "Fitting 4 folds for each of 64 candidates, totalling 256 fits\n"
          ],
          "name": "stdout"
        },
        {
          "output_type": "stream",
          "text": [
            "[Parallel(n_jobs=-1)]: Done 146 tasks      | elapsed:   10.5s\n",
            "[Parallel(n_jobs=-1)]: Done 253 out of 256 | elapsed:   19.7s remaining:    0.2s\n",
            "[Parallel(n_jobs=-1)]: Done 256 out of 256 | elapsed:   20.0s finished\n",
            "[Parallel(n_jobs=-1)]: Using backend LokyBackend with 2 concurrent workers.\n"
          ],
          "name": "stderr"
        },
        {
          "output_type": "stream",
          "text": [
            "R2: \t\t0.769\n",
            "RMSE: \t\t399.182\n",
            "MAX ERR: \t1815.59\n",
            "Fitting 4 folds for each of 64 candidates, totalling 256 fits\n"
          ],
          "name": "stdout"
        },
        {
          "output_type": "stream",
          "text": [
            "[Parallel(n_jobs=-1)]: Done 146 tasks      | elapsed:   10.1s\n",
            "[Parallel(n_jobs=-1)]: Done 253 out of 256 | elapsed:   18.9s remaining:    0.2s\n",
            "[Parallel(n_jobs=-1)]: Done 256 out of 256 | elapsed:   19.2s finished\n",
            "[Parallel(n_jobs=-1)]: Using backend LokyBackend with 2 concurrent workers.\n"
          ],
          "name": "stderr"
        },
        {
          "output_type": "stream",
          "text": [
            "R2: \t\t0.989\n",
            "RMSE: \t\t452.19\n",
            "MAX ERR: \t1566.992\n",
            "Fitting 4 folds for each of 64 candidates, totalling 256 fits\n"
          ],
          "name": "stdout"
        },
        {
          "output_type": "stream",
          "text": [
            "[Parallel(n_jobs=-1)]: Done 146 tasks      | elapsed:   10.0s\n",
            "[Parallel(n_jobs=-1)]: Done 253 out of 256 | elapsed:   18.8s remaining:    0.2s\n",
            "[Parallel(n_jobs=-1)]: Done 256 out of 256 | elapsed:   19.1s finished\n",
            "[Parallel(n_jobs=-1)]: Using backend LokyBackend with 2 concurrent workers.\n"
          ],
          "name": "stderr"
        },
        {
          "output_type": "stream",
          "text": [
            "R2: \t\t0.972\n",
            "RMSE: \t\t722.565\n",
            "MAX ERR: \t2837.232\n",
            "Fitting 4 folds for each of 64 candidates, totalling 256 fits\n"
          ],
          "name": "stdout"
        },
        {
          "output_type": "stream",
          "text": [
            "[Parallel(n_jobs=-1)]: Done 164 tasks      | elapsed:   10.6s\n",
            "[Parallel(n_jobs=-1)]: Done 256 out of 256 | elapsed:   19.0s finished\n",
            "[Parallel(n_jobs=-1)]: Using backend LokyBackend with 2 concurrent workers.\n"
          ],
          "name": "stderr"
        },
        {
          "output_type": "stream",
          "text": [
            "R2: \t\t0.988\n",
            "RMSE: \t\t53.654\n",
            "MAX ERR: \t218.722\n",
            "Fitting 4 folds for each of 64 candidates, totalling 256 fits\n"
          ],
          "name": "stdout"
        },
        {
          "output_type": "stream",
          "text": [
            "[Parallel(n_jobs=-1)]: Done 164 tasks      | elapsed:   10.7s\n",
            "[Parallel(n_jobs=-1)]: Done 256 out of 256 | elapsed:   18.8s finished\n",
            "[Parallel(n_jobs=-1)]: Using backend LokyBackend with 2 concurrent workers.\n"
          ],
          "name": "stderr"
        },
        {
          "output_type": "stream",
          "text": [
            "R2: \t\t0.984\n",
            "RMSE: \t\t60.609\n",
            "MAX ERR: \t228.164\n",
            "Fitting 4 folds for each of 64 candidates, totalling 256 fits\n"
          ],
          "name": "stdout"
        },
        {
          "output_type": "stream",
          "text": [
            "[Parallel(n_jobs=-1)]: Done 164 tasks      | elapsed:   10.7s\n",
            "[Parallel(n_jobs=-1)]: Done 256 out of 256 | elapsed:   18.8s finished\n",
            "[Parallel(n_jobs=-1)]: Using backend LokyBackend with 2 concurrent workers.\n"
          ],
          "name": "stderr"
        },
        {
          "output_type": "stream",
          "text": [
            "R2: \t\t0.996\n",
            "RMSE: \t\t306.249\n",
            "MAX ERR: \t1261.371\n",
            "Fitting 4 folds for each of 64 candidates, totalling 256 fits\n"
          ],
          "name": "stdout"
        },
        {
          "output_type": "stream",
          "text": [
            "[Parallel(n_jobs=-1)]: Done 146 tasks      | elapsed:   10.0s\n",
            "[Parallel(n_jobs=-1)]: Done 256 out of 256 | elapsed:   19.1s finished\n",
            "[Parallel(n_jobs=-1)]: Using backend LokyBackend with 2 concurrent workers.\n"
          ],
          "name": "stderr"
        },
        {
          "output_type": "stream",
          "text": [
            "R2: \t\t0.992\n",
            "RMSE: \t\t413.009\n",
            "MAX ERR: \t1488.108\n",
            "Fitting 4 folds for each of 64 candidates, totalling 256 fits\n"
          ],
          "name": "stdout"
        },
        {
          "output_type": "stream",
          "text": [
            "[Parallel(n_jobs=-1)]: Done 146 tasks      | elapsed:   10.0s\n",
            "[Parallel(n_jobs=-1)]: Done 253 out of 256 | elapsed:   18.8s remaining:    0.2s\n",
            "[Parallel(n_jobs=-1)]: Done 256 out of 256 | elapsed:   19.0s finished\n",
            "[Parallel(n_jobs=-1)]: Using backend LokyBackend with 2 concurrent workers.\n"
          ],
          "name": "stderr"
        },
        {
          "output_type": "stream",
          "text": [
            "R2: \t\t0.992\n",
            "RMSE: \t\t418.552\n",
            "MAX ERR: \t1224.814\n",
            "Fitting 4 folds for each of 64 candidates, totalling 256 fits\n"
          ],
          "name": "stdout"
        },
        {
          "output_type": "stream",
          "text": [
            "[Parallel(n_jobs=-1)]: Done 164 tasks      | elapsed:   10.6s\n",
            "[Parallel(n_jobs=-1)]: Done 256 out of 256 | elapsed:   18.8s finished\n",
            "[Parallel(n_jobs=-1)]: Using backend LokyBackend with 2 concurrent workers.\n"
          ],
          "name": "stderr"
        },
        {
          "output_type": "stream",
          "text": [
            "R2: \t\t0.987\n",
            "RMSE: \t\t548.214\n",
            "MAX ERR: \t1976.199\n",
            "Fitting 4 folds for each of 64 candidates, totalling 256 fits\n"
          ],
          "name": "stdout"
        },
        {
          "output_type": "stream",
          "text": [
            "[Parallel(n_jobs=-1)]: Done 164 tasks      | elapsed:   10.4s\n",
            "[Parallel(n_jobs=-1)]: Done 256 out of 256 | elapsed:   18.4s finished\n",
            "[Parallel(n_jobs=-1)]: Using backend LokyBackend with 2 concurrent workers.\n"
          ],
          "name": "stderr"
        },
        {
          "output_type": "stream",
          "text": [
            "R2: \t\t0.998\n",
            "RMSE: \t\t1035.389\n",
            "MAX ERR: \t2299.045\n",
            "Fitting 4 folds for each of 64 candidates, totalling 256 fits\n"
          ],
          "name": "stdout"
        },
        {
          "output_type": "stream",
          "text": [
            "[Parallel(n_jobs=-1)]: Done 164 tasks      | elapsed:   10.5s\n",
            "[Parallel(n_jobs=-1)]: Done 256 out of 256 | elapsed:   18.5s finished\n",
            "[Parallel(n_jobs=-1)]: Using backend LokyBackend with 2 concurrent workers.\n"
          ],
          "name": "stderr"
        },
        {
          "output_type": "stream",
          "text": [
            "R2: \t\t0.997\n",
            "RMSE: \t\t1438.103\n",
            "MAX ERR: \t6787.906\n",
            "Fitting 4 folds for each of 64 candidates, totalling 256 fits\n"
          ],
          "name": "stdout"
        },
        {
          "output_type": "stream",
          "text": [
            "[Parallel(n_jobs=-1)]: Done 140 tasks      | elapsed:   10.3s\n",
            "[Parallel(n_jobs=-1)]: Done 256 out of 256 | elapsed:   20.0s finished\n",
            "[Parallel(n_jobs=-1)]: Using backend LokyBackend with 2 concurrent workers.\n"
          ],
          "name": "stderr"
        },
        {
          "output_type": "stream",
          "text": [
            "R2: \t\t0.907\n",
            "RMSE: \t\t189.943\n",
            "MAX ERR: \t633.363\n",
            "Fitting 4 folds for each of 64 candidates, totalling 256 fits\n"
          ],
          "name": "stdout"
        },
        {
          "output_type": "stream",
          "text": [
            "[Parallel(n_jobs=-1)]: Done 146 tasks      | elapsed:   10.5s\n",
            "[Parallel(n_jobs=-1)]: Done 256 out of 256 | elapsed:   20.0s finished\n",
            "[Parallel(n_jobs=-1)]: Using backend LokyBackend with 2 concurrent workers.\n"
          ],
          "name": "stderr"
        },
        {
          "output_type": "stream",
          "text": [
            "R2: \t\t0.788\n",
            "RMSE: \t\t382.124\n",
            "MAX ERR: \t1705.569\n",
            "Fitting 4 folds for each of 64 candidates, totalling 256 fits\n"
          ],
          "name": "stdout"
        },
        {
          "output_type": "stream",
          "text": [
            "[Parallel(n_jobs=-1)]: Done 164 tasks      | elapsed:   10.7s\n",
            "[Parallel(n_jobs=-1)]: Done 256 out of 256 | elapsed:   18.8s finished\n",
            "[Parallel(n_jobs=-1)]: Using backend LokyBackend with 2 concurrent workers.\n"
          ],
          "name": "stderr"
        },
        {
          "output_type": "stream",
          "text": [
            "R2: \t\t0.99\n",
            "RMSE: \t\t424.312\n",
            "MAX ERR: \t1239.881\n",
            "Fitting 4 folds for each of 64 candidates, totalling 256 fits\n"
          ],
          "name": "stdout"
        },
        {
          "output_type": "stream",
          "text": [
            "[Parallel(n_jobs=-1)]: Done 164 tasks      | elapsed:   10.7s\n",
            "[Parallel(n_jobs=-1)]: Done 256 out of 256 | elapsed:   18.8s finished\n",
            "[Parallel(n_jobs=-1)]: Using backend LokyBackend with 2 concurrent workers.\n"
          ],
          "name": "stderr"
        },
        {
          "output_type": "stream",
          "text": [
            "R2: \t\t0.987\n",
            "RMSE: \t\t497.407\n",
            "MAX ERR: \t1602.016\n",
            "Fitting 4 folds for each of 64 candidates, totalling 256 fits\n"
          ],
          "name": "stdout"
        },
        {
          "output_type": "stream",
          "text": [
            "[Parallel(n_jobs=-1)]: Done 164 tasks      | elapsed:   10.7s\n",
            "[Parallel(n_jobs=-1)]: Done 256 out of 256 | elapsed:   18.8s finished\n",
            "[Parallel(n_jobs=-1)]: Using backend LokyBackend with 2 concurrent workers.\n"
          ],
          "name": "stderr"
        },
        {
          "output_type": "stream",
          "text": [
            "R2: \t\t0.985\n",
            "RMSE: \t\t58.46\n",
            "MAX ERR: \t243.514\n",
            "Fitting 4 folds for each of 64 candidates, totalling 256 fits\n"
          ],
          "name": "stdout"
        },
        {
          "output_type": "stream",
          "text": [
            "[Parallel(n_jobs=-1)]: Done 164 tasks      | elapsed:   10.7s\n",
            "[Parallel(n_jobs=-1)]: Done 256 out of 256 | elapsed:   18.9s finished\n",
            "[Parallel(n_jobs=-1)]: Using backend LokyBackend with 2 concurrent workers.\n"
          ],
          "name": "stderr"
        },
        {
          "output_type": "stream",
          "text": [
            "R2: \t\t0.991\n",
            "RMSE: \t\t46.694\n",
            "MAX ERR: \t154.25\n",
            "Fitting 4 folds for each of 64 candidates, totalling 256 fits\n"
          ],
          "name": "stdout"
        },
        {
          "output_type": "stream",
          "text": [
            "[Parallel(n_jobs=-1)]: Done 164 tasks      | elapsed:   10.6s\n",
            "[Parallel(n_jobs=-1)]: Done 256 out of 256 | elapsed:   18.8s finished\n",
            "[Parallel(n_jobs=-1)]: Using backend LokyBackend with 2 concurrent workers.\n"
          ],
          "name": "stderr"
        },
        {
          "output_type": "stream",
          "text": [
            "R2: \t\t0.996\n",
            "RMSE: \t\t316.289\n",
            "MAX ERR: \t1377.635\n",
            "Fitting 4 folds for each of 64 candidates, totalling 256 fits\n"
          ],
          "name": "stdout"
        },
        {
          "output_type": "stream",
          "text": [
            "[Parallel(n_jobs=-1)]: Done 164 tasks      | elapsed:   10.6s\n",
            "[Parallel(n_jobs=-1)]: Done 256 out of 256 | elapsed:   18.7s finished\n",
            "[Parallel(n_jobs=-1)]: Using backend LokyBackend with 2 concurrent workers.\n"
          ],
          "name": "stderr"
        },
        {
          "output_type": "stream",
          "text": [
            "R2: \t\t0.994\n",
            "RMSE: \t\t369.22\n",
            "MAX ERR: \t1514.743\n",
            "Fitting 4 folds for each of 64 candidates, totalling 256 fits\n"
          ],
          "name": "stdout"
        },
        {
          "output_type": "stream",
          "text": [
            "[Parallel(n_jobs=-1)]: Done 146 tasks      | elapsed:   10.0s\n",
            "[Parallel(n_jobs=-1)]: Done 256 out of 256 | elapsed:   19.0s finished\n",
            "[Parallel(n_jobs=-1)]: Using backend LokyBackend with 2 concurrent workers.\n"
          ],
          "name": "stderr"
        },
        {
          "output_type": "stream",
          "text": [
            "R2: \t\t0.991\n",
            "RMSE: \t\t444.469\n",
            "MAX ERR: \t1427.882\n",
            "Fitting 4 folds for each of 64 candidates, totalling 256 fits\n"
          ],
          "name": "stdout"
        },
        {
          "output_type": "stream",
          "text": [
            "[Parallel(n_jobs=-1)]: Done 164 tasks      | elapsed:   10.5s\n",
            "[Parallel(n_jobs=-1)]: Done 256 out of 256 | elapsed:   18.6s finished\n",
            "[Parallel(n_jobs=-1)]: Using backend LokyBackend with 2 concurrent workers.\n"
          ],
          "name": "stderr"
        },
        {
          "output_type": "stream",
          "text": [
            "R2: \t\t0.984\n",
            "RMSE: \t\t600.594\n",
            "MAX ERR: \t2201.603\n",
            "Fitting 4 folds for each of 64 candidates, totalling 256 fits\n"
          ],
          "name": "stdout"
        },
        {
          "output_type": "stream",
          "text": [
            "[Parallel(n_jobs=-1)]: Done 164 tasks      | elapsed:   10.7s\n",
            "[Parallel(n_jobs=-1)]: Done 256 out of 256 | elapsed:   18.7s finished\n",
            "[Parallel(n_jobs=-1)]: Using backend LokyBackend with 2 concurrent workers.\n"
          ],
          "name": "stderr"
        },
        {
          "output_type": "stream",
          "text": [
            "R2: \t\t0.998\n",
            "RMSE: \t\t987.932\n",
            "MAX ERR: \t3665.123\n",
            "Fitting 4 folds for each of 64 candidates, totalling 256 fits\n"
          ],
          "name": "stdout"
        },
        {
          "output_type": "stream",
          "text": [
            "[Parallel(n_jobs=-1)]: Done 164 tasks      | elapsed:   10.5s\n",
            "[Parallel(n_jobs=-1)]: Done 256 out of 256 | elapsed:   18.5s finished\n",
            "[Parallel(n_jobs=-1)]: Using backend LokyBackend with 2 concurrent workers.\n"
          ],
          "name": "stderr"
        },
        {
          "output_type": "stream",
          "text": [
            "R2: \t\t0.996\n",
            "RMSE: \t\t1576.083\n",
            "MAX ERR: \t7677.908\n",
            "Fitting 4 folds for each of 64 candidates, totalling 256 fits\n"
          ],
          "name": "stdout"
        },
        {
          "output_type": "stream",
          "text": [
            "[Parallel(n_jobs=-1)]: Done 146 tasks      | elapsed:   10.4s\n",
            "[Parallel(n_jobs=-1)]: Done 256 out of 256 | elapsed:   19.9s finished\n",
            "[Parallel(n_jobs=-1)]: Using backend LokyBackend with 2 concurrent workers.\n"
          ],
          "name": "stderr"
        },
        {
          "output_type": "stream",
          "text": [
            "R2: \t\t0.837\n",
            "RMSE: \t\t250.816\n",
            "MAX ERR: \t950.517\n",
            "Fitting 4 folds for each of 64 candidates, totalling 256 fits\n"
          ],
          "name": "stdout"
        },
        {
          "output_type": "stream",
          "text": [
            "[Parallel(n_jobs=-1)]: Done 140 tasks      | elapsed:   10.4s\n",
            "[Parallel(n_jobs=-1)]: Done 256 out of 256 | elapsed:   20.3s finished\n",
            "[Parallel(n_jobs=-1)]: Using backend LokyBackend with 2 concurrent workers.\n"
          ],
          "name": "stderr"
        },
        {
          "output_type": "stream",
          "text": [
            "R2: \t\t0.805\n",
            "RMSE: \t\t366.999\n",
            "MAX ERR: \t1654.739\n",
            "Fitting 4 folds for each of 64 candidates, totalling 256 fits\n"
          ],
          "name": "stdout"
        },
        {
          "output_type": "stream",
          "text": [
            "[Parallel(n_jobs=-1)]: Done 146 tasks      | elapsed:   10.1s\n",
            "[Parallel(n_jobs=-1)]: Done 256 out of 256 | elapsed:   19.1s finished\n",
            "[Parallel(n_jobs=-1)]: Using backend LokyBackend with 2 concurrent workers.\n"
          ],
          "name": "stderr"
        },
        {
          "output_type": "stream",
          "text": [
            "R2: \t\t0.975\n",
            "RMSE: \t\t669.204\n",
            "MAX ERR: \t2576.728\n",
            "Fitting 4 folds for each of 64 candidates, totalling 256 fits\n"
          ],
          "name": "stdout"
        },
        {
          "output_type": "stream",
          "text": [
            "[Parallel(n_jobs=-1)]: Done 164 tasks      | elapsed:   10.7s\n",
            "[Parallel(n_jobs=-1)]: Done 256 out of 256 | elapsed:   19.1s finished\n",
            "[Parallel(n_jobs=-1)]: Using backend LokyBackend with 2 concurrent workers.\n"
          ],
          "name": "stderr"
        },
        {
          "output_type": "stream",
          "text": [
            "R2: \t\t0.987\n",
            "RMSE: \t\t494.565\n",
            "MAX ERR: \t1768.343\n",
            "Fitting 4 folds for each of 64 candidates, totalling 256 fits\n"
          ],
          "name": "stdout"
        },
        {
          "output_type": "stream",
          "text": [
            "[Parallel(n_jobs=-1)]: Done 164 tasks      | elapsed:   10.7s\n",
            "[Parallel(n_jobs=-1)]: Done 256 out of 256 | elapsed:   18.8s finished\n",
            "[Parallel(n_jobs=-1)]: Using backend LokyBackend with 2 concurrent workers.\n"
          ],
          "name": "stderr"
        },
        {
          "output_type": "stream",
          "text": [
            "R2: \t\t0.984\n",
            "RMSE: \t\t60.271\n",
            "MAX ERR: \t190.415\n",
            "Fitting 4 folds for each of 64 candidates, totalling 256 fits\n"
          ],
          "name": "stdout"
        },
        {
          "output_type": "stream",
          "text": [
            "[Parallel(n_jobs=-1)]: Done 146 tasks      | elapsed:   10.0s\n",
            "[Parallel(n_jobs=-1)]: Done 256 out of 256 | elapsed:   19.1s finished\n",
            "[Parallel(n_jobs=-1)]: Using backend LokyBackend with 2 concurrent workers.\n"
          ],
          "name": "stderr"
        },
        {
          "output_type": "stream",
          "text": [
            "R2: \t\t0.995\n",
            "RMSE: \t\t33.098\n",
            "MAX ERR: \t104.917\n",
            "Fitting 4 folds for each of 64 candidates, totalling 256 fits\n"
          ],
          "name": "stdout"
        },
        {
          "output_type": "stream",
          "text": [
            "[Parallel(n_jobs=-1)]: Done 164 tasks      | elapsed:   10.7s\n",
            "[Parallel(n_jobs=-1)]: Done 256 out of 256 | elapsed:   18.8s finished\n",
            "[Parallel(n_jobs=-1)]: Using backend LokyBackend with 2 concurrent workers.\n"
          ],
          "name": "stderr"
        },
        {
          "output_type": "stream",
          "text": [
            "R2: \t\t0.996\n",
            "RMSE: \t\t310.593\n",
            "MAX ERR: \t1043.487\n",
            "Fitting 4 folds for each of 64 candidates, totalling 256 fits\n"
          ],
          "name": "stdout"
        },
        {
          "output_type": "stream",
          "text": [
            "[Parallel(n_jobs=-1)]: Done 164 tasks      | elapsed:   10.6s\n",
            "[Parallel(n_jobs=-1)]: Done 256 out of 256 | elapsed:   18.9s finished\n",
            "[Parallel(n_jobs=-1)]: Using backend LokyBackend with 2 concurrent workers.\n"
          ],
          "name": "stderr"
        },
        {
          "output_type": "stream",
          "text": [
            "R2: \t\t0.994\n",
            "RMSE: \t\t358.984\n",
            "MAX ERR: \t1044.055\n",
            "Fitting 4 folds for each of 64 candidates, totalling 256 fits\n"
          ],
          "name": "stdout"
        },
        {
          "output_type": "stream",
          "text": [
            "[Parallel(n_jobs=-1)]: Done 164 tasks      | elapsed:   10.6s\n",
            "[Parallel(n_jobs=-1)]: Done 256 out of 256 | elapsed:   18.7s finished\n",
            "[Parallel(n_jobs=-1)]: Using backend LokyBackend with 2 concurrent workers.\n"
          ],
          "name": "stderr"
        },
        {
          "output_type": "stream",
          "text": [
            "R2: \t\t0.985\n",
            "RMSE: \t\t570.613\n",
            "MAX ERR: \t1895.244\n",
            "Fitting 4 folds for each of 64 candidates, totalling 256 fits\n"
          ],
          "name": "stdout"
        },
        {
          "output_type": "stream",
          "text": [
            "[Parallel(n_jobs=-1)]: Done 164 tasks      | elapsed:   10.7s\n",
            "[Parallel(n_jobs=-1)]: Done 256 out of 256 | elapsed:   18.9s finished\n",
            "[Parallel(n_jobs=-1)]: Using backend LokyBackend with 2 concurrent workers.\n"
          ],
          "name": "stderr"
        },
        {
          "output_type": "stream",
          "text": [
            "R2: \t\t0.988\n",
            "RMSE: \t\t527.704\n",
            "MAX ERR: \t1793.053\n",
            "Fitting 4 folds for each of 64 candidates, totalling 256 fits\n"
          ],
          "name": "stdout"
        },
        {
          "output_type": "stream",
          "text": [
            "[Parallel(n_jobs=-1)]: Done 164 tasks      | elapsed:   10.5s\n",
            "[Parallel(n_jobs=-1)]: Done 256 out of 256 | elapsed:   18.4s finished\n",
            "[Parallel(n_jobs=-1)]: Using backend LokyBackend with 2 concurrent workers.\n"
          ],
          "name": "stderr"
        },
        {
          "output_type": "stream",
          "text": [
            "R2: \t\t0.998\n",
            "RMSE: \t\t1019.421\n",
            "MAX ERR: \t4625.116\n",
            "Fitting 4 folds for each of 64 candidates, totalling 256 fits\n"
          ],
          "name": "stdout"
        },
        {
          "output_type": "stream",
          "text": [
            "[Parallel(n_jobs=-1)]: Done 164 tasks      | elapsed:   10.4s\n",
            "[Parallel(n_jobs=-1)]: Done 256 out of 256 | elapsed:   18.5s finished\n",
            "[Parallel(n_jobs=-1)]: Using backend LokyBackend with 2 concurrent workers.\n"
          ],
          "name": "stderr"
        },
        {
          "output_type": "stream",
          "text": [
            "R2: \t\t0.996\n",
            "RMSE: \t\t1490.848\n",
            "MAX ERR: \t8227.508\n",
            "Fitting 4 folds for each of 64 candidates, totalling 256 fits\n"
          ],
          "name": "stdout"
        },
        {
          "output_type": "stream",
          "text": [
            "[Parallel(n_jobs=-1)]: Done 140 tasks      | elapsed:   10.3s\n",
            "[Parallel(n_jobs=-1)]: Done 256 out of 256 | elapsed:   20.0s finished\n"
          ],
          "name": "stderr"
        },
        {
          "output_type": "stream",
          "text": [
            "R2: \t\t0.845\n",
            "RMSE: \t\t245.071\n",
            "MAX ERR: \t677.916\n",
            "Fitting 4 folds for each of 64 candidates, totalling 256 fits\n"
          ],
          "name": "stdout"
        },
        {
          "output_type": "stream",
          "text": [
            "[Parallel(n_jobs=-1)]: Using backend LokyBackend with 2 concurrent workers.\n",
            "[Parallel(n_jobs=-1)]: Done 146 tasks      | elapsed:   10.4s\n",
            "[Parallel(n_jobs=-1)]: Done 256 out of 256 | elapsed:   20.0s finished\n",
            "[Parallel(n_jobs=-1)]: Using backend LokyBackend with 2 concurrent workers.\n"
          ],
          "name": "stderr"
        },
        {
          "output_type": "stream",
          "text": [
            "R2: \t\t0.791\n",
            "RMSE: \t\t379.856\n",
            "MAX ERR: \t1657.119\n",
            "Fitting 4 folds for each of 64 candidates, totalling 256 fits\n"
          ],
          "name": "stdout"
        },
        {
          "output_type": "stream",
          "text": [
            "[Parallel(n_jobs=-1)]: Done 146 tasks      | elapsed:   10.1s\n",
            "[Parallel(n_jobs=-1)]: Done 256 out of 256 | elapsed:   19.1s finished\n",
            "[Parallel(n_jobs=-1)]: Using backend LokyBackend with 2 concurrent workers.\n"
          ],
          "name": "stderr"
        },
        {
          "output_type": "stream",
          "text": [
            "R2: \t\t0.987\n",
            "RMSE: \t\t488.194\n",
            "MAX ERR: \t1977.847\n",
            "Fitting 4 folds for each of 64 candidates, totalling 256 fits\n"
          ],
          "name": "stdout"
        },
        {
          "output_type": "stream",
          "text": [
            "[Parallel(n_jobs=-1)]: Done 164 tasks      | elapsed:   10.6s\n",
            "[Parallel(n_jobs=-1)]: Done 256 out of 256 | elapsed:   18.8s finished\n",
            "[Parallel(n_jobs=-1)]: Using backend LokyBackend with 2 concurrent workers.\n"
          ],
          "name": "stderr"
        },
        {
          "output_type": "stream",
          "text": [
            "R2: \t\t0.979\n",
            "RMSE: \t\t632.228\n",
            "MAX ERR: \t2463.811\n",
            "Fitting 4 folds for each of 64 candidates, totalling 256 fits\n"
          ],
          "name": "stdout"
        },
        {
          "output_type": "stream",
          "text": [
            "[Parallel(n_jobs=-1)]: Done 164 tasks      | elapsed:   10.7s\n",
            "[Parallel(n_jobs=-1)]: Done 256 out of 256 | elapsed:   18.8s finished\n"
          ],
          "name": "stderr"
        },
        {
          "output_type": "stream",
          "text": [
            "R2: \t\t0.981\n",
            "RMSE: \t\t66.614\n",
            "MAX ERR: \t258.429\n",
            "Fitting 4 folds for each of 64 candidates, totalling 256 fits\n"
          ],
          "name": "stdout"
        },
        {
          "output_type": "stream",
          "text": [
            "[Parallel(n_jobs=-1)]: Using backend LokyBackend with 2 concurrent workers.\n",
            "[Parallel(n_jobs=-1)]: Done 164 tasks      | elapsed:   10.7s\n",
            "[Parallel(n_jobs=-1)]: Done 256 out of 256 | elapsed:   19.1s finished\n"
          ],
          "name": "stderr"
        },
        {
          "output_type": "stream",
          "text": [
            "R2: \t\t0.986\n",
            "RMSE: \t\t57.175\n",
            "MAX ERR: \t181.399\n",
            "Fitting 4 folds for each of 64 candidates, totalling 256 fits\n"
          ],
          "name": "stdout"
        },
        {
          "output_type": "stream",
          "text": [
            "[Parallel(n_jobs=-1)]: Using backend LokyBackend with 2 concurrent workers.\n",
            "[Parallel(n_jobs=-1)]: Done 146 tasks      | elapsed:   10.0s\n",
            "[Parallel(n_jobs=-1)]: Done 256 out of 256 | elapsed:   19.0s finished\n",
            "[Parallel(n_jobs=-1)]: Using backend LokyBackend with 2 concurrent workers.\n"
          ],
          "name": "stderr"
        },
        {
          "output_type": "stream",
          "text": [
            "R2: \t\t0.992\n",
            "RMSE: \t\t438.571\n",
            "MAX ERR: \t1697.538\n",
            "Fitting 4 folds for each of 64 candidates, totalling 256 fits\n"
          ],
          "name": "stdout"
        },
        {
          "output_type": "stream",
          "text": [
            "[Parallel(n_jobs=-1)]: Done 146 tasks      | elapsed:   10.0s\n",
            "[Parallel(n_jobs=-1)]: Done 256 out of 256 | elapsed:   18.9s finished\n",
            "[Parallel(n_jobs=-1)]: Using backend LokyBackend with 2 concurrent workers.\n"
          ],
          "name": "stderr"
        },
        {
          "output_type": "stream",
          "text": [
            "R2: \t\t0.993\n",
            "RMSE: \t\t386.362\n",
            "MAX ERR: \t1372.643\n",
            "Fitting 4 folds for each of 64 candidates, totalling 256 fits\n"
          ],
          "name": "stdout"
        },
        {
          "output_type": "stream",
          "text": [
            "[Parallel(n_jobs=-1)]: Done 146 tasks      | elapsed:   10.0s\n",
            "[Parallel(n_jobs=-1)]: Done 256 out of 256 | elapsed:   19.0s finished\n",
            "[Parallel(n_jobs=-1)]: Using backend LokyBackend with 2 concurrent workers.\n"
          ],
          "name": "stderr"
        },
        {
          "output_type": "stream",
          "text": [
            "R2: \t\t0.984\n",
            "RMSE: \t\t593.303\n",
            "MAX ERR: \t2323.89\n",
            "Fitting 4 folds for each of 64 candidates, totalling 256 fits\n"
          ],
          "name": "stdout"
        },
        {
          "output_type": "stream",
          "text": [
            "[Parallel(n_jobs=-1)]: Done 146 tasks      | elapsed:   10.0s\n",
            "[Parallel(n_jobs=-1)]: Done 256 out of 256 | elapsed:   19.1s finished\n",
            "[Parallel(n_jobs=-1)]: Using backend LokyBackend with 2 concurrent workers.\n"
          ],
          "name": "stderr"
        },
        {
          "output_type": "stream",
          "text": [
            "R2: \t\t0.977\n",
            "RMSE: \t\t725.323\n",
            "MAX ERR: \t2687.244\n",
            "Fitting 4 folds for each of 64 candidates, totalling 256 fits\n"
          ],
          "name": "stdout"
        },
        {
          "output_type": "stream",
          "text": [
            "[Parallel(n_jobs=-1)]: Done 164 tasks      | elapsed:   10.6s\n",
            "[Parallel(n_jobs=-1)]: Done 256 out of 256 | elapsed:   18.6s finished\n",
            "[Parallel(n_jobs=-1)]: Using backend LokyBackend with 2 concurrent workers.\n"
          ],
          "name": "stderr"
        },
        {
          "output_type": "stream",
          "text": [
            "R2: \t\t0.998\n",
            "RMSE: \t\t1048.215\n",
            "MAX ERR: \t3502.12\n",
            "Fitting 4 folds for each of 64 candidates, totalling 256 fits\n"
          ],
          "name": "stdout"
        },
        {
          "output_type": "stream",
          "text": [
            "[Parallel(n_jobs=-1)]: Done 164 tasks      | elapsed:   10.5s\n",
            "[Parallel(n_jobs=-1)]: Done 256 out of 256 | elapsed:   18.8s finished\n",
            "[Parallel(n_jobs=-1)]: Using backend LokyBackend with 2 concurrent workers.\n"
          ],
          "name": "stderr"
        },
        {
          "output_type": "stream",
          "text": [
            "R2: \t\t0.997\n",
            "RMSE: \t\t1440.274\n",
            "MAX ERR: \t6779.107\n",
            "Fitting 4 folds for each of 64 candidates, totalling 256 fits\n"
          ],
          "name": "stdout"
        },
        {
          "output_type": "stream",
          "text": [
            "[Parallel(n_jobs=-1)]: Done 146 tasks      | elapsed:   10.4s\n",
            "[Parallel(n_jobs=-1)]: Done 256 out of 256 | elapsed:   19.8s finished\n",
            "[Parallel(n_jobs=-1)]: Using backend LokyBackend with 2 concurrent workers.\n"
          ],
          "name": "stderr"
        },
        {
          "output_type": "stream",
          "text": [
            "R2: \t\t0.876\n",
            "RMSE: \t\t221.057\n",
            "MAX ERR: \t603.083\n",
            "Fitting 4 folds for each of 64 candidates, totalling 256 fits\n"
          ],
          "name": "stdout"
        },
        {
          "output_type": "stream",
          "text": [
            "[Parallel(n_jobs=-1)]: Done 146 tasks      | elapsed:   10.4s\n",
            "[Parallel(n_jobs=-1)]: Done 256 out of 256 | elapsed:   19.9s finished\n"
          ],
          "name": "stderr"
        },
        {
          "output_type": "stream",
          "text": [
            "R2: \t\t0.861\n",
            "RMSE: \t\t214.299\n",
            "MAX ERR: \t607.298\n",
            "Fitting 4 folds for each of 64 candidates, totalling 256 fits\n"
          ],
          "name": "stdout"
        },
        {
          "output_type": "stream",
          "text": [
            "[Parallel(n_jobs=-1)]: Using backend LokyBackend with 2 concurrent workers.\n",
            "[Parallel(n_jobs=-1)]: Done 164 tasks      | elapsed:   10.6s\n",
            "[Parallel(n_jobs=-1)]: Done 256 out of 256 | elapsed:   18.8s finished\n",
            "[Parallel(n_jobs=-1)]: Using backend LokyBackend with 2 concurrent workers.\n"
          ],
          "name": "stderr"
        },
        {
          "output_type": "stream",
          "text": [
            "R2: \t\t0.976\n",
            "RMSE: \t\t579.953\n",
            "MAX ERR: \t2333.966\n",
            "Fitting 4 folds for each of 64 candidates, totalling 256 fits\n"
          ],
          "name": "stdout"
        },
        {
          "output_type": "stream",
          "text": [
            "[Parallel(n_jobs=-1)]: Done 164 tasks      | elapsed:   10.6s\n",
            "[Parallel(n_jobs=-1)]: Done 256 out of 256 | elapsed:   18.8s finished\n",
            "[Parallel(n_jobs=-1)]: Using backend LokyBackend with 2 concurrent workers.\n"
          ],
          "name": "stderr"
        },
        {
          "output_type": "stream",
          "text": [
            "R2: \t\t0.979\n",
            "RMSE: \t\t545.113\n",
            "MAX ERR: \t1557.095\n",
            "Fitting 4 folds for each of 64 candidates, totalling 256 fits\n"
          ],
          "name": "stdout"
        },
        {
          "output_type": "stream",
          "text": [
            "[Parallel(n_jobs=-1)]: Done 164 tasks      | elapsed:   10.6s\n",
            "[Parallel(n_jobs=-1)]: Done 256 out of 256 | elapsed:   18.7s finished\n",
            "[Parallel(n_jobs=-1)]: Using backend LokyBackend with 2 concurrent workers.\n"
          ],
          "name": "stderr"
        },
        {
          "output_type": "stream",
          "text": [
            "R2: \t\t0.976\n",
            "RMSE: \t\t62.951\n",
            "MAX ERR: \t301.625\n",
            "Fitting 4 folds for each of 64 candidates, totalling 256 fits\n"
          ],
          "name": "stdout"
        },
        {
          "output_type": "stream",
          "text": [
            "[Parallel(n_jobs=-1)]: Done 164 tasks      | elapsed:   10.7s\n",
            "[Parallel(n_jobs=-1)]: Done 256 out of 256 | elapsed:   18.8s finished\n",
            "[Parallel(n_jobs=-1)]: Using backend LokyBackend with 2 concurrent workers.\n"
          ],
          "name": "stderr"
        },
        {
          "output_type": "stream",
          "text": [
            "R2: \t\t0.983\n",
            "RMSE: \t\t53.034\n",
            "MAX ERR: \t223.824\n",
            "Fitting 4 folds for each of 64 candidates, totalling 256 fits\n"
          ],
          "name": "stdout"
        },
        {
          "output_type": "stream",
          "text": [
            "[Parallel(n_jobs=-1)]: Done 164 tasks      | elapsed:   10.6s\n",
            "[Parallel(n_jobs=-1)]: Done 256 out of 256 | elapsed:   18.6s finished\n",
            "[Parallel(n_jobs=-1)]: Using backend LokyBackend with 2 concurrent workers.\n"
          ],
          "name": "stderr"
        },
        {
          "output_type": "stream",
          "text": [
            "R2: \t\t0.996\n",
            "RMSE: \t\t297.156\n",
            "MAX ERR: \t1218.69\n",
            "Fitting 4 folds for each of 64 candidates, totalling 256 fits\n"
          ],
          "name": "stdout"
        },
        {
          "output_type": "stream",
          "text": [
            "[Parallel(n_jobs=-1)]: Done 164 tasks      | elapsed:   10.6s\n",
            "[Parallel(n_jobs=-1)]: Done 256 out of 256 | elapsed:   18.7s finished\n",
            "[Parallel(n_jobs=-1)]: Using backend LokyBackend with 2 concurrent workers.\n"
          ],
          "name": "stderr"
        },
        {
          "output_type": "stream",
          "text": [
            "R2: \t\t0.994\n",
            "RMSE: \t\t321.752\n",
            "MAX ERR: \t1338.306\n",
            "Fitting 4 folds for each of 64 candidates, totalling 256 fits\n"
          ],
          "name": "stdout"
        },
        {
          "output_type": "stream",
          "text": [
            "[Parallel(n_jobs=-1)]: Done 146 tasks      | elapsed:   10.0s\n",
            "[Parallel(n_jobs=-1)]: Done 256 out of 256 | elapsed:   18.9s finished\n",
            "[Parallel(n_jobs=-1)]: Using backend LokyBackend with 2 concurrent workers.\n"
          ],
          "name": "stderr"
        },
        {
          "output_type": "stream",
          "text": [
            "R2: \t\t0.981\n",
            "RMSE: \t\t572.852\n",
            "MAX ERR: \t2097.145\n",
            "Fitting 4 folds for each of 64 candidates, totalling 256 fits\n"
          ],
          "name": "stdout"
        },
        {
          "output_type": "stream",
          "text": [
            "[Parallel(n_jobs=-1)]: Done 164 tasks      | elapsed:   10.6s\n",
            "[Parallel(n_jobs=-1)]: Done 256 out of 256 | elapsed:   18.7s finished\n",
            "[Parallel(n_jobs=-1)]: Using backend LokyBackend with 2 concurrent workers.\n"
          ],
          "name": "stderr"
        },
        {
          "output_type": "stream",
          "text": [
            "R2: \t\t0.973\n",
            "RMSE: \t\t673.059\n",
            "MAX ERR: \t3376.005\n",
            "Fitting 4 folds for each of 64 candidates, totalling 256 fits\n"
          ],
          "name": "stdout"
        },
        {
          "output_type": "stream",
          "text": [
            "[Parallel(n_jobs=-1)]: Done 164 tasks      | elapsed:   10.5s\n",
            "[Parallel(n_jobs=-1)]: Done 256 out of 256 | elapsed:   18.4s finished\n",
            "[Parallel(n_jobs=-1)]: Using backend LokyBackend with 2 concurrent workers.\n"
          ],
          "name": "stderr"
        },
        {
          "output_type": "stream",
          "text": [
            "R2: \t\t0.995\n",
            "RMSE: \t\t1551.384\n",
            "MAX ERR: \t4456.438\n",
            "Fitting 4 folds for each of 64 candidates, totalling 256 fits\n"
          ],
          "name": "stdout"
        },
        {
          "output_type": "stream",
          "text": [
            "[Parallel(n_jobs=-1)]: Done 164 tasks      | elapsed:   10.6s\n",
            "[Parallel(n_jobs=-1)]: Done 256 out of 256 | elapsed:   18.5s finished\n",
            "[Parallel(n_jobs=-1)]: Using backend LokyBackend with 2 concurrent workers.\n"
          ],
          "name": "stderr"
        },
        {
          "output_type": "stream",
          "text": [
            "R2: \t\t0.998\n",
            "RMSE: \t\t1097.532\n",
            "MAX ERR: \t3373.413\n",
            "Fitting 4 folds for each of 64 candidates, totalling 256 fits\n"
          ],
          "name": "stdout"
        },
        {
          "output_type": "stream",
          "text": [
            "[Parallel(n_jobs=-1)]: Done 146 tasks      | elapsed:   10.4s\n",
            "[Parallel(n_jobs=-1)]: Done 256 out of 256 | elapsed:   19.9s finished\n"
          ],
          "name": "stderr"
        },
        {
          "output_type": "stream",
          "text": [
            "R2: \t\t0.82\n",
            "RMSE: \t\t266.371\n",
            "MAX ERR: \t987.305\n",
            "Fitting 4 folds for each of 64 candidates, totalling 256 fits\n"
          ],
          "name": "stdout"
        },
        {
          "output_type": "stream",
          "text": [
            "[Parallel(n_jobs=-1)]: Using backend LokyBackend with 2 concurrent workers.\n",
            "[Parallel(n_jobs=-1)]: Done 140 tasks      | elapsed:   10.5s\n",
            "[Parallel(n_jobs=-1)]: Done 256 out of 256 | elapsed:   20.3s finished\n"
          ],
          "name": "stderr"
        },
        {
          "output_type": "stream",
          "text": [
            "R2: \t\t0.89\n",
            "RMSE: \t\t190.576\n",
            "MAX ERR: \t538.659\n",
            "Fitting 4 folds for each of 64 candidates, totalling 256 fits\n"
          ],
          "name": "stdout"
        },
        {
          "output_type": "stream",
          "text": [
            "[Parallel(n_jobs=-1)]: Using backend LokyBackend with 2 concurrent workers.\n",
            "[Parallel(n_jobs=-1)]: Done 164 tasks      | elapsed:   10.6s\n",
            "[Parallel(n_jobs=-1)]: Done 256 out of 256 | elapsed:   18.8s finished\n",
            "[Parallel(n_jobs=-1)]: Using backend LokyBackend with 2 concurrent workers.\n"
          ],
          "name": "stderr"
        },
        {
          "output_type": "stream",
          "text": [
            "R2: \t\t0.984\n",
            "RMSE: \t\t478.108\n",
            "MAX ERR: \t1224.242\n",
            "Fitting 4 folds for each of 64 candidates, totalling 256 fits\n"
          ],
          "name": "stdout"
        },
        {
          "output_type": "stream",
          "text": [
            "[Parallel(n_jobs=-1)]: Done 164 tasks      | elapsed:   10.7s\n",
            "[Parallel(n_jobs=-1)]: Done 256 out of 256 | elapsed:   18.8s finished\n"
          ],
          "name": "stderr"
        },
        {
          "output_type": "stream",
          "text": [
            "R2: \t\t0.982\n",
            "RMSE: \t\t500.388\n",
            "MAX ERR: \t1389.673\n",
            "Fitting 4 folds for each of 64 candidates, totalling 256 fits\n"
          ],
          "name": "stdout"
        },
        {
          "output_type": "stream",
          "text": [
            "[Parallel(n_jobs=-1)]: Using backend LokyBackend with 2 concurrent workers.\n",
            "[Parallel(n_jobs=-1)]: Done 164 tasks      | elapsed:   10.7s\n",
            "[Parallel(n_jobs=-1)]: Done 256 out of 256 | elapsed:   19.0s finished\n",
            "[Parallel(n_jobs=-1)]: Using backend LokyBackend with 2 concurrent workers.\n"
          ],
          "name": "stderr"
        },
        {
          "output_type": "stream",
          "text": [
            "R2: \t\t0.975\n",
            "RMSE: \t\t64.808\n",
            "MAX ERR: \t175.289\n",
            "Fitting 4 folds for each of 64 candidates, totalling 256 fits\n"
          ],
          "name": "stdout"
        },
        {
          "output_type": "stream",
          "text": [
            "[Parallel(n_jobs=-1)]: Done 146 tasks      | elapsed:   10.1s\n",
            "[Parallel(n_jobs=-1)]: Done 256 out of 256 | elapsed:   19.1s finished\n",
            "[Parallel(n_jobs=-1)]: Using backend LokyBackend with 2 concurrent workers.\n"
          ],
          "name": "stderr"
        },
        {
          "output_type": "stream",
          "text": [
            "R2: \t\t0.983\n",
            "RMSE: \t\t53.905\n",
            "MAX ERR: \t165.062\n",
            "Fitting 4 folds for each of 64 candidates, totalling 256 fits\n"
          ],
          "name": "stdout"
        },
        {
          "output_type": "stream",
          "text": [
            "[Parallel(n_jobs=-1)]: Done 146 tasks      | elapsed:    9.9s\n",
            "[Parallel(n_jobs=-1)]: Done 256 out of 256 | elapsed:   18.8s finished\n",
            "[Parallel(n_jobs=-1)]: Using backend LokyBackend with 2 concurrent workers.\n"
          ],
          "name": "stderr"
        },
        {
          "output_type": "stream",
          "text": [
            "R2: \t\t0.989\n",
            "RMSE: \t\t466.814\n",
            "MAX ERR: \t2299.718\n",
            "Fitting 4 folds for each of 64 candidates, totalling 256 fits\n"
          ],
          "name": "stdout"
        },
        {
          "output_type": "stream",
          "text": [
            "[Parallel(n_jobs=-1)]: Done 164 tasks      | elapsed:   10.6s\n",
            "[Parallel(n_jobs=-1)]: Done 256 out of 256 | elapsed:   18.8s finished\n",
            "[Parallel(n_jobs=-1)]: Using backend LokyBackend with 2 concurrent workers.\n"
          ],
          "name": "stderr"
        },
        {
          "output_type": "stream",
          "text": [
            "R2: \t\t0.991\n",
            "RMSE: \t\t398.818\n",
            "MAX ERR: \t1508.984\n",
            "Fitting 4 folds for each of 64 candidates, totalling 256 fits\n"
          ],
          "name": "stdout"
        },
        {
          "output_type": "stream",
          "text": [
            "[Parallel(n_jobs=-1)]: Done 164 tasks      | elapsed:   10.5s\n",
            "[Parallel(n_jobs=-1)]: Done 256 out of 256 | elapsed:   18.6s finished\n",
            "[Parallel(n_jobs=-1)]: Using backend LokyBackend with 2 concurrent workers.\n"
          ],
          "name": "stderr"
        },
        {
          "output_type": "stream",
          "text": [
            "R2: \t\t0.983\n",
            "RMSE: \t\t536.663\n",
            "MAX ERR: \t1348.898\n",
            "Fitting 4 folds for each of 64 candidates, totalling 256 fits\n"
          ],
          "name": "stdout"
        },
        {
          "output_type": "stream",
          "text": [
            "[Parallel(n_jobs=-1)]: Done 164 tasks      | elapsed:   10.6s\n",
            "[Parallel(n_jobs=-1)]: Done 256 out of 256 | elapsed:   18.7s finished\n",
            "[Parallel(n_jobs=-1)]: Using backend LokyBackend with 2 concurrent workers.\n"
          ],
          "name": "stderr"
        },
        {
          "output_type": "stream",
          "text": [
            "R2: \t\t0.979\n",
            "RMSE: \t\t601.742\n",
            "MAX ERR: \t2477.205\n",
            "Fitting 4 folds for each of 64 candidates, totalling 256 fits\n"
          ],
          "name": "stdout"
        },
        {
          "output_type": "stream",
          "text": [
            "[Parallel(n_jobs=-1)]: Done 164 tasks      | elapsed:   10.3s\n",
            "[Parallel(n_jobs=-1)]: Done 256 out of 256 | elapsed:   18.2s finished\n",
            "[Parallel(n_jobs=-1)]: Using backend LokyBackend with 2 concurrent workers.\n"
          ],
          "name": "stderr"
        },
        {
          "output_type": "stream",
          "text": [
            "R2: \t\t0.993\n",
            "RMSE: \t\t1832.929\n",
            "MAX ERR: \t5664.551\n",
            "Fitting 4 folds for each of 64 candidates, totalling 256 fits\n"
          ],
          "name": "stdout"
        },
        {
          "output_type": "stream",
          "text": [
            "[Parallel(n_jobs=-1)]: Done 164 tasks      | elapsed:   10.4s\n",
            "[Parallel(n_jobs=-1)]: Done 256 out of 256 | elapsed:   18.3s finished\n",
            "[Parallel(n_jobs=-1)]: Using backend LokyBackend with 2 concurrent workers.\n"
          ],
          "name": "stderr"
        },
        {
          "output_type": "stream",
          "text": [
            "R2: \t\t0.997\n",
            "RMSE: \t\t1243.699\n",
            "MAX ERR: \t4401.886\n",
            "Fitting 4 folds for each of 64 candidates, totalling 256 fits\n"
          ],
          "name": "stdout"
        },
        {
          "output_type": "stream",
          "text": [
            "[Parallel(n_jobs=-1)]: Done 146 tasks      | elapsed:   10.4s\n",
            "[Parallel(n_jobs=-1)]: Done 256 out of 256 | elapsed:   19.8s finished\n",
            "[Parallel(n_jobs=-1)]: Using backend LokyBackend with 2 concurrent workers.\n"
          ],
          "name": "stderr"
        },
        {
          "output_type": "stream",
          "text": [
            "R2: \t\t0.84\n",
            "RMSE: \t\t251.171\n",
            "MAX ERR: \t764.124\n",
            "Fitting 4 folds for each of 64 candidates, totalling 256 fits\n"
          ],
          "name": "stdout"
        },
        {
          "output_type": "stream",
          "text": [
            "[Parallel(n_jobs=-1)]: Done 146 tasks      | elapsed:   10.5s\n",
            "[Parallel(n_jobs=-1)]: Done 256 out of 256 | elapsed:   20.1s finished\n",
            "[Parallel(n_jobs=-1)]: Using backend LokyBackend with 2 concurrent workers.\n"
          ],
          "name": "stderr"
        },
        {
          "output_type": "stream",
          "text": [
            "R2: \t\t0.867\n",
            "RMSE: \t\t209.603\n",
            "MAX ERR: \t584.095\n",
            "Fitting 4 folds for each of 64 candidates, totalling 256 fits\n"
          ],
          "name": "stdout"
        },
        {
          "output_type": "stream",
          "text": [
            "[Parallel(n_jobs=-1)]: Done 164 tasks      | elapsed:   10.6s\n",
            "[Parallel(n_jobs=-1)]: Done 256 out of 256 | elapsed:   18.7s finished\n",
            "[Parallel(n_jobs=-1)]: Using backend LokyBackend with 2 concurrent workers.\n"
          ],
          "name": "stderr"
        },
        {
          "output_type": "stream",
          "text": [
            "R2: \t\t0.978\n",
            "RMSE: \t\t563.42\n",
            "MAX ERR: \t2039.777\n",
            "Fitting 4 folds for each of 64 candidates, totalling 256 fits\n"
          ],
          "name": "stdout"
        },
        {
          "output_type": "stream",
          "text": [
            "[Parallel(n_jobs=-1)]: Done 164 tasks      | elapsed:   10.5s\n",
            "[Parallel(n_jobs=-1)]: Done 256 out of 256 | elapsed:   18.7s finished\n",
            "[Parallel(n_jobs=-1)]: Using backend LokyBackend with 2 concurrent workers.\n"
          ],
          "name": "stderr"
        },
        {
          "output_type": "stream",
          "text": [
            "R2: \t\t0.976\n",
            "RMSE: \t\t580.194\n",
            "MAX ERR: \t2827.394\n",
            "Fitting 4 folds for each of 64 candidates, totalling 256 fits\n"
          ],
          "name": "stdout"
        },
        {
          "output_type": "stream",
          "text": [
            "[Parallel(n_jobs=-1)]: Done 146 tasks      | elapsed:   10.0s\n",
            "[Parallel(n_jobs=-1)]: Done 256 out of 256 | elapsed:   19.0s finished\n",
            "[Parallel(n_jobs=-1)]: Using backend LokyBackend with 2 concurrent workers.\n"
          ],
          "name": "stderr"
        },
        {
          "output_type": "stream",
          "text": [
            "R2: \t\t0.979\n",
            "RMSE: \t\t58.775\n",
            "MAX ERR: \t295.856\n",
            "Fitting 4 folds for each of 64 candidates, totalling 256 fits\n"
          ],
          "name": "stdout"
        },
        {
          "output_type": "stream",
          "text": [
            "[Parallel(n_jobs=-1)]: Done 146 tasks      | elapsed:   10.1s\n",
            "[Parallel(n_jobs=-1)]: Done 256 out of 256 | elapsed:   19.2s finished\n",
            "[Parallel(n_jobs=-1)]: Using backend LokyBackend with 2 concurrent workers.\n"
          ],
          "name": "stderr"
        },
        {
          "output_type": "stream",
          "text": [
            "R2: \t\t0.982\n",
            "RMSE: \t\t55.785\n",
            "MAX ERR: \t168.438\n",
            "Fitting 4 folds for each of 64 candidates, totalling 256 fits\n"
          ],
          "name": "stdout"
        },
        {
          "output_type": "stream",
          "text": [
            "[Parallel(n_jobs=-1)]: Done 164 tasks      | elapsed:   10.7s\n",
            "[Parallel(n_jobs=-1)]: Done 256 out of 256 | elapsed:   18.8s finished\n",
            "[Parallel(n_jobs=-1)]: Using backend LokyBackend with 2 concurrent workers.\n"
          ],
          "name": "stderr"
        },
        {
          "output_type": "stream",
          "text": [
            "R2: \t\t0.996\n",
            "RMSE: \t\t277.179\n",
            "MAX ERR: \t1004.968\n",
            "Fitting 4 folds for each of 64 candidates, totalling 256 fits\n"
          ],
          "name": "stdout"
        },
        {
          "output_type": "stream",
          "text": [
            "[Parallel(n_jobs=-1)]: Done 164 tasks      | elapsed:   10.5s\n",
            "[Parallel(n_jobs=-1)]: Done 256 out of 256 | elapsed:   18.8s finished\n"
          ],
          "name": "stderr"
        },
        {
          "output_type": "stream",
          "text": [
            "R2: \t\t0.994\n",
            "RMSE: \t\t317.492\n",
            "MAX ERR: \t1219.874\n",
            "Fitting 4 folds for each of 64 candidates, totalling 256 fits\n"
          ],
          "name": "stdout"
        },
        {
          "output_type": "stream",
          "text": [
            "[Parallel(n_jobs=-1)]: Using backend LokyBackend with 2 concurrent workers.\n",
            "[Parallel(n_jobs=-1)]: Done 164 tasks      | elapsed:   10.5s\n",
            "[Parallel(n_jobs=-1)]: Done 256 out of 256 | elapsed:   18.7s finished\n",
            "[Parallel(n_jobs=-1)]: Using backend LokyBackend with 2 concurrent workers.\n"
          ],
          "name": "stderr"
        },
        {
          "output_type": "stream",
          "text": [
            "R2: \t\t0.973\n",
            "RMSE: \t\t678.139\n",
            "MAX ERR: \t2929.311\n",
            "Fitting 4 folds for each of 64 candidates, totalling 256 fits\n"
          ],
          "name": "stdout"
        },
        {
          "output_type": "stream",
          "text": [
            "[Parallel(n_jobs=-1)]: Done 164 tasks      | elapsed:   10.5s\n",
            "[Parallel(n_jobs=-1)]: Done 256 out of 256 | elapsed:   18.6s finished\n",
            "[Parallel(n_jobs=-1)]: Using backend LokyBackend with 2 concurrent workers.\n"
          ],
          "name": "stderr"
        },
        {
          "output_type": "stream",
          "text": [
            "R2: \t\t0.972\n",
            "RMSE: \t\t694.827\n",
            "MAX ERR: \t3542.939\n",
            "Fitting 4 folds for each of 64 candidates, totalling 256 fits\n"
          ],
          "name": "stdout"
        },
        {
          "output_type": "stream",
          "text": [
            "[Parallel(n_jobs=-1)]: Done 164 tasks      | elapsed:   10.5s\n",
            "[Parallel(n_jobs=-1)]: Done 256 out of 256 | elapsed:   18.4s finished\n",
            "[Parallel(n_jobs=-1)]: Using backend LokyBackend with 2 concurrent workers.\n"
          ],
          "name": "stderr"
        },
        {
          "output_type": "stream",
          "text": [
            "R2: \t\t0.998\n",
            "RMSE: \t\t1055.448\n",
            "MAX ERR: \t2599.761\n",
            "Fitting 4 folds for each of 64 candidates, totalling 256 fits\n"
          ],
          "name": "stdout"
        },
        {
          "output_type": "stream",
          "text": [
            "[Parallel(n_jobs=-1)]: Done 164 tasks      | elapsed:   10.6s\n",
            "[Parallel(n_jobs=-1)]: Done 256 out of 256 | elapsed:   18.6s finished\n",
            "[Parallel(n_jobs=-1)]: Using backend LokyBackend with 2 concurrent workers.\n"
          ],
          "name": "stderr"
        },
        {
          "output_type": "stream",
          "text": [
            "R2: \t\t0.998\n",
            "RMSE: \t\t1013.842\n",
            "MAX ERR: \t2378.9\n",
            "Fitting 4 folds for each of 64 candidates, totalling 256 fits\n"
          ],
          "name": "stdout"
        },
        {
          "output_type": "stream",
          "text": [
            "[Parallel(n_jobs=-1)]: Done 146 tasks      | elapsed:   10.2s\n",
            "[Parallel(n_jobs=-1)]: Done 256 out of 256 | elapsed:   19.5s finished\n",
            "[Parallel(n_jobs=-1)]: Using backend LokyBackend with 2 concurrent workers.\n"
          ],
          "name": "stderr"
        },
        {
          "output_type": "stream",
          "text": [
            "R2: \t\t0.782\n",
            "RMSE: \t\t293.17\n",
            "MAX ERR: \t1065.161\n",
            "Fitting 4 folds for each of 64 candidates, totalling 256 fits\n"
          ],
          "name": "stdout"
        },
        {
          "output_type": "stream",
          "text": [
            "[Parallel(n_jobs=-1)]: Done 140 tasks      | elapsed:   10.4s\n",
            "[Parallel(n_jobs=-1)]: Done 256 out of 256 | elapsed:   20.1s finished\n",
            "[Parallel(n_jobs=-1)]: Using backend LokyBackend with 2 concurrent workers.\n"
          ],
          "name": "stderr"
        },
        {
          "output_type": "stream",
          "text": [
            "R2: \t\t0.866\n",
            "RMSE: \t\t210.138\n",
            "MAX ERR: \t617.815\n",
            "Fitting 4 folds for each of 64 candidates, totalling 256 fits\n"
          ],
          "name": "stdout"
        },
        {
          "output_type": "stream",
          "text": [
            "[Parallel(n_jobs=-1)]: Done 164 tasks      | elapsed:   10.6s\n",
            "[Parallel(n_jobs=-1)]: Done 256 out of 256 | elapsed:   18.7s finished\n",
            "[Parallel(n_jobs=-1)]: Using backend LokyBackend with 2 concurrent workers.\n"
          ],
          "name": "stderr"
        },
        {
          "output_type": "stream",
          "text": [
            "R2: \t\t0.989\n",
            "RMSE: \t\t390.467\n",
            "MAX ERR: \t1002.438\n",
            "Fitting 4 folds for each of 64 candidates, totalling 256 fits\n"
          ],
          "name": "stdout"
        },
        {
          "output_type": "stream",
          "text": [
            "[Parallel(n_jobs=-1)]: Done 164 tasks      | elapsed:   10.4s\n",
            "[Parallel(n_jobs=-1)]: Done 256 out of 256 | elapsed:   18.5s finished\n",
            "[Parallel(n_jobs=-1)]: Using backend LokyBackend with 2 concurrent workers.\n"
          ],
          "name": "stderr"
        },
        {
          "output_type": "stream",
          "text": [
            "R2: \t\t0.986\n",
            "RMSE: \t\t440.701\n",
            "MAX ERR: \t1415.618\n",
            "Fitting 4 folds for each of 64 candidates, totalling 256 fits\n"
          ],
          "name": "stdout"
        },
        {
          "output_type": "stream",
          "text": [
            "[Parallel(n_jobs=-1)]: Done 164 tasks      | elapsed:   10.6s\n",
            "[Parallel(n_jobs=-1)]: Done 256 out of 256 | elapsed:   18.8s finished\n",
            "[Parallel(n_jobs=-1)]: Using backend LokyBackend with 2 concurrent workers.\n"
          ],
          "name": "stderr"
        },
        {
          "output_type": "stream",
          "text": [
            "R2: \t\t0.988\n",
            "RMSE: \t\t44.748\n",
            "MAX ERR: \t134.935\n",
            "Fitting 4 folds for each of 64 candidates, totalling 256 fits\n"
          ],
          "name": "stdout"
        },
        {
          "output_type": "stream",
          "text": [
            "[Parallel(n_jobs=-1)]: Done 164 tasks      | elapsed:   10.5s\n",
            "[Parallel(n_jobs=-1)]: Done 256 out of 256 | elapsed:   18.6s finished\n",
            "[Parallel(n_jobs=-1)]: Using backend LokyBackend with 2 concurrent workers.\n"
          ],
          "name": "stderr"
        },
        {
          "output_type": "stream",
          "text": [
            "R2: \t\t0.991\n",
            "RMSE: \t\t39.305\n",
            "MAX ERR: \t115.708\n",
            "Fitting 4 folds for each of 64 candidates, totalling 256 fits\n"
          ],
          "name": "stdout"
        },
        {
          "output_type": "stream",
          "text": [
            "[Parallel(n_jobs=-1)]: Done 164 tasks      | elapsed:   10.6s\n",
            "[Parallel(n_jobs=-1)]: Done 256 out of 256 | elapsed:   18.7s finished\n",
            "[Parallel(n_jobs=-1)]: Using backend LokyBackend with 2 concurrent workers.\n"
          ],
          "name": "stderr"
        },
        {
          "output_type": "stream",
          "text": [
            "R2: \t\t0.994\n",
            "RMSE: \t\t341.431\n",
            "MAX ERR: \t1580.465\n",
            "Fitting 4 folds for each of 64 candidates, totalling 256 fits\n"
          ],
          "name": "stdout"
        },
        {
          "output_type": "stream",
          "text": [
            "[Parallel(n_jobs=-1)]: Done 164 tasks      | elapsed:   10.6s\n",
            "[Parallel(n_jobs=-1)]: Done 256 out of 256 | elapsed:   18.7s finished\n",
            "[Parallel(n_jobs=-1)]: Using backend LokyBackend with 2 concurrent workers.\n"
          ],
          "name": "stderr"
        },
        {
          "output_type": "stream",
          "text": [
            "R2: \t\t0.994\n",
            "RMSE: \t\t332.701\n",
            "MAX ERR: \t1683.478\n",
            "Fitting 4 folds for each of 64 candidates, totalling 256 fits\n"
          ],
          "name": "stdout"
        },
        {
          "output_type": "stream",
          "text": [
            "[Parallel(n_jobs=-1)]: Done 164 tasks      | elapsed:   10.5s\n",
            "[Parallel(n_jobs=-1)]: Done 256 out of 256 | elapsed:   18.5s finished\n",
            "[Parallel(n_jobs=-1)]: Using backend LokyBackend with 2 concurrent workers.\n"
          ],
          "name": "stderr"
        },
        {
          "output_type": "stream",
          "text": [
            "R2: \t\t0.985\n",
            "RMSE: \t\t510.412\n",
            "MAX ERR: \t1262.079\n",
            "Fitting 4 folds for each of 64 candidates, totalling 256 fits\n"
          ],
          "name": "stdout"
        },
        {
          "output_type": "stream",
          "text": [
            "[Parallel(n_jobs=-1)]: Done 164 tasks      | elapsed:   10.5s\n",
            "[Parallel(n_jobs=-1)]: Done 256 out of 256 | elapsed:   18.4s finished\n",
            "[Parallel(n_jobs=-1)]: Using backend LokyBackend with 2 concurrent workers.\n"
          ],
          "name": "stderr"
        },
        {
          "output_type": "stream",
          "text": [
            "R2: \t\t0.99\n",
            "RMSE: \t\t408.508\n",
            "MAX ERR: \t1076.265\n",
            "Fitting 4 folds for each of 64 candidates, totalling 256 fits\n"
          ],
          "name": "stdout"
        },
        {
          "output_type": "stream",
          "text": [
            "[Parallel(n_jobs=-1)]: Done 164 tasks      | elapsed:   10.4s\n",
            "[Parallel(n_jobs=-1)]: Done 256 out of 256 | elapsed:   18.4s finished\n",
            "[Parallel(n_jobs=-1)]: Using backend LokyBackend with 2 concurrent workers.\n"
          ],
          "name": "stderr"
        },
        {
          "output_type": "stream",
          "text": [
            "R2: \t\t0.99\n",
            "RMSE: \t\t2243.566\n",
            "MAX ERR: \t6387.489\n",
            "Fitting 4 folds for each of 64 candidates, totalling 256 fits\n"
          ],
          "name": "stdout"
        },
        {
          "output_type": "stream",
          "text": [
            "[Parallel(n_jobs=-1)]: Done 164 tasks      | elapsed:   10.4s\n",
            "[Parallel(n_jobs=-1)]: Done 256 out of 256 | elapsed:   18.3s finished\n",
            "[Parallel(n_jobs=-1)]: Using backend LokyBackend with 2 concurrent workers.\n"
          ],
          "name": "stderr"
        },
        {
          "output_type": "stream",
          "text": [
            "R2: \t\t0.996\n",
            "RMSE: \t\t1393.557\n",
            "MAX ERR: \t4913.355\n",
            "Fitting 4 folds for each of 64 candidates, totalling 256 fits\n"
          ],
          "name": "stdout"
        },
        {
          "output_type": "stream",
          "text": [
            "[Parallel(n_jobs=-1)]: Done 146 tasks      | elapsed:   10.4s\n",
            "[Parallel(n_jobs=-1)]: Done 256 out of 256 | elapsed:   19.7s finished\n"
          ],
          "name": "stderr"
        },
        {
          "output_type": "stream",
          "text": [
            "R2: \t\t0.82\n",
            "RMSE: \t\t266.371\n",
            "MAX ERR: \t987.305\n",
            "Fitting 4 folds for each of 64 candidates, totalling 256 fits\n"
          ],
          "name": "stdout"
        },
        {
          "output_type": "stream",
          "text": [
            "[Parallel(n_jobs=-1)]: Using backend LokyBackend with 2 concurrent workers.\n",
            "[Parallel(n_jobs=-1)]: Done 140 tasks      | elapsed:   10.4s\n",
            "[Parallel(n_jobs=-1)]: Done 256 out of 256 | elapsed:   20.2s finished\n"
          ],
          "name": "stderr"
        },
        {
          "output_type": "stream",
          "text": [
            "R2: \t\t0.89\n",
            "RMSE: \t\t190.576\n",
            "MAX ERR: \t538.659\n",
            "Fitting 4 folds for each of 64 candidates, totalling 256 fits\n"
          ],
          "name": "stdout"
        },
        {
          "output_type": "stream",
          "text": [
            "[Parallel(n_jobs=-1)]: Using backend LokyBackend with 2 concurrent workers.\n",
            "[Parallel(n_jobs=-1)]: Done 164 tasks      | elapsed:   10.6s\n",
            "[Parallel(n_jobs=-1)]: Done 256 out of 256 | elapsed:   18.7s finished\n",
            "[Parallel(n_jobs=-1)]: Using backend LokyBackend with 2 concurrent workers.\n"
          ],
          "name": "stderr"
        },
        {
          "output_type": "stream",
          "text": [
            "R2: \t\t0.984\n",
            "RMSE: \t\t478.108\n",
            "MAX ERR: \t1224.242\n",
            "Fitting 4 folds for each of 64 candidates, totalling 256 fits\n"
          ],
          "name": "stdout"
        },
        {
          "output_type": "stream",
          "text": [
            "[Parallel(n_jobs=-1)]: Done 164 tasks      | elapsed:   10.6s\n",
            "[Parallel(n_jobs=-1)]: Done 256 out of 256 | elapsed:   18.8s finished\n",
            "[Parallel(n_jobs=-1)]: Using backend LokyBackend with 2 concurrent workers.\n"
          ],
          "name": "stderr"
        },
        {
          "output_type": "stream",
          "text": [
            "R2: \t\t0.982\n",
            "RMSE: \t\t500.388\n",
            "MAX ERR: \t1389.673\n",
            "Fitting 4 folds for each of 64 candidates, totalling 256 fits\n"
          ],
          "name": "stdout"
        },
        {
          "output_type": "stream",
          "text": [
            "[Parallel(n_jobs=-1)]: Done 164 tasks      | elapsed:   10.7s\n",
            "[Parallel(n_jobs=-1)]: Done 256 out of 256 | elapsed:   18.8s finished\n",
            "[Parallel(n_jobs=-1)]: Using backend LokyBackend with 2 concurrent workers.\n"
          ],
          "name": "stderr"
        },
        {
          "output_type": "stream",
          "text": [
            "R2: \t\t0.975\n",
            "RMSE: \t\t64.808\n",
            "MAX ERR: \t175.289\n",
            "Fitting 4 folds for each of 64 candidates, totalling 256 fits\n"
          ],
          "name": "stdout"
        },
        {
          "output_type": "stream",
          "text": [
            "[Parallel(n_jobs=-1)]: Done 146 tasks      | elapsed:   10.0s\n",
            "[Parallel(n_jobs=-1)]: Done 256 out of 256 | elapsed:   19.1s finished\n",
            "[Parallel(n_jobs=-1)]: Using backend LokyBackend with 2 concurrent workers.\n"
          ],
          "name": "stderr"
        },
        {
          "output_type": "stream",
          "text": [
            "R2: \t\t0.983\n",
            "RMSE: \t\t53.905\n",
            "MAX ERR: \t165.062\n",
            "Fitting 4 folds for each of 64 candidates, totalling 256 fits\n"
          ],
          "name": "stdout"
        },
        {
          "output_type": "stream",
          "text": [
            "[Parallel(n_jobs=-1)]: Done 164 tasks      | elapsed:   10.7s\n",
            "[Parallel(n_jobs=-1)]: Done 256 out of 256 | elapsed:   18.8s finished\n",
            "[Parallel(n_jobs=-1)]: Using backend LokyBackend with 2 concurrent workers.\n"
          ],
          "name": "stderr"
        },
        {
          "output_type": "stream",
          "text": [
            "R2: \t\t0.989\n",
            "RMSE: \t\t466.814\n",
            "MAX ERR: \t2299.718\n",
            "Fitting 4 folds for each of 64 candidates, totalling 256 fits\n"
          ],
          "name": "stdout"
        },
        {
          "output_type": "stream",
          "text": [
            "[Parallel(n_jobs=-1)]: Done 164 tasks      | elapsed:   10.6s\n",
            "[Parallel(n_jobs=-1)]: Done 256 out of 256 | elapsed:   18.9s finished\n",
            "[Parallel(n_jobs=-1)]: Using backend LokyBackend with 2 concurrent workers.\n"
          ],
          "name": "stderr"
        },
        {
          "output_type": "stream",
          "text": [
            "R2: \t\t0.991\n",
            "RMSE: \t\t398.818\n",
            "MAX ERR: \t1508.984\n",
            "Fitting 4 folds for each of 64 candidates, totalling 256 fits\n"
          ],
          "name": "stdout"
        },
        {
          "output_type": "stream",
          "text": [
            "[Parallel(n_jobs=-1)]: Done 164 tasks      | elapsed:   10.5s\n",
            "[Parallel(n_jobs=-1)]: Done 256 out of 256 | elapsed:   18.6s finished\n",
            "[Parallel(n_jobs=-1)]: Using backend LokyBackend with 2 concurrent workers.\n"
          ],
          "name": "stderr"
        },
        {
          "output_type": "stream",
          "text": [
            "R2: \t\t0.983\n",
            "RMSE: \t\t536.663\n",
            "MAX ERR: \t1348.898\n",
            "Fitting 4 folds for each of 64 candidates, totalling 256 fits\n"
          ],
          "name": "stdout"
        },
        {
          "output_type": "stream",
          "text": [
            "[Parallel(n_jobs=-1)]: Done 164 tasks      | elapsed:   10.6s\n",
            "[Parallel(n_jobs=-1)]: Done 256 out of 256 | elapsed:   18.7s finished\n",
            "[Parallel(n_jobs=-1)]: Using backend LokyBackend with 2 concurrent workers.\n"
          ],
          "name": "stderr"
        },
        {
          "output_type": "stream",
          "text": [
            "R2: \t\t0.979\n",
            "RMSE: \t\t601.742\n",
            "MAX ERR: \t2477.205\n",
            "Fitting 4 folds for each of 64 candidates, totalling 256 fits\n"
          ],
          "name": "stdout"
        },
        {
          "output_type": "stream",
          "text": [
            "[Parallel(n_jobs=-1)]: Done 164 tasks      | elapsed:   10.3s\n",
            "[Parallel(n_jobs=-1)]: Done 256 out of 256 | elapsed:   18.2s finished\n",
            "[Parallel(n_jobs=-1)]: Using backend LokyBackend with 2 concurrent workers.\n"
          ],
          "name": "stderr"
        },
        {
          "output_type": "stream",
          "text": [
            "R2: \t\t0.993\n",
            "RMSE: \t\t1832.929\n",
            "MAX ERR: \t5664.551\n",
            "Fitting 4 folds for each of 64 candidates, totalling 256 fits\n"
          ],
          "name": "stdout"
        },
        {
          "output_type": "stream",
          "text": [
            "[Parallel(n_jobs=-1)]: Done 164 tasks      | elapsed:   10.3s\n",
            "[Parallel(n_jobs=-1)]: Done 256 out of 256 | elapsed:   18.3s finished\n",
            "[Parallel(n_jobs=-1)]: Using backend LokyBackend with 2 concurrent workers.\n"
          ],
          "name": "stderr"
        },
        {
          "output_type": "stream",
          "text": [
            "R2: \t\t0.997\n",
            "RMSE: \t\t1243.699\n",
            "MAX ERR: \t4401.886\n",
            "Fitting 4 folds for each of 64 candidates, totalling 256 fits\n"
          ],
          "name": "stdout"
        },
        {
          "output_type": "stream",
          "text": [
            "[Parallel(n_jobs=-1)]: Done 146 tasks      | elapsed:   10.4s\n",
            "[Parallel(n_jobs=-1)]: Done 256 out of 256 | elapsed:   19.8s finished\n",
            "[Parallel(n_jobs=-1)]: Using backend LokyBackend with 2 concurrent workers.\n"
          ],
          "name": "stderr"
        },
        {
          "output_type": "stream",
          "text": [
            "R2: \t\t0.805\n",
            "RMSE: \t\t277.421\n",
            "MAX ERR: \t951.32\n",
            "Fitting 4 folds for each of 64 candidates, totalling 256 fits\n"
          ],
          "name": "stdout"
        },
        {
          "output_type": "stream",
          "text": [
            "[Parallel(n_jobs=-1)]: Done 140 tasks      | elapsed:   10.5s\n",
            "[Parallel(n_jobs=-1)]: Done 253 out of 256 | elapsed:   20.0s remaining:    0.2s\n",
            "[Parallel(n_jobs=-1)]: Done 256 out of 256 | elapsed:   20.3s finished\n",
            "[Parallel(n_jobs=-1)]: Using backend LokyBackend with 2 concurrent workers.\n"
          ],
          "name": "stderr"
        },
        {
          "output_type": "stream",
          "text": [
            "R2: \t\t0.888\n",
            "RMSE: \t\t191.777\n",
            "MAX ERR: \t613.216\n",
            "Fitting 4 folds for each of 64 candidates, totalling 256 fits\n"
          ],
          "name": "stdout"
        },
        {
          "output_type": "stream",
          "text": [
            "[Parallel(n_jobs=-1)]: Done 164 tasks      | elapsed:   10.7s\n",
            "[Parallel(n_jobs=-1)]: Done 256 out of 256 | elapsed:   18.8s finished\n",
            "[Parallel(n_jobs=-1)]: Using backend LokyBackend with 2 concurrent workers.\n"
          ],
          "name": "stderr"
        },
        {
          "output_type": "stream",
          "text": [
            "R2: \t\t0.987\n",
            "RMSE: \t\t424.563\n",
            "MAX ERR: \t1497.322\n",
            "Fitting 4 folds for each of 64 candidates, totalling 256 fits\n"
          ],
          "name": "stdout"
        },
        {
          "output_type": "stream",
          "text": [
            "[Parallel(n_jobs=-1)]: Done 164 tasks      | elapsed:   10.7s\n",
            "[Parallel(n_jobs=-1)]: Done 256 out of 256 | elapsed:   18.9s finished\n",
            "[Parallel(n_jobs=-1)]: Using backend LokyBackend with 2 concurrent workers.\n"
          ],
          "name": "stderr"
        },
        {
          "output_type": "stream",
          "text": [
            "R2: \t\t0.99\n",
            "RMSE: \t\t367.243\n",
            "MAX ERR: \t1014.519\n",
            "Fitting 4 folds for each of 64 candidates, totalling 256 fits\n"
          ],
          "name": "stdout"
        },
        {
          "output_type": "stream",
          "text": [
            "[Parallel(n_jobs=-1)]: Done 146 tasks      | elapsed:   10.1s\n",
            "[Parallel(n_jobs=-1)]: Done 256 out of 256 | elapsed:   19.0s finished\n",
            "[Parallel(n_jobs=-1)]: Using backend LokyBackend with 2 concurrent workers.\n"
          ],
          "name": "stderr"
        },
        {
          "output_type": "stream",
          "text": [
            "R2: \t\t0.99\n",
            "RMSE: \t\t39.762\n",
            "MAX ERR: \t93.404\n",
            "Fitting 4 folds for each of 64 candidates, totalling 256 fits\n"
          ],
          "name": "stdout"
        },
        {
          "output_type": "stream",
          "text": [
            "[Parallel(n_jobs=-1)]: Done 164 tasks      | elapsed:   10.7s\n",
            "[Parallel(n_jobs=-1)]: Done 256 out of 256 | elapsed:   19.0s finished\n",
            "[Parallel(n_jobs=-1)]: Using backend LokyBackend with 2 concurrent workers.\n"
          ],
          "name": "stderr"
        },
        {
          "output_type": "stream",
          "text": [
            "R2: \t\t0.989\n",
            "RMSE: \t\t42.427\n",
            "MAX ERR: \t144.961\n",
            "Fitting 4 folds for each of 64 candidates, totalling 256 fits\n"
          ],
          "name": "stdout"
        },
        {
          "output_type": "stream",
          "text": [
            "[Parallel(n_jobs=-1)]: Done 164 tasks      | elapsed:   10.6s\n",
            "[Parallel(n_jobs=-1)]: Done 256 out of 256 | elapsed:   18.8s finished\n",
            "[Parallel(n_jobs=-1)]: Using backend LokyBackend with 2 concurrent workers.\n"
          ],
          "name": "stderr"
        },
        {
          "output_type": "stream",
          "text": [
            "R2: \t\t0.995\n",
            "RMSE: \t\t310.218\n",
            "MAX ERR: \t1234.194\n",
            "Fitting 4 folds for each of 64 candidates, totalling 256 fits\n"
          ],
          "name": "stdout"
        },
        {
          "output_type": "stream",
          "text": [
            "[Parallel(n_jobs=-1)]: Done 164 tasks      | elapsed:   10.7s\n",
            "[Parallel(n_jobs=-1)]: Done 256 out of 256 | elapsed:   18.8s finished\n",
            "[Parallel(n_jobs=-1)]: Using backend LokyBackend with 2 concurrent workers.\n"
          ],
          "name": "stderr"
        },
        {
          "output_type": "stream",
          "text": [
            "R2: \t\t0.995\n",
            "RMSE: \t\t314.753\n",
            "MAX ERR: \t1008.695\n",
            "Fitting 4 folds for each of 64 candidates, totalling 256 fits\n"
          ],
          "name": "stdout"
        },
        {
          "output_type": "stream",
          "text": [
            "[Parallel(n_jobs=-1)]: Done 164 tasks      | elapsed:   10.6s\n",
            "[Parallel(n_jobs=-1)]: Done 256 out of 256 | elapsed:   18.7s finished\n",
            "[Parallel(n_jobs=-1)]: Using backend LokyBackend with 2 concurrent workers.\n"
          ],
          "name": "stderr"
        },
        {
          "output_type": "stream",
          "text": [
            "R2: \t\t0.986\n",
            "RMSE: \t\t489.142\n",
            "MAX ERR: \t1655.8\n",
            "Fitting 4 folds for each of 64 candidates, totalling 256 fits\n"
          ],
          "name": "stdout"
        },
        {
          "output_type": "stream",
          "text": [
            "[Parallel(n_jobs=-1)]: Done 146 tasks      | elapsed:   10.0s\n",
            "[Parallel(n_jobs=-1)]: Done 256 out of 256 | elapsed:   19.0s finished\n",
            "[Parallel(n_jobs=-1)]: Using backend LokyBackend with 2 concurrent workers.\n"
          ],
          "name": "stderr"
        },
        {
          "output_type": "stream",
          "text": [
            "R2: \t\t0.991\n",
            "RMSE: \t\t398.719\n",
            "MAX ERR: \t1214.717\n",
            "Fitting 4 folds for each of 64 candidates, totalling 256 fits\n"
          ],
          "name": "stdout"
        },
        {
          "output_type": "stream",
          "text": [
            "[Parallel(n_jobs=-1)]: Done 164 tasks      | elapsed:   10.7s\n",
            "[Parallel(n_jobs=-1)]: Done 256 out of 256 | elapsed:   18.8s finished\n",
            "[Parallel(n_jobs=-1)]: Using backend LokyBackend with 2 concurrent workers.\n"
          ],
          "name": "stderr"
        },
        {
          "output_type": "stream",
          "text": [
            "R2: \t\t0.994\n",
            "RMSE: \t\t1727.432\n",
            "MAX ERR: \t5940.713\n",
            "Fitting 4 folds for each of 64 candidates, totalling 256 fits\n"
          ],
          "name": "stdout"
        },
        {
          "output_type": "stream",
          "text": [
            "[Parallel(n_jobs=-1)]: Done 164 tasks      | elapsed:   10.5s\n",
            "[Parallel(n_jobs=-1)]: Done 256 out of 256 | elapsed:   18.8s finished\n",
            "[Parallel(n_jobs=-1)]: Using backend LokyBackend with 2 concurrent workers.\n"
          ],
          "name": "stderr"
        },
        {
          "output_type": "stream",
          "text": [
            "R2: \t\t0.994\n",
            "RMSE: \t\t1730.952\n",
            "MAX ERR: \t4907.504\n",
            "Fitting 4 folds for each of 64 candidates, totalling 256 fits\n"
          ],
          "name": "stdout"
        },
        {
          "output_type": "stream",
          "text": [
            "[Parallel(n_jobs=-1)]: Done 146 tasks      | elapsed:   10.4s\n",
            "[Parallel(n_jobs=-1)]: Done 256 out of 256 | elapsed:   19.8s finished\n",
            "[Parallel(n_jobs=-1)]: Using backend LokyBackend with 2 concurrent workers.\n"
          ],
          "name": "stderr"
        },
        {
          "output_type": "stream",
          "text": [
            "R2: \t\t0.765\n",
            "RMSE: \t\t317.072\n",
            "MAX ERR: \t1142.851\n",
            "Fitting 4 folds for each of 64 candidates, totalling 256 fits\n"
          ],
          "name": "stdout"
        },
        {
          "output_type": "stream",
          "text": [
            "[Parallel(n_jobs=-1)]: Done 140 tasks      | elapsed:   10.5s\n",
            "[Parallel(n_jobs=-1)]: Done 256 out of 256 | elapsed:   20.3s finished\n",
            "[Parallel(n_jobs=-1)]: Using backend LokyBackend with 2 concurrent workers.\n"
          ],
          "name": "stderr"
        },
        {
          "output_type": "stream",
          "text": [
            "R2: \t\t0.719\n",
            "RMSE: \t\t391.878\n",
            "MAX ERR: \t1725.779\n",
            "Fitting 4 folds for each of 64 candidates, totalling 256 fits\n"
          ],
          "name": "stdout"
        },
        {
          "output_type": "stream",
          "text": [
            "[Parallel(n_jobs=-1)]: Done 164 tasks      | elapsed:   10.8s\n",
            "[Parallel(n_jobs=-1)]: Done 256 out of 256 | elapsed:   18.9s finished\n",
            "[Parallel(n_jobs=-1)]: Using backend LokyBackend with 2 concurrent workers.\n"
          ],
          "name": "stderr"
        },
        {
          "output_type": "stream",
          "text": [
            "R2: \t\t0.98\n",
            "RMSE: \t\t560.255\n",
            "MAX ERR: \t1581.35\n",
            "Fitting 4 folds for each of 64 candidates, totalling 256 fits\n"
          ],
          "name": "stdout"
        },
        {
          "output_type": "stream",
          "text": [
            "[Parallel(n_jobs=-1)]: Done 164 tasks      | elapsed:   10.4s\n",
            "[Parallel(n_jobs=-1)]: Done 256 out of 256 | elapsed:   18.5s finished\n",
            "[Parallel(n_jobs=-1)]: Using backend LokyBackend with 2 concurrent workers.\n"
          ],
          "name": "stderr"
        },
        {
          "output_type": "stream",
          "text": [
            "R2: \t\t0.969\n",
            "RMSE: \t\t723.224\n",
            "MAX ERR: \t2510.386\n",
            "Fitting 4 folds for each of 64 candidates, totalling 256 fits\n"
          ],
          "name": "stdout"
        },
        {
          "output_type": "stream",
          "text": [
            "[Parallel(n_jobs=-1)]: Done 164 tasks      | elapsed:   10.5s\n",
            "[Parallel(n_jobs=-1)]: Done 256 out of 256 | elapsed:   18.6s finished\n",
            "[Parallel(n_jobs=-1)]: Using backend LokyBackend with 2 concurrent workers.\n"
          ],
          "name": "stderr"
        },
        {
          "output_type": "stream",
          "text": [
            "R2: \t\t0.966\n",
            "RMSE: \t\t88.216\n",
            "MAX ERR: \t318.704\n",
            "Fitting 4 folds for each of 64 candidates, totalling 256 fits\n"
          ],
          "name": "stdout"
        },
        {
          "output_type": "stream",
          "text": [
            "[Parallel(n_jobs=-1)]: Done 164 tasks      | elapsed:   10.6s\n",
            "[Parallel(n_jobs=-1)]: Done 256 out of 256 | elapsed:   18.7s finished\n",
            "[Parallel(n_jobs=-1)]: Using backend LokyBackend with 2 concurrent workers.\n"
          ],
          "name": "stderr"
        },
        {
          "output_type": "stream",
          "text": [
            "R2: \t\t0.97\n",
            "RMSE: \t\t84.56\n",
            "MAX ERR: \t299.265\n",
            "Fitting 4 folds for each of 64 candidates, totalling 256 fits\n"
          ],
          "name": "stdout"
        },
        {
          "output_type": "stream",
          "text": [
            "[Parallel(n_jobs=-1)]: Done 164 tasks      | elapsed:   10.5s\n",
            "[Parallel(n_jobs=-1)]: Done 256 out of 256 | elapsed:   18.7s finished\n",
            "[Parallel(n_jobs=-1)]: Using backend LokyBackend with 2 concurrent workers.\n"
          ],
          "name": "stderr"
        },
        {
          "output_type": "stream",
          "text": [
            "R2: \t\t0.988\n",
            "RMSE: \t\t560.523\n",
            "MAX ERR: \t1902.244\n",
            "Fitting 4 folds for each of 64 candidates, totalling 256 fits\n"
          ],
          "name": "stdout"
        },
        {
          "output_type": "stream",
          "text": [
            "[Parallel(n_jobs=-1)]: Done 146 tasks      | elapsed:   10.0s\n",
            "[Parallel(n_jobs=-1)]: Done 256 out of 256 | elapsed:   19.0s finished\n",
            "[Parallel(n_jobs=-1)]: Using backend LokyBackend with 2 concurrent workers.\n"
          ],
          "name": "stderr"
        },
        {
          "output_type": "stream",
          "text": [
            "R2: \t\t0.984\n",
            "RMSE: \t\t625.449\n",
            "MAX ERR: \t2463.902\n",
            "Fitting 4 folds for each of 64 candidates, totalling 256 fits\n"
          ],
          "name": "stdout"
        },
        {
          "output_type": "stream",
          "text": [
            "[Parallel(n_jobs=-1)]: Done 164 tasks      | elapsed:   10.5s\n",
            "[Parallel(n_jobs=-1)]: Done 256 out of 256 | elapsed:   18.6s finished\n",
            "[Parallel(n_jobs=-1)]: Using backend LokyBackend with 2 concurrent workers.\n"
          ],
          "name": "stderr"
        },
        {
          "output_type": "stream",
          "text": [
            "R2: \t\t0.982\n",
            "RMSE: \t\t599.516\n",
            "MAX ERR: \t1809.694\n",
            "Fitting 4 folds for each of 64 candidates, totalling 256 fits\n"
          ],
          "name": "stdout"
        },
        {
          "output_type": "stream",
          "text": [
            "[Parallel(n_jobs=-1)]: Done 164 tasks      | elapsed:   10.4s\n",
            "[Parallel(n_jobs=-1)]: Done 256 out of 256 | elapsed:   18.4s finished\n",
            "[Parallel(n_jobs=-1)]: Using backend LokyBackend with 2 concurrent workers.\n"
          ],
          "name": "stderr"
        },
        {
          "output_type": "stream",
          "text": [
            "R2: \t\t0.975\n",
            "RMSE: \t\t719.411\n",
            "MAX ERR: \t2756.766\n",
            "Fitting 4 folds for each of 64 candidates, totalling 256 fits\n"
          ],
          "name": "stdout"
        },
        {
          "output_type": "stream",
          "text": [
            "[Parallel(n_jobs=-1)]: Done 164 tasks      | elapsed:   10.4s\n",
            "[Parallel(n_jobs=-1)]: Done 256 out of 256 | elapsed:   18.4s finished\n",
            "[Parallel(n_jobs=-1)]: Using backend LokyBackend with 2 concurrent workers.\n"
          ],
          "name": "stderr"
        },
        {
          "output_type": "stream",
          "text": [
            "R2: \t\t0.996\n",
            "RMSE: \t\t1479.777\n",
            "MAX ERR: \t3965.219\n",
            "Fitting 4 folds for each of 64 candidates, totalling 256 fits\n"
          ],
          "name": "stdout"
        },
        {
          "output_type": "stream",
          "text": [
            "[Parallel(n_jobs=-1)]: Done 164 tasks      | elapsed:   10.6s\n",
            "[Parallel(n_jobs=-1)]: Done 256 out of 256 | elapsed:   18.6s finished\n",
            "[Parallel(n_jobs=-1)]: Using backend LokyBackend with 2 concurrent workers.\n"
          ],
          "name": "stderr"
        },
        {
          "output_type": "stream",
          "text": [
            "R2: \t\t0.994\n",
            "RMSE: \t\t1835.741\n",
            "MAX ERR: \t4015.598\n",
            "Fitting 4 folds for each of 64 candidates, totalling 256 fits\n"
          ],
          "name": "stdout"
        },
        {
          "output_type": "stream",
          "text": [
            "[Parallel(n_jobs=-1)]: Done 140 tasks      | elapsed:   10.5s\n",
            "[Parallel(n_jobs=-1)]: Done 256 out of 256 | elapsed:   20.4s finished\n",
            "[Parallel(n_jobs=-1)]: Using backend LokyBackend with 2 concurrent workers.\n"
          ],
          "name": "stderr"
        },
        {
          "output_type": "stream",
          "text": [
            "R2: \t\t0.899\n",
            "RMSE: \t\t207.476\n",
            "MAX ERR: \t652.471\n",
            "Fitting 4 folds for each of 64 candidates, totalling 256 fits\n"
          ],
          "name": "stdout"
        },
        {
          "output_type": "stream",
          "text": [
            "[Parallel(n_jobs=-1)]: Done 140 tasks      | elapsed:   10.4s\n",
            "[Parallel(n_jobs=-1)]: Done 256 out of 256 | elapsed:   20.4s finished\n",
            "[Parallel(n_jobs=-1)]: Using backend LokyBackend with 2 concurrent workers.\n"
          ],
          "name": "stderr"
        },
        {
          "output_type": "stream",
          "text": [
            "R2: \t\t0.781\n",
            "RMSE: \t\t345.701\n",
            "MAX ERR: \t1729.782\n",
            "Fitting 4 folds for each of 64 candidates, totalling 256 fits\n"
          ],
          "name": "stdout"
        },
        {
          "output_type": "stream",
          "text": [
            "[Parallel(n_jobs=-1)]: Done 146 tasks      | elapsed:   10.1s\n",
            "[Parallel(n_jobs=-1)]: Done 256 out of 256 | elapsed:   19.1s finished\n",
            "[Parallel(n_jobs=-1)]: Using backend LokyBackend with 2 concurrent workers.\n"
          ],
          "name": "stderr"
        },
        {
          "output_type": "stream",
          "text": [
            "R2: \t\t0.981\n",
            "RMSE: \t\t546.888\n",
            "MAX ERR: \t1438.824\n",
            "Fitting 4 folds for each of 64 candidates, totalling 256 fits\n"
          ],
          "name": "stdout"
        },
        {
          "output_type": "stream",
          "text": [
            "[Parallel(n_jobs=-1)]: Done 146 tasks      | elapsed:   10.0s\n",
            "[Parallel(n_jobs=-1)]: Done 256 out of 256 | elapsed:   19.0s finished\n",
            "[Parallel(n_jobs=-1)]: Using backend LokyBackend with 2 concurrent workers.\n"
          ],
          "name": "stderr"
        },
        {
          "output_type": "stream",
          "text": [
            "R2: \t\t0.989\n",
            "RMSE: \t\t438.789\n",
            "MAX ERR: \t1472.382\n",
            "Fitting 4 folds for each of 64 candidates, totalling 256 fits\n"
          ],
          "name": "stdout"
        },
        {
          "output_type": "stream",
          "text": [
            "[Parallel(n_jobs=-1)]: Done 146 tasks      | elapsed:   10.0s\n",
            "[Parallel(n_jobs=-1)]: Done 256 out of 256 | elapsed:   19.0s finished\n",
            "[Parallel(n_jobs=-1)]: Using backend LokyBackend with 2 concurrent workers.\n"
          ],
          "name": "stderr"
        },
        {
          "output_type": "stream",
          "text": [
            "R2: \t\t0.994\n",
            "RMSE: \t\t37.717\n",
            "MAX ERR: \t94.391\n",
            "Fitting 4 folds for each of 64 candidates, totalling 256 fits\n"
          ],
          "name": "stdout"
        },
        {
          "output_type": "stream",
          "text": [
            "[Parallel(n_jobs=-1)]: Done 146 tasks      | elapsed:   10.1s\n",
            "[Parallel(n_jobs=-1)]: Done 256 out of 256 | elapsed:   19.2s finished\n",
            "[Parallel(n_jobs=-1)]: Using backend LokyBackend with 2 concurrent workers.\n"
          ],
          "name": "stderr"
        },
        {
          "output_type": "stream",
          "text": [
            "R2: \t\t0.989\n",
            "RMSE: \t\t51.73\n",
            "MAX ERR: \t209.91\n",
            "Fitting 4 folds for each of 64 candidates, totalling 256 fits\n"
          ],
          "name": "stdout"
        },
        {
          "output_type": "stream",
          "text": [
            "[Parallel(n_jobs=-1)]: Done 146 tasks      | elapsed:    9.9s\n",
            "[Parallel(n_jobs=-1)]: Done 256 out of 256 | elapsed:   18.9s finished\n",
            "[Parallel(n_jobs=-1)]: Using backend LokyBackend with 2 concurrent workers.\n"
          ],
          "name": "stderr"
        },
        {
          "output_type": "stream",
          "text": [
            "R2: \t\t0.995\n",
            "RMSE: \t\t378.53\n",
            "MAX ERR: \t1681.586\n",
            "Fitting 4 folds for each of 64 candidates, totalling 256 fits\n"
          ],
          "name": "stdout"
        },
        {
          "output_type": "stream",
          "text": [
            "[Parallel(n_jobs=-1)]: Done 146 tasks      | elapsed:   10.0s\n",
            "[Parallel(n_jobs=-1)]: Done 256 out of 256 | elapsed:   19.3s finished\n"
          ],
          "name": "stderr"
        },
        {
          "output_type": "stream",
          "text": [
            "R2: \t\t0.993\n",
            "RMSE: \t\t412.679\n",
            "MAX ERR: \t1256.488\n",
            "Fitting 4 folds for each of 64 candidates, totalling 256 fits\n"
          ],
          "name": "stdout"
        },
        {
          "output_type": "stream",
          "text": [
            "[Parallel(n_jobs=-1)]: Using backend LokyBackend with 2 concurrent workers.\n",
            "[Parallel(n_jobs=-1)]: Done 146 tasks      | elapsed:   10.1s\n",
            "[Parallel(n_jobs=-1)]: Done 256 out of 256 | elapsed:   19.1s finished\n",
            "[Parallel(n_jobs=-1)]: Using backend LokyBackend with 2 concurrent workers.\n"
          ],
          "name": "stderr"
        },
        {
          "output_type": "stream",
          "text": [
            "R2: \t\t0.987\n",
            "RMSE: \t\t509.807\n",
            "MAX ERR: \t1641.608\n",
            "Fitting 4 folds for each of 64 candidates, totalling 256 fits\n"
          ],
          "name": "stdout"
        },
        {
          "output_type": "stream",
          "text": [
            "[Parallel(n_jobs=-1)]: Done 146 tasks      | elapsed:   10.1s\n",
            "[Parallel(n_jobs=-1)]: Done 256 out of 256 | elapsed:   19.1s finished\n",
            "[Parallel(n_jobs=-1)]: Using backend LokyBackend with 2 concurrent workers.\n"
          ],
          "name": "stderr"
        },
        {
          "output_type": "stream",
          "text": [
            "R2: \t\t0.983\n",
            "RMSE: \t\t604.44\n",
            "MAX ERR: \t2233.306\n",
            "Fitting 4 folds for each of 64 candidates, totalling 256 fits\n"
          ],
          "name": "stdout"
        },
        {
          "output_type": "stream",
          "text": [
            "[Parallel(n_jobs=-1)]: Done 164 tasks      | elapsed:   10.5s\n",
            "[Parallel(n_jobs=-1)]: Done 256 out of 256 | elapsed:   18.5s finished\n",
            "[Parallel(n_jobs=-1)]: Using backend LokyBackend with 2 concurrent workers.\n"
          ],
          "name": "stderr"
        },
        {
          "output_type": "stream",
          "text": [
            "R2: \t\t0.998\n",
            "RMSE: \t\t1089.645\n",
            "MAX ERR: \t4666.384\n",
            "Fitting 4 folds for each of 64 candidates, totalling 256 fits\n"
          ],
          "name": "stdout"
        },
        {
          "output_type": "stream",
          "text": [
            "[Parallel(n_jobs=-1)]: Done 164 tasks      | elapsed:   10.5s\n",
            "[Parallel(n_jobs=-1)]: Done 256 out of 256 | elapsed:   18.6s finished\n",
            "[Parallel(n_jobs=-1)]: Using backend LokyBackend with 2 concurrent workers.\n"
          ],
          "name": "stderr"
        },
        {
          "output_type": "stream",
          "text": [
            "R2: \t\t0.999\n",
            "RMSE: \t\t829.32\n",
            "MAX ERR: \t2390.987\n",
            "Fitting 4 folds for each of 64 candidates, totalling 256 fits\n"
          ],
          "name": "stdout"
        },
        {
          "output_type": "stream",
          "text": [
            "[Parallel(n_jobs=-1)]: Done 146 tasks      | elapsed:   10.3s\n",
            "[Parallel(n_jobs=-1)]: Done 256 out of 256 | elapsed:   19.6s finished\n",
            "[Parallel(n_jobs=-1)]: Using backend LokyBackend with 2 concurrent workers.\n"
          ],
          "name": "stderr"
        },
        {
          "output_type": "stream",
          "text": [
            "R2: \t\t0.855\n",
            "RMSE: \t\t249.253\n",
            "MAX ERR: \t763.754\n",
            "Fitting 4 folds for each of 64 candidates, totalling 256 fits\n"
          ],
          "name": "stdout"
        },
        {
          "output_type": "stream",
          "text": [
            "[Parallel(n_jobs=-1)]: Done 140 tasks      | elapsed:   10.4s\n",
            "[Parallel(n_jobs=-1)]: Done 256 out of 256 | elapsed:   20.3s finished\n"
          ],
          "name": "stderr"
        },
        {
          "output_type": "stream",
          "text": [
            "R2: \t\t0.802\n",
            "RMSE: \t\t329.168\n",
            "MAX ERR: \t1271.244\n",
            "Fitting 4 folds for each of 64 candidates, totalling 256 fits\n"
          ],
          "name": "stdout"
        },
        {
          "output_type": "stream",
          "text": [
            "[Parallel(n_jobs=-1)]: Using backend LokyBackend with 2 concurrent workers.\n",
            "[Parallel(n_jobs=-1)]: Done 164 tasks      | elapsed:   10.6s\n",
            "[Parallel(n_jobs=-1)]: Done 256 out of 256 | elapsed:   18.7s finished\n",
            "[Parallel(n_jobs=-1)]: Using backend LokyBackend with 2 concurrent workers.\n"
          ],
          "name": "stderr"
        },
        {
          "output_type": "stream",
          "text": [
            "R2: \t\t0.98\n",
            "RMSE: \t\t570.74\n",
            "MAX ERR: \t2526.735\n",
            "Fitting 4 folds for each of 64 candidates, totalling 256 fits\n"
          ],
          "name": "stdout"
        },
        {
          "output_type": "stream",
          "text": [
            "[Parallel(n_jobs=-1)]: Done 164 tasks      | elapsed:   10.5s\n",
            "[Parallel(n_jobs=-1)]: Done 256 out of 256 | elapsed:   18.5s finished\n",
            "[Parallel(n_jobs=-1)]: Using backend LokyBackend with 2 concurrent workers.\n"
          ],
          "name": "stderr"
        },
        {
          "output_type": "stream",
          "text": [
            "R2: \t\t0.974\n",
            "RMSE: \t\t671.644\n",
            "MAX ERR: \t3464.592\n",
            "Fitting 4 folds for each of 64 candidates, totalling 256 fits\n"
          ],
          "name": "stdout"
        },
        {
          "output_type": "stream",
          "text": [
            "[Parallel(n_jobs=-1)]: Done 164 tasks      | elapsed:   10.6s\n",
            "[Parallel(n_jobs=-1)]: Done 256 out of 256 | elapsed:   18.7s finished\n",
            "[Parallel(n_jobs=-1)]: Using backend LokyBackend with 2 concurrent workers.\n"
          ],
          "name": "stderr"
        },
        {
          "output_type": "stream",
          "text": [
            "R2: \t\t0.962\n",
            "RMSE: \t\t93.736\n",
            "MAX ERR: \t386.305\n",
            "Fitting 4 folds for each of 64 candidates, totalling 256 fits\n"
          ],
          "name": "stdout"
        },
        {
          "output_type": "stream",
          "text": [
            "[Parallel(n_jobs=-1)]: Done 164 tasks      | elapsed:   10.7s\n",
            "[Parallel(n_jobs=-1)]: Done 256 out of 256 | elapsed:   18.8s finished\n",
            "[Parallel(n_jobs=-1)]: Using backend LokyBackend with 2 concurrent workers.\n"
          ],
          "name": "stderr"
        },
        {
          "output_type": "stream",
          "text": [
            "R2: \t\t0.984\n",
            "RMSE: \t\t61.124\n",
            "MAX ERR: \t250.159\n",
            "Fitting 4 folds for each of 64 candidates, totalling 256 fits\n"
          ],
          "name": "stdout"
        },
        {
          "output_type": "stream",
          "text": [
            "[Parallel(n_jobs=-1)]: Done 146 tasks      | elapsed:   10.0s\n",
            "[Parallel(n_jobs=-1)]: Done 256 out of 256 | elapsed:   19.0s finished\n",
            "[Parallel(n_jobs=-1)]: Using backend LokyBackend with 2 concurrent workers.\n"
          ],
          "name": "stderr"
        },
        {
          "output_type": "stream",
          "text": [
            "R2: \t\t0.992\n",
            "RMSE: \t\t471.788\n",
            "MAX ERR: \t1735.222\n",
            "Fitting 4 folds for each of 64 candidates, totalling 256 fits\n"
          ],
          "name": "stdout"
        },
        {
          "output_type": "stream",
          "text": [
            "[Parallel(n_jobs=-1)]: Done 164 tasks      | elapsed:   10.8s\n",
            "[Parallel(n_jobs=-1)]: Done 256 out of 256 | elapsed:   19.0s finished\n",
            "[Parallel(n_jobs=-1)]: Using backend LokyBackend with 2 concurrent workers.\n"
          ],
          "name": "stderr"
        },
        {
          "output_type": "stream",
          "text": [
            "R2: \t\t0.991\n",
            "RMSE: \t\t465.31\n",
            "MAX ERR: \t1639.085\n",
            "Fitting 4 folds for each of 64 candidates, totalling 256 fits\n"
          ],
          "name": "stdout"
        },
        {
          "output_type": "stream",
          "text": [
            "[Parallel(n_jobs=-1)]: Done 164 tasks      | elapsed:   10.6s\n",
            "[Parallel(n_jobs=-1)]: Done 256 out of 256 | elapsed:   18.7s finished\n",
            "[Parallel(n_jobs=-1)]: Using backend LokyBackend with 2 concurrent workers.\n"
          ],
          "name": "stderr"
        },
        {
          "output_type": "stream",
          "text": [
            "R2: \t\t0.98\n",
            "RMSE: \t\t628.408\n",
            "MAX ERR: \t2744.607\n",
            "Fitting 4 folds for each of 64 candidates, totalling 256 fits\n"
          ],
          "name": "stdout"
        },
        {
          "output_type": "stream",
          "text": [
            "[Parallel(n_jobs=-1)]: Done 164 tasks      | elapsed:   10.7s\n",
            "[Parallel(n_jobs=-1)]: Done 256 out of 256 | elapsed:   18.8s finished\n",
            "[Parallel(n_jobs=-1)]: Using backend LokyBackend with 2 concurrent workers.\n"
          ],
          "name": "stderr"
        },
        {
          "output_type": "stream",
          "text": [
            "R2: \t\t0.982\n",
            "RMSE: \t\t621.79\n",
            "MAX ERR: \t2711.007\n",
            "Fitting 4 folds for each of 64 candidates, totalling 256 fits\n"
          ],
          "name": "stdout"
        },
        {
          "output_type": "stream",
          "text": [
            "[Parallel(n_jobs=-1)]: Done 164 tasks      | elapsed:   10.4s\n",
            "[Parallel(n_jobs=-1)]: Done 256 out of 256 | elapsed:   18.4s finished\n",
            "[Parallel(n_jobs=-1)]: Using backend LokyBackend with 2 concurrent workers.\n"
          ],
          "name": "stderr"
        },
        {
          "output_type": "stream",
          "text": [
            "R2: \t\t0.997\n",
            "RMSE: \t\t1229.723\n",
            "MAX ERR: \t2875.333\n",
            "Fitting 4 folds for each of 64 candidates, totalling 256 fits\n"
          ],
          "name": "stdout"
        },
        {
          "output_type": "stream",
          "text": [
            "[Parallel(n_jobs=-1)]: Done 164 tasks      | elapsed:   10.6s\n",
            "[Parallel(n_jobs=-1)]: Done 256 out of 256 | elapsed:   18.8s finished\n",
            "[Parallel(n_jobs=-1)]: Using backend LokyBackend with 2 concurrent workers.\n"
          ],
          "name": "stderr"
        },
        {
          "output_type": "stream",
          "text": [
            "R2: \t\t0.997\n",
            "RMSE: \t\t1211.231\n",
            "MAX ERR: \t3592.109\n",
            "Fitting 4 folds for each of 64 candidates, totalling 256 fits\n"
          ],
          "name": "stdout"
        },
        {
          "output_type": "stream",
          "text": [
            "[Parallel(n_jobs=-1)]: Done 140 tasks      | elapsed:   10.5s\n",
            "[Parallel(n_jobs=-1)]: Done 256 out of 256 | elapsed:   20.2s finished\n",
            "[Parallel(n_jobs=-1)]: Using backend LokyBackend with 2 concurrent workers.\n"
          ],
          "name": "stderr"
        },
        {
          "output_type": "stream",
          "text": [
            "R2: \t\t0.825\n",
            "RMSE: \t\t273.47\n",
            "MAX ERR: \t826.06\n",
            "Fitting 4 folds for each of 64 candidates, totalling 256 fits\n"
          ],
          "name": "stdout"
        },
        {
          "output_type": "stream",
          "text": [
            "[Parallel(n_jobs=-1)]: Done 146 tasks      | elapsed:   10.4s\n",
            "[Parallel(n_jobs=-1)]: Done 256 out of 256 | elapsed:   19.8s finished\n",
            "[Parallel(n_jobs=-1)]: Using backend LokyBackend with 2 concurrent workers.\n"
          ],
          "name": "stderr"
        },
        {
          "output_type": "stream",
          "text": [
            "R2: \t\t0.801\n",
            "RMSE: \t\t329.783\n",
            "MAX ERR: \t1681.813\n",
            "Fitting 4 folds for each of 64 candidates, totalling 256 fits\n"
          ],
          "name": "stdout"
        },
        {
          "output_type": "stream",
          "text": [
            "[Parallel(n_jobs=-1)]: Done 164 tasks      | elapsed:   10.5s\n",
            "[Parallel(n_jobs=-1)]: Done 256 out of 256 | elapsed:   18.5s finished\n",
            "[Parallel(n_jobs=-1)]: Using backend LokyBackend with 2 concurrent workers.\n"
          ],
          "name": "stderr"
        },
        {
          "output_type": "stream",
          "text": [
            "R2: \t\t0.982\n",
            "RMSE: \t\t530.444\n",
            "MAX ERR: \t1576.749\n",
            "Fitting 4 folds for each of 64 candidates, totalling 256 fits\n"
          ],
          "name": "stdout"
        },
        {
          "output_type": "stream",
          "text": [
            "[Parallel(n_jobs=-1)]: Done 164 tasks      | elapsed:   10.5s\n",
            "[Parallel(n_jobs=-1)]: Done 256 out of 256 | elapsed:   18.6s finished\n",
            "[Parallel(n_jobs=-1)]: Using backend LokyBackend with 2 concurrent workers.\n"
          ],
          "name": "stderr"
        },
        {
          "output_type": "stream",
          "text": [
            "R2: \t\t0.984\n",
            "RMSE: \t\t521.418\n",
            "MAX ERR: \t1747.19\n",
            "Fitting 4 folds for each of 64 candidates, totalling 256 fits\n"
          ],
          "name": "stdout"
        },
        {
          "output_type": "stream",
          "text": [
            "[Parallel(n_jobs=-1)]: Done 164 tasks      | elapsed:   10.5s\n",
            "[Parallel(n_jobs=-1)]: Done 256 out of 256 | elapsed:   18.5s finished\n",
            "[Parallel(n_jobs=-1)]: Using backend LokyBackend with 2 concurrent workers.\n"
          ],
          "name": "stderr"
        },
        {
          "output_type": "stream",
          "text": [
            "R2: \t\t0.987\n",
            "RMSE: \t\t55.648\n",
            "MAX ERR: \t207.909\n",
            "Fitting 4 folds for each of 64 candidates, totalling 256 fits\n"
          ],
          "name": "stdout"
        },
        {
          "output_type": "stream",
          "text": [
            "[Parallel(n_jobs=-1)]: Done 164 tasks      | elapsed:   10.4s\n",
            "[Parallel(n_jobs=-1)]: Done 256 out of 256 | elapsed:   18.4s finished\n",
            "[Parallel(n_jobs=-1)]: Using backend LokyBackend with 2 concurrent workers.\n"
          ],
          "name": "stderr"
        },
        {
          "output_type": "stream",
          "text": [
            "R2: \t\t0.993\n",
            "RMSE: \t\t40.105\n",
            "MAX ERR: \t131.915\n",
            "Fitting 4 folds for each of 64 candidates, totalling 256 fits\n"
          ],
          "name": "stdout"
        },
        {
          "output_type": "stream",
          "text": [
            "[Parallel(n_jobs=-1)]: Done 164 tasks      | elapsed:   10.6s\n",
            "[Parallel(n_jobs=-1)]: Done 256 out of 256 | elapsed:   18.7s finished\n",
            "[Parallel(n_jobs=-1)]: Using backend LokyBackend with 2 concurrent workers.\n"
          ],
          "name": "stderr"
        },
        {
          "output_type": "stream",
          "text": [
            "R2: \t\t0.989\n",
            "RMSE: \t\t549.981\n",
            "MAX ERR: \t1901.575\n",
            "Fitting 4 folds for each of 64 candidates, totalling 256 fits\n"
          ],
          "name": "stdout"
        },
        {
          "output_type": "stream",
          "text": [
            "[Parallel(n_jobs=-1)]: Done 146 tasks      | elapsed:    9.9s\n",
            "[Parallel(n_jobs=-1)]: Done 256 out of 256 | elapsed:   19.0s finished\n",
            "[Parallel(n_jobs=-1)]: Using backend LokyBackend with 2 concurrent workers.\n"
          ],
          "name": "stderr"
        },
        {
          "output_type": "stream",
          "text": [
            "R2: \t\t0.992\n",
            "RMSE: \t\t433.478\n",
            "MAX ERR: \t1274.442\n",
            "Fitting 4 folds for each of 64 candidates, totalling 256 fits\n"
          ],
          "name": "stdout"
        },
        {
          "output_type": "stream",
          "text": [
            "[Parallel(n_jobs=-1)]: Done 164 tasks      | elapsed:   10.4s\n",
            "[Parallel(n_jobs=-1)]: Done 256 out of 256 | elapsed:   18.3s finished\n",
            "[Parallel(n_jobs=-1)]: Using backend LokyBackend with 2 concurrent workers.\n"
          ],
          "name": "stderr"
        },
        {
          "output_type": "stream",
          "text": [
            "R2: \t\t0.984\n",
            "RMSE: \t\t556.873\n",
            "MAX ERR: \t1825.291\n",
            "Fitting 4 folds for each of 64 candidates, totalling 256 fits\n"
          ],
          "name": "stdout"
        },
        {
          "output_type": "stream",
          "text": [
            "[Parallel(n_jobs=-1)]: Done 164 tasks      | elapsed:   10.4s\n",
            "[Parallel(n_jobs=-1)]: Done 256 out of 256 | elapsed:   18.4s finished\n",
            "[Parallel(n_jobs=-1)]: Using backend LokyBackend with 2 concurrent workers.\n"
          ],
          "name": "stderr"
        },
        {
          "output_type": "stream",
          "text": [
            "R2: \t\t0.985\n",
            "RMSE: \t\t568.896\n",
            "MAX ERR: \t1752.922\n",
            "Fitting 4 folds for each of 64 candidates, totalling 256 fits\n"
          ],
          "name": "stdout"
        },
        {
          "output_type": "stream",
          "text": [
            "[Parallel(n_jobs=-1)]: Done 164 tasks      | elapsed:   10.4s\n",
            "[Parallel(n_jobs=-1)]: Done 256 out of 256 | elapsed:   18.5s finished\n",
            "[Parallel(n_jobs=-1)]: Using backend LokyBackend with 2 concurrent workers.\n"
          ],
          "name": "stderr"
        },
        {
          "output_type": "stream",
          "text": [
            "R2: \t\t0.996\n",
            "RMSE: \t\t1485.406\n",
            "MAX ERR: \t3860.205\n",
            "Fitting 4 folds for each of 64 candidates, totalling 256 fits\n"
          ],
          "name": "stdout"
        },
        {
          "output_type": "stream",
          "text": [
            "[Parallel(n_jobs=-1)]: Done 164 tasks      | elapsed:   10.6s\n",
            "[Parallel(n_jobs=-1)]: Done 256 out of 256 | elapsed:   18.6s finished\n",
            "[Parallel(n_jobs=-1)]: Using backend LokyBackend with 2 concurrent workers.\n"
          ],
          "name": "stderr"
        },
        {
          "output_type": "stream",
          "text": [
            "R2: \t\t0.997\n",
            "RMSE: \t\t1164.262\n",
            "MAX ERR: \t2741.419\n",
            "Fitting 4 folds for each of 64 candidates, totalling 256 fits\n"
          ],
          "name": "stdout"
        },
        {
          "output_type": "stream",
          "text": [
            "[Parallel(n_jobs=-1)]: Done 140 tasks      | elapsed:   10.5s\n",
            "[Parallel(n_jobs=-1)]: Done 256 out of 256 | elapsed:   20.5s finished\n",
            "[Parallel(n_jobs=-1)]: Using backend LokyBackend with 2 concurrent workers.\n"
          ],
          "name": "stderr"
        },
        {
          "output_type": "stream",
          "text": [
            "R2: \t\t0.899\n",
            "RMSE: \t\t207.476\n",
            "MAX ERR: \t652.471\n",
            "Fitting 4 folds for each of 64 candidates, totalling 256 fits\n"
          ],
          "name": "stdout"
        },
        {
          "output_type": "stream",
          "text": [
            "[Parallel(n_jobs=-1)]: Done 140 tasks      | elapsed:   10.4s\n",
            "[Parallel(n_jobs=-1)]: Done 256 out of 256 | elapsed:   20.3s finished\n",
            "[Parallel(n_jobs=-1)]: Using backend LokyBackend with 2 concurrent workers.\n"
          ],
          "name": "stderr"
        },
        {
          "output_type": "stream",
          "text": [
            "R2: \t\t0.781\n",
            "RMSE: \t\t345.701\n",
            "MAX ERR: \t1729.782\n",
            "Fitting 4 folds for each of 64 candidates, totalling 256 fits\n"
          ],
          "name": "stdout"
        },
        {
          "output_type": "stream",
          "text": [
            "[Parallel(n_jobs=-1)]: Done 164 tasks      | elapsed:   10.6s\n",
            "[Parallel(n_jobs=-1)]: Done 256 out of 256 | elapsed:   18.9s finished\n",
            "[Parallel(n_jobs=-1)]: Using backend LokyBackend with 2 concurrent workers.\n"
          ],
          "name": "stderr"
        },
        {
          "output_type": "stream",
          "text": [
            "R2: \t\t0.981\n",
            "RMSE: \t\t546.888\n",
            "MAX ERR: \t1438.824\n",
            "Fitting 4 folds for each of 64 candidates, totalling 256 fits\n"
          ],
          "name": "stdout"
        },
        {
          "output_type": "stream",
          "text": [
            "[Parallel(n_jobs=-1)]: Done 146 tasks      | elapsed:   10.1s\n",
            "[Parallel(n_jobs=-1)]: Done 256 out of 256 | elapsed:   19.1s finished\n",
            "[Parallel(n_jobs=-1)]: Using backend LokyBackend with 2 concurrent workers.\n"
          ],
          "name": "stderr"
        },
        {
          "output_type": "stream",
          "text": [
            "R2: \t\t0.989\n",
            "RMSE: \t\t438.789\n",
            "MAX ERR: \t1472.382\n",
            "Fitting 4 folds for each of 64 candidates, totalling 256 fits\n"
          ],
          "name": "stdout"
        },
        {
          "output_type": "stream",
          "text": [
            "[Parallel(n_jobs=-1)]: Done 146 tasks      | elapsed:   10.0s\n",
            "[Parallel(n_jobs=-1)]: Done 256 out of 256 | elapsed:   19.0s finished\n",
            "[Parallel(n_jobs=-1)]: Using backend LokyBackend with 2 concurrent workers.\n"
          ],
          "name": "stderr"
        },
        {
          "output_type": "stream",
          "text": [
            "R2: \t\t0.994\n",
            "RMSE: \t\t37.717\n",
            "MAX ERR: \t94.391\n",
            "Fitting 4 folds for each of 64 candidates, totalling 256 fits\n"
          ],
          "name": "stdout"
        },
        {
          "output_type": "stream",
          "text": [
            "[Parallel(n_jobs=-1)]: Done 146 tasks      | elapsed:   10.1s\n",
            "[Parallel(n_jobs=-1)]: Done 256 out of 256 | elapsed:   19.2s finished\n",
            "[Parallel(n_jobs=-1)]: Using backend LokyBackend with 2 concurrent workers.\n"
          ],
          "name": "stderr"
        },
        {
          "output_type": "stream",
          "text": [
            "R2: \t\t0.989\n",
            "RMSE: \t\t51.73\n",
            "MAX ERR: \t209.91\n",
            "Fitting 4 folds for each of 64 candidates, totalling 256 fits\n"
          ],
          "name": "stdout"
        },
        {
          "output_type": "stream",
          "text": [
            "[Parallel(n_jobs=-1)]: Done 146 tasks      | elapsed:    9.9s\n",
            "[Parallel(n_jobs=-1)]: Done 256 out of 256 | elapsed:   19.0s finished\n",
            "[Parallel(n_jobs=-1)]: Using backend LokyBackend with 2 concurrent workers.\n"
          ],
          "name": "stderr"
        },
        {
          "output_type": "stream",
          "text": [
            "R2: \t\t0.995\n",
            "RMSE: \t\t378.53\n",
            "MAX ERR: \t1681.586\n",
            "Fitting 4 folds for each of 64 candidates, totalling 256 fits\n"
          ],
          "name": "stdout"
        },
        {
          "output_type": "stream",
          "text": [
            "[Parallel(n_jobs=-1)]: Done 146 tasks      | elapsed:   10.1s\n",
            "[Parallel(n_jobs=-1)]: Done 256 out of 256 | elapsed:   19.1s finished\n"
          ],
          "name": "stderr"
        },
        {
          "output_type": "stream",
          "text": [
            "R2: \t\t0.993\n",
            "RMSE: \t\t412.679\n",
            "MAX ERR: \t1256.488\n",
            "Fitting 4 folds for each of 64 candidates, totalling 256 fits\n"
          ],
          "name": "stdout"
        },
        {
          "output_type": "stream",
          "text": [
            "[Parallel(n_jobs=-1)]: Using backend LokyBackend with 2 concurrent workers.\n",
            "[Parallel(n_jobs=-1)]: Done 164 tasks      | elapsed:   10.7s\n",
            "[Parallel(n_jobs=-1)]: Done 256 out of 256 | elapsed:   19.0s finished\n",
            "[Parallel(n_jobs=-1)]: Using backend LokyBackend with 2 concurrent workers.\n"
          ],
          "name": "stderr"
        },
        {
          "output_type": "stream",
          "text": [
            "R2: \t\t0.987\n",
            "RMSE: \t\t509.807\n",
            "MAX ERR: \t1641.608\n",
            "Fitting 4 folds for each of 64 candidates, totalling 256 fits\n"
          ],
          "name": "stdout"
        },
        {
          "output_type": "stream",
          "text": [
            "[Parallel(n_jobs=-1)]: Done 164 tasks      | elapsed:   10.7s\n",
            "[Parallel(n_jobs=-1)]: Done 256 out of 256 | elapsed:   18.8s finished\n",
            "[Parallel(n_jobs=-1)]: Using backend LokyBackend with 2 concurrent workers.\n"
          ],
          "name": "stderr"
        },
        {
          "output_type": "stream",
          "text": [
            "R2: \t\t0.983\n",
            "RMSE: \t\t604.44\n",
            "MAX ERR: \t2233.306\n",
            "Fitting 4 folds for each of 64 candidates, totalling 256 fits\n"
          ],
          "name": "stdout"
        },
        {
          "output_type": "stream",
          "text": [
            "[Parallel(n_jobs=-1)]: Done 164 tasks      | elapsed:   10.5s\n",
            "[Parallel(n_jobs=-1)]: Done 256 out of 256 | elapsed:   18.4s finished\n",
            "[Parallel(n_jobs=-1)]: Using backend LokyBackend with 2 concurrent workers.\n"
          ],
          "name": "stderr"
        },
        {
          "output_type": "stream",
          "text": [
            "R2: \t\t0.998\n",
            "RMSE: \t\t1089.645\n",
            "MAX ERR: \t4666.384\n",
            "Fitting 4 folds for each of 64 candidates, totalling 256 fits\n"
          ],
          "name": "stdout"
        },
        {
          "output_type": "stream",
          "text": [
            "[Parallel(n_jobs=-1)]: Done 164 tasks      | elapsed:   10.5s\n",
            "[Parallel(n_jobs=-1)]: Done 256 out of 256 | elapsed:   18.6s finished\n",
            "[Parallel(n_jobs=-1)]: Using backend LokyBackend with 2 concurrent workers.\n"
          ],
          "name": "stderr"
        },
        {
          "output_type": "stream",
          "text": [
            "R2: \t\t0.999\n",
            "RMSE: \t\t829.32\n",
            "MAX ERR: \t2390.987\n",
            "Fitting 4 folds for each of 64 candidates, totalling 256 fits\n"
          ],
          "name": "stdout"
        },
        {
          "output_type": "stream",
          "text": [
            "[Parallel(n_jobs=-1)]: Done 146 tasks      | elapsed:   10.4s\n",
            "[Parallel(n_jobs=-1)]: Done 256 out of 256 | elapsed:   19.8s finished\n",
            "[Parallel(n_jobs=-1)]: Using backend LokyBackend with 2 concurrent workers.\n"
          ],
          "name": "stderr"
        },
        {
          "output_type": "stream",
          "text": [
            "R2: \t\t0.818\n",
            "RMSE: \t\t278.743\n",
            "MAX ERR: \t784.438\n",
            "Fitting 4 folds for each of 64 candidates, totalling 256 fits\n"
          ],
          "name": "stdout"
        },
        {
          "output_type": "stream",
          "text": [
            "[Parallel(n_jobs=-1)]: Done 146 tasks      | elapsed:   10.4s\n",
            "[Parallel(n_jobs=-1)]: Done 256 out of 256 | elapsed:   19.8s finished\n",
            "[Parallel(n_jobs=-1)]: Using backend LokyBackend with 2 concurrent workers.\n"
          ],
          "name": "stderr"
        },
        {
          "output_type": "stream",
          "text": [
            "R2: \t\t0.777\n",
            "RMSE: \t\t348.851\n",
            "MAX ERR: \t1627.736\n",
            "Fitting 4 folds for each of 64 candidates, totalling 256 fits\n"
          ],
          "name": "stdout"
        },
        {
          "output_type": "stream",
          "text": [
            "[Parallel(n_jobs=-1)]: Done 164 tasks      | elapsed:   10.4s\n",
            "[Parallel(n_jobs=-1)]: Done 256 out of 256 | elapsed:   18.5s finished\n",
            "[Parallel(n_jobs=-1)]: Using backend LokyBackend with 2 concurrent workers.\n"
          ],
          "name": "stderr"
        },
        {
          "output_type": "stream",
          "text": [
            "R2: \t\t0.981\n",
            "RMSE: \t\t557.025\n",
            "MAX ERR: \t1910.455\n",
            "Fitting 4 folds for each of 64 candidates, totalling 256 fits\n"
          ],
          "name": "stdout"
        },
        {
          "output_type": "stream",
          "text": [
            "[Parallel(n_jobs=-1)]: Done 164 tasks      | elapsed:   10.5s\n",
            "[Parallel(n_jobs=-1)]: Done 256 out of 256 | elapsed:   18.5s finished\n",
            "[Parallel(n_jobs=-1)]: Using backend LokyBackend with 2 concurrent workers.\n"
          ],
          "name": "stderr"
        },
        {
          "output_type": "stream",
          "text": [
            "R2: \t\t0.962\n",
            "RMSE: \t\t808.848\n",
            "MAX ERR: \t3255.115\n",
            "Fitting 4 folds for each of 64 candidates, totalling 256 fits\n"
          ],
          "name": "stdout"
        },
        {
          "output_type": "stream",
          "text": [
            "[Parallel(n_jobs=-1)]: Done 164 tasks      | elapsed:   10.7s\n",
            "[Parallel(n_jobs=-1)]: Done 256 out of 256 | elapsed:   18.7s finished\n",
            "[Parallel(n_jobs=-1)]: Using backend LokyBackend with 2 concurrent workers.\n"
          ],
          "name": "stderr"
        },
        {
          "output_type": "stream",
          "text": [
            "R2: \t\t0.964\n",
            "RMSE: \t\t90.546\n",
            "MAX ERR: \t313.108\n",
            "Fitting 4 folds for each of 64 candidates, totalling 256 fits\n"
          ],
          "name": "stdout"
        },
        {
          "output_type": "stream",
          "text": [
            "[Parallel(n_jobs=-1)]: Done 164 tasks      | elapsed:   10.5s\n",
            "[Parallel(n_jobs=-1)]: Done 256 out of 256 | elapsed:   18.6s finished\n",
            "[Parallel(n_jobs=-1)]: Using backend LokyBackend with 2 concurrent workers.\n"
          ],
          "name": "stderr"
        },
        {
          "output_type": "stream",
          "text": [
            "R2: \t\t0.978\n",
            "RMSE: \t\t72.156\n",
            "MAX ERR: \t246.302\n",
            "Fitting 4 folds for each of 64 candidates, totalling 256 fits\n"
          ],
          "name": "stdout"
        },
        {
          "output_type": "stream",
          "text": [
            "[Parallel(n_jobs=-1)]: Done 164 tasks      | elapsed:   10.6s\n",
            "[Parallel(n_jobs=-1)]: Done 256 out of 256 | elapsed:   18.6s finished\n",
            "[Parallel(n_jobs=-1)]: Using backend LokyBackend with 2 concurrent workers.\n"
          ],
          "name": "stderr"
        },
        {
          "output_type": "stream",
          "text": [
            "R2: \t\t0.987\n",
            "RMSE: \t\t594.093\n",
            "MAX ERR: \t1802.589\n",
            "Fitting 4 folds for each of 64 candidates, totalling 256 fits\n"
          ],
          "name": "stdout"
        },
        {
          "output_type": "stream",
          "text": [
            "[Parallel(n_jobs=-1)]: Done 164 tasks      | elapsed:   10.7s\n",
            "[Parallel(n_jobs=-1)]: Done 256 out of 256 | elapsed:   18.8s finished\n",
            "[Parallel(n_jobs=-1)]: Using backend LokyBackend with 2 concurrent workers.\n"
          ],
          "name": "stderr"
        },
        {
          "output_type": "stream",
          "text": [
            "R2: \t\t0.988\n",
            "RMSE: \t\t552.073\n",
            "MAX ERR: \t1511.865\n",
            "Fitting 4 folds for each of 64 candidates, totalling 256 fits\n"
          ],
          "name": "stdout"
        },
        {
          "output_type": "stream",
          "text": [
            "[Parallel(n_jobs=-1)]: Done 164 tasks      | elapsed:   10.4s\n",
            "[Parallel(n_jobs=-1)]: Done 256 out of 256 | elapsed:   18.5s finished\n",
            "[Parallel(n_jobs=-1)]: Using backend LokyBackend with 2 concurrent workers.\n"
          ],
          "name": "stderr"
        },
        {
          "output_type": "stream",
          "text": [
            "R2: \t\t0.967\n",
            "RMSE: \t\t812.671\n",
            "MAX ERR: \t2417.533\n",
            "Fitting 4 folds for each of 64 candidates, totalling 256 fits\n"
          ],
          "name": "stdout"
        },
        {
          "output_type": "stream",
          "text": [
            "[Parallel(n_jobs=-1)]: Done 164 tasks      | elapsed:   10.6s\n",
            "[Parallel(n_jobs=-1)]: Done 256 out of 256 | elapsed:   18.6s finished\n"
          ],
          "name": "stderr"
        },
        {
          "output_type": "stream",
          "text": [
            "R2: \t\t0.977\n",
            "RMSE: \t\t702.458\n",
            "MAX ERR: \t2676.561\n",
            "Fitting 4 folds for each of 64 candidates, totalling 256 fits\n"
          ],
          "name": "stdout"
        },
        {
          "output_type": "stream",
          "text": [
            "[Parallel(n_jobs=-1)]: Using backend LokyBackend with 2 concurrent workers.\n",
            "[Parallel(n_jobs=-1)]: Done 164 tasks      | elapsed:   10.5s\n",
            "[Parallel(n_jobs=-1)]: Done 256 out of 256 | elapsed:   18.6s finished\n",
            "[Parallel(n_jobs=-1)]: Using backend LokyBackend with 2 concurrent workers.\n"
          ],
          "name": "stderr"
        },
        {
          "output_type": "stream",
          "text": [
            "R2: \t\t0.997\n",
            "RMSE: \t\t1281.857\n",
            "MAX ERR: \t3785.158\n",
            "Fitting 4 folds for each of 64 candidates, totalling 256 fits\n"
          ],
          "name": "stdout"
        },
        {
          "output_type": "stream",
          "text": [
            "[Parallel(n_jobs=-1)]: Done 164 tasks      | elapsed:   10.5s\n",
            "[Parallel(n_jobs=-1)]: Done 256 out of 256 | elapsed:   18.6s finished\n",
            "[Parallel(n_jobs=-1)]: Using backend LokyBackend with 2 concurrent workers.\n"
          ],
          "name": "stderr"
        },
        {
          "output_type": "stream",
          "text": [
            "R2: \t\t0.995\n",
            "RMSE: \t\t1574.844\n",
            "MAX ERR: \t5285.946\n",
            "Fitting 4 folds for each of 64 candidates, totalling 256 fits\n"
          ],
          "name": "stdout"
        },
        {
          "output_type": "stream",
          "text": [
            "[Parallel(n_jobs=-1)]: Done 140 tasks      | elapsed:   10.4s\n",
            "[Parallel(n_jobs=-1)]: Done 256 out of 256 | elapsed:   20.0s finished\n",
            "[Parallel(n_jobs=-1)]: Using backend LokyBackend with 2 concurrent workers.\n"
          ],
          "name": "stderr"
        },
        {
          "output_type": "stream",
          "text": [
            "R2: \t\t0.829\n",
            "RMSE: \t\t208.841\n",
            "MAX ERR: \t585.909\n",
            "Fitting 4 folds for each of 64 candidates, totalling 256 fits\n"
          ],
          "name": "stdout"
        },
        {
          "output_type": "stream",
          "text": [
            "[Parallel(n_jobs=-1)]: Done 146 tasks      | elapsed:   10.5s\n",
            "[Parallel(n_jobs=-1)]: Done 256 out of 256 | elapsed:   20.0s finished\n"
          ],
          "name": "stderr"
        },
        {
          "output_type": "stream",
          "text": [
            "R2: \t\t0.651\n",
            "RMSE: \t\t289.842\n",
            "MAX ERR: \t895.022\n",
            "Fitting 4 folds for each of 64 candidates, totalling 256 fits\n"
          ],
          "name": "stdout"
        },
        {
          "output_type": "stream",
          "text": [
            "[Parallel(n_jobs=-1)]: Using backend LokyBackend with 2 concurrent workers.\n",
            "[Parallel(n_jobs=-1)]: Done 164 tasks      | elapsed:   10.6s\n",
            "[Parallel(n_jobs=-1)]: Done 256 out of 256 | elapsed:   18.9s finished\n",
            "[Parallel(n_jobs=-1)]: Using backend LokyBackend with 2 concurrent workers.\n"
          ],
          "name": "stderr"
        },
        {
          "output_type": "stream",
          "text": [
            "R2: \t\t0.983\n",
            "RMSE: \t\t518.227\n",
            "MAX ERR: \t1951.423\n",
            "Fitting 4 folds for each of 64 candidates, totalling 256 fits\n"
          ],
          "name": "stdout"
        },
        {
          "output_type": "stream",
          "text": [
            "[Parallel(n_jobs=-1)]: Done 164 tasks      | elapsed:   10.6s\n",
            "[Parallel(n_jobs=-1)]: Done 256 out of 256 | elapsed:   18.6s finished\n",
            "[Parallel(n_jobs=-1)]: Using backend LokyBackend with 2 concurrent workers.\n"
          ],
          "name": "stderr"
        },
        {
          "output_type": "stream",
          "text": [
            "R2: \t\t0.981\n",
            "RMSE: \t\t520.821\n",
            "MAX ERR: \t2614.877\n",
            "Fitting 4 folds for each of 64 candidates, totalling 256 fits\n"
          ],
          "name": "stdout"
        },
        {
          "output_type": "stream",
          "text": [
            "[Parallel(n_jobs=-1)]: Done 164 tasks      | elapsed:   10.5s\n",
            "[Parallel(n_jobs=-1)]: Done 256 out of 256 | elapsed:   18.7s finished\n",
            "[Parallel(n_jobs=-1)]: Using backend LokyBackend with 2 concurrent workers.\n"
          ],
          "name": "stderr"
        },
        {
          "output_type": "stream",
          "text": [
            "R2: \t\t0.981\n",
            "RMSE: \t\t56.264\n",
            "MAX ERR: \t179.796\n",
            "Fitting 4 folds for each of 64 candidates, totalling 256 fits\n"
          ],
          "name": "stdout"
        },
        {
          "output_type": "stream",
          "text": [
            "[Parallel(n_jobs=-1)]: Done 164 tasks      | elapsed:   10.5s\n",
            "[Parallel(n_jobs=-1)]: Done 256 out of 256 | elapsed:   18.7s finished\n",
            "[Parallel(n_jobs=-1)]: Using backend LokyBackend with 2 concurrent workers.\n"
          ],
          "name": "stderr"
        },
        {
          "output_type": "stream",
          "text": [
            "R2: \t\t0.966\n",
            "RMSE: \t\t72.565\n",
            "MAX ERR: \t262.422\n",
            "Fitting 4 folds for each of 64 candidates, totalling 256 fits\n"
          ],
          "name": "stdout"
        },
        {
          "output_type": "stream",
          "text": [
            "[Parallel(n_jobs=-1)]: Done 146 tasks      | elapsed:   10.0s\n",
            "[Parallel(n_jobs=-1)]: Done 256 out of 256 | elapsed:   18.8s finished\n",
            "[Parallel(n_jobs=-1)]: Using backend LokyBackend with 2 concurrent workers.\n"
          ],
          "name": "stderr"
        },
        {
          "output_type": "stream",
          "text": [
            "R2: \t\t0.994\n",
            "RMSE: \t\t346.257\n",
            "MAX ERR: \t1295.159\n",
            "Fitting 4 folds for each of 64 candidates, totalling 256 fits\n"
          ],
          "name": "stdout"
        },
        {
          "output_type": "stream",
          "text": [
            "[Parallel(n_jobs=-1)]: Done 164 tasks      | elapsed:   10.6s\n",
            "[Parallel(n_jobs=-1)]: Done 256 out of 256 | elapsed:   18.6s finished\n",
            "[Parallel(n_jobs=-1)]: Using backend LokyBackend with 2 concurrent workers.\n"
          ],
          "name": "stderr"
        },
        {
          "output_type": "stream",
          "text": [
            "R2: \t\t0.986\n",
            "RMSE: \t\t517.131\n",
            "MAX ERR: \t2263.905\n",
            "Fitting 4 folds for each of 64 candidates, totalling 256 fits\n"
          ],
          "name": "stdout"
        },
        {
          "output_type": "stream",
          "text": [
            "[Parallel(n_jobs=-1)]: Done 164 tasks      | elapsed:   10.7s\n",
            "[Parallel(n_jobs=-1)]: Done 256 out of 256 | elapsed:   18.9s finished\n",
            "[Parallel(n_jobs=-1)]: Using backend LokyBackend with 2 concurrent workers.\n"
          ],
          "name": "stderr"
        },
        {
          "output_type": "stream",
          "text": [
            "R2: \t\t0.982\n",
            "RMSE: \t\t584.907\n",
            "MAX ERR: \t2362.471\n",
            "Fitting 4 folds for each of 64 candidates, totalling 256 fits\n"
          ],
          "name": "stdout"
        },
        {
          "output_type": "stream",
          "text": [
            "[Parallel(n_jobs=-1)]: Done 164 tasks      | elapsed:   10.6s\n",
            "[Parallel(n_jobs=-1)]: Done 256 out of 256 | elapsed:   18.9s finished\n"
          ],
          "name": "stderr"
        },
        {
          "output_type": "stream",
          "text": [
            "R2: \t\t0.987\n",
            "RMSE: \t\t485.89\n",
            "MAX ERR: \t1932.72\n",
            "Fitting 4 folds for each of 64 candidates, totalling 256 fits\n"
          ],
          "name": "stdout"
        },
        {
          "output_type": "stream",
          "text": [
            "[Parallel(n_jobs=-1)]: Using backend LokyBackend with 2 concurrent workers.\n",
            "[Parallel(n_jobs=-1)]: Done 164 tasks      | elapsed:   10.6s\n",
            "[Parallel(n_jobs=-1)]: Done 256 out of 256 | elapsed:   18.6s finished\n",
            "[Parallel(n_jobs=-1)]: Using backend LokyBackend with 2 concurrent workers.\n"
          ],
          "name": "stderr"
        },
        {
          "output_type": "stream",
          "text": [
            "R2: \t\t0.998\n",
            "RMSE: \t\t1032.419\n",
            "MAX ERR: \t3428.077\n",
            "Fitting 4 folds for each of 64 candidates, totalling 256 fits\n"
          ],
          "name": "stdout"
        },
        {
          "output_type": "stream",
          "text": [
            "[Parallel(n_jobs=-1)]: Done 164 tasks      | elapsed:   10.3s\n",
            "[Parallel(n_jobs=-1)]: Done 256 out of 256 | elapsed:   18.2s finished\n",
            "[Parallel(n_jobs=-1)]: Using backend LokyBackend with 2 concurrent workers.\n"
          ],
          "name": "stderr"
        },
        {
          "output_type": "stream",
          "text": [
            "R2: \t\t0.997\n",
            "RMSE: \t\t1366.039\n",
            "MAX ERR: \t6253.782\n",
            "Fitting 4 folds for each of 64 candidates, totalling 256 fits\n"
          ],
          "name": "stdout"
        },
        {
          "output_type": "stream",
          "text": [
            "[Parallel(n_jobs=-1)]: Done 146 tasks      | elapsed:   10.5s\n",
            "[Parallel(n_jobs=-1)]: Done 256 out of 256 | elapsed:   19.9s finished\n"
          ],
          "name": "stderr"
        },
        {
          "output_type": "stream",
          "text": [
            "R2: \t\t0.841\n",
            "RMSE: \t\t201.618\n",
            "MAX ERR: \t692.824\n",
            "Fitting 4 folds for each of 64 candidates, totalling 256 fits\n"
          ],
          "name": "stdout"
        },
        {
          "output_type": "stream",
          "text": [
            "[Parallel(n_jobs=-1)]: Using backend LokyBackend with 2 concurrent workers.\n",
            "[Parallel(n_jobs=-1)]: Done 140 tasks      | elapsed:   10.5s\n",
            "[Parallel(n_jobs=-1)]: Done 253 out of 256 | elapsed:   20.1s remaining:    0.2s\n",
            "[Parallel(n_jobs=-1)]: Done 256 out of 256 | elapsed:   20.3s finished\n"
          ],
          "name": "stderr"
        },
        {
          "output_type": "stream",
          "text": [
            "R2: \t\t0.783\n",
            "RMSE: \t\t228.247\n",
            "MAX ERR: \t793.866\n",
            "Fitting 4 folds for each of 64 candidates, totalling 256 fits\n"
          ],
          "name": "stdout"
        },
        {
          "output_type": "stream",
          "text": [
            "[Parallel(n_jobs=-1)]: Using backend LokyBackend with 2 concurrent workers.\n",
            "[Parallel(n_jobs=-1)]: Done 164 tasks      | elapsed:   10.7s\n",
            "[Parallel(n_jobs=-1)]: Done 256 out of 256 | elapsed:   18.8s finished\n",
            "[Parallel(n_jobs=-1)]: Using backend LokyBackend with 2 concurrent workers.\n"
          ],
          "name": "stderr"
        },
        {
          "output_type": "stream",
          "text": [
            "R2: \t\t0.964\n",
            "RMSE: \t\t750.121\n",
            "MAX ERR: \t2738.217\n",
            "Fitting 4 folds for each of 64 candidates, totalling 256 fits\n"
          ],
          "name": "stdout"
        },
        {
          "output_type": "stream",
          "text": [
            "[Parallel(n_jobs=-1)]: Done 164 tasks      | elapsed:   10.7s\n",
            "[Parallel(n_jobs=-1)]: Done 256 out of 256 | elapsed:   18.8s finished\n",
            "[Parallel(n_jobs=-1)]: Using backend LokyBackend with 2 concurrent workers.\n"
          ],
          "name": "stderr"
        },
        {
          "output_type": "stream",
          "text": [
            "R2: \t\t0.979\n",
            "RMSE: \t\t555.388\n",
            "MAX ERR: \t2166.526\n",
            "Fitting 4 folds for each of 64 candidates, totalling 256 fits\n"
          ],
          "name": "stdout"
        },
        {
          "output_type": "stream",
          "text": [
            "[Parallel(n_jobs=-1)]: Done 164 tasks      | elapsed:   10.7s\n",
            "[Parallel(n_jobs=-1)]: Done 256 out of 256 | elapsed:   19.0s finished\n",
            "[Parallel(n_jobs=-1)]: Using backend LokyBackend with 2 concurrent workers.\n"
          ],
          "name": "stderr"
        },
        {
          "output_type": "stream",
          "text": [
            "R2: \t\t0.984\n",
            "RMSE: \t\t51.156\n",
            "MAX ERR: \t226.685\n",
            "Fitting 4 folds for each of 64 candidates, totalling 256 fits\n"
          ],
          "name": "stdout"
        },
        {
          "output_type": "stream",
          "text": [
            "[Parallel(n_jobs=-1)]: Done 164 tasks      | elapsed:   10.7s\n",
            "[Parallel(n_jobs=-1)]: Done 256 out of 256 | elapsed:   19.0s finished\n",
            "[Parallel(n_jobs=-1)]: Using backend LokyBackend with 2 concurrent workers.\n"
          ],
          "name": "stderr"
        },
        {
          "output_type": "stream",
          "text": [
            "R2: \t\t0.979\n",
            "RMSE: \t\t56.748\n",
            "MAX ERR: \t248.417\n",
            "Fitting 4 folds for each of 64 candidates, totalling 256 fits\n"
          ],
          "name": "stdout"
        },
        {
          "output_type": "stream",
          "text": [
            "[Parallel(n_jobs=-1)]: Done 164 tasks      | elapsed:   10.7s\n",
            "[Parallel(n_jobs=-1)]: Done 256 out of 256 | elapsed:   18.9s finished\n",
            "[Parallel(n_jobs=-1)]: Using backend LokyBackend with 2 concurrent workers.\n"
          ],
          "name": "stderr"
        },
        {
          "output_type": "stream",
          "text": [
            "R2: \t\t0.994\n",
            "RMSE: \t\t352.233\n",
            "MAX ERR: \t1225.051\n",
            "Fitting 4 folds for each of 64 candidates, totalling 256 fits\n"
          ],
          "name": "stdout"
        },
        {
          "output_type": "stream",
          "text": [
            "[Parallel(n_jobs=-1)]: Done 146 tasks      | elapsed:   10.0s\n",
            "[Parallel(n_jobs=-1)]: Done 256 out of 256 | elapsed:   18.9s finished\n",
            "[Parallel(n_jobs=-1)]: Using backend LokyBackend with 2 concurrent workers.\n"
          ],
          "name": "stderr"
        },
        {
          "output_type": "stream",
          "text": [
            "R2: \t\t0.995\n",
            "RMSE: \t\t322.13\n",
            "MAX ERR: \t1669.517\n",
            "Fitting 4 folds for each of 64 candidates, totalling 256 fits\n"
          ],
          "name": "stdout"
        },
        {
          "output_type": "stream",
          "text": [
            "[Parallel(n_jobs=-1)]: Done 164 tasks      | elapsed:   10.4s\n",
            "[Parallel(n_jobs=-1)]: Done 256 out of 256 | elapsed:   18.5s finished\n",
            "[Parallel(n_jobs=-1)]: Using backend LokyBackend with 2 concurrent workers.\n"
          ],
          "name": "stderr"
        },
        {
          "output_type": "stream",
          "text": [
            "R2: \t\t0.968\n",
            "RMSE: \t\t773.01\n",
            "MAX ERR: \t2719.43\n",
            "Fitting 4 folds for each of 64 candidates, totalling 256 fits\n"
          ],
          "name": "stdout"
        },
        {
          "output_type": "stream",
          "text": [
            "[Parallel(n_jobs=-1)]: Done 164 tasks      | elapsed:   10.6s\n",
            "[Parallel(n_jobs=-1)]: Done 256 out of 256 | elapsed:   18.7s finished\n",
            "[Parallel(n_jobs=-1)]: Using backend LokyBackend with 2 concurrent workers.\n"
          ],
          "name": "stderr"
        },
        {
          "output_type": "stream",
          "text": [
            "R2: \t\t0.978\n",
            "RMSE: \t\t621.574\n",
            "MAX ERR: \t2291.546\n",
            "Fitting 4 folds for each of 64 candidates, totalling 256 fits\n"
          ],
          "name": "stdout"
        },
        {
          "output_type": "stream",
          "text": [
            "[Parallel(n_jobs=-1)]: Done 164 tasks      | elapsed:   10.4s\n",
            "[Parallel(n_jobs=-1)]: Done 256 out of 256 | elapsed:   18.4s finished\n",
            "[Parallel(n_jobs=-1)]: Using backend LokyBackend with 2 concurrent workers.\n"
          ],
          "name": "stderr"
        },
        {
          "output_type": "stream",
          "text": [
            "R2: \t\t0.984\n",
            "RMSE: \t\t2978.897\n",
            "MAX ERR: \t16157.798\n",
            "Fitting 4 folds for each of 64 candidates, totalling 256 fits\n"
          ],
          "name": "stdout"
        },
        {
          "output_type": "stream",
          "text": [
            "[Parallel(n_jobs=-1)]: Done 164 tasks      | elapsed:   10.3s\n",
            "[Parallel(n_jobs=-1)]: Done 256 out of 256 | elapsed:   18.3s finished\n",
            "[Parallel(n_jobs=-1)]: Using backend LokyBackend with 2 concurrent workers.\n"
          ],
          "name": "stderr"
        },
        {
          "output_type": "stream",
          "text": [
            "R2: \t\t0.994\n",
            "RMSE: \t\t1852.649\n",
            "MAX ERR: \t6130.053\n",
            "Fitting 4 folds for each of 64 candidates, totalling 256 fits\n"
          ],
          "name": "stdout"
        },
        {
          "output_type": "stream",
          "text": [
            "[Parallel(n_jobs=-1)]: Done 146 tasks      | elapsed:   10.4s\n",
            "[Parallel(n_jobs=-1)]: Done 256 out of 256 | elapsed:   19.8s finished\n",
            "[Parallel(n_jobs=-1)]: Using backend LokyBackend with 2 concurrent workers.\n"
          ],
          "name": "stderr"
        },
        {
          "output_type": "stream",
          "text": [
            "R2: \t\t0.874\n",
            "RMSE: \t\t179.708\n",
            "MAX ERR: \t556.079\n",
            "Fitting 4 folds for each of 64 candidates, totalling 256 fits\n"
          ],
          "name": "stdout"
        },
        {
          "output_type": "stream",
          "text": [
            "[Parallel(n_jobs=-1)]: Done 146 tasks      | elapsed:   10.4s\n",
            "[Parallel(n_jobs=-1)]: Done 256 out of 256 | elapsed:   20.0s finished\n",
            "[Parallel(n_jobs=-1)]: Using backend LokyBackend with 2 concurrent workers.\n"
          ],
          "name": "stderr"
        },
        {
          "output_type": "stream",
          "text": [
            "R2: \t\t0.695\n",
            "RMSE: \t\t270.845\n",
            "MAX ERR: \t1103.092\n",
            "Fitting 4 folds for each of 64 candidates, totalling 256 fits\n"
          ],
          "name": "stdout"
        },
        {
          "output_type": "stream",
          "text": [
            "[Parallel(n_jobs=-1)]: Done 146 tasks      | elapsed:   10.0s\n",
            "[Parallel(n_jobs=-1)]: Done 256 out of 256 | elapsed:   18.9s finished\n",
            "[Parallel(n_jobs=-1)]: Using backend LokyBackend with 2 concurrent workers.\n"
          ],
          "name": "stderr"
        },
        {
          "output_type": "stream",
          "text": [
            "R2: \t\t0.98\n",
            "RMSE: \t\t559.493\n",
            "MAX ERR: \t1892.041\n",
            "Fitting 4 folds for each of 64 candidates, totalling 256 fits\n"
          ],
          "name": "stdout"
        },
        {
          "output_type": "stream",
          "text": [
            "[Parallel(n_jobs=-1)]: Done 164 tasks      | elapsed:   10.7s\n",
            "[Parallel(n_jobs=-1)]: Done 256 out of 256 | elapsed:   18.8s finished\n",
            "[Parallel(n_jobs=-1)]: Using backend LokyBackend with 2 concurrent workers.\n"
          ],
          "name": "stderr"
        },
        {
          "output_type": "stream",
          "text": [
            "R2: \t\t0.967\n",
            "RMSE: \t\t697.991\n",
            "MAX ERR: \t3582.005\n",
            "Fitting 4 folds for each of 64 candidates, totalling 256 fits\n"
          ],
          "name": "stdout"
        },
        {
          "output_type": "stream",
          "text": [
            "[Parallel(n_jobs=-1)]: Done 164 tasks      | elapsed:   10.6s\n",
            "[Parallel(n_jobs=-1)]: Done 256 out of 256 | elapsed:   19.0s finished\n",
            "[Parallel(n_jobs=-1)]: Using backend LokyBackend with 2 concurrent workers.\n"
          ],
          "name": "stderr"
        },
        {
          "output_type": "stream",
          "text": [
            "R2: \t\t0.975\n",
            "RMSE: \t\t64.049\n",
            "MAX ERR: \t316.986\n",
            "Fitting 4 folds for each of 64 candidates, totalling 256 fits\n"
          ],
          "name": "stdout"
        },
        {
          "output_type": "stream",
          "text": [
            "[Parallel(n_jobs=-1)]: Done 164 tasks      | elapsed:   10.6s\n",
            "[Parallel(n_jobs=-1)]: Done 256 out of 256 | elapsed:   18.9s finished\n",
            "[Parallel(n_jobs=-1)]: Using backend LokyBackend with 2 concurrent workers.\n"
          ],
          "name": "stderr"
        },
        {
          "output_type": "stream",
          "text": [
            "R2: \t\t0.972\n",
            "RMSE: \t\t66.779\n",
            "MAX ERR: \t268.945\n",
            "Fitting 4 folds for each of 64 candidates, totalling 256 fits\n"
          ],
          "name": "stdout"
        },
        {
          "output_type": "stream",
          "text": [
            "[Parallel(n_jobs=-1)]: Done 164 tasks      | elapsed:   10.6s\n",
            "[Parallel(n_jobs=-1)]: Done 256 out of 256 | elapsed:   18.9s finished\n",
            "[Parallel(n_jobs=-1)]: Using backend LokyBackend with 2 concurrent workers.\n"
          ],
          "name": "stderr"
        },
        {
          "output_type": "stream",
          "text": [
            "R2: \t\t0.995\n",
            "RMSE: \t\t305.542\n",
            "MAX ERR: \t1000.83\n",
            "Fitting 4 folds for each of 64 candidates, totalling 256 fits\n"
          ],
          "name": "stdout"
        },
        {
          "output_type": "stream",
          "text": [
            "[Parallel(n_jobs=-1)]: Done  88 tasks      | elapsed:    4.7s\n",
            "[Parallel(n_jobs=-1)]: Done 256 out of 256 | elapsed:   19.3s finished\n",
            "[Parallel(n_jobs=-1)]: Using backend LokyBackend with 2 concurrent workers.\n"
          ],
          "name": "stderr"
        },
        {
          "output_type": "stream",
          "text": [
            "R2: \t\t0.993\n",
            "RMSE: \t\t362.729\n",
            "MAX ERR: \t1213.626\n",
            "Fitting 4 folds for each of 64 candidates, totalling 256 fits\n"
          ],
          "name": "stdout"
        },
        {
          "output_type": "stream",
          "text": [
            "[Parallel(n_jobs=-1)]: Done 164 tasks      | elapsed:   10.7s\n",
            "[Parallel(n_jobs=-1)]: Done 256 out of 256 | elapsed:   18.8s finished\n",
            "[Parallel(n_jobs=-1)]: Using backend LokyBackend with 2 concurrent workers.\n"
          ],
          "name": "stderr"
        },
        {
          "output_type": "stream",
          "text": [
            "R2: \t\t0.969\n",
            "RMSE: \t\t768.708\n",
            "MAX ERR: \t3625.8\n",
            "Fitting 4 folds for each of 64 candidates, totalling 256 fits\n"
          ],
          "name": "stdout"
        },
        {
          "output_type": "stream",
          "text": [
            "[Parallel(n_jobs=-1)]: Done 164 tasks      | elapsed:   10.5s\n",
            "[Parallel(n_jobs=-1)]: Done 256 out of 256 | elapsed:   18.6s finished\n",
            "[Parallel(n_jobs=-1)]: Using backend LokyBackend with 2 concurrent workers.\n"
          ],
          "name": "stderr"
        },
        {
          "output_type": "stream",
          "text": [
            "R2: \t\t0.956\n",
            "RMSE: \t\t878.954\n",
            "MAX ERR: \t4330.659\n",
            "Fitting 4 folds for each of 64 candidates, totalling 256 fits\n"
          ],
          "name": "stdout"
        },
        {
          "output_type": "stream",
          "text": [
            "[Parallel(n_jobs=-1)]: Done 164 tasks      | elapsed:   10.4s\n",
            "[Parallel(n_jobs=-1)]: Done 256 out of 256 | elapsed:   18.3s finished\n",
            "[Parallel(n_jobs=-1)]: Using backend LokyBackend with 2 concurrent workers.\n"
          ],
          "name": "stderr"
        },
        {
          "output_type": "stream",
          "text": [
            "R2: \t\t0.998\n",
            "RMSE: \t\t1055.981\n",
            "MAX ERR: \t2979.883\n",
            "Fitting 4 folds for each of 64 candidates, totalling 256 fits\n"
          ],
          "name": "stdout"
        },
        {
          "output_type": "stream",
          "text": [
            "[Parallel(n_jobs=-1)]: Done 164 tasks      | elapsed:   10.4s\n",
            "[Parallel(n_jobs=-1)]: Done 256 out of 256 | elapsed:   18.4s finished\n",
            "[Parallel(n_jobs=-1)]: Using backend LokyBackend with 2 concurrent workers.\n"
          ],
          "name": "stderr"
        },
        {
          "output_type": "stream",
          "text": [
            "R2: \t\t0.992\n",
            "RMSE: \t\t2132.511\n",
            "MAX ERR: \t6869.747\n",
            "Fitting 4 folds for each of 64 candidates, totalling 256 fits\n"
          ],
          "name": "stdout"
        },
        {
          "output_type": "stream",
          "text": [
            "[Parallel(n_jobs=-1)]: Done 140 tasks      | elapsed:   10.4s\n",
            "[Parallel(n_jobs=-1)]: Done 256 out of 256 | elapsed:   20.3s finished\n"
          ],
          "name": "stderr"
        },
        {
          "output_type": "stream",
          "text": [
            "R2: \t\t0.91\n",
            "RMSE: \t\t151.423\n",
            "MAX ERR: \t356.763\n",
            "Fitting 4 folds for each of 64 candidates, totalling 256 fits\n"
          ],
          "name": "stdout"
        },
        {
          "output_type": "stream",
          "text": [
            "[Parallel(n_jobs=-1)]: Using backend LokyBackend with 2 concurrent workers.\n",
            "[Parallel(n_jobs=-1)]: Done 146 tasks      | elapsed:   10.2s\n",
            "[Parallel(n_jobs=-1)]: Done 256 out of 256 | elapsed:   19.6s finished\n",
            "[Parallel(n_jobs=-1)]: Using backend LokyBackend with 2 concurrent workers.\n"
          ],
          "name": "stderr"
        },
        {
          "output_type": "stream",
          "text": [
            "R2: \t\t0.81\n",
            "RMSE: \t\t213.754\n",
            "MAX ERR: \t672.091\n",
            "Fitting 4 folds for each of 64 candidates, totalling 256 fits\n"
          ],
          "name": "stdout"
        },
        {
          "output_type": "stream",
          "text": [
            "[Parallel(n_jobs=-1)]: Done 164 tasks      | elapsed:   10.7s\n",
            "[Parallel(n_jobs=-1)]: Done 256 out of 256 | elapsed:   18.8s finished\n",
            "[Parallel(n_jobs=-1)]: Using backend LokyBackend with 2 concurrent workers.\n"
          ],
          "name": "stderr"
        },
        {
          "output_type": "stream",
          "text": [
            "R2: \t\t0.985\n",
            "RMSE: \t\t488.015\n",
            "MAX ERR: \t1335.128\n",
            "Fitting 4 folds for each of 64 candidates, totalling 256 fits\n"
          ],
          "name": "stdout"
        },
        {
          "output_type": "stream",
          "text": [
            "[Parallel(n_jobs=-1)]: Done 146 tasks      | elapsed:   10.0s\n",
            "[Parallel(n_jobs=-1)]: Done 256 out of 256 | elapsed:   19.1s finished\n",
            "[Parallel(n_jobs=-1)]: Using backend LokyBackend with 2 concurrent workers.\n"
          ],
          "name": "stderr"
        },
        {
          "output_type": "stream",
          "text": [
            "R2: \t\t0.974\n",
            "RMSE: \t\t613.559\n",
            "MAX ERR: \t2038.091\n",
            "Fitting 4 folds for each of 64 candidates, totalling 256 fits\n"
          ],
          "name": "stdout"
        },
        {
          "output_type": "stream",
          "text": [
            "[Parallel(n_jobs=-1)]: Done 164 tasks      | elapsed:   10.6s\n",
            "[Parallel(n_jobs=-1)]: Done 256 out of 256 | elapsed:   18.7s finished\n",
            "[Parallel(n_jobs=-1)]: Using backend LokyBackend with 2 concurrent workers.\n"
          ],
          "name": "stderr"
        },
        {
          "output_type": "stream",
          "text": [
            "R2: \t\t0.984\n",
            "RMSE: \t\t51.812\n",
            "MAX ERR: \t155.446\n",
            "Fitting 4 folds for each of 64 candidates, totalling 256 fits\n"
          ],
          "name": "stdout"
        },
        {
          "output_type": "stream",
          "text": [
            "[Parallel(n_jobs=-1)]: Done 164 tasks      | elapsed:   10.6s\n",
            "[Parallel(n_jobs=-1)]: Done 256 out of 256 | elapsed:   18.7s finished\n",
            "[Parallel(n_jobs=-1)]: Using backend LokyBackend with 2 concurrent workers.\n"
          ],
          "name": "stderr"
        },
        {
          "output_type": "stream",
          "text": [
            "R2: \t\t0.984\n",
            "RMSE: \t\t50.268\n",
            "MAX ERR: \t155.845\n",
            "Fitting 4 folds for each of 64 candidates, totalling 256 fits\n"
          ],
          "name": "stdout"
        },
        {
          "output_type": "stream",
          "text": [
            "[Parallel(n_jobs=-1)]: Done 146 tasks      | elapsed:   10.0s\n",
            "[Parallel(n_jobs=-1)]: Done 256 out of 256 | elapsed:   19.0s finished\n",
            "[Parallel(n_jobs=-1)]: Using backend LokyBackend with 2 concurrent workers.\n"
          ],
          "name": "stderr"
        },
        {
          "output_type": "stream",
          "text": [
            "R2: \t\t0.996\n",
            "RMSE: \t\t303.698\n",
            "MAX ERR: \t1034.996\n",
            "Fitting 4 folds for each of 64 candidates, totalling 256 fits\n"
          ],
          "name": "stdout"
        },
        {
          "output_type": "stream",
          "text": [
            "[Parallel(n_jobs=-1)]: Done 146 tasks      | elapsed:   10.0s\n",
            "[Parallel(n_jobs=-1)]: Done 256 out of 256 | elapsed:   19.1s finished\n",
            "[Parallel(n_jobs=-1)]: Using backend LokyBackend with 2 concurrent workers.\n"
          ],
          "name": "stderr"
        },
        {
          "output_type": "stream",
          "text": [
            "R2: \t\t0.997\n",
            "RMSE: \t\t224.167\n",
            "MAX ERR: \t736.301\n",
            "Fitting 4 folds for each of 64 candidates, totalling 256 fits\n"
          ],
          "name": "stdout"
        },
        {
          "output_type": "stream",
          "text": [
            "[Parallel(n_jobs=-1)]: Done 164 tasks      | elapsed:   10.7s\n",
            "[Parallel(n_jobs=-1)]: Done 256 out of 256 | elapsed:   18.8s finished\n",
            "[Parallel(n_jobs=-1)]: Using backend LokyBackend with 2 concurrent workers.\n"
          ],
          "name": "stderr"
        },
        {
          "output_type": "stream",
          "text": [
            "R2: \t\t0.986\n",
            "RMSE: \t\t506.336\n",
            "MAX ERR: \t1242.308\n",
            "Fitting 4 folds for each of 64 candidates, totalling 256 fits\n"
          ],
          "name": "stdout"
        },
        {
          "output_type": "stream",
          "text": [
            "[Parallel(n_jobs=-1)]: Done 164 tasks      | elapsed:   10.6s\n",
            "[Parallel(n_jobs=-1)]: Done 256 out of 256 | elapsed:   18.7s finished\n",
            "[Parallel(n_jobs=-1)]: Using backend LokyBackend with 2 concurrent workers.\n"
          ],
          "name": "stderr"
        },
        {
          "output_type": "stream",
          "text": [
            "R2: \t\t0.984\n",
            "RMSE: \t\t527.492\n",
            "MAX ERR: \t1645.987\n",
            "Fitting 4 folds for each of 64 candidates, totalling 256 fits\n"
          ],
          "name": "stdout"
        },
        {
          "output_type": "stream",
          "text": [
            "[Parallel(n_jobs=-1)]: Done 164 tasks      | elapsed:   10.5s\n",
            "[Parallel(n_jobs=-1)]: Done 256 out of 256 | elapsed:   18.7s finished\n",
            "[Parallel(n_jobs=-1)]: Using backend LokyBackend with 2 concurrent workers.\n"
          ],
          "name": "stderr"
        },
        {
          "output_type": "stream",
          "text": [
            "R2: \t\t0.995\n",
            "RMSE: \t\t1727.643\n",
            "MAX ERR: \t6104.345\n",
            "Fitting 4 folds for each of 64 candidates, totalling 256 fits\n"
          ],
          "name": "stdout"
        },
        {
          "output_type": "stream",
          "text": [
            "[Parallel(n_jobs=-1)]: Done 164 tasks      | elapsed:   10.5s\n",
            "[Parallel(n_jobs=-1)]: Done 256 out of 256 | elapsed:   18.6s finished\n",
            "[Parallel(n_jobs=-1)]: Using backend LokyBackend with 2 concurrent workers.\n"
          ],
          "name": "stderr"
        },
        {
          "output_type": "stream",
          "text": [
            "R2: \t\t0.995\n",
            "RMSE: \t\t1684.292\n",
            "MAX ERR: \t6430.029\n",
            "Fitting 4 folds for each of 64 candidates, totalling 256 fits\n"
          ],
          "name": "stdout"
        },
        {
          "output_type": "stream",
          "text": [
            "[Parallel(n_jobs=-1)]: Done 146 tasks      | elapsed:   10.4s\n",
            "[Parallel(n_jobs=-1)]: Done 256 out of 256 | elapsed:   19.8s finished\n"
          ],
          "name": "stderr"
        },
        {
          "output_type": "stream",
          "text": [
            "R2: \t\t0.841\n",
            "RMSE: \t\t201.618\n",
            "MAX ERR: \t692.824\n",
            "Fitting 4 folds for each of 64 candidates, totalling 256 fits\n"
          ],
          "name": "stdout"
        },
        {
          "output_type": "stream",
          "text": [
            "[Parallel(n_jobs=-1)]: Using backend LokyBackend with 2 concurrent workers.\n",
            "[Parallel(n_jobs=-1)]: Done 140 tasks      | elapsed:   10.4s\n",
            "[Parallel(n_jobs=-1)]: Done 256 out of 256 | elapsed:   20.2s finished\n"
          ],
          "name": "stderr"
        },
        {
          "output_type": "stream",
          "text": [
            "R2: \t\t0.783\n",
            "RMSE: \t\t228.247\n",
            "MAX ERR: \t793.866\n",
            "Fitting 4 folds for each of 64 candidates, totalling 256 fits\n"
          ],
          "name": "stdout"
        },
        {
          "output_type": "stream",
          "text": [
            "[Parallel(n_jobs=-1)]: Using backend LokyBackend with 2 concurrent workers.\n",
            "[Parallel(n_jobs=-1)]: Done 164 tasks      | elapsed:   10.6s\n",
            "[Parallel(n_jobs=-1)]: Done 256 out of 256 | elapsed:   18.7s finished\n",
            "[Parallel(n_jobs=-1)]: Using backend LokyBackend with 2 concurrent workers.\n"
          ],
          "name": "stderr"
        },
        {
          "output_type": "stream",
          "text": [
            "R2: \t\t0.964\n",
            "RMSE: \t\t750.121\n",
            "MAX ERR: \t2738.217\n",
            "Fitting 4 folds for each of 64 candidates, totalling 256 fits\n"
          ],
          "name": "stdout"
        },
        {
          "output_type": "stream",
          "text": [
            "[Parallel(n_jobs=-1)]: Done 164 tasks      | elapsed:   10.6s\n",
            "[Parallel(n_jobs=-1)]: Done 256 out of 256 | elapsed:   18.7s finished\n",
            "[Parallel(n_jobs=-1)]: Using backend LokyBackend with 2 concurrent workers.\n"
          ],
          "name": "stderr"
        },
        {
          "output_type": "stream",
          "text": [
            "R2: \t\t0.979\n",
            "RMSE: \t\t555.388\n",
            "MAX ERR: \t2166.526\n",
            "Fitting 4 folds for each of 64 candidates, totalling 256 fits\n"
          ],
          "name": "stdout"
        },
        {
          "output_type": "stream",
          "text": [
            "[Parallel(n_jobs=-1)]: Done 164 tasks      | elapsed:   10.6s\n",
            "[Parallel(n_jobs=-1)]: Done 256 out of 256 | elapsed:   18.8s finished\n",
            "[Parallel(n_jobs=-1)]: Using backend LokyBackend with 2 concurrent workers.\n"
          ],
          "name": "stderr"
        },
        {
          "output_type": "stream",
          "text": [
            "R2: \t\t0.984\n",
            "RMSE: \t\t51.156\n",
            "MAX ERR: \t226.685\n",
            "Fitting 4 folds for each of 64 candidates, totalling 256 fits\n"
          ],
          "name": "stdout"
        },
        {
          "output_type": "stream",
          "text": [
            "[Parallel(n_jobs=-1)]: Done 146 tasks      | elapsed:   10.0s\n",
            "[Parallel(n_jobs=-1)]: Done 256 out of 256 | elapsed:   19.0s finished\n",
            "[Parallel(n_jobs=-1)]: Using backend LokyBackend with 2 concurrent workers.\n"
          ],
          "name": "stderr"
        },
        {
          "output_type": "stream",
          "text": [
            "R2: \t\t0.979\n",
            "RMSE: \t\t56.748\n",
            "MAX ERR: \t248.417\n",
            "Fitting 4 folds for each of 64 candidates, totalling 256 fits\n"
          ],
          "name": "stdout"
        },
        {
          "output_type": "stream",
          "text": [
            "[Parallel(n_jobs=-1)]: Done 164 tasks      | elapsed:   10.6s\n",
            "[Parallel(n_jobs=-1)]: Done 256 out of 256 | elapsed:   18.9s finished\n",
            "[Parallel(n_jobs=-1)]: Using backend LokyBackend with 2 concurrent workers.\n"
          ],
          "name": "stderr"
        },
        {
          "output_type": "stream",
          "text": [
            "R2: \t\t0.994\n",
            "RMSE: \t\t352.233\n",
            "MAX ERR: \t1225.051\n",
            "Fitting 4 folds for each of 64 candidates, totalling 256 fits\n"
          ],
          "name": "stdout"
        },
        {
          "output_type": "stream",
          "text": [
            "[Parallel(n_jobs=-1)]: Done 164 tasks      | elapsed:   10.6s\n",
            "[Parallel(n_jobs=-1)]: Done 256 out of 256 | elapsed:   18.9s finished\n",
            "[Parallel(n_jobs=-1)]: Using backend LokyBackend with 2 concurrent workers.\n"
          ],
          "name": "stderr"
        },
        {
          "output_type": "stream",
          "text": [
            "R2: \t\t0.995\n",
            "RMSE: \t\t322.13\n",
            "MAX ERR: \t1669.517\n",
            "Fitting 4 folds for each of 64 candidates, totalling 256 fits\n"
          ],
          "name": "stdout"
        },
        {
          "output_type": "stream",
          "text": [
            "[Parallel(n_jobs=-1)]: Done 164 tasks      | elapsed:   10.5s\n",
            "[Parallel(n_jobs=-1)]: Done 256 out of 256 | elapsed:   18.5s finished\n",
            "[Parallel(n_jobs=-1)]: Using backend LokyBackend with 2 concurrent workers.\n"
          ],
          "name": "stderr"
        },
        {
          "output_type": "stream",
          "text": [
            "R2: \t\t0.968\n",
            "RMSE: \t\t773.01\n",
            "MAX ERR: \t2719.43\n",
            "Fitting 4 folds for each of 64 candidates, totalling 256 fits\n"
          ],
          "name": "stdout"
        },
        {
          "output_type": "stream",
          "text": [
            "[Parallel(n_jobs=-1)]: Done 164 tasks      | elapsed:   10.6s\n",
            "[Parallel(n_jobs=-1)]: Done 256 out of 256 | elapsed:   18.7s finished\n",
            "[Parallel(n_jobs=-1)]: Using backend LokyBackend with 2 concurrent workers.\n"
          ],
          "name": "stderr"
        },
        {
          "output_type": "stream",
          "text": [
            "R2: \t\t0.978\n",
            "RMSE: \t\t621.574\n",
            "MAX ERR: \t2291.546\n",
            "Fitting 4 folds for each of 64 candidates, totalling 256 fits\n"
          ],
          "name": "stdout"
        },
        {
          "output_type": "stream",
          "text": [
            "[Parallel(n_jobs=-1)]: Done 164 tasks      | elapsed:   10.4s\n",
            "[Parallel(n_jobs=-1)]: Done 256 out of 256 | elapsed:   18.3s finished\n",
            "[Parallel(n_jobs=-1)]: Using backend LokyBackend with 2 concurrent workers.\n"
          ],
          "name": "stderr"
        },
        {
          "output_type": "stream",
          "text": [
            "R2: \t\t0.984\n",
            "RMSE: \t\t2978.897\n",
            "MAX ERR: \t16157.798\n",
            "Fitting 4 folds for each of 64 candidates, totalling 256 fits\n"
          ],
          "name": "stdout"
        },
        {
          "output_type": "stream",
          "text": [
            "[Parallel(n_jobs=-1)]: Done 164 tasks      | elapsed:   10.4s\n",
            "[Parallel(n_jobs=-1)]: Done 256 out of 256 | elapsed:   18.2s finished\n",
            "[Parallel(n_jobs=-1)]: Using backend LokyBackend with 2 concurrent workers.\n"
          ],
          "name": "stderr"
        },
        {
          "output_type": "stream",
          "text": [
            "R2: \t\t0.994\n",
            "RMSE: \t\t1852.649\n",
            "MAX ERR: \t6130.053\n",
            "Fitting 4 folds for each of 64 candidates, totalling 256 fits\n"
          ],
          "name": "stdout"
        },
        {
          "output_type": "stream",
          "text": [
            "[Parallel(n_jobs=-1)]: Done 146 tasks      | elapsed:   10.4s\n",
            "[Parallel(n_jobs=-1)]: Done 256 out of 256 | elapsed:   20.0s finished\n",
            "[Parallel(n_jobs=-1)]: Using backend LokyBackend with 2 concurrent workers.\n"
          ],
          "name": "stderr"
        },
        {
          "output_type": "stream",
          "text": [
            "R2: \t\t0.904\n",
            "RMSE: \t\t156.246\n",
            "MAX ERR: \t409.734\n",
            "Fitting 4 folds for each of 64 candidates, totalling 256 fits\n"
          ],
          "name": "stdout"
        },
        {
          "output_type": "stream",
          "text": [
            "[Parallel(n_jobs=-1)]: Done 140 tasks      | elapsed:   10.3s\n",
            "[Parallel(n_jobs=-1)]: Done 256 out of 256 | elapsed:   19.9s finished\n",
            "[Parallel(n_jobs=-1)]: Using backend LokyBackend with 2 concurrent workers.\n"
          ],
          "name": "stderr"
        },
        {
          "output_type": "stream",
          "text": [
            "R2: \t\t0.851\n",
            "RMSE: \t\t189.585\n",
            "MAX ERR: \t499.245\n",
            "Fitting 4 folds for each of 64 candidates, totalling 256 fits\n"
          ],
          "name": "stdout"
        },
        {
          "output_type": "stream",
          "text": [
            "[Parallel(n_jobs=-1)]: Done 164 tasks      | elapsed:   10.7s\n",
            "[Parallel(n_jobs=-1)]: Done 256 out of 256 | elapsed:   18.9s finished\n"
          ],
          "name": "stderr"
        },
        {
          "output_type": "stream",
          "text": [
            "R2: \t\t0.98\n",
            "RMSE: \t\t563.821\n",
            "MAX ERR: \t1943.645\n",
            "Fitting 4 folds for each of 64 candidates, totalling 256 fits\n"
          ],
          "name": "stdout"
        },
        {
          "output_type": "stream",
          "text": [
            "[Parallel(n_jobs=-1)]: Using backend LokyBackend with 2 concurrent workers.\n",
            "[Parallel(n_jobs=-1)]: Done 164 tasks      | elapsed:   10.7s\n",
            "[Parallel(n_jobs=-1)]: Done 256 out of 256 | elapsed:   18.8s finished\n",
            "[Parallel(n_jobs=-1)]: Using backend LokyBackend with 2 concurrent workers.\n"
          ],
          "name": "stderr"
        },
        {
          "output_type": "stream",
          "text": [
            "R2: \t\t0.99\n",
            "RMSE: \t\t379.117\n",
            "MAX ERR: \t1263.004\n",
            "Fitting 4 folds for each of 64 candidates, totalling 256 fits\n"
          ],
          "name": "stdout"
        },
        {
          "output_type": "stream",
          "text": [
            "[Parallel(n_jobs=-1)]: Done 164 tasks      | elapsed:   10.7s\n",
            "[Parallel(n_jobs=-1)]: Done 256 out of 256 | elapsed:   18.9s finished\n"
          ],
          "name": "stderr"
        },
        {
          "output_type": "stream",
          "text": [
            "R2: \t\t0.982\n",
            "RMSE: \t\t53.774\n",
            "MAX ERR: \t142.273\n",
            "Fitting 4 folds for each of 64 candidates, totalling 256 fits\n"
          ],
          "name": "stdout"
        },
        {
          "output_type": "stream",
          "text": [
            "[Parallel(n_jobs=-1)]: Using backend LokyBackend with 2 concurrent workers.\n",
            "[Parallel(n_jobs=-1)]: Done 164 tasks      | elapsed:   10.6s\n",
            "[Parallel(n_jobs=-1)]: Done 256 out of 256 | elapsed:   18.8s finished\n"
          ],
          "name": "stderr"
        },
        {
          "output_type": "stream",
          "text": [
            "R2: \t\t0.987\n",
            "RMSE: \t\t45.283\n",
            "MAX ERR: \t139.884\n",
            "Fitting 4 folds for each of 64 candidates, totalling 256 fits\n"
          ],
          "name": "stdout"
        },
        {
          "output_type": "stream",
          "text": [
            "[Parallel(n_jobs=-1)]: Using backend LokyBackend with 2 concurrent workers.\n",
            "[Parallel(n_jobs=-1)]: Done 164 tasks      | elapsed:   10.7s\n",
            "[Parallel(n_jobs=-1)]: Done 256 out of 256 | elapsed:   19.0s finished\n",
            "[Parallel(n_jobs=-1)]: Using backend LokyBackend with 2 concurrent workers.\n"
          ],
          "name": "stderr"
        },
        {
          "output_type": "stream",
          "text": [
            "R2: \t\t0.991\n",
            "RMSE: \t\t441.135\n",
            "MAX ERR: \t1509.715\n",
            "Fitting 4 folds for each of 64 candidates, totalling 256 fits\n"
          ],
          "name": "stdout"
        },
        {
          "output_type": "stream",
          "text": [
            "[Parallel(n_jobs=-1)]: Done 164 tasks      | elapsed:   10.6s\n",
            "[Parallel(n_jobs=-1)]: Done 256 out of 256 | elapsed:   18.8s finished\n",
            "[Parallel(n_jobs=-1)]: Using backend LokyBackend with 2 concurrent workers.\n"
          ],
          "name": "stderr"
        },
        {
          "output_type": "stream",
          "text": [
            "R2: \t\t0.987\n",
            "RMSE: \t\t507.909\n",
            "MAX ERR: \t1770.185\n",
            "Fitting 4 folds for each of 64 candidates, totalling 256 fits\n"
          ],
          "name": "stdout"
        },
        {
          "output_type": "stream",
          "text": [
            "[Parallel(n_jobs=-1)]: Done 164 tasks      | elapsed:   10.7s\n",
            "[Parallel(n_jobs=-1)]: Done 256 out of 256 | elapsed:   19.0s finished\n",
            "[Parallel(n_jobs=-1)]: Using backend LokyBackend with 2 concurrent workers.\n"
          ],
          "name": "stderr"
        },
        {
          "output_type": "stream",
          "text": [
            "R2: \t\t0.981\n",
            "RMSE: \t\t601.134\n",
            "MAX ERR: \t1996.522\n",
            "Fitting 4 folds for each of 64 candidates, totalling 256 fits\n"
          ],
          "name": "stdout"
        },
        {
          "output_type": "stream",
          "text": [
            "[Parallel(n_jobs=-1)]: Done 164 tasks      | elapsed:   10.6s\n",
            "[Parallel(n_jobs=-1)]: Done 256 out of 256 | elapsed:   18.7s finished\n",
            "[Parallel(n_jobs=-1)]: Using backend LokyBackend with 2 concurrent workers.\n"
          ],
          "name": "stderr"
        },
        {
          "output_type": "stream",
          "text": [
            "R2: \t\t0.988\n",
            "RMSE: \t\t455.796\n",
            "MAX ERR: \t1567.195\n",
            "Fitting 4 folds for each of 64 candidates, totalling 256 fits\n"
          ],
          "name": "stdout"
        },
        {
          "output_type": "stream",
          "text": [
            "[Parallel(n_jobs=-1)]: Done 164 tasks      | elapsed:   10.4s\n",
            "[Parallel(n_jobs=-1)]: Done 256 out of 256 | elapsed:   18.4s finished\n",
            "[Parallel(n_jobs=-1)]: Using backend LokyBackend with 2 concurrent workers.\n"
          ],
          "name": "stderr"
        },
        {
          "output_type": "stream",
          "text": [
            "R2: \t\t0.996\n",
            "RMSE: \t\t1429.781\n",
            "MAX ERR: \t4401.317\n",
            "Fitting 4 folds for each of 64 candidates, totalling 256 fits\n"
          ],
          "name": "stdout"
        },
        {
          "output_type": "stream",
          "text": [
            "[Parallel(n_jobs=-1)]: Done 164 tasks      | elapsed:   10.4s\n"
          ],
          "name": "stderr"
        },
        {
          "output_type": "stream",
          "text": [
            "R2: \t\t0.996\n",
            "RMSE: \t\t1467.454\n",
            "MAX ERR: \t3828.712\n"
          ],
          "name": "stdout"
        },
        {
          "output_type": "stream",
          "text": [
            "[Parallel(n_jobs=-1)]: Done 256 out of 256 | elapsed:   18.3s finished\n"
          ],
          "name": "stderr"
        }
      ]
    },
    {
      "cell_type": "code",
      "metadata": {
        "id": "hcfHRELoDfdu",
        "colab_type": "code",
        "colab": {
          "base_uri": "https://localhost:8080/",
          "height": 383
        },
        "outputId": "5453870e-5644-4b6d-b1bb-0edca2a99dd0"
      },
      "source": [
        "df_results.head(10)"
      ],
      "execution_count": 25,
      "outputs": [
        {
          "output_type": "execute_result",
          "data": {
            "text/html": [
              "<div>\n",
              "<style scoped>\n",
              "    .dataframe tbody tr th:only-of-type {\n",
              "        vertical-align: middle;\n",
              "    }\n",
              "\n",
              "    .dataframe tbody tr th {\n",
              "        vertical-align: top;\n",
              "    }\n",
              "\n",
              "    .dataframe thead th {\n",
              "        text-align: right;\n",
              "    }\n",
              "</style>\n",
              "<table border=\"1\" class=\"dataframe\">\n",
              "  <thead>\n",
              "    <tr style=\"text-align: right;\">\n",
              "      <th></th>\n",
              "      <th>R2_fut1_nuovi_positivi</th>\n",
              "      <th>RMSE_fut1_nuovi_positivi</th>\n",
              "      <th>MAXERR_fut1_nuovi_positivi</th>\n",
              "      <th>R2_fut2_nuovi_positivi</th>\n",
              "      <th>RMSE_fut2_nuovi_positivi</th>\n",
              "      <th>MAXERR_fut2_nuovi_positivi</th>\n",
              "      <th>R2_fut1_ricoverati_con_sintomi</th>\n",
              "      <th>RMSE_fut1_ricoverati_con_sintomi</th>\n",
              "      <th>MAXERR_fut1_ricoverati_con_sintomi</th>\n",
              "      <th>R2_fut2_ricoverati_con_sintomi</th>\n",
              "      <th>RMSE_fut2_ricoverati_con_sintomi</th>\n",
              "      <th>MAXERR_fut2_ricoverati_con_sintomi</th>\n",
              "      <th>R2_fut1_terapia_intensiva</th>\n",
              "      <th>RMSE_fut1_terapia_intensiva</th>\n",
              "      <th>MAXERR_fut1_terapia_intensiva</th>\n",
              "      <th>R2_fut2_terapia_intensiva</th>\n",
              "      <th>RMSE_fut2_terapia_intensiva</th>\n",
              "      <th>MAXERR_fut2_terapia_intensiva</th>\n",
              "      <th>R2_fut1_deceduti</th>\n",
              "      <th>RMSE_fut1_deceduti</th>\n",
              "      <th>MAXERR_fut1_deceduti</th>\n",
              "      <th>R2_fut2_deceduti</th>\n",
              "      <th>RMSE_fut2_deceduti</th>\n",
              "      <th>MAXERR_fut2_deceduti</th>\n",
              "      <th>R2_fut1_totale_ospedalizzati</th>\n",
              "      <th>RMSE_fut1_totale_ospedalizzati</th>\n",
              "      <th>MAXERR_fut1_totale_ospedalizzati</th>\n",
              "      <th>R2_fut2_totale_ospedalizzati</th>\n",
              "      <th>RMSE_fut2_totale_ospedalizzati</th>\n",
              "      <th>MAXERR_fut2_totale_ospedalizzati</th>\n",
              "      <th>R2_fut1_dimessi_guariti</th>\n",
              "      <th>RMSE_fut1_dimessi_guariti</th>\n",
              "      <th>MAXERR_fut1_dimessi_guariti</th>\n",
              "      <th>R2_fut2_dimessi_guariti</th>\n",
              "      <th>RMSE_fut2_dimessi_guariti</th>\n",
              "      <th>MAXERR_fut2_dimessi_guariti</th>\n",
              "    </tr>\n",
              "  </thead>\n",
              "  <tbody>\n",
              "    <tr>\n",
              "      <th>dataset_finale_medie_rnd1.csv:1</th>\n",
              "      <td>0.888</td>\n",
              "      <td>225.713</td>\n",
              "      <td>874.253</td>\n",
              "      <td>0.772</td>\n",
              "      <td>366.383</td>\n",
              "      <td>1747.81</td>\n",
              "      <td>0.978</td>\n",
              "      <td>596.244</td>\n",
              "      <td>2967.04</td>\n",
              "      <td>0.967</td>\n",
              "      <td>737.015</td>\n",
              "      <td>3558.85</td>\n",
              "      <td>0.983</td>\n",
              "      <td>61.544</td>\n",
              "      <td>282.505</td>\n",
              "      <td>0.984</td>\n",
              "      <td>61.458</td>\n",
              "      <td>191.111</td>\n",
              "      <td>0.993</td>\n",
              "      <td>442.487</td>\n",
              "      <td>1346.38</td>\n",
              "      <td>0.989</td>\n",
              "      <td>535.895</td>\n",
              "      <td>1344.39</td>\n",
              "      <td>0.98</td>\n",
              "      <td>621.825</td>\n",
              "      <td>2807.66</td>\n",
              "      <td>0.979</td>\n",
              "      <td>655.161</td>\n",
              "      <td>2434.64</td>\n",
              "      <td>0.998</td>\n",
              "      <td>1211.33</td>\n",
              "      <td>4298.57</td>\n",
              "      <td>0.998</td>\n",
              "      <td>1070.59</td>\n",
              "      <td>2402.51</td>\n",
              "    </tr>\n",
              "    <tr>\n",
              "      <th>dataset_finale_medie_2_week_rnd1.csv:1</th>\n",
              "      <td>0.863</td>\n",
              "      <td>250.281</td>\n",
              "      <td>754.657</td>\n",
              "      <td>0.802</td>\n",
              "      <td>342.027</td>\n",
              "      <td>1691.74</td>\n",
              "      <td>0.991</td>\n",
              "      <td>388.676</td>\n",
              "      <td>1225.47</td>\n",
              "      <td>0.985</td>\n",
              "      <td>497.954</td>\n",
              "      <td>1724.72</td>\n",
              "      <td>0.982</td>\n",
              "      <td>62.112</td>\n",
              "      <td>275.061</td>\n",
              "      <td>0.979</td>\n",
              "      <td>70.756</td>\n",
              "      <td>225.55</td>\n",
              "      <td>0.996</td>\n",
              "      <td>365.086</td>\n",
              "      <td>1134.12</td>\n",
              "      <td>0.995</td>\n",
              "      <td>387.27</td>\n",
              "      <td>1260.92</td>\n",
              "      <td>0.984</td>\n",
              "      <td>557.576</td>\n",
              "      <td>2059.43</td>\n",
              "      <td>0.979</td>\n",
              "      <td>654.633</td>\n",
              "      <td>2218.85</td>\n",
              "      <td>0.996</td>\n",
              "      <td>1502.6</td>\n",
              "      <td>4518.25</td>\n",
              "      <td>0.997</td>\n",
              "      <td>1404.18</td>\n",
              "      <td>3738.12</td>\n",
              "    </tr>\n",
              "    <tr>\n",
              "      <th>dataset_finale_medie_ponderate_rnd1.csv:1</th>\n",
              "      <td>0.865</td>\n",
              "      <td>247.751</td>\n",
              "      <td>808.128</td>\n",
              "      <td>0.781</td>\n",
              "      <td>358.964</td>\n",
              "      <td>1615.34</td>\n",
              "      <td>0.986</td>\n",
              "      <td>479.129</td>\n",
              "      <td>1746.2</td>\n",
              "      <td>0.976</td>\n",
              "      <td>633.4</td>\n",
              "      <td>2954.08</td>\n",
              "      <td>0.982</td>\n",
              "      <td>62.505</td>\n",
              "      <td>279.151</td>\n",
              "      <td>0.986</td>\n",
              "      <td>57.728</td>\n",
              "      <td>235.104</td>\n",
              "      <td>0.991</td>\n",
              "      <td>517.321</td>\n",
              "      <td>1406.43</td>\n",
              "      <td>0.991</td>\n",
              "      <td>505.442</td>\n",
              "      <td>1381.93</td>\n",
              "      <td>0.977</td>\n",
              "      <td>668.974</td>\n",
              "      <td>2900.03</td>\n",
              "      <td>0.978</td>\n",
              "      <td>677.429</td>\n",
              "      <td>3574.01</td>\n",
              "      <td>0.997</td>\n",
              "      <td>1361.35</td>\n",
              "      <td>3290.8</td>\n",
              "      <td>0.998</td>\n",
              "      <td>1095.39</td>\n",
              "      <td>3373.15</td>\n",
              "    </tr>\n",
              "    <tr>\n",
              "      <th>dataset_finale_medie_rnd220.csv:1</th>\n",
              "      <td>0.884</td>\n",
              "      <td>230.234</td>\n",
              "      <td>831.889</td>\n",
              "      <td>0.828</td>\n",
              "      <td>318.307</td>\n",
              "      <td>1414.17</td>\n",
              "      <td>0.98</td>\n",
              "      <td>563.055</td>\n",
              "      <td>1600.7</td>\n",
              "      <td>0.98</td>\n",
              "      <td>569.923</td>\n",
              "      <td>1529.13</td>\n",
              "      <td>0.984</td>\n",
              "      <td>59.973</td>\n",
              "      <td>179.377</td>\n",
              "      <td>0.976</td>\n",
              "      <td>75.419</td>\n",
              "      <td>284.076</td>\n",
              "      <td>0.985</td>\n",
              "      <td>656.03</td>\n",
              "      <td>2651.21</td>\n",
              "      <td>0.979</td>\n",
              "      <td>757.777</td>\n",
              "      <td>3263.76</td>\n",
              "      <td>0.986</td>\n",
              "      <td>527.787</td>\n",
              "      <td>1823.86</td>\n",
              "      <td>0.98</td>\n",
              "      <td>647.916</td>\n",
              "      <td>2424.27</td>\n",
              "      <td>0.997</td>\n",
              "      <td>1377.37</td>\n",
              "      <td>4056.88</td>\n",
              "      <td>0.997</td>\n",
              "      <td>1360.38</td>\n",
              "      <td>3154.64</td>\n",
              "    </tr>\n",
              "    <tr>\n",
              "      <th>dataset_finale_medie_2_week_rnd220.csv:1</th>\n",
              "      <td>0.863</td>\n",
              "      <td>250.281</td>\n",
              "      <td>754.657</td>\n",
              "      <td>0.802</td>\n",
              "      <td>342.027</td>\n",
              "      <td>1691.74</td>\n",
              "      <td>0.991</td>\n",
              "      <td>388.676</td>\n",
              "      <td>1225.47</td>\n",
              "      <td>0.985</td>\n",
              "      <td>497.954</td>\n",
              "      <td>1724.72</td>\n",
              "      <td>0.982</td>\n",
              "      <td>62.112</td>\n",
              "      <td>275.061</td>\n",
              "      <td>0.979</td>\n",
              "      <td>70.756</td>\n",
              "      <td>225.55</td>\n",
              "      <td>0.996</td>\n",
              "      <td>365.086</td>\n",
              "      <td>1134.12</td>\n",
              "      <td>0.995</td>\n",
              "      <td>387.27</td>\n",
              "      <td>1260.92</td>\n",
              "      <td>0.984</td>\n",
              "      <td>557.576</td>\n",
              "      <td>2059.43</td>\n",
              "      <td>0.979</td>\n",
              "      <td>654.633</td>\n",
              "      <td>2218.85</td>\n",
              "      <td>0.996</td>\n",
              "      <td>1502.6</td>\n",
              "      <td>4518.25</td>\n",
              "      <td>0.997</td>\n",
              "      <td>1404.18</td>\n",
              "      <td>3738.12</td>\n",
              "    </tr>\n",
              "    <tr>\n",
              "      <th>dataset_finale_medie_ponderate_rnd220.csv:1</th>\n",
              "      <td>0.85</td>\n",
              "      <td>261.416</td>\n",
              "      <td>811.576</td>\n",
              "      <td>0.854</td>\n",
              "      <td>293.134</td>\n",
              "      <td>1332.25</td>\n",
              "      <td>0.983</td>\n",
              "      <td>512.297</td>\n",
              "      <td>1643.77</td>\n",
              "      <td>0.979</td>\n",
              "      <td>591.414</td>\n",
              "      <td>2270.39</td>\n",
              "      <td>0.983</td>\n",
              "      <td>60.888</td>\n",
              "      <td>209.878</td>\n",
              "      <td>0.992</td>\n",
              "      <td>43.771</td>\n",
              "      <td>178.683</td>\n",
              "      <td>0.987</td>\n",
              "      <td>632.831</td>\n",
              "      <td>2366.97</td>\n",
              "      <td>0.984</td>\n",
              "      <td>663.559</td>\n",
              "      <td>2270.76</td>\n",
              "      <td>0.984</td>\n",
              "      <td>565.278</td>\n",
              "      <td>1959.43</td>\n",
              "      <td>0.98</td>\n",
              "      <td>647.006</td>\n",
              "      <td>2761.16</td>\n",
              "      <td>0.998</td>\n",
              "      <td>1254.7</td>\n",
              "      <td>2840.98</td>\n",
              "      <td>0.995</td>\n",
              "      <td>1840.12</td>\n",
              "      <td>4891.42</td>\n",
              "    </tr>\n",
              "    <tr>\n",
              "      <th>dataset_finale_medie_rnd1.csv:22</th>\n",
              "      <td>0.851</td>\n",
              "      <td>240.297</td>\n",
              "      <td>874.757</td>\n",
              "      <td>0.783</td>\n",
              "      <td>386.637</td>\n",
              "      <td>1756.79</td>\n",
              "      <td>0.987</td>\n",
              "      <td>476.35</td>\n",
              "      <td>1566.79</td>\n",
              "      <td>0.987</td>\n",
              "      <td>491.868</td>\n",
              "      <td>1537.31</td>\n",
              "      <td>0.99</td>\n",
              "      <td>47.833</td>\n",
              "      <td>201.632</td>\n",
              "      <td>0.989</td>\n",
              "      <td>50.624</td>\n",
              "      <td>182.334</td>\n",
              "      <td>0.993</td>\n",
              "      <td>407.083</td>\n",
              "      <td>1420.75</td>\n",
              "      <td>0.994</td>\n",
              "      <td>370.531</td>\n",
              "      <td>1323.38</td>\n",
              "      <td>0.99</td>\n",
              "      <td>476.472</td>\n",
              "      <td>1839.93</td>\n",
              "      <td>0.989</td>\n",
              "      <td>513.47</td>\n",
              "      <td>1660.32</td>\n",
              "      <td>0.999</td>\n",
              "      <td>773.912</td>\n",
              "      <td>1939.88</td>\n",
              "      <td>0.997</td>\n",
              "      <td>1478.76</td>\n",
              "      <td>7563.71</td>\n",
              "    </tr>\n",
              "    <tr>\n",
              "      <th>dataset_finale_medie_2_week_rnd1.csv:22</th>\n",
              "      <td>0.837</td>\n",
              "      <td>250.816</td>\n",
              "      <td>950.517</td>\n",
              "      <td>0.805</td>\n",
              "      <td>366.999</td>\n",
              "      <td>1654.74</td>\n",
              "      <td>0.975</td>\n",
              "      <td>669.204</td>\n",
              "      <td>2576.73</td>\n",
              "      <td>0.987</td>\n",
              "      <td>494.565</td>\n",
              "      <td>1768.34</td>\n",
              "      <td>0.984</td>\n",
              "      <td>60.271</td>\n",
              "      <td>190.415</td>\n",
              "      <td>0.995</td>\n",
              "      <td>33.098</td>\n",
              "      <td>104.917</td>\n",
              "      <td>0.996</td>\n",
              "      <td>310.593</td>\n",
              "      <td>1043.49</td>\n",
              "      <td>0.994</td>\n",
              "      <td>358.984</td>\n",
              "      <td>1044.06</td>\n",
              "      <td>0.985</td>\n",
              "      <td>570.613</td>\n",
              "      <td>1895.24</td>\n",
              "      <td>0.988</td>\n",
              "      <td>527.704</td>\n",
              "      <td>1793.05</td>\n",
              "      <td>0.998</td>\n",
              "      <td>1019.42</td>\n",
              "      <td>4625.12</td>\n",
              "      <td>0.996</td>\n",
              "      <td>1490.85</td>\n",
              "      <td>8227.51</td>\n",
              "    </tr>\n",
              "    <tr>\n",
              "      <th>dataset_finale_medie_ponderate_rnd1.csv:22</th>\n",
              "      <td>0.883</td>\n",
              "      <td>213.012</td>\n",
              "      <td>774.148</td>\n",
              "      <td>0.769</td>\n",
              "      <td>399.182</td>\n",
              "      <td>1815.59</td>\n",
              "      <td>0.989</td>\n",
              "      <td>452.19</td>\n",
              "      <td>1566.99</td>\n",
              "      <td>0.972</td>\n",
              "      <td>722.565</td>\n",
              "      <td>2837.23</td>\n",
              "      <td>0.988</td>\n",
              "      <td>53.654</td>\n",
              "      <td>218.722</td>\n",
              "      <td>0.984</td>\n",
              "      <td>60.609</td>\n",
              "      <td>228.164</td>\n",
              "      <td>0.996</td>\n",
              "      <td>306.249</td>\n",
              "      <td>1261.37</td>\n",
              "      <td>0.992</td>\n",
              "      <td>413.009</td>\n",
              "      <td>1488.11</td>\n",
              "      <td>0.992</td>\n",
              "      <td>418.552</td>\n",
              "      <td>1224.81</td>\n",
              "      <td>0.987</td>\n",
              "      <td>548.214</td>\n",
              "      <td>1976.2</td>\n",
              "      <td>0.998</td>\n",
              "      <td>1035.39</td>\n",
              "      <td>2299.05</td>\n",
              "      <td>0.997</td>\n",
              "      <td>1438.1</td>\n",
              "      <td>6787.91</td>\n",
              "    </tr>\n",
              "    <tr>\n",
              "      <th>dataset_finale_medie_rnd220.csv:22</th>\n",
              "      <td>0.907</td>\n",
              "      <td>189.943</td>\n",
              "      <td>633.363</td>\n",
              "      <td>0.788</td>\n",
              "      <td>382.124</td>\n",
              "      <td>1705.57</td>\n",
              "      <td>0.99</td>\n",
              "      <td>424.312</td>\n",
              "      <td>1239.88</td>\n",
              "      <td>0.987</td>\n",
              "      <td>497.407</td>\n",
              "      <td>1602.02</td>\n",
              "      <td>0.985</td>\n",
              "      <td>58.46</td>\n",
              "      <td>243.514</td>\n",
              "      <td>0.991</td>\n",
              "      <td>46.694</td>\n",
              "      <td>154.25</td>\n",
              "      <td>0.996</td>\n",
              "      <td>316.289</td>\n",
              "      <td>1377.63</td>\n",
              "      <td>0.994</td>\n",
              "      <td>369.22</td>\n",
              "      <td>1514.74</td>\n",
              "      <td>0.991</td>\n",
              "      <td>444.469</td>\n",
              "      <td>1427.88</td>\n",
              "      <td>0.984</td>\n",
              "      <td>600.594</td>\n",
              "      <td>2201.6</td>\n",
              "      <td>0.998</td>\n",
              "      <td>987.932</td>\n",
              "      <td>3665.12</td>\n",
              "      <td>0.996</td>\n",
              "      <td>1576.08</td>\n",
              "      <td>7677.91</td>\n",
              "    </tr>\n",
              "  </tbody>\n",
              "</table>\n",
              "</div>"
            ],
            "text/plain": [
              "                                            R2_fut1_nuovi_positivi  ... MAXERR_fut2_dimessi_guariti\n",
              "dataset_finale_medie_rnd1.csv:1                              0.888  ...                     2402.51\n",
              "dataset_finale_medie_2_week_rnd1.csv:1                       0.863  ...                     3738.12\n",
              "dataset_finale_medie_ponderate_rnd1.csv:1                    0.865  ...                     3373.15\n",
              "dataset_finale_medie_rnd220.csv:1                            0.884  ...                     3154.64\n",
              "dataset_finale_medie_2_week_rnd220.csv:1                     0.863  ...                     3738.12\n",
              "dataset_finale_medie_ponderate_rnd220.csv:1                   0.85  ...                     4891.42\n",
              "dataset_finale_medie_rnd1.csv:22                             0.851  ...                     7563.71\n",
              "dataset_finale_medie_2_week_rnd1.csv:22                      0.837  ...                     8227.51\n",
              "dataset_finale_medie_ponderate_rnd1.csv:22                   0.883  ...                     6787.91\n",
              "dataset_finale_medie_rnd220.csv:22                           0.907  ...                     7677.91\n",
              "\n",
              "[10 rows x 36 columns]"
            ]
          },
          "metadata": {
            "tags": []
          },
          "execution_count": 25
        }
      ]
    },
    {
      "cell_type": "code",
      "metadata": {
        "id": "jDCS5Uh4Jfir",
        "colab_type": "code",
        "colab": {}
      },
      "source": [
        "df_results.to_csv('covid_gradient_test.csv')"
      ],
      "execution_count": 27,
      "outputs": []
    }
  ]
}