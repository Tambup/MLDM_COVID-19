{
  "nbformat": 4,
  "nbformat_minor": 0,
  "metadata": {
    "colab": {
      "name": "covid_random_forest_test.ipynb",
      "provenance": [],
      "toc_visible": true,
      "authorship_tag": "ABX9TyOGL16JpAooM1t6erMysAn7",
      "include_colab_link": true
    },
    "kernelspec": {
      "name": "python3",
      "display_name": "Python 3"
    }
  },
  "cells": [
    {
      "cell_type": "markdown",
      "metadata": {
        "id": "view-in-github",
        "colab_type": "text"
      },
      "source": [
        "<a href=\"https://colab.research.google.com/github/Tomawock/MLDM_COVID-19/blob/master/testing/covid_random_forest_test.ipynb\" target=\"_parent\"><img src=\"https://colab.research.google.com/assets/colab-badge.svg\" alt=\"Open In Colab\"/></a>"
      ]
    },
    {
      "cell_type": "markdown",
      "metadata": {
        "id": "87QCE4qenV3L",
        "colab_type": "text"
      },
      "source": [
        "# Testing per le Random Forest"
      ]
    },
    {
      "cell_type": "code",
      "metadata": {
        "id": "Ci8Rlg2csmW-",
        "colab_type": "code",
        "colab": {}
      },
      "source": [
        "import os\n",
        "import numpy as np\n",
        "import pandas as pd\n",
        "import matplotlib.pyplot as plt\n",
        "\n",
        "import joblib\n",
        "from datetime import datetime\n",
        "\n",
        "from sklearn.impute import SimpleImputer\n",
        "from sklearn.pipeline import Pipeline\n",
        "from sklearn.model_selection import GridSearchCV, StratifiedKFold, KFold\n",
        "from sklearn.metrics import r2_score, mean_squared_error, max_error\n",
        "from sklearn.ensemble import RandomForestRegressor \n",
        "\n",
        "from sklearn.tree import DecisionTreeRegressor\n",
        "from sklearn import tree"
      ],
      "execution_count": 1,
      "outputs": []
    },
    {
      "cell_type": "code",
      "metadata": {
        "id": "6M6li0f4qEPN",
        "colab_type": "code",
        "colab": {}
      },
      "source": [
        "datasets_path=['/content/dataset_finale_medie_rnd1.csv','/content/dataset_finale_medie_2_week_rnd1.csv','/content/dataset_finale_medie_ponderate_rnd1.csv',\n",
        "               '/content/dataset_finale_medie_rnd220.csv','/content/dataset_finale_medie_2_week_rnd220.csv','/content/dataset_finale_medie_ponderate_rnd220.csv']\n",
        "\n",
        "rdn_states=[1, 22, 777, 6654, 432145]\n",
        "print(datasets_path.shape)"
      ],
      "execution_count": null,
      "outputs": []
    },
    {
      "cell_type": "code",
      "metadata": {
        "id": "fNbKzFq8smXT",
        "colab_type": "code",
        "colab": {}
      },
      "source": [
        "df_2 = pd.read_csv(\"/content/dataset_finale_medie_2_week_rnd1.csv\", parse_dates=[\"Data\"], infer_datetime_format=True)\n",
        "\n",
        "rnd_state = 33\n",
        "predictor_columns = [\n",
        "                     'pass_Ammoniaca', \n",
        "                     'pass_Benzene',\n",
        "       'pass_Biossido di Azoto', \n",
        "       'pass_Biossido di Zolfo',\n",
        "       'pass_Monossido di Azoto', \n",
        "       'pass_Monossido di Carbonio',\n",
        "       'pass_Ossidi di Azoto', \n",
        "       'pass_Ozono', \n",
        "       'pass_PM10 (SM2005)',\n",
        "       'pass_Particelle sospese PM2.5',\n",
        "       'pass_Radiazione Globale', \n",
        "       'pass_Temperatura',\n",
        "       'pass_deceduti',\n",
        "       'pass_nuovi_positivi',\n",
        "       'pass_ricoverati_con_sintomi', \n",
        "       'pass_tamponi']\n"
      ],
      "execution_count": 2,
      "outputs": []
    },
    {
      "cell_type": "code",
      "metadata": {
        "id": "ztIBwjr4G7hd",
        "colab_type": "code",
        "colab": {}
      },
      "source": [
        "train_2 = df_2.sample(frac=0.70, random_state=rnd_state)\n",
        "test_2 = df_2.drop(train_2.index)\n",
        "\n",
        "train_X_2 = train_2[predictor_columns]\n",
        "train_y_2 = train_2[\"fut1_nuovi_positivi\"]\n",
        "\n",
        "test_X_2 = test_2[predictor_columns]\n",
        "test_y_2 = test_2[\"fut1_nuovi_positivi\"]"
      ],
      "execution_count": 3,
      "outputs": []
    },
    {
      "cell_type": "code",
      "metadata": {
        "id": "XL4Oum7GoGtp",
        "colab_type": "code",
        "colab": {}
      },
      "source": [
        "# create regressor object \n",
        "forest_regressor = RandomForestRegressor(bootstrap=False,random_state=rnd_state) "
      ],
      "execution_count": 4,
      "outputs": []
    },
    {
      "cell_type": "code",
      "metadata": {
        "id": "nby_ATLchSQy",
        "colab_type": "code",
        "colab": {}
      },
      "source": [
        "imp=SimpleImputer(missing_values=np.nan, strategy=\"mean\")\n",
        "imp=imp.fit(train_X_2)"
      ],
      "execution_count": 5,
      "outputs": []
    },
    {
      "cell_type": "code",
      "metadata": {
        "id": "uHzW7Nb-pvuT",
        "colab_type": "code",
        "colab": {}
      },
      "source": [
        "n_estimators_list = [100]\n",
        "criterion_list = [\"mse\", \"mae\"]\n",
        "max_depth_list = [None, 5, 6]\n",
        "min_samples_split_list = [2, 3]\n",
        "min_samples_split_leaf_list = [3,5]\n",
        "min_weight_fraction_leaf_list = [0.0, 0.1]\n",
        "max_features_list = [\"auto\", \"sqrt\", \"log2\"]\n",
        "max_leaf_nodes_list = [None, 10, 25]\n",
        "min_impurity_decrease_list = [0.0, 0.1]\n",
        "\n",
        "param_grd = { \"n_estimators\":n_estimators_list,\n",
        "              \"criterion\": criterion_list,\n",
        "              \"max_depth\": max_depth_list,\n",
        "              \"min_samples_split\": min_samples_split_list,\n",
        "              \"min_samples_leaf\": min_samples_split_leaf_list,\n",
        "              \"min_weight_fraction_leaf\": min_weight_fraction_leaf_list,\n",
        "              \"max_features\": max_features_list,\n",
        "              \"max_leaf_nodes\": max_leaf_nodes_list,\n",
        "              \"min_impurity_decrease\": min_impurity_decrease_list}"
      ],
      "execution_count": 7,
      "outputs": []
    },
    {
      "cell_type": "code",
      "metadata": {
        "id": "T54rOsVaoUbh",
        "colab_type": "code",
        "colab": {}
      },
      "source": [
        "grid_regressor_2 = GridSearchCV(forest_regressor, param_grd, \n",
        "                              n_jobs=-1, \n",
        "                              verbose=1)"
      ],
      "execution_count": 8,
      "outputs": []
    },
    {
      "cell_type": "code",
      "metadata": {
        "id": "M8GShcc-oa8w",
        "colab_type": "code",
        "colab": {
          "base_uri": "https://localhost:8080/",
          "height": 191
        },
        "outputId": "a9304cc9-bb75-4fd7-d15e-6d782ece7891"
      },
      "source": [
        "grid_regressor_2.fit(imp.transform(train_X_2), train_y_2)"
      ],
      "execution_count": null,
      "outputs": [
        {
          "output_type": "stream",
          "text": [
            "Fitting 5 folds for each of 864 candidates, totalling 4320 fits\n"
          ],
          "name": "stdout"
        },
        {
          "output_type": "stream",
          "text": [
            "[Parallel(n_jobs=-1)]: Using backend LokyBackend with 2 concurrent workers.\n",
            "[Parallel(n_jobs=-1)]: Done  46 tasks      | elapsed:    5.9s\n",
            "[Parallel(n_jobs=-1)]: Done 196 tasks      | elapsed:   20.2s\n",
            "[Parallel(n_jobs=-1)]: Done 446 tasks      | elapsed:   41.1s\n",
            "[Parallel(n_jobs=-1)]: Done 796 tasks      | elapsed:  1.2min\n",
            "[Parallel(n_jobs=-1)]: Done 1246 tasks      | elapsed:  1.8min\n",
            "[Parallel(n_jobs=-1)]: Done 1796 tasks      | elapsed:  2.6min\n",
            "[Parallel(n_jobs=-1)]: Done 2446 tasks      | elapsed:  4.0min\n",
            "[Parallel(n_jobs=-1)]: Done 3196 tasks      | elapsed:  5.7min\n"
          ],
          "name": "stderr"
        }
      ]
    },
    {
      "cell_type": "code",
      "metadata": {
        "id": "62DvyFUpICsW",
        "colab_type": "code",
        "colab": {}
      },
      "source": [
        "best_regressor_2 = grid_regressor_2.best_estimator_\n",
        "\n",
        "imputer = SimpleImputer(missing_values=np.nan, strategy=\"mean\")\n",
        "imputer = imputer.fit(test_X_2)\n",
        "test_X_imp = imputer.transform(test_X_2)\n",
        "\n",
        "predicted_2 = best_regressor_2.predict(test_X_imp)"
      ],
      "execution_count": null,
      "outputs": []
    },
    {
      "cell_type": "code",
      "metadata": {
        "id": "P4yuTEOFoqbP",
        "colab_type": "code",
        "colab": {}
      },
      "source": [
        "print(f\"R2: \\t\\t{r2_score(test_y_2, predicted_2):.3}\")\n",
        "print(f\"RMSE: \\t\\t{mean_squared_error(test_y_2, predicted_2, squared=False):.3}\")\n",
        "print(f\"MAX ERR: \\t{max_error(test_y_2, predicted_2)}\")"
      ],
      "execution_count": null,
      "outputs": []
    }
  ]
}