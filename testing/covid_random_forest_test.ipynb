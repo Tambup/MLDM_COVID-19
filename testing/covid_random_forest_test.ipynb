{
  "nbformat": 4,
  "nbformat_minor": 0,
  "metadata": {
    "colab": {
      "name": "covid_random_forest_test.ipynb",
      "provenance": [],
      "authorship_tag": "ABX9TyP0QB7xHalRrCmuIx9HV3/k",
      "include_colab_link": true
    },
    "kernelspec": {
      "name": "python3",
      "display_name": "Python 3"
    }
  },
  "cells": [
    {
      "cell_type": "markdown",
      "metadata": {
        "id": "view-in-github",
        "colab_type": "text"
      },
      "source": [
        "<a href=\"https://colab.research.google.com/github/Tomawock/MLDM_COVID-19/blob/master/testing/covid_random_forest_test.ipynb\" target=\"_parent\"><img src=\"https://colab.research.google.com/assets/colab-badge.svg\" alt=\"Open In Colab\"/></a>"
      ]
    },
    {
      "cell_type": "markdown",
      "metadata": {
        "id": "87QCE4qenV3L",
        "colab_type": "text"
      },
      "source": [
        "# Testing per le Random Forest"
      ]
    },
    {
      "cell_type": "code",
      "metadata": {
        "id": "Ci8Rlg2csmW-",
        "colab_type": "code",
        "colab": {}
      },
      "source": [
        "import os\n",
        "import numpy as np\n",
        "import pandas as pd\n",
        "import matplotlib.pyplot as plt\n",
        "\n",
        "import joblib\n",
        "from datetime import datetime\n",
        "\n",
        "from sklearn.impute import SimpleImputer\n",
        "from sklearn.pipeline import Pipeline\n",
        "from sklearn.model_selection import GridSearchCV, StratifiedKFold, KFold\n",
        "from sklearn.metrics import r2_score, mean_squared_error, max_error\n",
        "from sklearn.ensemble import RandomForestRegressor \n",
        "\n",
        "from sklearn.tree import DecisionTreeRegressor\n",
        "from sklearn import tree"
      ],
      "execution_count": 36,
      "outputs": []
    },
    {
      "cell_type": "markdown",
      "metadata": {
        "id": "cykpqwAG9CnR",
        "colab_type": "text"
      },
      "source": [
        "**Nomenclatura per i test**"
      ]
    },
    {
      "cell_type": "code",
      "metadata": {
        "id": "6M6li0f4qEPN",
        "colab_type": "code",
        "colab": {}
      },
      "source": [
        "path='/content/'\n",
        "datasets_names= ['dataset_finale_medie_rnd1.csv','dataset_finale_medie_2_week_rnd1.csv','dataset_finale_medie_ponderate_rnd1.csv',\n",
        "               'dataset_finale_medie_rnd220.csv','dataset_finale_medie_2_week_rnd220.csv','dataset_finale_medie_ponderate_rnd220.csv']\n",
        "\n",
        "rdn_states= [1, 22, 777, 6654, 432145]\n",
        "features_prediction= ['fut1_nuovi_positivi','fut2_nuovi_positivi',\n",
        "                     'fut1_ricoverati_con_sintomi','fut2_ricoverati_con_sintomi',\n",
        "                     'fut1_terapia_intensiva','fut2_terapia_intensiva',\n",
        "                     'fut1_deceduti','fut2_deceduti',\n",
        "                     'fut1_totale_ospedalizzati','fut2_totale_ospedalizzati',\n",
        "                     'fut1_dimessi_guariti','fut2_dimessi_guariti']\n",
        "\n",
        "coefficents=['R2','RMSE','MAXERR']"
      ],
      "execution_count": 37,
      "outputs": []
    },
    {
      "cell_type": "markdown",
      "metadata": {
        "id": "31N799-U8ZTF",
        "colab_type": "text"
      },
      "source": [
        "**Creazione indici per il dataset comune nel quale verranno messi i dati dei test**\n"
      ]
    },
    {
      "cell_type": "code",
      "metadata": {
        "id": "HAY2Eu6Y17N6",
        "colab_type": "code",
        "colab": {
          "base_uri": "https://localhost:8080/",
          "height": 885
        },
        "outputId": "f3fa96f7-702a-4505-adf9-0699a17aebcd"
      },
      "source": [
        "col=[]\n",
        "inde=[]\n",
        "for feature in features_prediction:\n",
        "  for coeff in coefficents:\n",
        "    col.append(coeff+'_'+feature)\n",
        "    #print(f\"Columns_names\\t{coeff+'_'+feature}\")\n",
        "\n",
        "for rnd in rdn_states:\n",
        "  for path in datasets_names:\n",
        "    inde.append(path+':'+str(rnd))\n",
        "    #print(f\"indexes_\\t{path+':'+str(rnd)}\")\n",
        "\n",
        "df_results=pd.DataFrame(columns=col,index=inde)\n",
        "print(df_results.columns)\n",
        "print(df_results.index)"
      ],
      "execution_count": 38,
      "outputs": [
        {
          "output_type": "stream",
          "text": [
            "Index(['R2_fut1_nuovi_positivi', 'RMSE_fut1_nuovi_positivi',\n",
            "       'MAXERR_fut1_nuovi_positivi', 'R2_fut2_nuovi_positivi',\n",
            "       'RMSE_fut2_nuovi_positivi', 'MAXERR_fut2_nuovi_positivi',\n",
            "       'R2_fut1_ricoverati_con_sintomi', 'RMSE_fut1_ricoverati_con_sintomi',\n",
            "       'MAXERR_fut1_ricoverati_con_sintomi', 'R2_fut2_ricoverati_con_sintomi',\n",
            "       'RMSE_fut2_ricoverati_con_sintomi',\n",
            "       'MAXERR_fut2_ricoverati_con_sintomi', 'R2_fut1_terapia_intensiva',\n",
            "       'RMSE_fut1_terapia_intensiva', 'MAXERR_fut1_terapia_intensiva',\n",
            "       'R2_fut2_terapia_intensiva', 'RMSE_fut2_terapia_intensiva',\n",
            "       'MAXERR_fut2_terapia_intensiva', 'R2_fut1_deceduti',\n",
            "       'RMSE_fut1_deceduti', 'MAXERR_fut1_deceduti', 'R2_fut2_deceduti',\n",
            "       'RMSE_fut2_deceduti', 'MAXERR_fut2_deceduti',\n",
            "       'R2_fut1_totale_ospedalizzati', 'RMSE_fut1_totale_ospedalizzati',\n",
            "       'MAXERR_fut1_totale_ospedalizzati', 'R2_fut2_totale_ospedalizzati',\n",
            "       'RMSE_fut2_totale_ospedalizzati', 'MAXERR_fut2_totale_ospedalizzati',\n",
            "       'R2_fut1_dimessi_guariti', 'RMSE_fut1_dimessi_guariti',\n",
            "       'MAXERR_fut1_dimessi_guariti', 'R2_fut2_dimessi_guariti',\n",
            "       'RMSE_fut2_dimessi_guariti', 'MAXERR_fut2_dimessi_guariti'],\n",
            "      dtype='object')\n",
            "Index(['dataset_finale_medie_rnd1.csv:1',\n",
            "       'dataset_finale_medie_2_week_rnd1.csv:1',\n",
            "       'dataset_finale_medie_ponderate_rnd1.csv:1',\n",
            "       'dataset_finale_medie_rnd220.csv:1',\n",
            "       'dataset_finale_medie_2_week_rnd220.csv:1',\n",
            "       'dataset_finale_medie_ponderate_rnd220.csv:1',\n",
            "       'dataset_finale_medie_rnd1.csv:22',\n",
            "       'dataset_finale_medie_2_week_rnd1.csv:22',\n",
            "       'dataset_finale_medie_ponderate_rnd1.csv:22',\n",
            "       'dataset_finale_medie_rnd220.csv:22',\n",
            "       'dataset_finale_medie_2_week_rnd220.csv:22',\n",
            "       'dataset_finale_medie_ponderate_rnd220.csv:22',\n",
            "       'dataset_finale_medie_rnd1.csv:777',\n",
            "       'dataset_finale_medie_2_week_rnd1.csv:777',\n",
            "       'dataset_finale_medie_ponderate_rnd1.csv:777',\n",
            "       'dataset_finale_medie_rnd220.csv:777',\n",
            "       'dataset_finale_medie_2_week_rnd220.csv:777',\n",
            "       'dataset_finale_medie_ponderate_rnd220.csv:777',\n",
            "       'dataset_finale_medie_rnd1.csv:6654',\n",
            "       'dataset_finale_medie_2_week_rnd1.csv:6654',\n",
            "       'dataset_finale_medie_ponderate_rnd1.csv:6654',\n",
            "       'dataset_finale_medie_rnd220.csv:6654',\n",
            "       'dataset_finale_medie_2_week_rnd220.csv:6654',\n",
            "       'dataset_finale_medie_ponderate_rnd220.csv:6654',\n",
            "       'dataset_finale_medie_rnd1.csv:432145',\n",
            "       'dataset_finale_medie_2_week_rnd1.csv:432145',\n",
            "       'dataset_finale_medie_ponderate_rnd1.csv:432145',\n",
            "       'dataset_finale_medie_rnd220.csv:432145',\n",
            "       'dataset_finale_medie_2_week_rnd220.csv:432145',\n",
            "       'dataset_finale_medie_ponderate_rnd220.csv:432145'],\n",
            "      dtype='object')\n"
          ],
          "name": "stdout"
        }
      ]
    },
    {
      "cell_type": "code",
      "metadata": {
        "id": "fNbKzFq8smXT",
        "colab_type": "code",
        "colab": {}
      },
      "source": [
        "df_2 = pd.read_csv(datasets_path[0], parse_dates=[\"Data\"], infer_datetime_format=True)\n",
        "rnd_state = rdn_states[1]\n",
        "predictor_columns = [\n",
        "       'pass_Ammoniaca', \n",
        "       'pass_Benzene',\n",
        "       'pass_Biossido di Azoto', \n",
        "       'pass_Biossido di Zolfo',\n",
        "       'pass_Monossido di Azoto', \n",
        "       'pass_Monossido di Carbonio',\n",
        "       'pass_Ossidi di Azoto', \n",
        "       'pass_Ozono', \n",
        "       'pass_PM10 (SM2005)',\n",
        "       'pass_Particelle sospese PM2.5',\n",
        "       'pass_Radiazione Globale', \n",
        "       'pass_Temperatura',\n",
        "       'pass_deceduti',\n",
        "       'pass_nuovi_positivi',\n",
        "       'pass_ricoverati_con_sintomi', \n",
        "       'pass_tamponi']\n",
        "################################################################################\n",
        "train_2 = df_2.sample(frac=0.70, random_state=rnd_state)\n",
        "test_2 = df_2.drop(train_2.index)\n",
        "\n",
        "train_X_2 = train_2[predictor_columns]\n",
        "train_y_2 = train_2[features_prediction[0]]\n",
        "\n",
        "test_X_2 = test_2[predictor_columns]\n",
        "test_y_2 = test_2[features_prediction[0]]\n",
        "################################################################################\n",
        "forest_regressor = RandomForestRegressor(bootstrap=False,random_state=rnd_state) \n",
        "################################################################################\n",
        "imp=SimpleImputer(missing_values=np.nan, strategy=\"mean\")\n",
        "imp=imp.fit(train_X_2)\n",
        "################################################################################\n",
        "n_estimators_list = [100]\n",
        "criterion_list = [\"mse\", \"mae\"]\n",
        "max_depth_list = [None, 5, 6]\n",
        "min_samples_split_list = [2, 3]\n",
        "min_samples_split_leaf_list = [3,5]\n",
        "min_weight_fraction_leaf_list = [0.0, 0.1]\n",
        "max_features_list = [\"auto\", \"sqrt\", \"log2\"]\n",
        "max_leaf_nodes_list = [None, 10, 25]\n",
        "min_impurity_decrease_list = [0.0, 0.1]\n",
        "\n",
        "param_grd = { \"n_estimators\":n_estimators_list,\n",
        "              \"criterion\": criterion_list,\n",
        "              \"max_depth\": max_depth_list,\n",
        "              \"min_samples_split\": min_samples_split_list,\n",
        "              \"min_samples_leaf\": min_samples_split_leaf_list,\n",
        "              \"min_weight_fraction_leaf\": min_weight_fraction_leaf_list,\n",
        "              \"max_features\": max_features_list,\n",
        "              \"max_leaf_nodes\": max_leaf_nodes_list,\n",
        "              \"min_impurity_decrease\": min_impurity_decrease_list}\n",
        "################################################################################\n",
        "grid_regressor_2 = GridSearchCV(forest_regressor, param_grd, \n",
        "                              n_jobs=-1, \n",
        "                              verbose=0)\n",
        "################################################################################\n",
        "grid_regressor_2.fit(imp.transform(train_X_2), train_y_2)\n",
        "################################################################################\n",
        "best_regressor_2 = grid_regressor_2.best_estimator_\n",
        "\n",
        "imputer = SimpleImputer(missing_values=np.nan, strategy=\"mean\")\n",
        "imputer = imputer.fit(test_X_2)\n",
        "test_X_imp = imputer.transform(test_X_2)\n",
        "\n",
        "predicted_2 = best_regressor_2.predict(test_X_imp)\n",
        "################################################################################\n",
        "r2=float(\"{:.3f}\".format(r2_score(test_y_2, predicted_2)))\n",
        "rmse=float(\"{:.3f}\".format(mean_squared_error(test_y_2, predicted_2, squared=False)))\n",
        "merr=float(\"{:.3f}\".format(max_error(test_y_2, predicted_2)))\n",
        "print(f\"R2: \\t\\t{r2}\")\n",
        "print(f\"RMSE: \\t\\t{rmse}\")\n",
        "print(f\"MAX ERR: \\t{merr}\")\n",
        "################################################################################"
      ],
      "execution_count": null,
      "outputs": []
    },
    {
      "cell_type": "code",
      "metadata": {
        "id": "ztIBwjr4G7hd",
        "colab_type": "code",
        "colab": {}
      },
      "source": [
        "# train_2 = df_2.sample(frac=0.70, random_state=rnd_state)\n",
        "# test_2 = df_2.drop(train_2.index)\n",
        "\n",
        "# train_X_2 = train_2[predictor_columns]\n",
        "# train_y_2 = train_2[features_prediction[0]]\n",
        "\n",
        "# test_X_2 = test_2[predictor_columns]\n",
        "# test_y_2 = test_2[features_prediction[0]]"
      ],
      "execution_count": null,
      "outputs": []
    },
    {
      "cell_type": "code",
      "metadata": {
        "id": "XL4Oum7GoGtp",
        "colab_type": "code",
        "colab": {}
      },
      "source": [
        "# # create regressor object \n",
        "# forest_regressor = RandomForestRegressor(bootstrap=False,random_state=rnd_state) "
      ],
      "execution_count": null,
      "outputs": []
    },
    {
      "cell_type": "code",
      "metadata": {
        "id": "nby_ATLchSQy",
        "colab_type": "code",
        "colab": {}
      },
      "source": [
        "# imp=SimpleImputer(missing_values=np.nan, strategy=\"mean\")\n",
        "# imp=imp.fit(train_X_2)"
      ],
      "execution_count": null,
      "outputs": []
    },
    {
      "cell_type": "code",
      "metadata": {
        "id": "uHzW7Nb-pvuT",
        "colab_type": "code",
        "colab": {}
      },
      "source": [
        "# n_estimators_list = [100]\n",
        "# criterion_list = [\"mse\", \"mae\"]\n",
        "# max_depth_list = [None, 5, 6]\n",
        "# min_samples_split_list = [2, 3]\n",
        "# min_samples_split_leaf_list = [3,5]\n",
        "# min_weight_fraction_leaf_list = [0.0, 0.1]\n",
        "# max_features_list = [\"auto\", \"sqrt\", \"log2\"]\n",
        "# max_leaf_nodes_list = [None, 10, 25]\n",
        "# min_impurity_decrease_list = [0.0, 0.1]\n",
        "\n",
        "# param_grd = { \"n_estimators\":n_estimators_list,\n",
        "#               \"criterion\": criterion_list,\n",
        "#               \"max_depth\": max_depth_list,\n",
        "#               \"min_samples_split\": min_samples_split_list,\n",
        "#               \"min_samples_leaf\": min_samples_split_leaf_list,\n",
        "#               \"min_weight_fraction_leaf\": min_weight_fraction_leaf_list,\n",
        "#               \"max_features\": max_features_list,\n",
        "#               \"max_leaf_nodes\": max_leaf_nodes_list,\n",
        "#               \"min_impurity_decrease\": min_impurity_decrease_list}"
      ],
      "execution_count": null,
      "outputs": []
    },
    {
      "cell_type": "code",
      "metadata": {
        "id": "T54rOsVaoUbh",
        "colab_type": "code",
        "colab": {}
      },
      "source": [
        "# grid_regressor_2 = GridSearchCV(forest_regressor, param_grd, \n",
        "#                               n_jobs=-1, \n",
        "#                               verbose=1)"
      ],
      "execution_count": null,
      "outputs": []
    },
    {
      "cell_type": "code",
      "metadata": {
        "id": "M8GShcc-oa8w",
        "colab_type": "code",
        "colab": {}
      },
      "source": [
        "# grid_regressor_2.fit(imp.transform(train_X_2), train_y_2)"
      ],
      "execution_count": null,
      "outputs": []
    },
    {
      "cell_type": "code",
      "metadata": {
        "id": "62DvyFUpICsW",
        "colab_type": "code",
        "colab": {}
      },
      "source": [
        "# best_regressor_2 = grid_regressor_2.best_estimator_\n",
        "\n",
        "# imputer = SimpleImputer(missing_values=np.nan, strategy=\"mean\")\n",
        "# imputer = imputer.fit(test_X_2)\n",
        "# test_X_imp = imputer.transform(test_X_2)\n",
        "\n",
        "# predicted_2 = best_regressor_2.predict(test_X_imp)"
      ],
      "execution_count": null,
      "outputs": []
    },
    {
      "cell_type": "code",
      "metadata": {
        "id": "13gX_GTdzet-",
        "colab_type": "code",
        "colab": {}
      },
      "source": [
        "# best_regressor_2"
      ],
      "execution_count": null,
      "outputs": []
    },
    {
      "cell_type": "code",
      "metadata": {
        "id": "P4yuTEOFoqbP",
        "colab_type": "code",
        "colab": {}
      },
      "source": [
        "# r2=float(\"{:.3f}\".format(r2_score(test_y_2, predicted_2)))\n",
        "# rmse=float(\"{:.3f}\".format(mean_squared_error(test_y_2, predicted_2, squared=False)))\n",
        "# merr=float(\"{:.3f}\".format(max_error(test_y_2, predicted_2)))\n",
        "# # print(f\"R2: \\t\\t{r2}\")\n",
        "# # print(f\"RMSE: \\t\\t{rmse}\")\n",
        "# # print(f\"MAX ERR: \\t{merr}\")"
      ],
      "execution_count": null,
      "outputs": []
    }
  ]
}